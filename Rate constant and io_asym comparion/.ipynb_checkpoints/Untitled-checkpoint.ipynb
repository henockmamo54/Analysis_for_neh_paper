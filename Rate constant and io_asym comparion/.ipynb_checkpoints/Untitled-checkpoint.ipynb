{
 "cells": [
  {
   "cell_type": "code",
   "execution_count": 1,
   "id": "760524a7",
   "metadata": {},
   "outputs": [],
   "source": [
    "import os\n",
    "import numpy as np\n",
    "import pandas as pd\n",
    "from scipy.optimize import nnls\n",
    "from matplotlib import pyplot as plt\n",
    "from sklearn.metrics import r2_score\n",
    "import math\n",
    "import warnings\n",
    "warnings.filterwarnings('ignore')\n",
    "import seaborn as sns\n",
    "from matplotlib import pyplot as plt\n",
    "from scipy.stats import gaussian_kde"
   ]
  },
  {
   "cell_type": "code",
   "execution_count": 10,
   "id": "7d6e8b77",
   "metadata": {},
   "outputs": [],
   "source": [
    "path=\"C:\\\\Workplace\\\\C++\\\\d2ome_v2\\\\v2\\\\v2\\\\bin\\\\Debug\\\\one_two_compartment_liverpool_t\\\\\""
   ]
  },
  {
   "cell_type": "code",
   "execution_count": 11,
   "id": "7a5be115",
   "metadata": {},
   "outputs": [],
   "source": [
    "data=pd.DataFrame()\n",
    "for file in os.listdir(path):\n",
    "    data=pd.concat([data,pd.read_csv(path+file)])"
   ]
  },
  {
   "cell_type": "code",
   "execution_count": 12,
   "id": "0141e8d7",
   "metadata": {},
   "outputs": [
    {
     "name": "stdout",
     "output_type": "stream",
     "text": [
      "(1931, 7)\n"
     ]
    },
    {
     "data": {
      "text/html": [
       "<div>\n",
       "<style scoped>\n",
       "    .dataframe tbody tr th:only-of-type {\n",
       "        vertical-align: middle;\n",
       "    }\n",
       "\n",
       "    .dataframe tbody tr th {\n",
       "        vertical-align: top;\n",
       "    }\n",
       "\n",
       "    .dataframe thead th {\n",
       "        text-align: right;\n",
       "    }\n",
       "</style>\n",
       "<table border=\"1\" class=\"dataframe\">\n",
       "  <thead>\n",
       "    <tr style=\"text-align: right;\">\n",
       "      <th></th>\n",
       "      <th>Protein</th>\n",
       "      <th>Peptide</th>\n",
       "      <th>Charge</th>\n",
       "      <th>k_one</th>\n",
       "      <th>k_two</th>\n",
       "      <th>i0_asym_exp</th>\n",
       "      <th>i0_asym_two</th>\n",
       "    </tr>\n",
       "  </thead>\n",
       "  <tbody>\n",
       "    <tr>\n",
       "      <th>0</th>\n",
       "      <td>1433B_MOUSE</td>\n",
       "      <td>YLSEVASGENK</td>\n",
       "      <td>2</td>\n",
       "      <td>0.24041</td>\n",
       "      <td>0.264532</td>\n",
       "      <td>0.185440</td>\n",
       "      <td>0.189207</td>\n",
       "    </tr>\n",
       "    <tr>\n",
       "      <th>1</th>\n",
       "      <td>1433B_MOUSE</td>\n",
       "      <td>YLILNATQAESK</td>\n",
       "      <td>2</td>\n",
       "      <td>0.26946</td>\n",
       "      <td>0.293042</td>\n",
       "      <td>0.176338</td>\n",
       "      <td>0.168782</td>\n",
       "    </tr>\n",
       "    <tr>\n",
       "      <th>0</th>\n",
       "      <td>1433E_MOUSE</td>\n",
       "      <td>YLAEFATGNDR</td>\n",
       "      <td>2</td>\n",
       "      <td>0.25552</td>\n",
       "      <td>0.248231</td>\n",
       "      <td>0.167596</td>\n",
       "      <td>0.172055</td>\n",
       "    </tr>\n",
       "    <tr>\n",
       "      <th>1</th>\n",
       "      <td>1433E_MOUSE</td>\n",
       "      <td>LIccDILDVLDK</td>\n",
       "      <td>2</td>\n",
       "      <td>0.23842</td>\n",
       "      <td>0.218439</td>\n",
       "      <td>0.189455</td>\n",
       "      <td>0.187651</td>\n",
       "    </tr>\n",
       "    <tr>\n",
       "      <th>2</th>\n",
       "      <td>1433E_MOUSE</td>\n",
       "      <td>AAFDDAIAELDTLSEESYK</td>\n",
       "      <td>2</td>\n",
       "      <td>0.25558</td>\n",
       "      <td>0.240147</td>\n",
       "      <td>0.036384</td>\n",
       "      <td>0.037583</td>\n",
       "    </tr>\n",
       "  </tbody>\n",
       "</table>\n",
       "</div>"
      ],
      "text/plain": [
       "       Protein              Peptide  Charge    k_one     k_two  i0_asym_exp  \\\n",
       "0  1433B_MOUSE          YLSEVASGENK       2  0.24041  0.264532     0.185440   \n",
       "1  1433B_MOUSE         YLILNATQAESK       2  0.26946  0.293042     0.176338   \n",
       "0  1433E_MOUSE          YLAEFATGNDR       2  0.25552  0.248231     0.167596   \n",
       "1  1433E_MOUSE         LIccDILDVLDK       2  0.23842  0.218439     0.189455   \n",
       "2  1433E_MOUSE  AAFDDAIAELDTLSEESYK       2  0.25558  0.240147     0.036384   \n",
       "\n",
       "   i0_asym_two  \n",
       "0     0.189207  \n",
       "1     0.168782  \n",
       "0     0.172055  \n",
       "1     0.187651  \n",
       "2     0.037583  "
      ]
     },
     "execution_count": 12,
     "metadata": {},
     "output_type": "execute_result"
    }
   ],
   "source": [
    "print(data.shape)\n",
    "data.head()"
   ]
  },
  {
   "cell_type": "code",
   "execution_count": 13,
   "id": "99809887",
   "metadata": {},
   "outputs": [],
   "source": [
    "def plot_hitmap(colx,coly,xlabel,ylabel,file_name,log=False):\n",
    "    \n",
    "    plt.rc('font', size=15) \n",
    "    plt.rc('figure', figsize=(8,6))     \n",
    "    \n",
    "    if log:\n",
    "        x = [math.log(x) for x in colx]\n",
    "        y = [math.log(x) for x in coly]\n",
    "    else:\n",
    "        x = colx #[math.log(x) for x in colx]\n",
    "        y = coly#[math.log(x) for x in coly]\n",
    "\n",
    "    # Calculate the point density\n",
    "    xy = np.vstack([x,y])\n",
    "    z = gaussian_kde(xy)(xy)\n",
    "    cb=plt.scatter(x, y, c=z, s=15,alpha=0.8,label=f\"n = {len(x)} \\n r = {'{0:.2f}'.format(np.corrcoef(x,y)[0][1])}\\n R$^2$ = {'{0:.2f}'.format(r2_score(x,y))}\")    \n",
    "    cbar = plt.colorbar(cb)\n",
    "#     plt.plot(x,x,c='r',ls=\"-.\")\n",
    "    \n",
    "    \n",
    "#     plt.xlim([0,0.75])\n",
    "#     plt.ylim([0,0.75]) \n",
    "    plt.xlabel(xlabel) \n",
    "    plt.ylabel(ylabel)\n",
    "    plt.legend()\n",
    "#     plt.savefig(file_name,dpi=900,bbox_inches='tight')\n",
    "    plt.show()"
   ]
  },
  {
   "cell_type": "code",
   "execution_count": 14,
   "id": "53ef6b73",
   "metadata": {},
   "outputs": [],
   "source": [
    "# plot_hitmap(data.k_two,data.k_one,r\"log(k)$_{two-compartment}$\",r\"log(k)$_{one-compartment}$\",\"\",True)"
   ]
  },
  {
   "cell_type": "code",
   "execution_count": 15,
   "id": "c04f0deb",
   "metadata": {},
   "outputs": [
    {
     "data": {
      "image/png": "[encoded data removed]",
      "text/plain": [
       "<Figure size 576x432 with 2 Axes>"
      ]
     },
     "metadata": {
      "needs_background": "light"
     },
     "output_type": "display_data"
    }
   ],
   "source": [
    "plot_hitmap(data.i0_asym_exp,data.i0_asym_two,r\"I$_0$(t)$_{exp}$\",r\"I$_0$(t)$_{two-compartment}$\",\"\")"
   ]
  },
  {
   "cell_type": "code",
   "execution_count": 16,
   "id": "3c4f1012",
   "metadata": {},
   "outputs": [],
   "source": [
    "# plt.scatter(data.i0_asym_exp,data.i0_asym_two)"
   ]
  },
  {
   "cell_type": "code",
   "execution_count": null,
   "id": "5f977d36",
   "metadata": {},
   "outputs": [],
   "source": []
  },
  {
   "cell_type": "code",
   "execution_count": null,
   "id": "d53a818d",
   "metadata": {},
   "outputs": [],
   "source": []
  },
  {
   "cell_type": "code",
   "execution_count": null,
   "id": "f93d874c",
   "metadata": {},
   "outputs": [],
   "source": []
  }
 ],
 "metadata": {
  "kernelspec": {
   "display_name": "Python 3 (ipykernel)",
   "language": "python",
   "name": "python3"
  },
  "language_info": {
   "codemirror_mode": {
    "name": "ipython",
    "version": 3
   },
   "file_extension": ".py",
   "mimetype": "text/x-python",
   "name": "python",
   "nbconvert_exporter": "python",
   "pygments_lexer": "ipython3",
   "version": "3.9.11"
  }
 },
 "nbformat": 4,
 "nbformat_minor": 5
}
