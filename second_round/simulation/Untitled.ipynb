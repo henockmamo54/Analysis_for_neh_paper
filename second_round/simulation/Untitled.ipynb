{
 "cells": [
  {
   "cell_type": "code",
   "execution_count": 155,
   "id": "8e1be94d",
   "metadata": {},
   "outputs": [],
   "source": [
    "import numpy as np\n",
    "import pandas as pd \n",
    "import random\n",
    "import math\n",
    "from matplotlib import pyplot as plt"
   ]
  },
  {
   "cell_type": "code",
   "execution_count": 163,
   "id": "bee27eb7",
   "metadata": {},
   "outputs": [],
   "source": [
    "total_number=5000"
   ]
  },
  {
   "cell_type": "code",
   "execution_count": 164,
   "id": "41e6bf9e",
   "metadata": {},
   "outputs": [],
   "source": [
    "aas=['A' ,'C', 'D' ,'E', 'F', 'G', 'H', 'I' , 'L', 'M', 'N' ,'P' ,'Q'  ,'S', 'T', 'V', 'W' ,'Y','K','R']\n",
    "dict_vals={\"H\":1.372,\"A\":3.471,\"I\":0.592,\"R\":1.326,\"L\":0.634,\"D\":2.490,\"K\":0.121,\"N\":0.674,\"M\":0.994\n",
    ",\"C\":1.496,\"F\":0.418,\"E\":3.580,\"T\":0.097,\"Q\":3.517,\"W\":0.003,\"G\":1.844,\"V\":0.591,\"S\":1.574,\"P\":0.780,\"Y\":0.740}"
   ]
  },
  {
   "cell_type": "code",
   "execution_count": 165,
   "id": "c1d2ac5f",
   "metadata": {},
   "outputs": [
    {
     "data": {
      "text/plain": [
       "{'H': 2,\n",
       " 'A': 4,\n",
       " 'I': 1,\n",
       " 'R': 2,\n",
       " 'L': 1,\n",
       " 'D': 3,\n",
       " 'K': 1,\n",
       " 'N': 1,\n",
       " 'M': 2,\n",
       " 'C': 2,\n",
       " 'F': 1,\n",
       " 'E': 4,\n",
       " 'T': 1,\n",
       " 'Q': 4,\n",
       " 'W': 1,\n",
       " 'G': 2,\n",
       " 'V': 1,\n",
       " 'S': 2,\n",
       " 'P': 1,\n",
       " 'Y': 1}"
      ]
     },
     "execution_count": 165,
     "metadata": {},
     "output_type": "execute_result"
    }
   ],
   "source": [
    "# dict_vals={k:math.ceil( 10*i)/10 for k,i in dict_vals.items()}\n",
    "dict_vals={k: 1+int(math.ceil( 100*i)/100) for k,i in dict_vals.items()}\n",
    "dict_vals"
   ]
  },
  {
   "cell_type": "code",
   "execution_count": 166,
   "id": "a70507db",
   "metadata": {},
   "outputs": [],
   "source": [
    "# [ random.randint(0,17) for x in  range(7)]\n",
    "# [ random.randint(0,17) for x in  range(random.randint(7,65))]+[random.randint(18,19)]"
   ]
  },
  {
   "cell_type": "code",
   "execution_count": null,
   "id": "344828cb",
   "metadata": {},
   "outputs": [],
   "source": []
  },
  {
   "cell_type": "code",
   "execution_count": 167,
   "id": "1a5ee3c7",
   "metadata": {},
   "outputs": [],
   "source": [
    "temp=[[ random.randint(0,17) for x in  range(random.randint(10,40))]+[random.randint(18,19)] for y in range(total_number)]"
   ]
  },
  {
   "cell_type": "code",
   "execution_count": 168,
   "id": "5ca854d4",
   "metadata": {},
   "outputs": [
    {
     "data": {
      "text/html": [
       "<div>\n",
       "<style scoped>\n",
       "    .dataframe tbody tr th:only-of-type {\n",
       "        vertical-align: middle;\n",
       "    }\n",
       "\n",
       "    .dataframe tbody tr th {\n",
       "        vertical-align: top;\n",
       "    }\n",
       "\n",
       "    .dataframe thead th {\n",
       "        text-align: right;\n",
       "    }\n",
       "</style>\n",
       "<table border=\"1\" class=\"dataframe\">\n",
       "  <thead>\n",
       "    <tr style=\"text-align: right;\">\n",
       "      <th></th>\n",
       "      <th>Peptide</th>\n",
       "      <th>NEH</th>\n",
       "    </tr>\n",
       "  </thead>\n",
       "  <tbody>\n",
       "    <tr>\n",
       "      <th>0</th>\n",
       "      <td>FQFPTWVWFSYDFCTWSIK</td>\n",
       "      <td>27</td>\n",
       "    </tr>\n",
       "    <tr>\n",
       "      <th>1</th>\n",
       "      <td>NDCMADTVFNPIR</td>\n",
       "      <td>23</td>\n",
       "    </tr>\n",
       "    <tr>\n",
       "      <th>2</th>\n",
       "      <td>GTYDQCWQFYCILLWWEHVGPYTWLGLVAMCVK</td>\n",
       "      <td>55</td>\n",
       "    </tr>\n",
       "    <tr>\n",
       "      <th>3</th>\n",
       "      <td>HCWSGYGSIQEICDWQAWCHEDFAAACSHLVCSPTK</td>\n",
       "      <td>78</td>\n",
       "    </tr>\n",
       "    <tr>\n",
       "      <th>4</th>\n",
       "      <td>LYFFWYNTTQWEAEVEAYEDAWCHTNAHSSIK</td>\n",
       "      <td>66</td>\n",
       "    </tr>\n",
       "  </tbody>\n",
       "</table>\n",
       "</div>"
      ],
      "text/plain": [
       "                                Peptide  NEH\n",
       "0                   FQFPTWVWFSYDFCTWSIK   27\n",
       "1                         NDCMADTVFNPIR   23\n",
       "2     GTYDQCWQFYCILLWWEHVGPYTWLGLVAMCVK   55\n",
       "3  HCWSGYGSIQEICDWQAWCHEDFAAACSHLVCSPTK   78\n",
       "4      LYFFWYNTTQWEAEVEAYEDAWCHTNAHSSIK   66"
      ]
     },
     "execution_count": 168,
     "metadata": {},
     "output_type": "execute_result"
    }
   ],
   "source": [
    "peps=[''.join([aas[i] for i in temp[x]]) for x in range(total_number)]\n",
    "neh=[ sum([dict_vals[peps[x][i]] for i in range(len(peps[x]))]) for x in range(total_number)]\n",
    "df=pd.DataFrame()\n",
    "df['Peptide']=peps\n",
    "df['NEH']=neh\n",
    "df.head()"
   ]
  },
  {
   "cell_type": "code",
   "execution_count": 169,
   "id": "7c884b13",
   "metadata": {},
   "outputs": [],
   "source": [
    "df.to_csv('pep.csv',index=False,header=False)"
   ]
  },
  {
   "cell_type": "code",
   "execution_count": null,
   "id": "1d97ebc1",
   "metadata": {},
   "outputs": [],
   "source": []
  },
  {
   "cell_type": "code",
   "execution_count": null,
   "id": "df23a203",
   "metadata": {},
   "outputs": [],
   "source": []
  },
  {
   "cell_type": "code",
   "execution_count": 170,
   "id": "7189a71f",
   "metadata": {},
   "outputs": [],
   "source": [
    "# with open('pep.csv','w') as f:\n",
    "#     for i in range(700):\n",
    "#         f.write(peps[i]+'\\n')"
   ]
  },
  {
   "cell_type": "code",
   "execution_count": null,
   "id": "ef928546",
   "metadata": {},
   "outputs": [],
   "source": []
  }
 ],
 "metadata": {
  "kernelspec": {
   "display_name": "Python 3 (ipykernel)",
   "language": "python",
   "name": "python3"
  },
  "language_info": {
   "codemirror_mode": {
    "name": "ipython",
    "version": 3
   },
   "file_extension": ".py",
   "mimetype": "text/x-python",
   "name": "python",
   "nbconvert_exporter": "python",
   "pygments_lexer": "ipython3",
   "version": "3.9.11"
  }
 },
 "nbformat": 4,
 "nbformat_minor": 5
}
