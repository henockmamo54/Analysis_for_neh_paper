{
 "cells": [
  {
   "cell_type": "code",
   "execution_count": 278,
   "id": "562621e7",
   "metadata": {},
   "outputs": [],
   "source": [
    "import os\n",
    "import math\n",
    "import random\n",
    "import warnings\n",
    "import numpy as np\n",
    "import pandas as pd \n",
    "from sklearn import metrics\n",
    "from matplotlib import pyplot as plt\n",
    "\n",
    "warnings.filterwarnings(\"ignore\")"
   ]
  },
  {
   "cell_type": "code",
   "execution_count": 279,
   "id": "dca94456",
   "metadata": {},
   "outputs": [
    {
     "data": {
      "text/plain": [
       "2.1745766677475299e-13"
      ]
     },
     "execution_count": 279,
     "metadata": {},
     "output_type": "execute_result"
    }
   ],
   "source": [
    "data.rmse.max()"
   ]
  },
  {
   "cell_type": "code",
   "execution_count": 280,
   "id": "f19208ae",
   "metadata": {},
   "outputs": [
    {
     "name": "stdout",
     "output_type": "stream",
     "text": [
      "(286900, 15)\n"
     ]
    },
    {
     "data": {
      "text/html": [
       "<div>\n",
       "<style scoped>\n",
       "    .dataframe tbody tr th:only-of-type {\n",
       "        vertical-align: middle;\n",
       "    }\n",
       "\n",
       "    .dataframe tbody tr th {\n",
       "        vertical-align: top;\n",
       "    }\n",
       "\n",
       "    .dataframe thead th {\n",
       "        text-align: right;\n",
       "    }\n",
       "</style>\n",
       "<table border=\"1\" class=\"dataframe\">\n",
       "  <thead>\n",
       "    <tr style=\"text-align: right;\">\n",
       "      <th></th>\n",
       "      <th>pep</th>\n",
       "      <th>a</th>\n",
       "      <th>b</th>\n",
       "      <th>cpxt</th>\n",
       "      <th>pxt</th>\n",
       "      <th>neh</th>\n",
       "      <th>cneh</th>\n",
       "      <th>b1</th>\n",
       "      <th>b2</th>\n",
       "      <th>b3</th>\n",
       "      <th>a1</th>\n",
       "      <th>a2</th>\n",
       "      <th>delta1</th>\n",
       "      <th>delta2</th>\n",
       "      <th>rmse</th>\n",
       "    </tr>\n",
       "  </thead>\n",
       "  <tbody>\n",
       "    <tr>\n",
       "      <th>0</th>\n",
       "      <td>DSTLIMQLLR</td>\n",
       "      <td>-0.008824</td>\n",
       "      <td>0.000010</td>\n",
       "      <td>0.0011</td>\n",
       "      <td>0.0011</td>\n",
       "      <td>16</td>\n",
       "      <td>16.0</td>\n",
       "      <td>-0.011615</td>\n",
       "      <td>0.011782</td>\n",
       "      <td>-0.000158</td>\n",
       "      <td>-0.000168</td>\n",
       "      <td>-0.008656</td>\n",
       "      <td>0.017625</td>\n",
       "      <td>0.011620</td>\n",
       "      <td>4.495695e-14</td>\n",
       "    </tr>\n",
       "    <tr>\n",
       "      <th>1</th>\n",
       "      <td>DSTLIMQLLR</td>\n",
       "      <td>-0.016879</td>\n",
       "      <td>0.000035</td>\n",
       "      <td>0.0021</td>\n",
       "      <td>0.0021</td>\n",
       "      <td>16</td>\n",
       "      <td>16.0</td>\n",
       "      <td>-0.022449</td>\n",
       "      <td>0.023057</td>\n",
       "      <td>-0.000572</td>\n",
       "      <td>-0.000608</td>\n",
       "      <td>-0.016271</td>\n",
       "      <td>0.033681</td>\n",
       "      <td>0.022460</td>\n",
       "      <td>3.826413e-15</td>\n",
       "    </tr>\n",
       "    <tr>\n",
       "      <th>2</th>\n",
       "      <td>DSTLIMQLLR</td>\n",
       "      <td>-0.024966</td>\n",
       "      <td>0.000077</td>\n",
       "      <td>0.0031</td>\n",
       "      <td>0.0031</td>\n",
       "      <td>16</td>\n",
       "      <td>16.0</td>\n",
       "      <td>-0.033548</td>\n",
       "      <td>0.034871</td>\n",
       "      <td>-0.001245</td>\n",
       "      <td>-0.001323</td>\n",
       "      <td>-0.023643</td>\n",
       "      <td>0.049770</td>\n",
       "      <td>0.033563</td>\n",
       "      <td>5.227095e-16</td>\n",
       "    </tr>\n",
       "    <tr>\n",
       "      <th>3</th>\n",
       "      <td>DSTLIMQLLR</td>\n",
       "      <td>-0.033086</td>\n",
       "      <td>0.000136</td>\n",
       "      <td>0.0041</td>\n",
       "      <td>0.0041</td>\n",
       "      <td>16</td>\n",
       "      <td>16.0</td>\n",
       "      <td>-0.044912</td>\n",
       "      <td>0.047227</td>\n",
       "      <td>-0.002179</td>\n",
       "      <td>-0.002316</td>\n",
       "      <td>-0.030770</td>\n",
       "      <td>0.065891</td>\n",
       "      <td>0.044933</td>\n",
       "      <td>4.655358e-15</td>\n",
       "    </tr>\n",
       "    <tr>\n",
       "      <th>4</th>\n",
       "      <td>DSTLIMQLLR</td>\n",
       "      <td>-0.041239</td>\n",
       "      <td>0.000210</td>\n",
       "      <td>0.0051</td>\n",
       "      <td>0.0051</td>\n",
       "      <td>16</td>\n",
       "      <td>16.0</td>\n",
       "      <td>-0.056544</td>\n",
       "      <td>0.060130</td>\n",
       "      <td>-0.003376</td>\n",
       "      <td>-0.003588</td>\n",
       "      <td>-0.037651</td>\n",
       "      <td>0.082044</td>\n",
       "      <td>0.056569</td>\n",
       "      <td>6.141304e-15</td>\n",
       "    </tr>\n",
       "  </tbody>\n",
       "</table>\n",
       "</div>"
      ],
      "text/plain": [
       "          pep         a         b    cpxt     pxt  neh  cneh        b1  \\\n",
       "0  DSTLIMQLLR -0.008824  0.000010  0.0011  0.0011   16  16.0 -0.011615   \n",
       "1  DSTLIMQLLR -0.016879  0.000035  0.0021  0.0021   16  16.0 -0.022449   \n",
       "2  DSTLIMQLLR -0.024966  0.000077  0.0031  0.0031   16  16.0 -0.033548   \n",
       "3  DSTLIMQLLR -0.033086  0.000136  0.0041  0.0041   16  16.0 -0.044912   \n",
       "4  DSTLIMQLLR -0.041239  0.000210  0.0051  0.0051   16  16.0 -0.056544   \n",
       "\n",
       "         b2        b3        a1        a2    delta1    delta2          rmse  \n",
       "0  0.011782 -0.000158 -0.000168 -0.008656  0.017625  0.011620  4.495695e-14  \n",
       "1  0.023057 -0.000572 -0.000608 -0.016271  0.033681  0.022460  3.826413e-15  \n",
       "2  0.034871 -0.001245 -0.001323 -0.023643  0.049770  0.033563  5.227095e-16  \n",
       "3  0.047227 -0.002179 -0.002316 -0.030770  0.065891  0.044933  4.655358e-15  \n",
       "4  0.060130 -0.003376 -0.003588 -0.037651  0.082044  0.056569  6.141304e-15  "
      ]
     },
     "execution_count": 280,
     "metadata": {},
     "output_type": "execute_result"
    }
   ],
   "source": [
    "data=pd.read_csv(r\"C:\\Workplace\\Python\\AnalysisForThePaper\\NEH\\second_round\\D2O_NEH\\res_theo_1.csv\")\n",
    "data.columns=['pep','a','b','cpxt','pxt','neh','cneh','b1','b2','b3','a1','a2','delta1','delta2','rmse']\n",
    "data=data.drop_duplicates()\n",
    "print(data.shape)\n",
    "data.head()"
   ]
  },
  {
   "cell_type": "code",
   "execution_count": null,
   "id": "bc9feee3",
   "metadata": {},
   "outputs": [],
   "source": []
  },
  {
   "cell_type": "code",
   "execution_count": 281,
   "id": "5c9be53d",
   "metadata": {},
   "outputs": [
    {
     "data": {
      "text/plain": [
       "<matplotlib.legend.Legend at 0x1db8254caf0>"
      ]
     },
     "execution_count": 281,
     "metadata": {},
     "output_type": "execute_result"
    },
    {
     "data": {
      "image/png": "[encoded data removed]",
      "text/plain": [
       "<Figure size 576x432 with 1 Axes>"
      ]
     },
     "metadata": {
      "needs_background": "light"
     },
     "output_type": "display_data"
    }
   ],
   "source": [
    "plt.figure(figsize=(8,6))\n",
    "temp=data[data.pep==data[data.neh == data.neh.min()].pep.unique()[0]]\n",
    "plt.plot(temp.cpxt.astype('float'),temp.a.astype('float'),alpha=0.75,label=\"A\" +f\" NEH: {list(temp.neh.astype('float'))[0]}\",c='k' )\n",
    "plt.plot(temp.cpxt.astype('float'),temp.b.astype('float'),alpha=0.75,label=\"B\" +f\" NEH: {list(temp.neh.astype('float'))[0]}\",c='k',ls=\"--\" )\n",
    "\n",
    "temp=data[data.pep==data[data.neh == data.neh.max()].pep.unique()[0]]\n",
    "plt.plot(temp.cpxt.astype('float'),temp.a.astype('float'),alpha=0.75,label=\"A\" +f\" NEH: {list(temp.neh.astype('float'))[0]}\",c='g' )\n",
    "plt.plot(temp.cpxt.astype('float'),temp.b.astype('float'),alpha=0.75,label=\"B\" +f\" NEH: {list(temp.neh.astype('float'))[0]}\",c='g',ls=\"--\" )\n",
    "\n",
    "temp=data[data.pep==data[data.neh == data.neh.median()].pep.unique()[0]]\n",
    "plt.plot(temp.cpxt.astype('float'),temp.a.astype('float'),alpha=0.75,label=\"A\" +f\" NEH: {list(temp.neh.astype('float'))[0]}\",c='m' )\n",
    "plt.plot(temp.cpxt.astype('float'),temp.b.astype('float'),alpha=0.75,label=\"B\" +f\" NEH: {list(temp.neh.astype('float'))[0]}\",c='m',ls=\"--\" )\n",
    "\n",
    "\n",
    "plt.xlabel('pxt')\n",
    "# plt.xlim([-5,1])\n",
    "plt.legend()"
   ]
  },
  {
   "cell_type": "code",
   "execution_count": 282,
   "id": "232129ba",
   "metadata": {},
   "outputs": [
    {
     "data": {
      "text/plain": [
       "<matplotlib.legend.Legend at 0x1db8245dee0>"
      ]
     },
     "execution_count": 282,
     "metadata": {},
     "output_type": "execute_result"
    },
    {
     "data": {
      "image/png": "[encoded data removed]",
      "text/plain": [
       "<Figure size 432x288 with 1 Axes>"
      ]
     },
     "metadata": {
      "needs_background": "light"
     },
     "output_type": "display_data"
    }
   ],
   "source": [
    "temp=data[data.pep==data[data.neh == data.neh.median()].pep.unique()[0]]\n",
    "plt.scatter(temp.cpxt.astype('float'),temp.b.astype('float'),alpha=0.75,label=\"b\" +f\" NEH: {list(temp.neh.astype('float'))[0]}\",c='k' )\n",
    "plt.scatter(temp.cpxt.astype('float'),temp.b1.astype('float'),alpha=0.75,label=\"b1\" +f\" NEH: {list(temp.neh.astype('float'))[0]}\",c='m',ls=\"--\" )\n",
    "plt.scatter(temp.cpxt.astype('float'),temp.b2.astype('float'),alpha=0.75,label=\"b2\" +f\" NEH: {list(temp.neh.astype('float'))[0]}\",c='r',ls=\"--\" )\n",
    "plt.scatter(temp.cpxt.astype('float'),temp.b3.astype('float'),alpha=0.75,label=\"b3\" +f\" NEH: {list(temp.neh.astype('float'))[0]}\",c='y',ls=\"--\" )\n",
    "\n",
    "\n",
    "plt.xlabel('pxt')\n",
    "# plt.xlim([-5,1])\n",
    "plt.legend()"
   ]
  },
  {
   "cell_type": "code",
   "execution_count": 283,
   "id": "5b36fc54",
   "metadata": {},
   "outputs": [
    {
     "data": {
      "text/plain": [
       "<matplotlib.legend.Legend at 0x1db81ffda90>"
      ]
     },
     "execution_count": 283,
     "metadata": {},
     "output_type": "execute_result"
    },
    {
     "data": {
      "image/png": "[encoded data removed]",
      "text/plain": [
       "<Figure size 432x288 with 1 Axes>"
      ]
     },
     "metadata": {
      "needs_background": "light"
     },
     "output_type": "display_data"
    }
   ],
   "source": [
    "\n",
    "plt.scatter(temp.cpxt.astype('float'),temp.a.astype('float'),alpha=0.75,label=\"a\" +f\" NEH: {list(temp.neh.astype('float'))[0]}\",c='k' )\n",
    "plt.scatter(temp.cpxt.astype('float'),temp.a1.astype('float'),alpha=0.75,label=\"a1\" +f\" NEH: {list(temp.neh.astype('float'))[0]}\",c='m',ls=\"--\" )\n",
    "plt.scatter(temp.cpxt.astype('float'),temp.a2.astype('float'),alpha=0.75,label=\"a2\" +f\" NEH: {list(temp.neh.astype('float'))[0]}\",c='r',ls=\"--\" )\n",
    "\n",
    "plt.xlabel('pxt')\n",
    "# plt.xlim([-5,1])\n",
    "plt.legend()"
   ]
  },
  {
   "cell_type": "code",
   "execution_count": null,
   "id": "68b1d8be",
   "metadata": {},
   "outputs": [],
   "source": []
  },
  {
   "cell_type": "code",
   "execution_count": null,
   "id": "c21b0bbf",
   "metadata": {},
   "outputs": [],
   "source": []
  },
  {
   "cell_type": "code",
   "execution_count": 284,
   "id": "e19b4feb",
   "metadata": {},
   "outputs": [
    {
     "data": {
      "text/html": [
       "<div>\n",
       "<style scoped>\n",
       "    .dataframe tbody tr th:only-of-type {\n",
       "        vertical-align: middle;\n",
       "    }\n",
       "\n",
       "    .dataframe tbody tr th {\n",
       "        vertical-align: top;\n",
       "    }\n",
       "\n",
       "    .dataframe thead th {\n",
       "        text-align: right;\n",
       "    }\n",
       "</style>\n",
       "<table border=\"1\" class=\"dataframe\">\n",
       "  <thead>\n",
       "    <tr style=\"text-align: right;\">\n",
       "      <th></th>\n",
       "      <th>pep</th>\n",
       "      <th>a</th>\n",
       "      <th>b</th>\n",
       "      <th>cpxt</th>\n",
       "      <th>pxt</th>\n",
       "      <th>neh</th>\n",
       "      <th>cneh</th>\n",
       "      <th>b1</th>\n",
       "      <th>b2</th>\n",
       "      <th>b3</th>\n",
       "      <th>a1</th>\n",
       "      <th>a2</th>\n",
       "      <th>delta1</th>\n",
       "      <th>delta2</th>\n",
       "      <th>rmse</th>\n",
       "    </tr>\n",
       "  </thead>\n",
       "  <tbody>\n",
       "    <tr>\n",
       "      <th>0</th>\n",
       "      <td>DSTLIMQLLR</td>\n",
       "      <td>-0.009859</td>\n",
       "      <td>0.008266</td>\n",
       "      <td>0.838491</td>\n",
       "      <td>0.0011</td>\n",
       "      <td>16</td>\n",
       "      <td>2.888154</td>\n",
       "      <td>0.006191</td>\n",
       "      <td>0.002081</td>\n",
       "      <td>-0.000006</td>\n",
       "      <td>-0.008273</td>\n",
       "      <td>-0.001585</td>\n",
       "      <td>0.003181</td>\n",
       "      <td>-0.006191</td>\n",
       "      <td>3.420194e-01</td>\n",
       "    </tr>\n",
       "    <tr>\n",
       "      <th>1</th>\n",
       "      <td>DSTLIMQLLR</td>\n",
       "      <td>-0.004579</td>\n",
       "      <td>-0.009987</td>\n",
       "      <td>-2.181053</td>\n",
       "      <td>0.0021</td>\n",
       "      <td>16</td>\n",
       "      <td>13.837552</td>\n",
       "      <td>-0.029366</td>\n",
       "      <td>0.019808</td>\n",
       "      <td>-0.000428</td>\n",
       "      <td>0.009559</td>\n",
       "      <td>-0.014138</td>\n",
       "      <td>0.029129</td>\n",
       "      <td>0.029377</td>\n",
       "      <td>1.562853e+09</td>\n",
       "    </tr>\n",
       "    <tr>\n",
       "      <th>2</th>\n",
       "      <td>DSTLIMQLLR</td>\n",
       "      <td>-0.015808</td>\n",
       "      <td>-0.007646</td>\n",
       "      <td>-0.483671</td>\n",
       "      <td>0.0031</td>\n",
       "      <td>16</td>\n",
       "      <td>15.078211</td>\n",
       "      <td>-0.039267</td>\n",
       "      <td>0.032727</td>\n",
       "      <td>-0.001106</td>\n",
       "      <td>0.006540</td>\n",
       "      <td>-0.022348</td>\n",
       "      <td>0.046902</td>\n",
       "      <td>0.039282</td>\n",
       "      <td>1.657401e+03</td>\n",
       "    </tr>\n",
       "    <tr>\n",
       "      <th>3</th>\n",
       "      <td>DSTLIMQLLR</td>\n",
       "      <td>-0.035557</td>\n",
       "      <td>0.006918</td>\n",
       "      <td>0.194557</td>\n",
       "      <td>0.0041</td>\n",
       "      <td>16</td>\n",
       "      <td>13.906048</td>\n",
       "      <td>-0.031988</td>\n",
       "      <td>0.040553</td>\n",
       "      <td>-0.001647</td>\n",
       "      <td>-0.008567</td>\n",
       "      <td>-0.026990</td>\n",
       "      <td>0.057267</td>\n",
       "      <td>0.032004</td>\n",
       "      <td>2.908903e-01</td>\n",
       "    </tr>\n",
       "    <tr>\n",
       "      <th>4</th>\n",
       "      <td>DSTLIMQLLR</td>\n",
       "      <td>-0.069610</td>\n",
       "      <td>0.023128</td>\n",
       "      <td>0.332250</td>\n",
       "      <td>0.0051</td>\n",
       "      <td>16</td>\n",
       "      <td>18.125470</td>\n",
       "      <td>-0.041672</td>\n",
       "      <td>0.069130</td>\n",
       "      <td>-0.004330</td>\n",
       "      <td>-0.027464</td>\n",
       "      <td>-0.042146</td>\n",
       "      <td>0.092943</td>\n",
       "      <td>0.041697</td>\n",
       "      <td>3.289631e-01</td>\n",
       "    </tr>\n",
       "    <tr>\n",
       "      <th>5</th>\n",
       "      <td>DSTLIMQLLR</td>\n",
       "      <td>-0.091813</td>\n",
       "      <td>0.036104</td>\n",
       "      <td>0.393238</td>\n",
       "      <td>0.0061</td>\n",
       "      <td>16</td>\n",
       "      <td>18.143368</td>\n",
       "      <td>-0.042583</td>\n",
       "      <td>0.084904</td>\n",
       "      <td>-0.006216</td>\n",
       "      <td>-0.042329</td>\n",
       "      <td>-0.049484</td>\n",
       "      <td>0.111389</td>\n",
       "      <td>0.042613</td>\n",
       "      <td>3.243860e-01</td>\n",
       "    </tr>\n",
       "    <tr>\n",
       "      <th>6</th>\n",
       "      <td>DSTLIMQLLR</td>\n",
       "      <td>-0.053026</td>\n",
       "      <td>0.003343</td>\n",
       "      <td>0.063043</td>\n",
       "      <td>0.0071</td>\n",
       "      <td>16</td>\n",
       "      <td>13.889277</td>\n",
       "      <td>-0.066243</td>\n",
       "      <td>0.074532</td>\n",
       "      <td>-0.004947</td>\n",
       "      <td>-0.008293</td>\n",
       "      <td>-0.044734</td>\n",
       "      <td>0.099350</td>\n",
       "      <td>0.066273</td>\n",
       "      <td>1.658378e-01</td>\n",
       "    </tr>\n",
       "    <tr>\n",
       "      <th>7</th>\n",
       "      <td>DSTLIMQLLR</td>\n",
       "      <td>-0.071357</td>\n",
       "      <td>0.000749</td>\n",
       "      <td>0.010491</td>\n",
       "      <td>0.0081</td>\n",
       "      <td>16</td>\n",
       "      <td>17.284906</td>\n",
       "      <td>-0.101099</td>\n",
       "      <td>0.111830</td>\n",
       "      <td>-0.009982</td>\n",
       "      <td>-0.010736</td>\n",
       "      <td>-0.060622</td>\n",
       "      <td>0.141195</td>\n",
       "      <td>0.101144</td>\n",
       "      <td>6.738925e-03</td>\n",
       "    </tr>\n",
       "    <tr>\n",
       "      <th>8</th>\n",
       "      <td>DSTLIMQLLR</td>\n",
       "      <td>-0.070212</td>\n",
       "      <td>-0.006313</td>\n",
       "      <td>-0.089919</td>\n",
       "      <td>0.0091</td>\n",
       "      <td>16</td>\n",
       "      <td>16.658039</td>\n",
       "      <td>-0.117602</td>\n",
       "      <td>0.123012</td>\n",
       "      <td>-0.011724</td>\n",
       "      <td>-0.005415</td>\n",
       "      <td>-0.064797</td>\n",
       "      <td>0.153028</td>\n",
       "      <td>0.117651</td>\n",
       "      <td>1.290843e+00</td>\n",
       "    </tr>\n",
       "    <tr>\n",
       "      <th>9</th>\n",
       "      <td>DSTLIMQLLR</td>\n",
       "      <td>-0.031700</td>\n",
       "      <td>-0.032623</td>\n",
       "      <td>-1.029133</td>\n",
       "      <td>0.0101</td>\n",
       "      <td>16</td>\n",
       "      <td>12.603749</td>\n",
       "      <td>-0.124605</td>\n",
       "      <td>0.100269</td>\n",
       "      <td>-0.008287</td>\n",
       "      <td>0.024337</td>\n",
       "      <td>-0.056037</td>\n",
       "      <td>0.128637</td>\n",
       "      <td>0.124651</td>\n",
       "      <td>6.246620e+05</td>\n",
       "    </tr>\n",
       "    <tr>\n",
       "      <th>10</th>\n",
       "      <td>DSTLIMQLLR</td>\n",
       "      <td>-0.068675</td>\n",
       "      <td>-0.008740</td>\n",
       "      <td>-0.127269</td>\n",
       "      <td>0.0111</td>\n",
       "      <td>16</td>\n",
       "      <td>13.787536</td>\n",
       "      <td>-0.121461</td>\n",
       "      <td>0.124718</td>\n",
       "      <td>-0.011998</td>\n",
       "      <td>-0.003262</td>\n",
       "      <td>-0.065413</td>\n",
       "      <td>0.154808</td>\n",
       "      <td>0.121511</td>\n",
       "      <td>3.125467e+00</td>\n",
       "    </tr>\n",
       "    <tr>\n",
       "      <th>11</th>\n",
       "      <td>DSTLIMQLLR</td>\n",
       "      <td>-0.064506</td>\n",
       "      <td>-0.025049</td>\n",
       "      <td>-0.388316</td>\n",
       "      <td>0.0121</td>\n",
       "      <td>16</td>\n",
       "      <td>14.616993</td>\n",
       "      <td>-0.157622</td>\n",
       "      <td>0.148625</td>\n",
       "      <td>-0.016052</td>\n",
       "      <td>0.008993</td>\n",
       "      <td>-0.073499</td>\n",
       "      <td>0.179088</td>\n",
       "      <td>0.157683</td>\n",
       "      <td>4.183809e+02</td>\n",
       "    </tr>\n",
       "    <tr>\n",
       "      <th>12</th>\n",
       "      <td>DSTLIMQLLR</td>\n",
       "      <td>-0.144965</td>\n",
       "      <td>0.015192</td>\n",
       "      <td>0.104799</td>\n",
       "      <td>0.0131</td>\n",
       "      <td>16</td>\n",
       "      <td>19.543520</td>\n",
       "      <td>-0.187339</td>\n",
       "      <td>0.236216</td>\n",
       "      <td>-0.033684</td>\n",
       "      <td>-0.048895</td>\n",
       "      <td>-0.096070</td>\n",
       "      <td>0.259500</td>\n",
       "      <td>0.187421</td>\n",
       "      <td>1.974977e-01</td>\n",
       "    </tr>\n",
       "    <tr>\n",
       "      <th>13</th>\n",
       "      <td>DSTLIMQLLR</td>\n",
       "      <td>-0.158558</td>\n",
       "      <td>0.024532</td>\n",
       "      <td>0.154717</td>\n",
       "      <td>0.0141</td>\n",
       "      <td>16</td>\n",
       "      <td>18.733431</td>\n",
       "      <td>-0.185776</td>\n",
       "      <td>0.246234</td>\n",
       "      <td>-0.035927</td>\n",
       "      <td>-0.060479</td>\n",
       "      <td>-0.098079</td>\n",
       "      <td>0.268003</td>\n",
       "      <td>0.185859</td>\n",
       "      <td>2.344004e-01</td>\n",
       "    </tr>\n",
       "    <tr>\n",
       "      <th>14</th>\n",
       "      <td>DSTLIMQLLR</td>\n",
       "      <td>-0.120880</td>\n",
       "      <td>0.004191</td>\n",
       "      <td>0.034674</td>\n",
       "      <td>0.0151</td>\n",
       "      <td>16</td>\n",
       "      <td>15.214880</td>\n",
       "      <td>-0.174872</td>\n",
       "      <td>0.206302</td>\n",
       "      <td>-0.027239</td>\n",
       "      <td>-0.031444</td>\n",
       "      <td>-0.089437</td>\n",
       "      <td>0.233340</td>\n",
       "      <td>0.174946</td>\n",
       "      <td>6.925804e-02</td>\n",
       "    </tr>\n",
       "  </tbody>\n",
       "</table>\n",
       "</div>"
      ],
      "text/plain": [
       "           pep         a         b      cpxt     pxt  neh       cneh  \\\n",
       "0   DSTLIMQLLR -0.009859  0.008266  0.838491  0.0011   16   2.888154   \n",
       "1   DSTLIMQLLR -0.004579 -0.009987 -2.181053  0.0021   16  13.837552   \n",
       "2   DSTLIMQLLR -0.015808 -0.007646 -0.483671  0.0031   16  15.078211   \n",
       "3   DSTLIMQLLR -0.035557  0.006918  0.194557  0.0041   16  13.906048   \n",
       "4   DSTLIMQLLR -0.069610  0.023128  0.332250  0.0051   16  18.125470   \n",
       "5   DSTLIMQLLR -0.091813  0.036104  0.393238  0.0061   16  18.143368   \n",
       "6   DSTLIMQLLR -0.053026  0.003343  0.063043  0.0071   16  13.889277   \n",
       "7   DSTLIMQLLR -0.071357  0.000749  0.010491  0.0081   16  17.284906   \n",
       "8   DSTLIMQLLR -0.070212 -0.006313 -0.089919  0.0091   16  16.658039   \n",
       "9   DSTLIMQLLR -0.031700 -0.032623 -1.029133  0.0101   16  12.603749   \n",
       "10  DSTLIMQLLR -0.068675 -0.008740 -0.127269  0.0111   16  13.787536   \n",
       "11  DSTLIMQLLR -0.064506 -0.025049 -0.388316  0.0121   16  14.616993   \n",
       "12  DSTLIMQLLR -0.144965  0.015192  0.104799  0.0131   16  19.543520   \n",
       "13  DSTLIMQLLR -0.158558  0.024532  0.154717  0.0141   16  18.733431   \n",
       "14  DSTLIMQLLR -0.120880  0.004191  0.034674  0.0151   16  15.214880   \n",
       "\n",
       "          b1        b2        b3        a1        a2    delta1    delta2  \\\n",
       "0   0.006191  0.002081 -0.000006 -0.008273 -0.001585  0.003181 -0.006191   \n",
       "1  -0.029366  0.019808 -0.000428  0.009559 -0.014138  0.029129  0.029377   \n",
       "2  -0.039267  0.032727 -0.001106  0.006540 -0.022348  0.046902  0.039282   \n",
       "3  -0.031988  0.040553 -0.001647 -0.008567 -0.026990  0.057267  0.032004   \n",
       "4  -0.041672  0.069130 -0.004330 -0.027464 -0.042146  0.092943  0.041697   \n",
       "5  -0.042583  0.084904 -0.006216 -0.042329 -0.049484  0.111389  0.042613   \n",
       "6  -0.066243  0.074532 -0.004947 -0.008293 -0.044734  0.099350  0.066273   \n",
       "7  -0.101099  0.111830 -0.009982 -0.010736 -0.060622  0.141195  0.101144   \n",
       "8  -0.117602  0.123012 -0.011724 -0.005415 -0.064797  0.153028  0.117651   \n",
       "9  -0.124605  0.100269 -0.008287  0.024337 -0.056037  0.128637  0.124651   \n",
       "10 -0.121461  0.124718 -0.011998 -0.003262 -0.065413  0.154808  0.121511   \n",
       "11 -0.157622  0.148625 -0.016052  0.008993 -0.073499  0.179088  0.157683   \n",
       "12 -0.187339  0.236216 -0.033684 -0.048895 -0.096070  0.259500  0.187421   \n",
       "13 -0.185776  0.246234 -0.035927 -0.060479 -0.098079  0.268003  0.185859   \n",
       "14 -0.174872  0.206302 -0.027239 -0.031444 -0.089437  0.233340  0.174946   \n",
       "\n",
       "            rmse  \n",
       "0   3.420194e-01  \n",
       "1   1.562853e+09  \n",
       "2   1.657401e+03  \n",
       "3   2.908903e-01  \n",
       "4   3.289631e-01  \n",
       "5   3.243860e-01  \n",
       "6   1.658378e-01  \n",
       "7   6.738925e-03  \n",
       "8   1.290843e+00  \n",
       "9   6.246620e+05  \n",
       "10  3.125467e+00  \n",
       "11  4.183809e+02  \n",
       "12  1.974977e-01  \n",
       "13  2.344004e-01  \n",
       "14  6.925804e-02  "
      ]
     },
     "execution_count": 284,
     "metadata": {},
     "output_type": "execute_result"
    }
   ],
   "source": [
    "data2=pd.read_csv(r\"C:\\Workplace\\Python\\AnalysisForThePaper\\NEH\\second_round\\D2O_NEH\\res_theo_2.csv\")\n",
    "data2.columns=['pep','a','b','cpxt','pxt','neh','cneh','b1','b2','b3','a1','a2','delta1','delta2','rmse']\n",
    "data2.head(15)"
   ]
  },
  {
   "cell_type": "code",
   "execution_count": 285,
   "id": "98d1c4e0",
   "metadata": {},
   "outputs": [
    {
     "data": {
      "text/plain": [
       "<matplotlib.legend.Legend at 0x1db94dd4b50>"
      ]
     },
     "execution_count": 285,
     "metadata": {},
     "output_type": "execute_result"
    },
    {
     "data": {
      "image/png": "[encoded data removed]",
      "text/plain": [
       "<Figure size 432x288 with 1 Axes>"
      ]
     },
     "metadata": {
      "needs_background": "light"
     },
     "output_type": "display_data"
    }
   ],
   "source": [
    "temp2=data2[data2.pep==data2[data2.neh == data2.neh.median()].pep.unique()[0]]\n",
    "# temp2=temp2[(temp2.cpxt<0.1)&(temp2.cpxt>0)]\n",
    "plt.scatter(temp2.cpxt.astype('float'),temp2.b.astype('float'),alpha=0.75,label=\"b\" +f\" NEH: {list(temp2.neh.astype('float'))[0]}\",c='k' )\n",
    "plt.scatter(temp2.cpxt.astype('float'),temp2.b1.astype('float'),alpha=0.75,label=\"b1\" +f\" NEH: {list(temp2.neh.astype('float'))[0]}\",c='m',ls=\"--\" )\n",
    "plt.scatter(temp2.cpxt.astype('float'),temp2.b2.astype('float'),alpha=0.75,label=\"b2\" +f\" NEH: {list(temp2.neh.astype('float'))[0]}\",c='r',ls=\"--\" )\n",
    "plt.scatter(temp2.cpxt.astype('float'),temp2.b3.astype('float'),alpha=0.75,label=\"b3\" +f\" NEH: {list(temp2.neh.astype('float'))[0]}\",c='y',ls=\"--\" )\n",
    "\n",
    "\n",
    "plt.xlabel('pxt')\n",
    "# plt.xlim([0,.5])\n",
    "plt.legend()"
   ]
  },
  {
   "cell_type": "code",
   "execution_count": 286,
   "id": "65457d94",
   "metadata": {},
   "outputs": [
    {
     "data": {
      "text/plain": [
       "<matplotlib.collections.PathCollection at 0x1db8290f280>"
      ]
     },
     "execution_count": 286,
     "metadata": {},
     "output_type": "execute_result"
    },
    {
     "data": {
      "image/png": "[encoded data removed]",
      "text/plain": [
       "<Figure size 432x288 with 1 Axes>"
      ]
     },
     "metadata": {
      "needs_background": "light"
     },
     "output_type": "display_data"
    }
   ],
   "source": [
    "\n",
    "plt.scatter(temp2.cpxt.astype('float'),temp2.b.astype('float'),alpha=0.75,label=\"b\" +f\" NEH: {list(temp.neh.astype('float'))[0]}\",c='k' )\n",
    "plt.scatter(temp2.cpxt.astype('float'),temp2.b1.astype('float'),alpha=0.75,label=\"b1\" +f\" NEH: {list(temp.neh.astype('float'))[0]}\",c='m',ls=\"--\" )\n",
    "plt.scatter(temp2.cpxt.astype('float'),temp2.b2.astype('float'),alpha=0.75,label=\"b2\" +f\" NEH: {list(temp.neh.astype('float'))[0]}\",c='r',ls=\"--\" )\n",
    "plt.scatter(temp2.cpxt.astype('float'),temp2.b3.astype('float'),alpha=0.75,label=\"b3\" +f\" NEH: {list(temp.neh.astype('float'))[0]}\",c='y',ls=\"--\" )\n",
    "\n",
    "plt.scatter(temp.cpxt.astype('float'),temp.b.astype('float'),alpha=0.75,label=\"b\" +f\" NEH: {list(temp.neh.astype('float'))[0]}\",c='g' )\n",
    "plt.scatter(temp.cpxt.astype('float'),temp.b1.astype('float'),alpha=0.75,label=\"b1\" +f\" NEH: {list(temp.neh.astype('float'))[0]}\",c='m',ls=\"--\" )\n",
    "plt.scatter(temp.cpxt.astype('float'),temp.b2.astype('float'),alpha=0.5,label=\"b2\" +f\" NEH: {list(temp.neh.astype('float'))[0]}\",c='r',ls=\"--\" )\n",
    "plt.scatter(temp.cpxt.astype('float'),temp.b3.astype('float'),alpha=0.75,label=\"b3\" +f\" NEH: {list(temp.neh.astype('float'))[0]}\",c='y',ls=\"--\" )\n"
   ]
  },
  {
   "cell_type": "code",
   "execution_count": null,
   "id": "816db6e5",
   "metadata": {},
   "outputs": [],
   "source": []
  },
  {
   "cell_type": "code",
   "execution_count": 287,
   "id": "c1d525f5",
   "metadata": {
    "scrolled": true
   },
   "outputs": [],
   "source": [
    "# [x for x in abs((temp2.b2)/(temp2.b1+temp2.b3)) ]"
   ]
  },
  {
   "cell_type": "code",
   "execution_count": 288,
   "id": "60ee1fcf",
   "metadata": {},
   "outputs": [],
   "source": [
    "# data2['btest']=[(int)(100*x) for x in abs((data2.b2)/(data2.b1+data2.b3)) ]"
   ]
  },
  {
   "cell_type": "code",
   "execution_count": null,
   "id": "790cba56",
   "metadata": {},
   "outputs": [],
   "source": []
  },
  {
   "cell_type": "code",
   "execution_count": 289,
   "id": "abe85b99",
   "metadata": {},
   "outputs": [
    {
     "data": {
      "text/plain": [
       "<matplotlib.legend.Legend at 0x1db58796250>"
      ]
     },
     "execution_count": 289,
     "metadata": {},
     "output_type": "execute_result"
    },
    {
     "data": {
      "image/png": "[encoded data removed]",
      "text/plain": [
       "<Figure size 432x288 with 1 Axes>"
      ]
     },
     "metadata": {
      "needs_background": "light"
     },
     "output_type": "display_data"
    }
   ],
   "source": [
    "plt.scatter(temp2.cpxt.astype('float'),temp2.a.astype('float'),alpha=0.75,label=\"a\" +f\" NEH: {list(temp2.neh.astype('float'))[0]}\",c='k' )\n",
    "plt.scatter(temp2.cpxt.astype('float'),temp2.a1.astype('float'),alpha=0.75,label=\"a1\" +f\" NEH: {list(temp2.neh.astype('float'))[0]}\",c='m',ls=\"--\" )\n",
    "plt.scatter(temp2.cpxt.astype('float'),temp2.a2.astype('float'),alpha=0.75,label=\"a2\" +f\" NEH: {list(temp2.neh.astype('float'))[0]}\",c='r',ls=\"--\" )\n",
    "\n",
    "plt.xlabel('pxt')\n",
    "# plt.xlim([-5,1])\n",
    "plt.legend()"
   ]
  },
  {
   "cell_type": "code",
   "execution_count": null,
   "id": "8a9ba19e",
   "metadata": {},
   "outputs": [],
   "source": []
  },
  {
   "cell_type": "code",
   "execution_count": 290,
   "id": "219f474e",
   "metadata": {},
   "outputs": [
    {
     "data": {
      "text/html": [
       "<div>\n",
       "<style scoped>\n",
       "    .dataframe tbody tr th:only-of-type {\n",
       "        vertical-align: middle;\n",
       "    }\n",
       "\n",
       "    .dataframe tbody tr th {\n",
       "        vertical-align: top;\n",
       "    }\n",
       "\n",
       "    .dataframe thead th {\n",
       "        text-align: right;\n",
       "    }\n",
       "</style>\n",
       "<table border=\"1\" class=\"dataframe\">\n",
       "  <thead>\n",
       "    <tr style=\"text-align: right;\">\n",
       "      <th></th>\n",
       "      <th>pep</th>\n",
       "      <th>a</th>\n",
       "      <th>b</th>\n",
       "      <th>cpxt</th>\n",
       "      <th>pxt</th>\n",
       "      <th>neh</th>\n",
       "      <th>cneh</th>\n",
       "      <th>b1</th>\n",
       "      <th>b2</th>\n",
       "      <th>b3</th>\n",
       "      <th>a1</th>\n",
       "      <th>a2</th>\n",
       "      <th>delta1</th>\n",
       "      <th>delta2</th>\n",
       "      <th>rmse</th>\n",
       "    </tr>\n",
       "  </thead>\n",
       "  <tbody>\n",
       "    <tr>\n",
       "      <th>3100</th>\n",
       "      <td>VTEGVVDVIVYPSAADK</td>\n",
       "      <td>-0.014890</td>\n",
       "      <td>0.000016</td>\n",
       "      <td>0.0011</td>\n",
       "      <td>0.0011</td>\n",
       "      <td>27</td>\n",
       "      <td>27.0</td>\n",
       "      <td>-0.029596</td>\n",
       "      <td>0.030059</td>\n",
       "      <td>-0.000447</td>\n",
       "      <td>-0.000463</td>\n",
       "      <td>-0.014427</td>\n",
       "      <td>0.029742</td>\n",
       "      <td>0.029610</td>\n",
       "      <td>1.194966e-14</td>\n",
       "    </tr>\n",
       "    <tr>\n",
       "      <th>3101</th>\n",
       "      <td>VTEGVVDVIVYPSAADK</td>\n",
       "      <td>-0.028483</td>\n",
       "      <td>0.000060</td>\n",
       "      <td>0.0021</td>\n",
       "      <td>0.0021</td>\n",
       "      <td>27</td>\n",
       "      <td>27.0</td>\n",
       "      <td>-0.057300</td>\n",
       "      <td>0.058982</td>\n",
       "      <td>-0.001623</td>\n",
       "      <td>-0.001683</td>\n",
       "      <td>-0.026799</td>\n",
       "      <td>0.056837</td>\n",
       "      <td>0.057326</td>\n",
       "      <td>1.428393e-14</td>\n",
       "    </tr>\n",
       "    <tr>\n",
       "      <th>3102</th>\n",
       "      <td>VTEGVVDVIVYPSAADK</td>\n",
       "      <td>-0.042130</td>\n",
       "      <td>0.000131</td>\n",
       "      <td>0.0031</td>\n",
       "      <td>0.0031</td>\n",
       "      <td>27</td>\n",
       "      <td>27.0</td>\n",
       "      <td>-0.085768</td>\n",
       "      <td>0.089436</td>\n",
       "      <td>-0.003537</td>\n",
       "      <td>-0.003669</td>\n",
       "      <td>-0.038461</td>\n",
       "      <td>0.083986</td>\n",
       "      <td>0.085807</td>\n",
       "      <td>1.009384e-14</td>\n",
       "    </tr>\n",
       "    <tr>\n",
       "      <th>3103</th>\n",
       "      <td>VTEGVVDVIVYPSAADK</td>\n",
       "      <td>-0.055833</td>\n",
       "      <td>0.000229</td>\n",
       "      <td>0.0041</td>\n",
       "      <td>0.0041</td>\n",
       "      <td>27</td>\n",
       "      <td>27.0</td>\n",
       "      <td>-0.115005</td>\n",
       "      <td>0.121428</td>\n",
       "      <td>-0.006194</td>\n",
       "      <td>-0.006426</td>\n",
       "      <td>-0.049407</td>\n",
       "      <td>0.111190</td>\n",
       "      <td>0.115057</td>\n",
       "      <td>7.880889e-15</td>\n",
       "    </tr>\n",
       "    <tr>\n",
       "      <th>3104</th>\n",
       "      <td>VTEGVVDVIVYPSAADK</td>\n",
       "      <td>-0.069590</td>\n",
       "      <td>0.000355</td>\n",
       "      <td>0.0051</td>\n",
       "      <td>0.0051</td>\n",
       "      <td>27</td>\n",
       "      <td>27.0</td>\n",
       "      <td>-0.145016</td>\n",
       "      <td>0.154969</td>\n",
       "      <td>-0.009598</td>\n",
       "      <td>-0.009958</td>\n",
       "      <td>-0.059633</td>\n",
       "      <td>0.138449</td>\n",
       "      <td>0.145081</td>\n",
       "      <td>1.497382e-14</td>\n",
       "    </tr>\n",
       "  </tbody>\n",
       "</table>\n",
       "</div>"
      ],
      "text/plain": [
       "                    pep         a         b    cpxt     pxt  neh  cneh  \\\n",
       "3100  VTEGVVDVIVYPSAADK -0.014890  0.000016  0.0011  0.0011   27  27.0   \n",
       "3101  VTEGVVDVIVYPSAADK -0.028483  0.000060  0.0021  0.0021   27  27.0   \n",
       "3102  VTEGVVDVIVYPSAADK -0.042130  0.000131  0.0031  0.0031   27  27.0   \n",
       "3103  VTEGVVDVIVYPSAADK -0.055833  0.000229  0.0041  0.0041   27  27.0   \n",
       "3104  VTEGVVDVIVYPSAADK -0.069590  0.000355  0.0051  0.0051   27  27.0   \n",
       "\n",
       "            b1        b2        b3        a1        a2    delta1    delta2  \\\n",
       "3100 -0.029596  0.030059 -0.000447 -0.000463 -0.014427  0.029742  0.029610   \n",
       "3101 -0.057300  0.058982 -0.001623 -0.001683 -0.026799  0.056837  0.057326   \n",
       "3102 -0.085768  0.089436 -0.003537 -0.003669 -0.038461  0.083986  0.085807   \n",
       "3103 -0.115005  0.121428 -0.006194 -0.006426 -0.049407  0.111190  0.115057   \n",
       "3104 -0.145016  0.154969 -0.009598 -0.009958 -0.059633  0.138449  0.145081   \n",
       "\n",
       "              rmse  \n",
       "3100  1.194966e-14  \n",
       "3101  1.428393e-14  \n",
       "3102  1.009384e-14  \n",
       "3103  7.880889e-15  \n",
       "3104  1.497382e-14  "
      ]
     },
     "execution_count": 290,
     "metadata": {},
     "output_type": "execute_result"
    }
   ],
   "source": [
    "temp.head(5)"
   ]
  },
  {
   "cell_type": "code",
   "execution_count": 291,
   "id": "66bbac39",
   "metadata": {},
   "outputs": [
    {
     "data": {
      "text/html": [
       "<div>\n",
       "<style scoped>\n",
       "    .dataframe tbody tr th:only-of-type {\n",
       "        vertical-align: middle;\n",
       "    }\n",
       "\n",
       "    .dataframe tbody tr th {\n",
       "        vertical-align: top;\n",
       "    }\n",
       "\n",
       "    .dataframe thead th {\n",
       "        text-align: right;\n",
       "    }\n",
       "</style>\n",
       "<table border=\"1\" class=\"dataframe\">\n",
       "  <thead>\n",
       "    <tr style=\"text-align: right;\">\n",
       "      <th></th>\n",
       "      <th>pep</th>\n",
       "      <th>a</th>\n",
       "      <th>b</th>\n",
       "      <th>cpxt</th>\n",
       "      <th>pxt</th>\n",
       "      <th>neh</th>\n",
       "      <th>cneh</th>\n",
       "      <th>b1</th>\n",
       "      <th>b2</th>\n",
       "      <th>b3</th>\n",
       "      <th>a1</th>\n",
       "      <th>a2</th>\n",
       "      <th>delta1</th>\n",
       "      <th>delta2</th>\n",
       "      <th>rmse</th>\n",
       "    </tr>\n",
       "  </thead>\n",
       "  <tbody>\n",
       "    <tr>\n",
       "      <th>5200</th>\n",
       "      <td>ISVAGVTSGNVGYLAH</td>\n",
       "      <td>0.009161</td>\n",
       "      <td>-0.013852</td>\n",
       "      <td>1.512010</td>\n",
       "      <td>0.0011</td>\n",
       "      <td>28</td>\n",
       "      <td>8.519199</td>\n",
       "      <td>-0.021934</td>\n",
       "      <td>0.008127</td>\n",
       "      <td>-0.000045</td>\n",
       "      <td>0.013809</td>\n",
       "      <td>-0.004647</td>\n",
       "      <td>0.009384</td>\n",
       "      <td>0.021940</td>\n",
       "      <td>0.321763</td>\n",
       "    </tr>\n",
       "    <tr>\n",
       "      <th>5201</th>\n",
       "      <td>ISVAGVTSGNVGYLAH</td>\n",
       "      <td>-0.046746</td>\n",
       "      <td>0.009355</td>\n",
       "      <td>0.200131</td>\n",
       "      <td>0.0021</td>\n",
       "      <td>28</td>\n",
       "      <td>35.517305</td>\n",
       "      <td>-0.057476</td>\n",
       "      <td>0.069636</td>\n",
       "      <td>-0.002804</td>\n",
       "      <td>-0.012163</td>\n",
       "      <td>-0.034583</td>\n",
       "      <td>0.074767</td>\n",
       "      <td>0.057505</td>\n",
       "      <td>0.309867</td>\n",
       "    </tr>\n",
       "    <tr>\n",
       "      <th>5202</th>\n",
       "      <td>ISVAGVTSGNVGYLAH</td>\n",
       "      <td>-0.054224</td>\n",
       "      <td>0.003332</td>\n",
       "      <td>0.061450</td>\n",
       "      <td>0.0031</td>\n",
       "      <td>28</td>\n",
       "      <td>32.715800</td>\n",
       "      <td>-0.089007</td>\n",
       "      <td>0.097529</td>\n",
       "      <td>-0.005190</td>\n",
       "      <td>-0.008525</td>\n",
       "      <td>-0.045699</td>\n",
       "      <td>0.101766</td>\n",
       "      <td>0.089048</td>\n",
       "      <td>0.204273</td>\n",
       "    </tr>\n",
       "    <tr>\n",
       "      <th>5203</th>\n",
       "      <td>ISVAGVTSGNVGYLAH</td>\n",
       "      <td>-0.093060</td>\n",
       "      <td>0.038921</td>\n",
       "      <td>0.418233</td>\n",
       "      <td>0.0041</td>\n",
       "      <td>28</td>\n",
       "      <td>26.285977</td>\n",
       "      <td>-0.059653</td>\n",
       "      <td>0.104445</td>\n",
       "      <td>-0.005871</td>\n",
       "      <td>-0.044801</td>\n",
       "      <td>-0.048259</td>\n",
       "      <td>0.108250</td>\n",
       "      <td>0.059691</td>\n",
       "      <td>0.314998</td>\n",
       "    </tr>\n",
       "    <tr>\n",
       "      <th>5204</th>\n",
       "      <td>ISVAGVTSGNVGYLAH</td>\n",
       "      <td>-0.052504</td>\n",
       "      <td>-0.008191</td>\n",
       "      <td>-0.156004</td>\n",
       "      <td>0.0051</td>\n",
       "      <td>28</td>\n",
       "      <td>23.670025</td>\n",
       "      <td>-0.119511</td>\n",
       "      <td>0.118699</td>\n",
       "      <td>-0.007379</td>\n",
       "      <td>0.000810</td>\n",
       "      <td>-0.053314</td>\n",
       "      <td>0.121374</td>\n",
       "      <td>0.119562</td>\n",
       "      <td>69.579998</td>\n",
       "    </tr>\n",
       "  </tbody>\n",
       "</table>\n",
       "</div>"
      ],
      "text/plain": [
       "                   pep         a         b      cpxt     pxt  neh       cneh  \\\n",
       "5200  ISVAGVTSGNVGYLAH  0.009161 -0.013852  1.512010  0.0011   28   8.519199   \n",
       "5201  ISVAGVTSGNVGYLAH -0.046746  0.009355  0.200131  0.0021   28  35.517305   \n",
       "5202  ISVAGVTSGNVGYLAH -0.054224  0.003332  0.061450  0.0031   28  32.715800   \n",
       "5203  ISVAGVTSGNVGYLAH -0.093060  0.038921  0.418233  0.0041   28  26.285977   \n",
       "5204  ISVAGVTSGNVGYLAH -0.052504 -0.008191 -0.156004  0.0051   28  23.670025   \n",
       "\n",
       "            b1        b2        b3        a1        a2    delta1    delta2  \\\n",
       "5200 -0.021934  0.008127 -0.000045  0.013809 -0.004647  0.009384  0.021940   \n",
       "5201 -0.057476  0.069636 -0.002804 -0.012163 -0.034583  0.074767  0.057505   \n",
       "5202 -0.089007  0.097529 -0.005190 -0.008525 -0.045699  0.101766  0.089048   \n",
       "5203 -0.059653  0.104445 -0.005871 -0.044801 -0.048259  0.108250  0.059691   \n",
       "5204 -0.119511  0.118699 -0.007379  0.000810 -0.053314  0.121374  0.119562   \n",
       "\n",
       "           rmse  \n",
       "5200   0.321763  \n",
       "5201   0.309867  \n",
       "5202   0.204273  \n",
       "5203   0.314998  \n",
       "5204  69.579998  "
      ]
     },
     "execution_count": 291,
     "metadata": {},
     "output_type": "execute_result"
    }
   ],
   "source": [
    "temp2.head(5)"
   ]
  },
  {
   "cell_type": "code",
   "execution_count": 292,
   "id": "37357ae7",
   "metadata": {},
   "outputs": [
    {
     "data": {
      "text/plain": [
       "1e-05"
      ]
     },
     "execution_count": 292,
     "metadata": {},
     "output_type": "execute_result"
    }
   ],
   "source": [
    "0.00001"
   ]
  },
  {
   "cell_type": "code",
   "execution_count": 293,
   "id": "a4b059e3",
   "metadata": {},
   "outputs": [
    {
     "data": {
      "text/plain": [
       "Index(['pep', 'a', 'b', 'cpxt', 'pxt', 'neh', 'cneh', 'b1', 'b2', 'b3', 'a1',\n",
       "       'a2', 'delta1', 'delta2', 'rmse'],\n",
       "      dtype='object')"
      ]
     },
     "execution_count": 293,
     "metadata": {},
     "output_type": "execute_result"
    }
   ],
   "source": [
    "data2.columns"
   ]
  },
  {
   "cell_type": "code",
   "execution_count": 321,
   "id": "4f3a25f8",
   "metadata": {},
   "outputs": [
    {
     "data": {
      "text/plain": [
       "Text(0, 0.5, '100*(pxt- c_pxt)/ pxt')"
      ]
     },
     "execution_count": 321,
     "metadata": {},
     "output_type": "execute_result"
    },
    {
     "data": {
      "image/png": "[encoded data removed]",
      "text/plain": [
       "<Figure size 432x288 with 1 Axes>"
      ]
     },
     "metadata": {
      "needs_background": "light"
     },
     "output_type": "display_data"
    }
   ],
   "source": [
    "temp3=data2[(data2.rmse < 1e-03)& (data2.b >0)& (data2.a <0) & (data2.cpxt < 0.1)& (data2.cpxt >= 0)][['pep','b','a' , 'cpxt', 'pxt', 'neh', 'cneh', 'delta1', 'delta2', 'rmse']]\n",
    "# temp3=data[(data.rmse < 1)& (data.b >0)& (data.a <0) & (data.cpxt < 0.1)][['pep','b','a' , 'cpxt', 'pxt', 'neh', 'cneh', 'delta1', 'delta2', 'rmse']]\n",
    "\n",
    "plt.scatter(temp3.rmse,100*(temp3.pxt-temp3.cpxt)/temp3.pxt,c='k',alpha=0.5)\n",
    "plt.xlabel('rmse')\n",
    "plt.ylabel('100*(pxt- c_pxt)/ pxt')\n",
    "# temp3"
   ]
  },
  {
   "cell_type": "code",
   "execution_count": 322,
   "id": "64d4ce87",
   "metadata": {},
   "outputs": [],
   "source": [
    "# temp3=data2[(data2.rmse < 1)]#& (data2.b >0)& (data2.a <0) & (data2.cpxt < 0.1)][['pep','b','a' , 'cpxt', 'pxt', 'neh', 'cneh', 'delta1', 'delta2', 'rmse']]\n",
    "# # temp3=data[(data.rmse < 1)]#& (data.b >0)& (data.a <0) & (data.cpxt < 0.1)][['pep','b','a' , 'cpxt', 'pxt', 'neh', 'cneh', 'delta1', 'delta2', 'rmse']]\n",
    "\n",
    "# plt.scatter(temp3.rmse,100*(temp3.pxt-temp3.cpxt)/temp3.pxt,c='k',alpha=0.5)\n",
    "# plt.hlines(y=0,xmin=0,xmax=2.5,color='r',ls='-.')\n",
    "# plt.xlabel('rmse')\n",
    "# plt.ylabel('100*(pxt- c_pxt)/ pxt')\n",
    "# # plt.ylim(1000,-100)\n",
    "# # temp3\n",
    "# # temp3[temp3.rmse>0.25]"
   ]
  },
  {
   "cell_type": "code",
   "execution_count": null,
   "id": "afaeb5a4",
   "metadata": {},
   "outputs": [],
   "source": []
  },
  {
   "cell_type": "code",
   "execution_count": null,
   "id": "f18f362c",
   "metadata": {},
   "outputs": [],
   "source": []
  },
  {
   "cell_type": "code",
   "execution_count": 323,
   "id": "b5df925b",
   "metadata": {},
   "outputs": [
    {
     "data": {
      "text/plain": [
       "Text(0, 0.5, 'c_pxt')"
      ]
     },
     "execution_count": 323,
     "metadata": {},
     "output_type": "execute_result"
    },
    {
     "data": {
      "image/png": "[encoded data removed]",
      "text/plain": [
       "<Figure size 432x288 with 1 Axes>"
      ]
     },
     "metadata": {
      "needs_background": "light"
     },
     "output_type": "display_data"
    }
   ],
   "source": [
    "plt.scatter(temp3.pxt,temp3.cpxt,c='k',alpha=0.5)\n",
    "plt.plot(temp3.pxt,temp3.pxt,c='r',ls=\"-.\")\n",
    "plt.xlabel(\"pxt\")\n",
    "plt.ylabel(\"c_pxt\")"
   ]
  },
  {
   "cell_type": "code",
   "execution_count": 324,
   "id": "c0a2a096",
   "metadata": {},
   "outputs": [
    {
     "data": {
      "text/plain": [
       "<function matplotlib.pyplot.show(close=None, block=None)>"
      ]
     },
     "execution_count": 324,
     "metadata": {},
     "output_type": "execute_result"
    },
    {
     "data": {
      "image/png": "[encoded data removed]",
      "text/plain": [
       "<Figure size 432x288 with 1 Axes>"
      ]
     },
     "metadata": {
      "needs_background": "light"
     },
     "output_type": "display_data"
    }
   ],
   "source": [
    "plt.hist(100*(temp3.pxt-temp3.cpxt)/temp3.pxt,bins=20)\n",
    "plt.show"
   ]
  },
  {
   "cell_type": "code",
   "execution_count": null,
   "id": "4a1aabc4",
   "metadata": {},
   "outputs": [],
   "source": []
  },
  {
   "cell_type": "code",
   "execution_count": null,
   "id": "9051c439",
   "metadata": {},
   "outputs": [],
   "source": []
  }
 ],
 "metadata": {
  "kernelspec": {
   "display_name": "Python 3 (ipykernel)",
   "language": "python",
   "name": "python3"
  },
  "language_info": {
   "codemirror_mode": {
    "name": "ipython",
    "version": 3
   },
   "file_extension": ".py",
   "mimetype": "text/x-python",
   "name": "python",
   "nbconvert_exporter": "python",
   "pygments_lexer": "ipython3",
   "version": "3.9.11"
  }
 },
 "nbformat": 4,
 "nbformat_minor": 5
}
