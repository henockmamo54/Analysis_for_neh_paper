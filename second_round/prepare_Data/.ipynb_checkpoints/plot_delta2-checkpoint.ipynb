{
 "cells": [
  {
   "cell_type": "code",
   "execution_count": 1,
   "id": "30c0ce1d",
   "metadata": {},
   "outputs": [],
   "source": [
    "import os\n",
    "import math\n",
    "import random\n",
    "import warnings\n",
    "import numpy as np\n",
    "import pandas as pd \n",
    "from sklearn import metrics\n",
    "from matplotlib import pyplot as plt\n",
    "\n",
    "warnings.filterwarnings(\"ignore\")"
   ]
  },
  {
   "cell_type": "code",
   "execution_count": 2,
   "id": "0afabda6",
   "metadata": {},
   "outputs": [
    {
     "name": "stdout",
     "output_type": "stream",
     "text": [
      "(169271, 28)\n"
     ]
    }
   ],
   "source": [
    "data=pd.read_csv(r\"C:\\Workplace\\Python\\AnalysisForThePaper\\NEH\\second_round\\D2O_NEH\\sim_all_no_noise.csv\")\n",
    "data.columns=['pep','a','b','cpxt','pxt','neh','cneh','b1','b2','b3','a1','a2','delta1','delta2','rmse',\n",
    "             'a20','a21','a22','a23',\n",
    "             'b20','b21','b22','b23','b24','b25','i0','i1','i2']\n",
    "data=data[data.pxt<=0.06]\n",
    "data=data.drop_duplicates()\n",
    "data=data.reset_index(drop=True)\n",
    "print(data.shape)"
   ]
  },
  {
   "cell_type": "code",
   "execution_count": 3,
   "id": "8838d077",
   "metadata": {},
   "outputs": [],
   "source": [
    "def new_pxt(delta2_x,delta1_x,i1_x,i0_x):\n",
    "    return 1 +((delta1_x*0.5)/( (delta2_x) - (delta1_x*i1_x/i0_x) + (0.5*delta1_x*delta1_x) - 0.5*delta1_x))"
   ]
  },
  {
   "cell_type": "code",
   "execution_count": 4,
   "id": "fc650c6e",
   "metadata": {},
   "outputs": [
    {
     "name": "stdout",
     "output_type": "stream",
     "text": [
      "(169271, 53)\n",
      "(1203600, 5)\n"
     ]
    }
   ],
   "source": [
    "all_res=[]\n",
    "temp_res=[]\n",
    "temp_pxt=[]\n",
    "temp_apxt=[]\n",
    "temp_neh=[]\n",
    "temp_pep=[]\n",
    "temp_merged_all=data.merge(data,on=['pep','pxt','neh'])\n",
    "print(temp_merged_all.shape)\n",
    "for k in range(59*200):#(temp_merged_all.shape[0]):\n",
    "    temp_merged=temp_merged_all.loc[k:k,:]\n",
    "    temp_merged=temp_merged.reset_index(drop=True)\n",
    "    \n",
    "    \n",
    "    index=0\n",
    "    pxt        =temp_merged.pxt[index]\n",
    "    delta2_x   =temp_merged.delta2_x[index]\n",
    "    delta1_x   =temp_merged.delta1_x[index]\n",
    "    i1_x       =temp_merged.i1_x    [index]\n",
    "    i0_x       =temp_merged.i0_x    [index]\n",
    "    i2_x       =temp_merged.i2_x    [index]\n",
    "    neh        =temp_merged.neh     [index]\n",
    "    pep        =temp_merged.pep     [index]\n",
    "\n",
    "    x=delta2_x\n",
    "    res=[]\n",
    "    xs=[]\n",
    "    ccpxt=new_pxt(delta2_x,delta1_x,i1_x,i0_x) \n",
    "\n",
    "    for i in range(0,51):        \n",
    "        xs.append(x+i*x/1000)        \n",
    "        temp_res.append( (x - (x+i*x/1000))/x)\n",
    "        temp_pxt.append( (new_pxt(xs[-1],delta1_x,i1_x,i0_x) -ccpxt)/ccpxt)\n",
    "        temp_apxt.append(ccpxt)\n",
    "        temp_neh.append(neh)\n",
    "        temp_pep.append(pep)\n",
    "\n",
    "        xs.append(x-i*x/1000)\n",
    "        temp_res.append( (x - (x -i*x/1000))/x)\n",
    "        temp_pxt.append( (new_pxt(xs[-1],delta1_x,i1_x,i0_x) -ccpxt)/ccpxt)\n",
    "        temp_apxt.append(ccpxt)\n",
    "        temp_neh.append(neh)\n",
    "        temp_pep.append(pep)\n",
    "    \n",
    "\n",
    "df=pd.DataFrame() \n",
    "df[\"delta_2_err\"]=[round(x,4) for x in temp_res]\n",
    "df[\"pxt_err\"]=temp_pxt\n",
    "df[\"pxt\"]=[round(x,3) for x in temp_apxt]\n",
    "df[\"neh\"]=temp_neh\n",
    "df[\"pep\"]=temp_pep\n",
    "print(df.shape)\n",
    "\n"
   ]
  },
  {
   "cell_type": "code",
   "execution_count": 6,
   "id": "05c3a3d4",
   "metadata": {},
   "outputs": [
    {
     "data": {
      "image/png": "[encoded data removed]",
      "text/plain": [
       "<Figure size 792x576 with 1 Axes>"
      ]
     },
     "metadata": {
      "needs_background": "light"
     },
     "output_type": "display_data"
    }
   ],
   "source": [
    "plot_data=df.query('abs(delta_2_err) in [0,0.01,0.03,0.05] and pxt in [0.001,0.005,0.01,0.020,0.030,0.040,0.050]').drop_duplicates()\n",
    "plot_data.delta_2_err=abs(plot_data.delta_2_err)\n",
    "plot_data.pxt_err=abs(plot_data.pxt_err)\n",
    "plot_data=plot_data[['delta_2_err','pxt_err','pxt']].groupby(by=[\"pxt\",\"delta_2_err\"]).agg({'pxt_err':['mean','std']}).reset_index()\n",
    "plot_data.columns=['pxt','delta_2_err','avg','sd']\n",
    "\n",
    "plt.rc('font', size=15) \n",
    "plt.figure(figsize=(11,8))\n",
    "delta_2_errs=[0,0.01,0.03,0.05]\n",
    "for i in range(len(delta_2_errs)) :\n",
    "    delta_2_err=delta_2_errs[i]\n",
    "    y=[]\n",
    "    x=[]\n",
    "    er=[]\n",
    "    for pxt in [0.01,0.020,0.030,0.040,0.050]:\n",
    "        temp=plot_data[(plot_data.pxt==pxt) &(plot_data.delta_2_err==delta_2_err)].reset_index(drop=True)        \n",
    "        y.append(float(temp.avg))\n",
    "        x.append(pxt + i*5E-4)\n",
    "        er.append(float(temp.sd))   \n",
    "                \n",
    "    plt.errorbar(x, y, er, linestyle='None', marker='o',label=r'∆A$_{20}$ '+f\"error = {100*delta_2_err}%\")\n",
    "\n",
    "plt.title(r'∆A$_{20}$')\n",
    "plt.ylabel(r'$\\dfrac { {p_{x}(t)_{computed}} -{ p_{x}(t) } } { p_{x}(t)}$')\n",
    "plt.xlabel(r'p$_{x}$(t)')\n",
    "plt.legend()\n",
    "plt.savefig(\"delta_A20.jpeg\",dpi=900,bbox_inches='tight')"
   ]
  },
  {
   "cell_type": "code",
   "execution_count": null,
   "id": "f41fadaa",
   "metadata": {},
   "outputs": [],
   "source": []
  },
  {
   "cell_type": "code",
   "execution_count": null,
   "id": "be078ce6",
   "metadata": {},
   "outputs": [],
   "source": []
  },
  {
   "cell_type": "code",
   "execution_count": null,
   "id": "3aaa98d4",
   "metadata": {},
   "outputs": [],
   "source": []
  }
 ],
 "metadata": {
  "kernelspec": {
   "display_name": "Python 3 (ipykernel)",
   "language": "python",
   "name": "python3"
  },
  "language_info": {
   "codemirror_mode": {
    "name": "ipython",
    "version": 3
   },
   "file_extension": ".py",
   "mimetype": "text/x-python",
   "name": "python",
   "nbconvert_exporter": "python",
   "pygments_lexer": "ipython3",
   "version": "3.9.11"
  }
 },
 "nbformat": 4,
 "nbformat_minor": 5
}
