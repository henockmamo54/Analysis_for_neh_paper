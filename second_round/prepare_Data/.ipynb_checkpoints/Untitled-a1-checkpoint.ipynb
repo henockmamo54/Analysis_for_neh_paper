{
 "cells": [
  {
   "cell_type": "code",
   "execution_count": 1,
   "id": "0e0f6748",
   "metadata": {},
   "outputs": [],
   "source": [
    "import os\n",
    "import math\n",
    "import random\n",
    "import warnings\n",
    "import numpy as np\n",
    "import pandas as pd \n",
    "from sklearn import metrics\n",
    "from matplotlib import pyplot as plt\n",
    "\n",
    "warnings.filterwarnings(\"ignore\")"
   ]
  },
  {
   "cell_type": "code",
   "execution_count": 2,
   "id": "c0783817",
   "metadata": {},
   "outputs": [
    {
     "name": "stdout",
     "output_type": "stream",
     "text": [
      "(169271, 28)\n"
     ]
    }
   ],
   "source": [
    "# data=pd.read_csv(r\"C:\\Workplace\\Python\\AnalysisForThePaper\\NEH\\second_round\\D2O_NEH\\res_theo_exp1.csv\")\n",
    "data=pd.read_csv(r\"C:\\Workplace\\Python\\AnalysisForThePaper\\NEH\\second_round\\D2O_NEH\\sim_all_no_noise.csv\")\n",
    "data.columns=['pep','a','b','cpxt','pxt','neh','cneh','b1','b2','b3','a1','a2','delta1','delta2','rmse',\n",
    "             'a20','a21','a22','a23',\n",
    "             'b20','b21','b22','b23','b24','b25','i0','i1','i2']\n",
    "data=data[data.pxt<=0.06]\n",
    "data=data.drop_duplicates()\n",
    "print(data.shape)"
   ]
  },
  {
   "cell_type": "code",
   "execution_count": 3,
   "id": "9b2932ee",
   "metadata": {},
   "outputs": [
    {
     "name": "stdout",
     "output_type": "stream",
     "text": [
      "(169271, 28)\n"
     ]
    }
   ],
   "source": [
    "data2=pd.read_csv(r\"C:\\Workplace\\Python\\AnalysisForThePaper\\NEH\\second_round\\D2O_NEH\\sim_i1_noise.csv\")\n",
    "data2.columns=['pep','a','b','cpxt','pxt','neh','cneh','b1','b2','b3','a1','a2','delta1','delta2','rmse',\n",
    "             'a20','a21','a22','a23',\n",
    "             'b20','b21','b22','b23','b24','b25','i0','i1','i2']\n",
    "data2=data2[data2.pxt<=0.06]\n",
    "data2=data2.drop_duplicates()\n",
    "print(data2.shape)"
   ]
  },
  {
   "cell_type": "code",
   "execution_count": 4,
   "id": "7d3368fa",
   "metadata": {},
   "outputs": [
    {
     "name": "stdout",
     "output_type": "stream",
     "text": [
      "(169271, 14)\n"
     ]
    }
   ],
   "source": [
    "data=data[['pep','cpxt','pxt','delta1','delta2','i0','i1','i2']]\n",
    "data2=data2[['pep','cpxt','pxt','delta1','delta2','i0','i1','i2']]\n",
    "\n",
    "temp_merged=data.merge(data2,on=['pep','pxt'])\n",
    "print(temp_merged.shape)\n"
   ]
  },
  {
   "cell_type": "code",
   "execution_count": 9,
   "id": "b7de5557",
   "metadata": {},
   "outputs": [],
   "source": [
    "# def new_pxt(pxt,delta2_x,delta1_x,i1_x,i0_x,i2_x):\n",
    "#     return 1 +(0.5/( (delta2_x/delta1_x) - (i1_x/i0_x) + (0.5*delta1_x) - 0.5))\n",
    "def new_pxt(delta2_x,delta1_x,i1_x,i0_x):\n",
    "    return 1 +(0.5/( (delta2_x/delta1_x) - (i1_x/i0_x) + (0.5*delta1_x) - 0.5))"
   ]
  },
  {
   "cell_type": "code",
   "execution_count": 10,
   "id": "f47931f9",
   "metadata": {},
   "outputs": [
    {
     "data": {
      "text/html": [
       "<div>\n",
       "<style scoped>\n",
       "    .dataframe tbody tr th:only-of-type {\n",
       "        vertical-align: middle;\n",
       "    }\n",
       "\n",
       "    .dataframe tbody tr th {\n",
       "        vertical-align: top;\n",
       "    }\n",
       "\n",
       "    .dataframe thead th {\n",
       "        text-align: right;\n",
       "    }\n",
       "</style>\n",
       "<table border=\"1\" class=\"dataframe\">\n",
       "  <thead>\n",
       "    <tr style=\"text-align: right;\">\n",
       "      <th></th>\n",
       "      <th>pep</th>\n",
       "      <th>cpxt_x</th>\n",
       "      <th>pxt</th>\n",
       "      <th>delta1_x</th>\n",
       "      <th>delta2_x</th>\n",
       "      <th>i0_x</th>\n",
       "      <th>i1_x</th>\n",
       "      <th>i2_x</th>\n",
       "      <th>cpxt_y</th>\n",
       "      <th>delta1_y</th>\n",
       "      <th>delta2_y</th>\n",
       "      <th>i0_y</th>\n",
       "      <th>i1_y</th>\n",
       "      <th>i2_y</th>\n",
       "    </tr>\n",
       "  </thead>\n",
       "  <tbody>\n",
       "    <tr>\n",
       "      <th>0</th>\n",
       "      <td>DSTLIMQLLR</td>\n",
       "      <td>0.0591</td>\n",
       "      <td>0.0591</td>\n",
       "      <td>1.005318</td>\n",
       "      <td>1.128255</td>\n",
       "      <td>0.183086</td>\n",
       "      <td>0.303286</td>\n",
       "      <td>0.258738</td>\n",
       "      <td>-0.019583</td>\n",
       "      <td>0.980377</td>\n",
       "      <td>1.128255</td>\n",
       "      <td>0.183086</td>\n",
       "      <td>0.298719</td>\n",
       "      <td>0.258738</td>\n",
       "    </tr>\n",
       "  </tbody>\n",
       "</table>\n",
       "</div>"
      ],
      "text/plain": [
       "          pep  cpxt_x     pxt  delta1_x  delta2_x      i0_x      i1_x  \\\n",
       "0  DSTLIMQLLR  0.0591  0.0591  1.005318  1.128255  0.183086  0.303286   \n",
       "\n",
       "       i2_x    cpxt_y  delta1_y  delta2_y      i0_y      i1_y      i2_y  \n",
       "0  0.258738 -0.019583  0.980377  1.128255  0.183086  0.298719  0.258738  "
      ]
     },
     "execution_count": 10,
     "metadata": {},
     "output_type": "execute_result"
    }
   ],
   "source": [
    "k=58\n",
    "temp_merged=data.merge(data2,on=['pep','pxt'])\n",
    "temp_merged=temp_merged.loc[k:k,:]\n",
    "temp_merged=temp_merged.reset_index(drop=True)\n",
    "temp_merged"
   ]
  },
  {
   "cell_type": "code",
   "execution_count": 81,
   "id": "584eed98",
   "metadata": {},
   "outputs": [
    {
     "name": "stdout",
     "output_type": "stream",
     "text": [
      "0.059393571135023304 0.0591\n"
     ]
    }
   ],
   "source": [
    "temp_res=[]\n",
    "temp_pxt=[]\n",
    "for index in range(1):#temp_merged.shape[0]):\n",
    "    pxt        =temp_merged.pxt[index]\n",
    "    delta2_x   =temp_merged.delta2_x[index]\n",
    "    delta1_x   =temp_merged.delta1_x[index]\n",
    "    i1_x       =temp_merged.i1_x    [index]\n",
    "    i0_x       =temp_merged.i0_x    [index]\n",
    "    i2_x       =temp_merged.i2_x    [index]\n",
    "    i1_0_i0_0=delta1_x-(i1_x/i0_x)\n",
    "    \n",
    "    x=i1_x\n",
    "    res=[]\n",
    "    xs=[]\n",
    "    ccpxt=new_pxt(delta2_x,delta1_x,i1_x,i0_x) \n",
    "    print(ccpxt,pxt)\n",
    "    \n",
    "#     for i in range(1,10):        \n",
    "#         xs.append(x+i*x/100)        \n",
    "#         temp_res.append(i)\n",
    "#         temp_pxt.append( 100*abs(new_pxt(xs[-1],delta1_x,i1_x,i0_x) -ccpxt)/ccpxt)          \n",
    "#         xs.append(x-i*x/100)\n",
    "#         temp_res.append(i)\n",
    "#         temp_pxt.append( 100*abs(new_pxt(xs[-1],delta1_x,i1_x,i0_x) -ccpxt)/ccpxt)  \n",
    "    for i in range(1,1000):    \n",
    "        \n",
    "        xs.append(x+i*x/1000)   \n",
    "        temp_delta1_x= xs[-1]/i0_x - i1_0_i0_0\n",
    "        \n",
    "        temp_res.append( 100*abs(x - (x+i*x/1000))/x)\n",
    "        temp_pxt.append( 100*abs(new_pxt(delta2_x,temp_delta1_x,xs[-1],i0_x) -ccpxt)/ccpxt)\n",
    "#         print(i,ccpxt,new_pxt(xs[-1],delta1_x,i1_x,i0_x),temp_pxt[-1])          \n",
    "        \n",
    "        xs.append(x-i*x/1000)\n",
    "        temp_delta1_x= xs[-1]/i0_x - i1_0_i0_0\n",
    "        \n",
    "        temp_res.append( 100*abs(x - (x -i*x/1000))/x)\n",
    "        temp_pxt.append( 100*abs(new_pxt(delta2_x,temp_delta1_x,xs[-1],i0_x) -ccpxt)/ccpxt) \n",
    "#         print(i,ccpxt,new_pxt(xs[-1],delta1_x,i1_x,i0_x),temp_pxt[-1],end=\"\\n\\n\") \n",
    "    "
   ]
  },
  {
   "cell_type": "code",
   "execution_count": 84,
   "id": "123f5acd",
   "metadata": {
    "scrolled": false
   },
   "outputs": [
    {
     "name": "stdout",
     "output_type": "stream",
     "text": [
      "1.9999999999999911\n"
     ]
    },
    {
     "data": {
      "text/html": [
       "<div>\n",
       "<style scoped>\n",
       "    .dataframe tbody tr th:only-of-type {\n",
       "        vertical-align: middle;\n",
       "    }\n",
       "\n",
       "    .dataframe tbody tr th {\n",
       "        vertical-align: top;\n",
       "    }\n",
       "\n",
       "    .dataframe thead th {\n",
       "        text-align: right;\n",
       "    }\n",
       "</style>\n",
       "<table border=\"1\" class=\"dataframe\">\n",
       "  <thead>\n",
       "    <tr style=\"text-align: right;\">\n",
       "      <th></th>\n",
       "      <th>xs</th>\n",
       "      <th>res</th>\n",
       "    </tr>\n",
       "  </thead>\n",
       "  <tbody>\n",
       "    <tr>\n",
       "      <th>28</th>\n",
       "      <td>0.554908</td>\n",
       "      <td>1.5</td>\n",
       "    </tr>\n",
       "    <tr>\n",
       "      <th>30</th>\n",
       "      <td>2.930108</td>\n",
       "      <td>1.6</td>\n",
       "    </tr>\n",
       "    <tr>\n",
       "      <th>26</th>\n",
       "      <td>4.056786</td>\n",
       "      <td>1.4</td>\n",
       "    </tr>\n",
       "    <tr>\n",
       "      <th>32</th>\n",
       "      <td>6.398387</td>\n",
       "      <td>1.7</td>\n",
       "    </tr>\n",
       "    <tr>\n",
       "      <th>24</th>\n",
       "      <td>7.575651</td>\n",
       "      <td>1.3</td>\n",
       "    </tr>\n",
       "  </tbody>\n",
       "</table>\n",
       "</div>"
      ],
      "text/plain": [
       "          xs  res\n",
       "28  0.554908  1.5\n",
       "30  2.930108  1.6\n",
       "26  4.056786  1.4\n",
       "32  6.398387  1.7\n",
       "24  7.575651  1.3"
      ]
     },
     "execution_count": 84,
     "metadata": {},
     "output_type": "execute_result"
    },
    {
     "data": {
      "image/png": "[encoded data removed]",
      "text/plain": [
       "<Figure size 432x288 with 1 Axes>"
      ]
     },
     "metadata": {
      "needs_background": "light"
     },
     "output_type": "display_data"
    }
   ],
   "source": [
    "df=pd.DataFrame([temp_pxt,temp_res]).transpose()\n",
    "df.columns=['xs','res']\n",
    "df=df[ df['xs']<20 ]\n",
    "print(df.res.max())\n",
    "plt.scatter(df['xs'],df.res,s=20)\n",
    "df.sort_values(by='xs').head()"
   ]
  },
  {
   "cell_type": "code",
   "execution_count": 85,
   "id": "572fa0cc",
   "metadata": {},
   "outputs": [],
   "source": [
    "def new_pxt(delta2_x,delta1_x,i1_x,i0_x):\n",
    "    return 1 +((delta1_x*0.5)/( (delta2_x) - (delta1_x*i1_x/i0_x) + (0.5*delta1_x*delta1_x) - 0.5*delta1_x))\n",
    "    "
   ]
  },
  {
   "cell_type": "code",
   "execution_count": 93,
   "id": "c013ebc2",
   "metadata": {
    "scrolled": false
   },
   "outputs": [],
   "source": [
    "all_res=[]\n",
    "for k in range(20,21):#59\n",
    "    k=k + 0*59\n",
    "    temp_merged=data.merge(data2,on=['pep','pxt'])\n",
    "    temp_merged=temp_merged.loc[k:k,:]\n",
    "    temp_merged=temp_merged.reset_index(drop=True)\n",
    "#     print(k,temp_merged.pep)\n",
    "    \n",
    "    temp_res=[]\n",
    "    temp_pxt=[]\n",
    "    for index in range(1):#temp_merged.shape[0]):\n",
    "        pxt        =temp_merged.pxt[index]\n",
    "        delta2_x   =temp_merged.delta2_x[index]\n",
    "        delta1_x   =temp_merged.delta1_x[index]\n",
    "        i1_x       =temp_merged.i1_x    [index]\n",
    "        i0_x       =temp_merged.i0_x    [index]\n",
    "        i2_x       =temp_merged.i2_x    [index]\n",
    "        \n",
    "        i1_0_i0_0=delta1_x-(i1_x/i0_x)    \n",
    "        x=i1_x\n",
    "        \n",
    "        res=[]\n",
    "        xs=[]\n",
    "        ccpxt=new_pxt(delta2_x,delta1_x,i1_x,i0_x) \n",
    "#         print(pxt,ccpxt)\n",
    "         \n",
    "        for i in range(1,50):        \n",
    "            xs.append(x+i*x/1000)   \n",
    "            temp_delta1_x= xs[-1]/i0_x - i1_0_i0_0\n",
    "\n",
    "            temp_res.append( 100*abs(x - (x+i*x/1000))/x)\n",
    "            temp_pxt.append( 100*abs(new_pxt(delta2_x,temp_delta1_x,xs[-1],i0_x) -ccpxt)/ccpxt)\n",
    "#             print('\\t',pxt,ccpxt,delta2_x,xs[-1],temp_res[-1],new_pxt(xs[-1],delta1_x,i1_x,i0_x),temp_pxt[-1])\n",
    "\n",
    "#             xs.append(x-i*x/1000)\n",
    "#             temp_delta1_x= xs[-1]/i0_x - i1_0_i0_0\n",
    "#             temp_res.append( 100*abs(x - (x -i*x/1000))/x)\n",
    "#             temp_pxt.append( 100*abs(new_pxt(delta2_x,temp_delta1_x,xs[-1],i0_x) -ccpxt)/ccpxt)\n",
    "            \n",
    "#             print('\\t',pxt,ccpxt,delta2_x,xs[-1],temp_res[-1],new_pxt(xs[-1],delta1_x,i1_x,i0_x),temp_pxt[-1])\n",
    "    df=pd.DataFrame([temp_pxt,temp_res]).transpose()\n",
    "    all_res.append([temp_res,temp_pxt])\n",
    "#     df=pd.DataFrame([temp_pxt,temp_res]).transpose()\n",
    "#     df.columns=['xs','res']\n",
    "#     df=df[ df['xs']<20 ]\n",
    "#     all_res.append([pxt,df.shape[0],df.res.max()])\n"
   ]
  },
  {
   "cell_type": "code",
   "execution_count": 96,
   "id": "8d98ee35",
   "metadata": {},
   "outputs": [],
   "source": [
    "# pd.DataFrame(all_res).transpose()\n",
    "df=pd.DataFrame()\n",
    "for x in all_res:\n",
    "    df=pd.concat([df,pd.DataFrame(x)],axis=1)\n",
    "df=df.transpose()\n",
    "df.columns=['er','px']\n",
    "df=df[df.px<20]"
   ]
  },
  {
   "cell_type": "code",
   "execution_count": 97,
   "id": "da71215f",
   "metadata": {},
   "outputs": [
    {
     "data": {
      "text/plain": [
       "<matplotlib.collections.PathCollection at 0x2384e565640>"
      ]
     },
     "execution_count": 97,
     "metadata": {},
     "output_type": "execute_result"
    },
    {
     "data": {
      "image/png": "[encoded data removed]",
      "text/plain": [
       "<Figure size 432x288 with 1 Axes>"
      ]
     },
     "metadata": {
      "needs_background": "light"
     },
     "output_type": "display_data"
    }
   ],
   "source": [
    "plt.scatter(df.er,df.px)"
   ]
  },
  {
   "cell_type": "code",
   "execution_count": null,
   "id": "4060bdbc",
   "metadata": {},
   "outputs": [],
   "source": []
  }
 ],
 "metadata": {
  "kernelspec": {
   "display_name": "Python 3 (ipykernel)",
   "language": "python",
   "name": "python3"
  },
  "language_info": {
   "codemirror_mode": {
    "name": "ipython",
    "version": 3
   },
   "file_extension": ".py",
   "mimetype": "text/x-python",
   "name": "python",
   "nbconvert_exporter": "python",
   "pygments_lexer": "ipython3",
   "version": "3.9.11"
  }
 },
 "nbformat": 4,
 "nbformat_minor": 5
}
