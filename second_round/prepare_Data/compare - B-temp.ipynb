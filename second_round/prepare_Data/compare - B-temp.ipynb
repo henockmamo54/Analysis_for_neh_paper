{
 "cells": [
  {
   "cell_type": "code",
   "execution_count": 20,
   "id": "562621e7",
   "metadata": {},
   "outputs": [],
   "source": [
    "import os\n",
    "import math\n",
    "import random\n",
    "import warnings\n",
    "import numpy as np\n",
    "import pandas as pd \n",
    "from sklearn import metrics\n",
    "from matplotlib import pyplot as plt\n",
    "\n",
    "warnings.filterwarnings(\"ignore\")"
   ]
  },
  {
   "cell_type": "code",
   "execution_count": 29,
   "id": "f19208ae",
   "metadata": {},
   "outputs": [
    {
     "name": "stdout",
     "output_type": "stream",
     "text": [
      "(169271, 27)\n"
     ]
    }
   ],
   "source": [
    "data=pd.read_csv(r\"C:\\Workplace\\Python\\AnalysisForThePaper\\NEH\\second_round\\D2O_NEH\\res_theo_11.csv\")\n",
    "data.columns=['pep','a','b','cpxt','pxt','neh','cneh','b1','b2','b3','a1','a2','delta1','delta2','rmse',\n",
    "             'a20','a21','a22','a23',\n",
    "             'b20','b21','b22','b23','b24','b25','i0','i1']\n",
    "data=data[data.pxt<=0.06]\n",
    "# data.a=data.a20 +data.a21 +data.a22 +data.a23 \n",
    "\n",
    "# data.pxt=[math.log(abs(x)) for x in data.pxt]\n",
    "# data.cpxt=[math.log(abs(x)) for x in data.cpxt]\n",
    "# data.a=[math.log(abs(x)) for x in data.a]\n",
    "# data.a20=[math.log(abs(x)) for x in data.a20]\n",
    "# data.a21=[math.log(abs(x)) for x in data.a21]\n",
    "# data.a22=[math.log(abs(x)) for x in data.a22]\n",
    "# data.a23=[math.log(abs(x)) for x in data.a23]\n",
    "\n",
    "data=data.drop_duplicates()\n",
    "print(data.shape)\n"
   ]
  },
  {
   "cell_type": "code",
   "execution_count": 30,
   "id": "bc9feee3",
   "metadata": {},
   "outputs": [
    {
     "name": "stdout",
     "output_type": "stream",
     "text": [
      "(169271, 27)\n"
     ]
    }
   ],
   "source": [
    "data2=pd.read_csv(r\"C:\\Workplace\\Python\\AnalysisForThePaper\\NEH\\second_round\\D2O_NEH\\res_theo_22.csv\")\n",
    "data2.columns=['pep','a','b','cpxt','pxt','neh','cneh','b1','b2','b3','a1','a2','delta1','delta2','rmse',\n",
    "             'a20','a21','a22','a23',\n",
    "             'b20','b21','b22','b23','b24','b25','i0','i1']\n",
    "data2=data2[data2.pxt<=0.06]\n",
    "\n",
    "# data2.a=data2.a20 +data2.a21 +data2.a22 +data2.a23 \n",
    "\n",
    "# data2.pxt=[(abs(x)) for x in data2.pxt]\n",
    "# data2.cpxt=[(abs(x)) for x in data2.cpxt]\n",
    "# data2.a=[(abs(x)) for x in data2.a]\n",
    "# data2.a20=[(abs(x)) for x in data2.a20]\n",
    "# data2.a21=[(abs(x)) for x in data2.a21]\n",
    "# data2.a22=[(abs(x)) for x in data2.a22]\n",
    "# data2.a23=[(abs(x)) for x in data2.a23]\n",
    "\n",
    "data2=data2.drop_duplicates()\n",
    "print(data2.shape)\n"
   ]
  },
  {
   "cell_type": "code",
   "execution_count": 31,
   "id": "25814741",
   "metadata": {},
   "outputs": [
    {
     "data": {
      "text/plain": [
       "2869"
      ]
     },
     "execution_count": 31,
     "metadata": {},
     "output_type": "execute_result"
    }
   ],
   "source": [
    "pep=list(np.unique(data.pep))\n",
    "len(pep)"
   ]
  },
  {
   "cell_type": "code",
   "execution_count": 32,
   "id": "4cff9161",
   "metadata": {},
   "outputs": [],
   "source": [
    "# index=10\n",
    "# temp1=data[data.pep==pep[index]]\n",
    "# temp2=data2[data2.pep==pep[index]]\n",
    "# # temp2=temp1\n",
    "# print(pep[index],temp1.shape[0],temp2.shape[0])\n",
    "\n",
    "# plt.figure(figsize=(15,10))\n",
    "# plt.subplot(2,3,1)\n",
    "# plt.title('pxt')\n",
    "# plt.scatter(temp.pxt,temp.cpxt_y,s=10,c='k')\n",
    "# plt.plot(temp.pxt,temp.pxt,c='r',ls=\"-.\")\n",
    "# plt.subplot(2,3,2)\n",
    "# plt.title('a')\n",
    "# plt.scatter(temp.a_x,temp.a_y,s=10,c='k')\n",
    "# plt.subplot(2,3,3)\n",
    "# plt.title('a1')\n",
    "# plt.scatter(temp.a20_x,temp.a20_y,s=10,c='k')\n",
    "# plt.subplot(2,3,4)\n",
    "# plt.title('a2')\n",
    "# plt.scatter(temp.a21_x,temp.a21_y,s=10,c='k')\n",
    "# plt.subplot(2,3,5)\n",
    "# plt.title('a3')\n",
    "# plt.scatter(temp.a22_x,temp.a22_y,s=10,c='k')\n",
    "# plt.subplot(2,3,6)\n",
    "# plt.title('a4')\n",
    "# plt.scatter(temp.a23_x,temp.a23_y,s=10,c='k')\n",
    "# plt.show()\n",
    "\n",
    "# plt.figure(figsize=(15,10))\n",
    "# plt.subplot(2,3,1)\n",
    "# plt.title('a')\n",
    "# plt.scatter(temp.pxt,temp.a_x,s=10,c='g')\n",
    "# plt.scatter(temp.pxt,temp.a_y,s=10,c='r')\n",
    "# plt.subplot(2,3,2)\n",
    "# plt.title('a1')\n",
    "# plt.scatter(temp.pxt,temp.a20_x,s=10,c='g')\n",
    "# plt.scatter(temp.pxt,temp.a20_y,s=10,c='r')\n",
    "# plt.subplot(2,3,3)\n",
    "# plt.title('a2')\n",
    "# plt.scatter(temp.pxt,temp.a21_x,s=10,c='g')\n",
    "# plt.scatter(temp.pxt,temp.a21_y,s=10,c='r')\n",
    "# plt.subplot(2,3,4)\n",
    "# plt.title('a3')\n",
    "# plt.scatter(temp.pxt,temp.a22_x,s=10,c='g')\n",
    "# plt.scatter(temp.pxt,temp.a22_y,s=10,c='r')\n",
    "# plt.subplot(2,3,5)\n",
    "# plt.title('a4')\n",
    "# plt.scatter(temp.pxt,temp.a23_x,s=10,c='g')\n",
    "# plt.scatter(temp.pxt,temp.a23_y,s=10,c='r')"
   ]
  },
  {
   "cell_type": "code",
   "execution_count": 33,
   "id": "cb6787c6",
   "metadata": {
    "scrolled": false
   },
   "outputs": [],
   "source": [
    "# temp_merge=temp1.merge(temp2, on=['pep','pxt'])\n",
    "# temp_merge['pxt_acc']=100*abs(temp_merge.cpxt_y-temp_merge.pxt)/temp_merge.pxt\n",
    "\n",
    "# temp=temp_merge[temp_merge.pxt_acc<20]\n",
    "# plt.figure(figsize=(15,10))\n",
    "# plt.subplot(2,3,1)\n",
    "# plt.title('pxt')\n",
    "# plt.scatter(temp.pxt,temp.cpxt_y,s=10,c='k')\n",
    "# plt.plot(temp.pxt,temp.pxt,c='r',ls=\"-.\")\n",
    "# plt.subplot(2,3,2)\n",
    "# plt.title('a')\n",
    "# plt.scatter(temp.a_x,temp.a_y,s=10,c='k')\n",
    "# plt.subplot(2,3,3)\n",
    "# plt.title('a1')\n",
    "# plt.scatter(temp.a20_x,temp.a20_y,s=10,c='k')\n",
    "# plt.subplot(2,3,4)\n",
    "# plt.title('a2')\n",
    "# plt.scatter(temp.a21_x,temp.a21_y,s=10,c='k')\n",
    "# plt.subplot(2,3,5)\n",
    "# plt.title('a3')\n",
    "# plt.scatter(temp.a22_x,temp.a22_y,s=10,c='k')\n",
    "# plt.subplot(2,3,6)\n",
    "# plt.title('a4')\n",
    "# plt.scatter(temp.a23_x,temp.a23_y,s=10,c='k')\n",
    "# plt.show()\n",
    "# print('===================================================')\n",
    "\n",
    "# temp=temp_merge[temp_merge.pxt_acc>20]\n",
    "\n",
    "# plt.figure(figsize=(15,10))\n",
    "# plt.subplot(2,3,1)\n",
    "# plt.title('pxt')\n",
    "# plt.scatter(temp.pxt,temp.cpxt_y,s=10,c='k')\n",
    "# plt.plot(temp.pxt,temp.pxt,c='r',ls=\"-.\")\n",
    "# plt.subplot(2,3,2)\n",
    "# plt.title('a')\n",
    "# plt.scatter(temp.a_x,temp.a_y,s=10,c='k')\n",
    "# plt.subplot(2,3,3)\n",
    "# plt.title('a1')\n",
    "# plt.scatter(temp.a20_x,temp.a20_y,s=10,c='k')\n",
    "# plt.subplot(2,3,4)\n",
    "# plt.title('a2')\n",
    "# plt.scatter(temp.a21_x,temp.a21_y,s=10,c='k')\n",
    "# plt.subplot(2,3,5)\n",
    "# plt.title('a3')\n",
    "# plt.scatter(temp.a22_x,temp.a22_y,s=10,c='k')\n",
    "# plt.subplot(2,3,6)\n",
    "# plt.title('a4')\n",
    "# plt.scatter(temp.a23_x,temp.a23_y,s=10,c='k')\n",
    "# plt.show()\n",
    "# print('===================================================')\n",
    "\n",
    "# plt.figure(figsize=(15,10))\n",
    "# plt.subplot(2,3,1)\n",
    "# plt.title('a')\n",
    "# plt.scatter(temp_merge.pxt,temp_merge.a_x,s=10,c='g')\n",
    "# plt.scatter(temp.pxt,temp.a_y,s=10,c='r')\n",
    "# plt.subplot(2,3,2)\n",
    "# plt.title('a1')\n",
    "# plt.scatter(temp_merge.pxt,temp_merge.a20_x,s=10,c='g')\n",
    "# plt.scatter(temp.pxt,temp.a20_y,s=10,c='r')\n",
    "# plt.subplot(2,3,3)\n",
    "# plt.title('a2')\n",
    "# plt.scatter(temp_merge.pxt,temp_merge.a21_x,s=10,c='g')\n",
    "# plt.scatter(temp.pxt,temp.a21_y,s=10,c='r')\n",
    "# plt.subplot(2,3,4)\n",
    "# plt.title('a3')\n",
    "# plt.scatter(temp_merge.pxt,temp_merge.a22_x,s=10,c='g')\n",
    "# plt.scatter(temp_merge.pxt,temp_merge.a22_y,s=10,c='r')\n",
    "# plt.subplot(2,3,5)\n",
    "# plt.title('a4')\n",
    "# plt.scatter(temp_merge.pxt,temp_merge.a22_x,s=10,c='g')\n",
    "# plt.scatter(temp_merge.pxt,temp_merge.a22_y,s=10,c='r')"
   ]
  },
  {
   "cell_type": "code",
   "execution_count": null,
   "id": "5bbacdc5",
   "metadata": {},
   "outputs": [],
   "source": []
  },
  {
   "cell_type": "code",
   "execution_count": null,
   "id": "107e640a",
   "metadata": {},
   "outputs": [],
   "source": []
  },
  {
   "cell_type": "code",
   "execution_count": null,
   "id": "a65bac11",
   "metadata": {
    "scrolled": true
   },
   "outputs": [],
   "source": []
  },
  {
   "cell_type": "code",
   "execution_count": null,
   "id": "956f12e6",
   "metadata": {},
   "outputs": [],
   "source": []
  },
  {
   "cell_type": "code",
   "execution_count": 34,
   "id": "a1fbeb95",
   "metadata": {
    "scrolled": false
   },
   "outputs": [
    {
     "name": "stdout",
     "output_type": "stream",
     "text": [
      "===================================================\n",
      "===================================================\n",
      "********************************************************\n",
      "\n"
     ]
    },
    {
     "data": {
      "image/png": "[encoded data removed]",
      "text/plain": [
       "<Figure size 1080x504 with 2 Axes>"
      ]
     },
     "metadata": {
      "needs_background": "light"
     },
     "output_type": "display_data"
    }
   ],
   "source": [
    "index=1000\n",
    "\n",
    "while index < len(pep):\n",
    "    temp1=data[data.pep==pep[index]]\n",
    "    temp2=data2[data2.pep==pep[index]]\n",
    "\n",
    "    temp_merge=temp1.merge(temp2, on=['pep','pxt'])\n",
    "    temp_merge['pxt_acc']=100*abs(temp_merge.cpxt_y-temp_merge.pxt)/temp_merge.pxt\n",
    "    \n",
    "\n",
    "#     temp=temp_merge#[temp_merge.pxt_acc<20]\n",
    "# #     if temp.shape[0]<10:\n",
    "# #         index+=1\n",
    "# #         continue\n",
    "#     print(f\"=================================={pep[index]}========================\")\n",
    "#     plt.figure(figsize=(15,15))\n",
    "#     plt.subplot(3,3,1)\n",
    "#     plt.title('pxt')\n",
    "#     plt.scatter(temp.pxt,temp.cpxt_y,s=10,c='k')\n",
    "#     plt.plot(temp.pxt,temp.cpxt_x,c='r',ls=\"-.\")\n",
    "#     plt.subplot(3,3,2)\n",
    "#     plt.title('b')\n",
    "#     plt.scatter(temp.b_x,temp.b_y,s=10,c='k')\n",
    "#     plt.plot(temp.b_x,temp.b_x,c='r',ls=\"-.\")\n",
    "#     plt.subplot(3,3,3)\n",
    "#     plt.title('b1')\n",
    "#     plt.scatter(temp.b20_x,temp.b20_y,s=10,c='k')\n",
    "#     plt.plot(temp.b20_x,temp.b20_x,c='r',ls=\"-.\")\n",
    "#     plt.subplot(3,3,4)\n",
    "#     plt.title('b2')\n",
    "#     plt.scatter(temp.b21_x,temp.b21_y,s=10,c='k')\n",
    "#     plt.plot(temp.b21_x,temp.b21_x,c='r',ls=\"-.\")\n",
    "#     plt.subplot(3,3,5)\n",
    "#     plt.title('b3')\n",
    "#     plt.scatter(temp.b22_x,temp.b22_y,s=10,c='k')\n",
    "#     plt.plot(temp.b22_x,temp.b22_x,c='r',ls=\"-.\")\n",
    "#     plt.subplot(3,3,6)\n",
    "#     plt.title('b4')\n",
    "#     plt.scatter(temp.b23_x,temp.b23_y,s=10,c='k')\n",
    "#     plt.plot(temp.b23_x,temp.b23_x,c='r',ls=\"-.\")\n",
    "#     plt.subplot(3,3,7)\n",
    "#     plt.title('b5')\n",
    "#     plt.scatter(temp.b24_x,temp.b24_y,s=10,c='k')\n",
    "#     plt.plot(temp.b24_x,temp.b24_x,c='r',ls=\"-.\")\n",
    "#     plt.subplot(3,3,8)\n",
    "#     plt.title('b6')\n",
    "#     plt.scatter(temp.b25_x,temp.b25_y,s=10,c='k')\n",
    "#     plt.plot(temp.b25_x,temp.b25_x,c='r',ls=\"-.\")\n",
    "#     plt.subplot(3,3,9)\n",
    "#     plt.title('b')\n",
    "#     plt.scatter(temp.b_x,(temp.b20_y+temp.b21_y+temp.b22_y+temp.b23_y+temp.b24_y+temp.b25_y),s=10,c='k')\n",
    "#     plt.show()\n",
    "#     print('===================================================')\n",
    "    \n",
    "#     plt.figure(figsize=(15,15))\n",
    "#     plt.subplot(3,3,1)\n",
    "#     plt.title('pxt')\n",
    "#     plt.plot(temp_merge.pxt,temp_merge.cpxt_x,c='g',ls='-.',alpha=0.75) \n",
    "#     plt.scatter(temp.pxt,temp.cpxt_y,s=10,c='r')\n",
    "#     plt.subplot(3,3,2)\n",
    "#     plt.title('b')\n",
    "#     plt.plot(temp_merge.pxt,temp_merge.b_x,c='g',ls='-.',alpha=0.75)\n",
    "#     plt.scatter(temp.pxt,temp.b_y,s=10,c='r') \n",
    "#     plt.subplot(3,3,3)\n",
    "#     plt.title('b1')\n",
    "#     plt.plot(temp_merge.pxt,temp_merge.b20_x,c='g',ls='-.',alpha=0.75)\n",
    "#     plt.scatter(temp.pxt,temp.b20_y,s=10,c='r') \n",
    "#     plt.subplot(3,3,4)\n",
    "#     plt.title('b2')\n",
    "#     plt.plot(temp_merge.pxt,temp_merge.b21_x,c='g',ls='-.',alpha=0.75)\n",
    "#     plt.scatter(temp.pxt,temp.b21_y,s=10,c='r') \n",
    "#     plt.subplot(3,3,5)\n",
    "#     plt.title('b3')\n",
    "#     plt.plot(temp_merge.pxt,temp_merge.b22_x,c='g',ls='-.',alpha=0.75)\n",
    "#     plt.scatter(temp.pxt,temp.b22_y,s=10,c='r') \n",
    "#     plt.subplot(3,3,6)\n",
    "#     plt.title('b4')\n",
    "#     plt.plot(temp_merge.pxt,temp_merge.b23_x,c='g',ls='-.',alpha=0.75)\n",
    "#     plt.scatter(temp.pxt,temp.b23_y,s=10,c='r') \n",
    "#     plt.subplot(3,3,7)\n",
    "#     plt.title('b5')\n",
    "#     plt.plot(temp_merge.pxt,temp_merge.b24_x,c='g',ls='-.',alpha=0.75)\n",
    "#     plt.scatter(temp.pxt,temp.b24_y,s=10,c='r') \n",
    "#     plt.subplot(3,3,8)\n",
    "#     plt.title('b6')\n",
    "#     plt.plot(temp_merge.pxt,temp_merge.b25_x,c='g',ls='-.',alpha=0.75)\n",
    "#     plt.scatter(temp.pxt,temp.b25_y,s=10,c='r') \n",
    "#     plt.subplot(3,3,9)\n",
    "#     plt.title('b')\n",
    "#     plt.plot(temp_merge.pxt,temp_merge.b_x,c='g',ls='-.',alpha=0.75)\n",
    "#     plt.scatter(temp.pxt,\n",
    "#                 (\n",
    "#                     temp.b20_y+\n",
    "#                  temp.b21_y+\n",
    "#                  temp.b22_y+\n",
    "#                  temp.b23_y+\n",
    "#                  temp.b24_y+\n",
    "#                  temp.b25_y\n",
    "#                 )\n",
    "#                 ,s=10,c='r')\n",
    "#     plt.show()\n",
    "\n",
    "\n",
    "    \n",
    "    print('===================================================')\n",
    "    plt.figure(figsize=(15,7))\n",
    "    plt.subplot(1,2,1)\n",
    "#     plt.title('real')\n",
    "    plt.plot(temp_merge.delta1_x,temp_merge.delta2_x,c='g',ls='-.',alpha=0.75)    \n",
    "    plt.scatter(temp_merge.delta1_y,temp_merge.delta2_y,c='r',alpha=0.75)\n",
    "#     plt.scatter(temp.pxt,temp.b23_y,s=10,c='r') \n",
    "    \n",
    "    plt.subplot(1,2,2)\n",
    "#     plt.title('noise')\n",
    "#     plt.scatter(temp_merge.delta1_y,temp_merge.delta2_y,c='g',ls='-.',alpha=0.75)\n",
    "    plt.plot(temp_merge.pxt,temp_merge.cpxt_x,ls='-.',c='g') \n",
    "    plt.scatter(temp_merge.pxt,temp_merge.cpxt_y,s=10,c='r') \n",
    "    \n",
    "    print('===================================================')\n",
    "    \n",
    "    \n",
    "    \n",
    "    index+=1\n",
    "    print(\"********************************************************\\n\")\n",
    "    break"
   ]
  },
  {
   "cell_type": "code",
   "execution_count": 41,
   "id": "3be55b2f",
   "metadata": {
    "scrolled": true
   },
   "outputs": [
    {
     "data": {
      "text/plain": [
       "[]"
      ]
     },
     "execution_count": 41,
     "metadata": {},
     "output_type": "execute_result"
    }
   ],
   "source": [
    "test=1+ 0.5/(temp_merge.delta2_x/temp_merge.delta1_x + 0.5*temp_merge.delta1_x - 0.5 - temp_merge.i1_x/temp_merge.i0_x)\n",
    "[x for x in abs(temp_merge.pxt-test) if x >0.001]"
   ]
  },
  {
   "cell_type": "code",
   "execution_count": 42,
   "id": "1ca5673c",
   "metadata": {},
   "outputs": [
    {
     "data": {
      "text/plain": [
       "[0.1890327153539052,\n",
       " 0.182929075647003,\n",
       " 0.30231075229587134,\n",
       " 0.30359193125830053,\n",
       " 0.09999090300855384,\n",
       " 0.35880192536557964,\n",
       " 0.025648921005408172,\n",
       " 0.24183962273452353,\n",
       " 0.2810330355849373,\n",
       " 0.10285958456809174,\n",
       " 0.02533582346739982,\n",
       " 0.038716473862273615,\n",
       " 0.1362197564009301,\n",
       " 0.33288382140263906,\n",
       " 0.15808039381038996,\n",
       " 0.014396980349526082,\n",
       " 0.44114291073598,\n",
       " 0.0463835463118607,\n",
       " 0.1640577572604105,\n",
       " 0.19629699532620148,\n",
       " 0.18915696999696807,\n",
       " 0.12065060866170518,\n",
       " 0.006375157805846066,\n",
       " 0.22137518921465094,\n",
       " 0.07447362599475903,\n",
       " 0.05642742089813167,\n",
       " 0.13091869099076792,\n",
       " 0.037404312620068395,\n",
       " 0.17691468635690744,\n",
       " 0.278596772785066,\n",
       " 0.20479210873214773,\n",
       " 0.07092242753211916,\n",
       " 0.13750689819036474,\n",
       " 0.03767558807202611,\n",
       " 0.25410757695326147,\n",
       " 0.22222917257597155,\n",
       " 0.014129595732307078,\n",
       " 0.18872469086396662,\n",
       " 0.4003410716398558,\n",
       " 0.22552243423686594,\n",
       " 0.20135212410967332,\n",
       " 0.23279455995092738,\n",
       " 0.13209203393348887,\n",
       " 0.041305087775145605,\n",
       " 0.13290560674532362,\n",
       " 0.1834386335355183,\n",
       " 1.3989170021972526,\n",
       " 0.2666375831030631,\n",
       " 0.16688900802612153,\n",
       " 0.03847474056186936,\n",
       " 0.004120244985267009,\n",
       " 0.4472589896205143,\n",
       " 0.2603023567074812,\n",
       " 0.1250518698107241,\n",
       " 0.2616588408218214,\n",
       " 0.08404734452852565,\n",
       " 0.030681822170689974,\n",
       " 0.13239203431637064,\n",
       " 0.19729457538863354]"
      ]
     },
     "execution_count": 42,
     "metadata": {},
     "output_type": "execute_result"
    }
   ],
   "source": [
    "test=1+ 0.5/(temp_merge.delta2_y/temp_merge.delta1_y + 0.5*temp_merge.delta1_y - 0.5 - temp_merge.i1_y/temp_merge.i0_y)\n",
    "[x for x in abs(temp_merge.pxt-test) if x >0.001]"
   ]
  },
  {
   "cell_type": "code",
   "execution_count": null,
   "id": "fe39bfe2",
   "metadata": {},
   "outputs": [],
   "source": []
  },
  {
   "cell_type": "code",
   "execution_count": null,
   "id": "05a173c2",
   "metadata": {},
   "outputs": [],
   "source": []
  },
  {
   "cell_type": "code",
   "execution_count": null,
   "id": "4e84df41",
   "metadata": {},
   "outputs": [],
   "source": []
  },
  {
   "cell_type": "code",
   "execution_count": null,
   "id": "d6c9e2ca",
   "metadata": {},
   "outputs": [],
   "source": []
  },
  {
   "cell_type": "code",
   "execution_count": null,
   "id": "46a9c71a",
   "metadata": {},
   "outputs": [],
   "source": []
  },
  {
   "cell_type": "code",
   "execution_count": null,
   "id": "5686e807",
   "metadata": {},
   "outputs": [],
   "source": []
  },
  {
   "cell_type": "code",
   "execution_count": null,
   "id": "49b576ff",
   "metadata": {},
   "outputs": [],
   "source": []
  },
  {
   "cell_type": "code",
   "execution_count": null,
   "id": "a68b3597",
   "metadata": {},
   "outputs": [],
   "source": []
  },
  {
   "cell_type": "code",
   "execution_count": null,
   "id": "88cb9441",
   "metadata": {},
   "outputs": [],
   "source": []
  },
  {
   "cell_type": "code",
   "execution_count": null,
   "id": "cff49e7d",
   "metadata": {},
   "outputs": [],
   "source": []
  },
  {
   "cell_type": "code",
   "execution_count": null,
   "id": "79266ad5",
   "metadata": {},
   "outputs": [],
   "source": []
  },
  {
   "cell_type": "code",
   "execution_count": null,
   "id": "1a8508a1",
   "metadata": {},
   "outputs": [],
   "source": []
  },
  {
   "cell_type": "code",
   "execution_count": null,
   "id": "d95da696",
   "metadata": {},
   "outputs": [],
   "source": []
  },
  {
   "cell_type": "code",
   "execution_count": null,
   "id": "a7100c0e",
   "metadata": {
    "scrolled": true
   },
   "outputs": [],
   "source": []
  },
  {
   "cell_type": "code",
   "execution_count": null,
   "id": "1325205d",
   "metadata": {
    "scrolled": true
   },
   "outputs": [],
   "source": []
  },
  {
   "cell_type": "code",
   "execution_count": null,
   "id": "8ef0b927",
   "metadata": {},
   "outputs": [],
   "source": [
    "plt.scatter(temp.pxt,\n",
    "                (\n",
    "                    temp.b20_y+\n",
    "#                  temp.b21_y+\n",
    "                 temp.b22_y+\n",
    "                 temp.b23_y #+\n",
    "#                  temp.b24_y+\n",
    "#                  temp.b25_y\n",
    "                )\n",
    "                ,s=10,c='r')\n",
    "\n",
    "\n",
    "plt.plot(temp_merge.pxt,temp_merge.b_x,c='g',ls='-.',alpha=0.75)"
   ]
  },
  {
   "cell_type": "code",
   "execution_count": null,
   "id": "0d8c2a68",
   "metadata": {},
   "outputs": [],
   "source": []
  },
  {
   "cell_type": "code",
   "execution_count": 68,
   "id": "63b991e1",
   "metadata": {},
   "outputs": [
    {
     "data": {
      "text/plain": [
       "<matplotlib.collections.PathCollection at 0x20f0c3f7910>"
      ]
     },
     "execution_count": 68,
     "metadata": {},
     "output_type": "execute_result"
    },
    {
     "data": {
      "image/png": "[encoded data removed]",
      "text/plain": [
       "<Figure size 432x288 with 1 Axes>"
      ]
     },
     "metadata": {
      "needs_background": "light"
     },
     "output_type": "display_data"
    }
   ],
   "source": [
    "plt.scatter((\n",
    "#                     temp.b20_x#+ \n",
    "                 temp.b22_x+\n",
    "                 temp.b23_x  \n",
    "                )\n",
    "    ,\n",
    "                (\n",
    "#                     temp.b20_y#+ \n",
    "                 temp.b22_y+\n",
    "                 temp.b23_y  \n",
    "                )\n",
    "                ,s=10,c='r')"
   ]
  },
  {
   "cell_type": "code",
   "execution_count": 69,
   "id": "614d4d53",
   "metadata": {},
   "outputs": [
    {
     "data": {
      "text/plain": [
       "<matplotlib.collections.PathCollection at 0x20f0ccaa910>"
      ]
     },
     "execution_count": 69,
     "metadata": {},
     "output_type": "execute_result"
    },
    {
     "data": {
      "image/png": "[encoded data removed]",
      "text/plain": [
       "<Figure size 432x288 with 1 Axes>"
      ]
     },
     "metadata": {
      "needs_background": "light"
     },
     "output_type": "display_data"
    }
   ],
   "source": [
    "plt.scatter((\n",
    "                    temp.b20_x#+ \n",
    "#                  temp.b22_x+\n",
    "#                  temp.b23_x  \n",
    "                )\n",
    "    ,\n",
    "                (\n",
    "                    temp.b20_y#+ \n",
    "#                  temp.b22_y+\n",
    "#                  temp.b23_y  \n",
    "                )\n",
    "                ,s=10,c='r')"
   ]
  },
  {
   "cell_type": "code",
   "execution_count": 70,
   "id": "d9028f1c",
   "metadata": {},
   "outputs": [
    {
     "data": {
      "text/plain": [
       "<matplotlib.collections.PathCollection at 0x20f0bb581c0>"
      ]
     },
     "execution_count": 70,
     "metadata": {},
     "output_type": "execute_result"
    },
    {
     "data": {
      "image/png": "[encoded data removed]",
      "text/plain": [
       "<Figure size 432x288 with 1 Axes>"
      ]
     },
     "metadata": {
      "needs_background": "light"
     },
     "output_type": "display_data"
    }
   ],
   "source": [
    "plt.scatter((\n",
    "                    temp.b20_x+ \n",
    "                 temp.b22_x+\n",
    "                 temp.b23_x  \n",
    "                )\n",
    "    ,\n",
    "                (\n",
    "                    temp.b20_y+ \n",
    "                 temp.b22_y+\n",
    "                 temp.b23_y  \n",
    "                )\n",
    "                ,s=10,c='r')"
   ]
  },
  {
   "cell_type": "code",
   "execution_count": 80,
   "id": "a369727a",
   "metadata": {},
   "outputs": [
    {
     "name": "stdout",
     "output_type": "stream",
     "text": [
      "-0.455486618364213 -0.436859009221335\n",
      "0.572983941474853 0.520087834501773\n",
      "-0.112453808293617 -0.0977676532094222\n",
      "0.0051131293781575 -0.0144761259983288\n"
     ]
    }
   ],
   "source": [
    "i=20#len(temp.b20_x)-1\n",
    "print(temp.b20_x[i],temp.b20_y[i])\n",
    "print(temp.b22_x[i],temp.b22_y[i])\n",
    "print(temp.b23_x[i],temp.b23_y[i])\n",
    "print(temp.b_x[i],temp.b_y[i])"
   ]
  },
  {
   "cell_type": "code",
   "execution_count": null,
   "id": "4a1aabc4",
   "metadata": {},
   "outputs": [],
   "source": []
  },
  {
   "cell_type": "code",
   "execution_count": null,
   "id": "9051c439",
   "metadata": {},
   "outputs": [],
   "source": []
  }
 ],
 "metadata": {
  "kernelspec": {
   "display_name": "Python 3 (ipykernel)",
   "language": "python",
   "name": "python3"
  },
  "language_info": {
   "codemirror_mode": {
    "name": "ipython",
    "version": 3
   },
   "file_extension": ".py",
   "mimetype": "text/x-python",
   "name": "python",
   "nbconvert_exporter": "python",
   "pygments_lexer": "ipython3",
   "version": "3.9.11"
  }
 },
 "nbformat": 4,
 "nbformat_minor": 5
}
