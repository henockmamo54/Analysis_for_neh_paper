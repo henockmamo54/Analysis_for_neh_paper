{
 "cells": [
  {
   "cell_type": "code",
   "execution_count": 45,
   "id": "6757e1f0",
   "metadata": {},
   "outputs": [],
   "source": [
    "import os\n",
    "import math\n",
    "import random\n",
    "import warnings\n",
    "import numpy as np\n",
    "import pandas as pd \n",
    "from sklearn import metrics\n",
    "from matplotlib import pyplot as plt\n",
    "\n",
    "warnings.filterwarnings(\"ignore\")"
   ]
  },
  {
   "cell_type": "code",
   "execution_count": 110,
   "id": "b987024b",
   "metadata": {
    "scrolled": true
   },
   "outputs": [
    {
     "name": "stdout",
     "output_type": "stream",
     "text": [
      "(20, 8)\n"
     ]
    },
    {
     "data": {
      "text/html": [
       "<div>\n",
       "<style scoped>\n",
       "    .dataframe tbody tr th:only-of-type {\n",
       "        vertical-align: middle;\n",
       "    }\n",
       "\n",
       "    .dataframe tbody tr th {\n",
       "        vertical-align: top;\n",
       "    }\n",
       "\n",
       "    .dataframe thead th {\n",
       "        text-align: right;\n",
       "    }\n",
       "</style>\n",
       "<table border=\"1\" class=\"dataframe\">\n",
       "  <thead>\n",
       "    <tr style=\"text-align: right;\">\n",
       "      <th></th>\n",
       "      <th>AA_name</th>\n",
       "      <th>Tritium</th>\n",
       "      <th>Asym_NEH</th>\n",
       "      <th>APE</th>\n",
       "      <th>MPE</th>\n",
       "      <th>Asym_NEH_ci</th>\n",
       "      <th>APE_ci</th>\n",
       "      <th>MPE_ci</th>\n",
       "      <th>symbol</th>\n",
       "    </tr>\n",
       "  </thead>\n",
       "  <tbody>\n",
       "    <tr>\n",
       "      <th>18</th>\n",
       "      <td>Tryptophan (W)</td>\n",
       "      <td>0.08</td>\n",
       "      <td>0.190913</td>\n",
       "      <td>0.193915</td>\n",
       "      <td>0.213677</td>\n",
       "      <td>0.208677</td>\n",
       "      <td>0.153386</td>\n",
       "      <td>0.343924</td>\n",
       "      <td>W</td>\n",
       "    </tr>\n",
       "    <tr>\n",
       "      <th>16</th>\n",
       "      <td>Threonine (T)</td>\n",
       "      <td>0.20</td>\n",
       "      <td>0.228619</td>\n",
       "      <td>0.262922</td>\n",
       "      <td>0.217052</td>\n",
       "      <td>0.092273</td>\n",
       "      <td>0.067590</td>\n",
       "      <td>0.146409</td>\n",
       "      <td>T</td>\n",
       "    </tr>\n",
       "    <tr>\n",
       "      <th>4</th>\n",
       "      <td>Phenylalanine (F)</td>\n",
       "      <td>0.32</td>\n",
       "      <td>0.516061</td>\n",
       "      <td>0.322133</td>\n",
       "      <td>0.351724</td>\n",
       "      <td>0.104132</td>\n",
       "      <td>0.076863</td>\n",
       "      <td>0.179874</td>\n",
       "      <td>F</td>\n",
       "    </tr>\n",
       "    <tr>\n",
       "      <th>19</th>\n",
       "      <td>Tyrosine (Y)</td>\n",
       "      <td>0.42</td>\n",
       "      <td>0.812569</td>\n",
       "      <td>0.703994</td>\n",
       "      <td>0.856050</td>\n",
       "      <td>0.127747</td>\n",
       "      <td>0.092779</td>\n",
       "      <td>0.226699</td>\n",
       "      <td>Y</td>\n",
       "    </tr>\n",
       "    <tr>\n",
       "      <th>9</th>\n",
       "      <td>Leucine (L)</td>\n",
       "      <td>0.54</td>\n",
       "      <td>0.872634</td>\n",
       "      <td>0.772678</td>\n",
       "      <td>0.837387</td>\n",
       "      <td>0.072573</td>\n",
       "      <td>0.051517</td>\n",
       "      <td>0.123785</td>\n",
       "      <td>L</td>\n",
       "    </tr>\n",
       "    <tr>\n",
       "      <th>17</th>\n",
       "      <td>Valine (V)</td>\n",
       "      <td>0.56</td>\n",
       "      <td>0.749149</td>\n",
       "      <td>0.627241</td>\n",
       "      <td>0.697898</td>\n",
       "      <td>0.081165</td>\n",
       "      <td>0.057159</td>\n",
       "      <td>0.131372</td>\n",
       "      <td>V</td>\n",
       "    </tr>\n",
       "    <tr>\n",
       "      <th>8</th>\n",
       "      <td>lysine (K)</td>\n",
       "      <td>0.60</td>\n",
       "      <td>0.321348</td>\n",
       "      <td>0.218634</td>\n",
       "      <td>0.128205</td>\n",
       "      <td>0.195829</td>\n",
       "      <td>0.137179</td>\n",
       "      <td>0.370234</td>\n",
       "      <td>K</td>\n",
       "    </tr>\n",
       "    <tr>\n",
       "      <th>7</th>\n",
       "      <td>Isoleucine (I)</td>\n",
       "      <td>1.00</td>\n",
       "      <td>0.880578</td>\n",
       "      <td>0.828866</td>\n",
       "      <td>0.777496</td>\n",
       "      <td>0.090576</td>\n",
       "      <td>0.065202</td>\n",
       "      <td>0.160899</td>\n",
       "      <td>I</td>\n",
       "    </tr>\n",
       "    <tr>\n",
       "      <th>10</th>\n",
       "      <td>Methionine (M)</td>\n",
       "      <td>1.12</td>\n",
       "      <td>1.169987</td>\n",
       "      <td>0.924257</td>\n",
       "      <td>0.519452</td>\n",
       "      <td>0.183090</td>\n",
       "      <td>0.135334</td>\n",
       "      <td>0.324111</td>\n",
       "      <td>M</td>\n",
       "    </tr>\n",
       "    <tr>\n",
       "      <th>1</th>\n",
       "      <td>Cysteine (C)</td>\n",
       "      <td>1.62</td>\n",
       "      <td>1.767490</td>\n",
       "      <td>1.999636</td>\n",
       "      <td>2.298462</td>\n",
       "      <td>0.230166</td>\n",
       "      <td>0.179135</td>\n",
       "      <td>0.396897</td>\n",
       "      <td>C</td>\n",
       "    </tr>\n",
       "    <tr>\n",
       "      <th>2</th>\n",
       "      <td>Aspartic acid (D)</td>\n",
       "      <td>1.89</td>\n",
       "      <td>2.656252</td>\n",
       "      <td>2.430546</td>\n",
       "      <td>2.454393</td>\n",
       "      <td>0.125522</td>\n",
       "      <td>0.086553</td>\n",
       "      <td>0.199359</td>\n",
       "      <td>D</td>\n",
       "    </tr>\n",
       "    <tr>\n",
       "      <th>11</th>\n",
       "      <td>Asparagine (N)</td>\n",
       "      <td>1.89</td>\n",
       "      <td>1.229798</td>\n",
       "      <td>1.546166</td>\n",
       "      <td>1.544805</td>\n",
       "      <td>0.125355</td>\n",
       "      <td>0.090786</td>\n",
       "      <td>0.208980</td>\n",
       "      <td>N</td>\n",
       "    </tr>\n",
       "    <tr>\n",
       "      <th>5</th>\n",
       "      <td>Glycine (G)</td>\n",
       "      <td>2.06</td>\n",
       "      <td>1.898392</td>\n",
       "      <td>1.987665</td>\n",
       "      <td>2.030548</td>\n",
       "      <td>0.081720</td>\n",
       "      <td>0.058146</td>\n",
       "      <td>0.134700</td>\n",
       "      <td>G</td>\n",
       "    </tr>\n",
       "    <tr>\n",
       "      <th>12</th>\n",
       "      <td>Proline (P)</td>\n",
       "      <td>2.59</td>\n",
       "      <td>1.729967</td>\n",
       "      <td>2.086462</td>\n",
       "      <td>1.984901</td>\n",
       "      <td>0.129979</td>\n",
       "      <td>0.093949</td>\n",
       "      <td>0.217626</td>\n",
       "      <td>P</td>\n",
       "    </tr>\n",
       "    <tr>\n",
       "      <th>15</th>\n",
       "      <td>Serine (S)</td>\n",
       "      <td>2.61</td>\n",
       "      <td>2.053989</td>\n",
       "      <td>2.261424</td>\n",
       "      <td>2.192358</td>\n",
       "      <td>0.103725</td>\n",
       "      <td>0.071778</td>\n",
       "      <td>0.165216</td>\n",
       "      <td>S</td>\n",
       "    </tr>\n",
       "    <tr>\n",
       "      <th>6</th>\n",
       "      <td>Histidine (H)</td>\n",
       "      <td>2.88</td>\n",
       "      <td>2.037241</td>\n",
       "      <td>2.287709</td>\n",
       "      <td>2.351690</td>\n",
       "      <td>0.161531</td>\n",
       "      <td>0.110316</td>\n",
       "      <td>0.240560</td>\n",
       "      <td>H</td>\n",
       "    </tr>\n",
       "    <tr>\n",
       "      <th>14</th>\n",
       "      <td>Arginine (R)</td>\n",
       "      <td>3.43</td>\n",
       "      <td>2.163854</td>\n",
       "      <td>2.432228</td>\n",
       "      <td>2.392245</td>\n",
       "      <td>0.238461</td>\n",
       "      <td>0.165765</td>\n",
       "      <td>0.414017</td>\n",
       "      <td>R</td>\n",
       "    </tr>\n",
       "    <tr>\n",
       "      <th>13</th>\n",
       "      <td>Glutamine (Q)</td>\n",
       "      <td>3.95</td>\n",
       "      <td>3.988674</td>\n",
       "      <td>3.970086</td>\n",
       "      <td>3.989600</td>\n",
       "      <td>0.105584</td>\n",
       "      <td>0.070822</td>\n",
       "      <td>0.166100</td>\n",
       "      <td>Q</td>\n",
       "    </tr>\n",
       "    <tr>\n",
       "      <th>3</th>\n",
       "      <td>Glutamic acid (E)</td>\n",
       "      <td>3.95</td>\n",
       "      <td>4.250387</td>\n",
       "      <td>4.229443</td>\n",
       "      <td>4.282535</td>\n",
       "      <td>0.097766</td>\n",
       "      <td>0.066747</td>\n",
       "      <td>0.168930</td>\n",
       "      <td>E</td>\n",
       "    </tr>\n",
       "    <tr>\n",
       "      <th>0</th>\n",
       "      <td>Alanine (A)</td>\n",
       "      <td>4.00</td>\n",
       "      <td>3.524870</td>\n",
       "      <td>3.717970</td>\n",
       "      <td>3.702662</td>\n",
       "      <td>0.077260</td>\n",
       "      <td>0.055748</td>\n",
       "      <td>0.128176</td>\n",
       "      <td>A</td>\n",
       "    </tr>\n",
       "  </tbody>\n",
       "</table>\n",
       "</div>"
      ],
      "text/plain": [
       "              AA_name  Tritium  Asym_NEH       APE       MPE  Asym_NEH_ci  \\\n",
       "18     Tryptophan (W)     0.08  0.190913  0.193915  0.213677     0.208677   \n",
       "16      Threonine (T)     0.20  0.228619  0.262922  0.217052     0.092273   \n",
       "4   Phenylalanine (F)     0.32  0.516061  0.322133  0.351724     0.104132   \n",
       "19       Tyrosine (Y)     0.42  0.812569  0.703994  0.856050     0.127747   \n",
       "9         Leucine (L)     0.54  0.872634  0.772678  0.837387     0.072573   \n",
       "17         Valine (V)     0.56  0.749149  0.627241  0.697898     0.081165   \n",
       "8          lysine (K)     0.60  0.321348  0.218634  0.128205     0.195829   \n",
       "7      Isoleucine (I)     1.00  0.880578  0.828866  0.777496     0.090576   \n",
       "10     Methionine (M)     1.12  1.169987  0.924257  0.519452     0.183090   \n",
       "1        Cysteine (C)     1.62  1.767490  1.999636  2.298462     0.230166   \n",
       "2   Aspartic acid (D)     1.89  2.656252  2.430546  2.454393     0.125522   \n",
       "11     Asparagine (N)     1.89  1.229798  1.546166  1.544805     0.125355   \n",
       "5         Glycine (G)     2.06  1.898392  1.987665  2.030548     0.081720   \n",
       "12        Proline (P)     2.59  1.729967  2.086462  1.984901     0.129979   \n",
       "15         Serine (S)     2.61  2.053989  2.261424  2.192358     0.103725   \n",
       "6       Histidine (H)     2.88  2.037241  2.287709  2.351690     0.161531   \n",
       "14       Arginine (R)     3.43  2.163854  2.432228  2.392245     0.238461   \n",
       "13      Glutamine (Q)     3.95  3.988674  3.970086  3.989600     0.105584   \n",
       "3   Glutamic acid (E)     3.95  4.250387  4.229443  4.282535     0.097766   \n",
       "0         Alanine (A)     4.00  3.524870  3.717970  3.702662     0.077260   \n",
       "\n",
       "      APE_ci    MPE_ci symbol  \n",
       "18  0.153386  0.343924      W  \n",
       "16  0.067590  0.146409      T  \n",
       "4   0.076863  0.179874      F  \n",
       "19  0.092779  0.226699      Y  \n",
       "9   0.051517  0.123785      L  \n",
       "17  0.057159  0.131372      V  \n",
       "8   0.137179  0.370234      K  \n",
       "7   0.065202  0.160899      I  \n",
       "10  0.135334  0.324111      M  \n",
       "1   0.179135  0.396897      C  \n",
       "2   0.086553  0.199359      D  \n",
       "11  0.090786  0.208980      N  \n",
       "5   0.058146  0.134700      G  \n",
       "12  0.093949  0.217626      P  \n",
       "15  0.071778  0.165216      S  \n",
       "6   0.110316  0.240560      H  \n",
       "14  0.165765  0.414017      R  \n",
       "13  0.070822  0.166100      Q  \n",
       "3   0.066747  0.168930      E  \n",
       "0   0.055748  0.128176      A  "
      ]
     },
     "execution_count": 110,
     "metadata": {},
     "output_type": "execute_result"
    }
   ],
   "source": [
    "data=pd.read_csv(r\"C:\\Workplace\\C++\\d2ome_restructure\\d2ome_restructure\\d2ome_GUI\\d2ome_GUI\\v2\\bin\\Debug\\Estimated_AA_neh_numbers_liverpool.csv\")\n",
    "data=data.dropna()\n",
    "data=data.sort_values(by=\"Tritium\")\n",
    "print(data.shape)\n",
    "data['symbol']=[x.split('(')[1].replace(')','') for x in data.AA_name]\n",
    "data.head(20)"
   ]
  },
  {
   "cell_type": "code",
   "execution_count": 105,
   "id": "8e68fbf3",
   "metadata": {},
   "outputs": [
    {
     "data": {
      "text/html": [
       "<div>\n",
       "<style scoped>\n",
       "    .dataframe tbody tr th:only-of-type {\n",
       "        vertical-align: middle;\n",
       "    }\n",
       "\n",
       "    .dataframe tbody tr th {\n",
       "        vertical-align: top;\n",
       "    }\n",
       "\n",
       "    .dataframe thead th {\n",
       "        text-align: right;\n",
       "    }\n",
       "</style>\n",
       "<table border=\"1\" class=\"dataframe\">\n",
       "  <thead>\n",
       "    <tr style=\"text-align: right;\">\n",
       "      <th></th>\n",
       "      <th>Tritium</th>\n",
       "      <th>Asym_NEH</th>\n",
       "      <th>APE</th>\n",
       "      <th>MPE</th>\n",
       "      <th>Asym_NEH_ci</th>\n",
       "      <th>APE_ci</th>\n",
       "      <th>MPE_ci</th>\n",
       "    </tr>\n",
       "  </thead>\n",
       "  <tbody>\n",
       "    <tr>\n",
       "      <th>Tritium</th>\n",
       "      <td>1.000000</td>\n",
       "      <td>0.927928</td>\n",
       "      <td>0.961534</td>\n",
       "      <td>0.944033</td>\n",
       "      <td>-0.046891</td>\n",
       "      <td>-0.091387</td>\n",
       "      <td>-0.086330</td>\n",
       "    </tr>\n",
       "    <tr>\n",
       "      <th>Asym_NEH</th>\n",
       "      <td>0.927928</td>\n",
       "      <td>1.000000</td>\n",
       "      <td>0.989498</td>\n",
       "      <td>0.982192</td>\n",
       "      <td>-0.172773</td>\n",
       "      <td>-0.205254</td>\n",
       "      <td>-0.206099</td>\n",
       "    </tr>\n",
       "    <tr>\n",
       "      <th>APE</th>\n",
       "      <td>0.961534</td>\n",
       "      <td>0.989498</td>\n",
       "      <td>1.000000</td>\n",
       "      <td>0.994909</td>\n",
       "      <td>-0.134986</td>\n",
       "      <td>-0.166513</td>\n",
       "      <td>-0.174853</td>\n",
       "    </tr>\n",
       "    <tr>\n",
       "      <th>MPE</th>\n",
       "      <td>0.944033</td>\n",
       "      <td>0.982192</td>\n",
       "      <td>0.994909</td>\n",
       "      <td>1.000000</td>\n",
       "      <td>-0.136094</td>\n",
       "      <td>-0.164247</td>\n",
       "      <td>-0.178448</td>\n",
       "    </tr>\n",
       "    <tr>\n",
       "      <th>Asym_NEH_ci</th>\n",
       "      <td>-0.046891</td>\n",
       "      <td>-0.172773</td>\n",
       "      <td>-0.134986</td>\n",
       "      <td>-0.136094</td>\n",
       "      <td>1.000000</td>\n",
       "      <td>0.994302</td>\n",
       "      <td>0.989828</td>\n",
       "    </tr>\n",
       "    <tr>\n",
       "      <th>APE_ci</th>\n",
       "      <td>-0.091387</td>\n",
       "      <td>-0.205254</td>\n",
       "      <td>-0.166513</td>\n",
       "      <td>-0.164247</td>\n",
       "      <td>0.994302</td>\n",
       "      <td>1.000000</td>\n",
       "      <td>0.986367</td>\n",
       "    </tr>\n",
       "    <tr>\n",
       "      <th>MPE_ci</th>\n",
       "      <td>-0.086330</td>\n",
       "      <td>-0.206099</td>\n",
       "      <td>-0.174853</td>\n",
       "      <td>-0.178448</td>\n",
       "      <td>0.989828</td>\n",
       "      <td>0.986367</td>\n",
       "      <td>1.000000</td>\n",
       "    </tr>\n",
       "  </tbody>\n",
       "</table>\n",
       "</div>"
      ],
      "text/plain": [
       "              Tritium  Asym_NEH       APE       MPE  Asym_NEH_ci    APE_ci  \\\n",
       "Tritium      1.000000  0.927928  0.961534  0.944033    -0.046891 -0.091387   \n",
       "Asym_NEH     0.927928  1.000000  0.989498  0.982192    -0.172773 -0.205254   \n",
       "APE          0.961534  0.989498  1.000000  0.994909    -0.134986 -0.166513   \n",
       "MPE          0.944033  0.982192  0.994909  1.000000    -0.136094 -0.164247   \n",
       "Asym_NEH_ci -0.046891 -0.172773 -0.134986 -0.136094     1.000000  0.994302   \n",
       "APE_ci      -0.091387 -0.205254 -0.166513 -0.164247     0.994302  1.000000   \n",
       "MPE_ci      -0.086330 -0.206099 -0.174853 -0.178448     0.989828  0.986367   \n",
       "\n",
       "               MPE_ci  \n",
       "Tritium     -0.086330  \n",
       "Asym_NEH    -0.206099  \n",
       "APE         -0.174853  \n",
       "MPE         -0.178448  \n",
       "Asym_NEH_ci  0.989828  \n",
       "APE_ci       0.986367  \n",
       "MPE_ci       1.000000  "
      ]
     },
     "execution_count": 105,
     "metadata": {},
     "output_type": "execute_result"
    }
   ],
   "source": [
    "data.corr()"
   ]
  },
  {
   "cell_type": "code",
   "execution_count": 121,
   "id": "6dad6197",
   "metadata": {},
   "outputs": [
    {
     "name": "stdout",
     "output_type": "stream",
     "text": [
      "Asym_NEH 0.3123419686185616 0.3293255106304882\n",
      "APE 0.18816937451530852 0.316889409113261\n",
      "MPE 0.22806661394917727 0.3957226056959602\n"
     ]
    }
   ],
   "source": [
    "Asym_NEH=abs(data.Tritium - data.Asym_NEH)/data.Tritium\n",
    "print('Asym_NEH',np.median(Asym_NEH),np.std(Asym_NEH))\n",
    "\n",
    "APE=abs(data.Tritium - data.APE)/data.Tritium\n",
    "print('APE',np.median(APE),np.std(APE))\n",
    "\n",
    "MPE=abs(data.Tritium - data.MPE)/data.Tritium\n",
    "print('MPE',np.median(MPE),np.std(MPE))"
   ]
  },
  {
   "cell_type": "code",
   "execution_count": 47,
   "id": "6993c792",
   "metadata": {},
   "outputs": [
    {
     "name": "stdout",
     "output_type": "stream",
     "text": [
      "(20, 8)\n"
     ]
    }
   ],
   "source": [
    "data2=pd.read_csv(r\"C:\\Workplace\\C++\\d2ome_restructure\\d2ome_restructure\\d2ome_GUI\\d2ome_GUI\\v2\\bin\\Debug\\Estimated_AA_neh_numbers_utmb.csv\")\n",
    "data2=data2.dropna()\n",
    "data2=data2.sort_values(by=\"Tritium\")\n",
    "print(data2.shape)\n",
    "data2['symbol']=[x.split('(')[1].replace(')','') for x in data2.AA_name]\n",
    "# data2.head(20)"
   ]
  },
  {
   "cell_type": "code",
   "execution_count": 107,
   "id": "c739e552",
   "metadata": {},
   "outputs": [
    {
     "data": {
      "text/html": [
       "<div>\n",
       "<style scoped>\n",
       "    .dataframe tbody tr th:only-of-type {\n",
       "        vertical-align: middle;\n",
       "    }\n",
       "\n",
       "    .dataframe tbody tr th {\n",
       "        vertical-align: top;\n",
       "    }\n",
       "\n",
       "    .dataframe thead th {\n",
       "        text-align: right;\n",
       "    }\n",
       "</style>\n",
       "<table border=\"1\" class=\"dataframe\">\n",
       "  <thead>\n",
       "    <tr style=\"text-align: right;\">\n",
       "      <th></th>\n",
       "      <th>Tritium</th>\n",
       "      <th>Asym_NEH</th>\n",
       "      <th>APE</th>\n",
       "      <th>MPE</th>\n",
       "      <th>Asym_NEH_ci</th>\n",
       "      <th>APE_ci</th>\n",
       "      <th>MPE_ci</th>\n",
       "    </tr>\n",
       "  </thead>\n",
       "  <tbody>\n",
       "    <tr>\n",
       "      <th>Tritium</th>\n",
       "      <td>1.000000</td>\n",
       "      <td>0.960243</td>\n",
       "      <td>0.977495</td>\n",
       "      <td>0.973000</td>\n",
       "      <td>-0.036546</td>\n",
       "      <td>-0.134728</td>\n",
       "      <td>-0.110489</td>\n",
       "    </tr>\n",
       "    <tr>\n",
       "      <th>Asym_NEH</th>\n",
       "      <td>0.960243</td>\n",
       "      <td>1.000000</td>\n",
       "      <td>0.988110</td>\n",
       "      <td>0.982794</td>\n",
       "      <td>0.009151</td>\n",
       "      <td>-0.057926</td>\n",
       "      <td>-0.029892</td>\n",
       "    </tr>\n",
       "    <tr>\n",
       "      <th>APE</th>\n",
       "      <td>0.977495</td>\n",
       "      <td>0.988110</td>\n",
       "      <td>1.000000</td>\n",
       "      <td>0.997902</td>\n",
       "      <td>-0.079337</td>\n",
       "      <td>-0.148829</td>\n",
       "      <td>-0.125647</td>\n",
       "    </tr>\n",
       "    <tr>\n",
       "      <th>MPE</th>\n",
       "      <td>0.973000</td>\n",
       "      <td>0.982794</td>\n",
       "      <td>0.997902</td>\n",
       "      <td>1.000000</td>\n",
       "      <td>-0.107479</td>\n",
       "      <td>-0.170329</td>\n",
       "      <td>-0.149236</td>\n",
       "    </tr>\n",
       "    <tr>\n",
       "      <th>Asym_NEH_ci</th>\n",
       "      <td>-0.036546</td>\n",
       "      <td>0.009151</td>\n",
       "      <td>-0.079337</td>\n",
       "      <td>-0.107479</td>\n",
       "      <td>1.000000</td>\n",
       "      <td>0.966259</td>\n",
       "      <td>0.968312</td>\n",
       "    </tr>\n",
       "    <tr>\n",
       "      <th>APE_ci</th>\n",
       "      <td>-0.134728</td>\n",
       "      <td>-0.057926</td>\n",
       "      <td>-0.148829</td>\n",
       "      <td>-0.170329</td>\n",
       "      <td>0.966259</td>\n",
       "      <td>1.000000</td>\n",
       "      <td>0.996420</td>\n",
       "    </tr>\n",
       "    <tr>\n",
       "      <th>MPE_ci</th>\n",
       "      <td>-0.110489</td>\n",
       "      <td>-0.029892</td>\n",
       "      <td>-0.125647</td>\n",
       "      <td>-0.149236</td>\n",
       "      <td>0.968312</td>\n",
       "      <td>0.996420</td>\n",
       "      <td>1.000000</td>\n",
       "    </tr>\n",
       "  </tbody>\n",
       "</table>\n",
       "</div>"
      ],
      "text/plain": [
       "              Tritium  Asym_NEH       APE       MPE  Asym_NEH_ci    APE_ci  \\\n",
       "Tritium      1.000000  0.960243  0.977495  0.973000    -0.036546 -0.134728   \n",
       "Asym_NEH     0.960243  1.000000  0.988110  0.982794     0.009151 -0.057926   \n",
       "APE          0.977495  0.988110  1.000000  0.997902    -0.079337 -0.148829   \n",
       "MPE          0.973000  0.982794  0.997902  1.000000    -0.107479 -0.170329   \n",
       "Asym_NEH_ci -0.036546  0.009151 -0.079337 -0.107479     1.000000  0.966259   \n",
       "APE_ci      -0.134728 -0.057926 -0.148829 -0.170329     0.966259  1.000000   \n",
       "MPE_ci      -0.110489 -0.029892 -0.125647 -0.149236     0.968312  0.996420   \n",
       "\n",
       "               MPE_ci  \n",
       "Tritium     -0.110489  \n",
       "Asym_NEH    -0.029892  \n",
       "APE         -0.125647  \n",
       "MPE         -0.149236  \n",
       "Asym_NEH_ci  0.968312  \n",
       "APE_ci       0.996420  \n",
       "MPE_ci       1.000000  "
      ]
     },
     "execution_count": 107,
     "metadata": {},
     "output_type": "execute_result"
    }
   ],
   "source": [
    "data2.corr()"
   ]
  },
  {
   "cell_type": "code",
   "execution_count": 122,
   "id": "6b26872d",
   "metadata": {},
   "outputs": [
    {
     "name": "stdout",
     "output_type": "stream",
     "text": [
      "Asym_NEH 0.2538145036582212 0.4537068861890837\n",
      "APE 0.15132494639906272 0.21464931517495656\n",
      "MPE 0.1397974221908759 0.22521664071084097\n"
     ]
    }
   ],
   "source": [
    "Asym_NEH=abs(data2.Tritium - data2.Asym_NEH)/data2.Tritium\n",
    "print('Asym_NEH',np.median(Asym_NEH),np.std(Asym_NEH))\n",
    "\n",
    "APE=abs(data2.Tritium - data2.APE)/data2.Tritium\n",
    "print('APE',np.median(APE),np.std(APE))\n",
    "\n",
    "MPE=abs(data2.Tritium - data2.MPE)/data2.Tritium\n",
    "print('MPE',np.median(MPE),np.std(MPE))"
   ]
  },
  {
   "cell_type": "code",
   "execution_count": 102,
   "id": "0d01dca4",
   "metadata": {},
   "outputs": [],
   "source": [
    "def plot_neh_aa(input_data,filename):\n",
    "    cols=['Asym_NEH', 'APE', 'MPE']\n",
    "    col_cis=['Asym_NEH_ci', 'APE_ci','MPE_ci']\n",
    "    plt.rc('font', size=17) \n",
    "    plt.rc('figure', figsize=(18,7)) \n",
    "    plt.errorbar(range(0,40,2), input_data['Tritium'], [0]*20,fmt ='*',mfc='r',color=\"r\",ms=10)\n",
    "    \n",
    "    cs=['m','b','g']\n",
    "    label=['Asymp', 'APE', 'MPE']\n",
    "    \n",
    "    for i in range(3):\n",
    "        col=cols[i]\n",
    "        col_ci=col_cis[i] \n",
    "        if i ==0: k=-1\n",
    "        else: k= i\n",
    "            \n",
    "        print(\"============> \",col,\"\\t\")\n",
    "        plt.errorbar([x+0.3*k for x in range(0,40,2)], input_data[col], input_data[col_ci],\n",
    "                     fmt ='o',mfc=cs[i],color=cs[i],ms=6,label=label[i],capsize=5)\n",
    "    \n",
    "    plt.xticks(range(0,40,2),input_data.AA_name,rotation=90)\n",
    "    plt.ylabel(\"Number of exchangeable hydrogens\")    \n",
    "    \n",
    "    plt.legend()\n",
    "    plt.savefig(filename+\"_CI.jpeg\",dpi=900,bbox_inches='tight')\n",
    "    plt.show()"
   ]
  },
  {
   "cell_type": "code",
   "execution_count": 103,
   "id": "91143add",
   "metadata": {
    "scrolled": false
   },
   "outputs": [
    {
     "name": "stdout",
     "output_type": "stream",
     "text": [
      "============>  Asym_NEH \t\n",
      "============>  APE \t\n",
      "============>  MPE \t\n"
     ]
    },
    {
     "data": {
      "image/png": "[encoded data removed]",
      "text/plain": [
       "<Figure size 1296x504 with 1 Axes>"
      ]
     },
     "metadata": {
      "needs_background": "light"
     },
     "output_type": "display_data"
    },
    {
     "name": "stdout",
     "output_type": "stream",
     "text": [
      "============>  Asym_NEH \t\n",
      "============>  APE \t\n",
      "============>  MPE \t\n"
     ]
    },
    {
     "data": {
      "image/png": "[encoded data removed]",
      "text/plain": [
       "<Figure size 1296x504 with 1 Axes>"
      ]
     },
     "metadata": {
      "needs_background": "light"
     },
     "output_type": "display_data"
    }
   ],
   "source": [
    "plot_neh_aa(data,'data1')\n",
    "plot_neh_aa(data2,'data2')"
   ]
  },
  {
   "cell_type": "code",
   "execution_count": 59,
   "id": "72c4a084",
   "metadata": {},
   "outputs": [],
   "source": [
    "# def plot_neh_aa(input_data):\n",
    "#     plt.rc('font', size=17)\n",
    "#     plt.rc('figure', figsize=(14,14)) \n",
    "#     cols=['Asym_NEH', 'APE', 'MPE']\n",
    "#     col_cis=['Asym_NEH_ci', 'APE_ci','MPE_ci']\n",
    "#     plt.errorbar( input_data['Tritium'],range(0,40,2), [0]*20,fmt ='o',mfc='r',color=\"r\",ms=6)\n",
    "#     plt.yticks(range(0,40,2),input_data.AA_name)\n",
    "#     cs=['m','b','g']\n",
    "\n",
    "#     for i in range(3):\n",
    "#         col=cols[i]\n",
    "#         col_ci=col_cis[i] \n",
    "#         print(\"============> \",col,\"\\t\")\n",
    "#         plt.errorbar( x=input_data[col],y=[x+0.5*i for x in range(0,40,2)], xerr=input_data[col_ci],fmt ='o',mfc=cs[i],color=cs[i],ms=6,label=cols[i])\n",
    "        \n",
    "#         plt.xlabel(\"NEH\")    \n",
    "#         plt.savefig(col+\"_CI.jpeg\",dpi=900,bbox_inches='tight')\n",
    "#     plt.legend()\n",
    "#     plt.show()\n",
    "# plot_neh_aa(data2)"
   ]
  },
  {
   "cell_type": "code",
   "execution_count": null,
   "id": "85363877",
   "metadata": {},
   "outputs": [],
   "source": []
  },
  {
   "cell_type": "code",
   "execution_count": null,
   "id": "ac265bd4",
   "metadata": {},
   "outputs": [],
   "source": []
  },
  {
   "cell_type": "code",
   "execution_count": null,
   "id": "24bc9ade",
   "metadata": {},
   "outputs": [],
   "source": []
  },
  {
   "cell_type": "code",
   "execution_count": null,
   "id": "9d847ace",
   "metadata": {},
   "outputs": [],
   "source": []
  },
  {
   "cell_type": "code",
   "execution_count": null,
   "id": "393b7c8c",
   "metadata": {},
   "outputs": [],
   "source": []
  },
  {
   "cell_type": "code",
   "execution_count": null,
   "id": "19e41aa1",
   "metadata": {},
   "outputs": [],
   "source": []
  },
  {
   "cell_type": "code",
   "execution_count": null,
   "id": "e690f277",
   "metadata": {},
   "outputs": [],
   "source": []
  },
  {
   "cell_type": "code",
   "execution_count": null,
   "id": "e1d6adaf",
   "metadata": {},
   "outputs": [],
   "source": []
  },
  {
   "cell_type": "code",
   "execution_count": 3,
   "id": "34b53db7",
   "metadata": {},
   "outputs": [],
   "source": [
    "# # plt.scatter(data.Tritium,data.Tritium)\n",
    "# plt.scatter(data.Tritium,data.APE)\n",
    "# plt.scatter(data.Tritium,data.MPE)"
   ]
  },
  {
   "cell_type": "code",
   "execution_count": 4,
   "id": "1ebc18be",
   "metadata": {
    "scrolled": true
   },
   "outputs": [],
   "source": [
    "# cols=['Asym_NEH', 'APE', 'MPE']\n",
    "# col_cis=['Asym_NEH_ci', 'APE_ci','MPE_ci']\n",
    "\n",
    "# for i in range(3):\n",
    "#     col=cols[i]\n",
    "#     col_ci=col_cis[i] \n",
    "#     print(\"============> \",col,\"\\t\")\n",
    "#     plt.rc('font', size=17) \n",
    "#     plt.rc('figure', figsize=(12,7)) \n",
    "#     plt.errorbar(range(20), data[col], data[col_ci],fmt ='o',mfc='r',color=\"r\",ms=6)\n",
    "#     plt.errorbar(range(20), data['Tritium'], [0]*20,fmt ='o',mfc='m',color=\"m\",ms=6)\n",
    "# #     plt.xticks(range(20),[x.upper() for x in ['a', 'c', 'd', 'e', 'f', 'g', 'h', 'i', 'k', 'l', 'm', 'n', 'p','q', 'r', 's', 't', 'v', 'w', 'y']])\n",
    "#     plt.xticks(range(20),data.symbol)\n",
    "#     plt.ylabel(\"NEH\")    \n",
    "#     plt.savefig(col+\"_CI.jpeg\",dpi=900,bbox_inches='tight')\n",
    "#     plt.show()"
   ]
  },
  {
   "cell_type": "code",
   "execution_count": 16,
   "id": "23c401a1",
   "metadata": {},
   "outputs": [],
   "source": [
    "# cols=['Asym_NEH', 'APE', 'MPE']\n",
    "# col_cis=['Asym_NEH_ci', 'APE_ci','MPE_ci']\n",
    "# plt.errorbar(range(0,40,2), data['Tritium'], [0]*20,fmt ='o',mfc='r',color=\"r\",ms=6)\n",
    "# cs=['m','b','g']\n",
    "\n",
    "# for i in range(3):\n",
    "#     col=cols[i]\n",
    "#     col_ci=col_cis[i] \n",
    "#     print(\"============> \",col,\"\\t\")\n",
    "#     plt.rc('font', size=17) \n",
    "#     plt.rc('figure', figsize=(18,7)) \n",
    "#     plt.errorbar([x+0.3*i for x in range(0,40,2)], data[col], data[col_ci],fmt ='o',mfc=cs[i],color=cs[i],ms=6,label=cols[i])\n",
    "#     plt.xticks(range(0,40,2),data.symbol)\n",
    "#     plt.ylabel(\"NEH\")    \n",
    "#     plt.savefig(col+\"_CI.jpeg\",dpi=900,bbox_inches='tight')\n",
    "# plt.legend()"
   ]
  },
  {
   "cell_type": "code",
   "execution_count": null,
   "id": "021fc1f4",
   "metadata": {},
   "outputs": [],
   "source": []
  },
  {
   "cell_type": "code",
   "execution_count": 17,
   "id": "2da900f1",
   "metadata": {
    "scrolled": true
   },
   "outputs": [
    {
     "name": "stdout",
     "output_type": "stream",
     "text": [
      "(20, 8)\n"
     ]
    }
   ],
   "source": []
  },
  {
   "cell_type": "code",
   "execution_count": 14,
   "id": "619c1985",
   "metadata": {},
   "outputs": [],
   "source": [
    "def plot_neh_aa(data):\n",
    "    cols=['Asym_NEH', 'APE', 'MPE']\n",
    "    col_cis=['Asym_NEH_ci', 'APE_ci','MPE_ci']\n",
    "    plt.errorbar(range(0,40,2), data2['Tritium'], [0]*20,fmt ='o',mfc='r',color=\"r\",ms=6)\n",
    "    cs=['m','b','g']\n",
    "\n",
    "    for i in range(3):\n",
    "        col=cols[i]\n",
    "        col_ci=col_cis[i] \n",
    "        print(\"============> \",col,\"\\t\")\n",
    "        plt.rc('font', size=17) \n",
    "        plt.rc('figure', figsize=(18,7)) \n",
    "        plt.errorbar([x+0.3*i for x in range(0,40,2)], data2[col], data2[col_ci],fmt ='o',mfc=cs[i],color=cs[i],ms=6,label=cols[i])\n",
    "        plt.xticks(range(0,40,2),data2.symbol)\n",
    "        plt.ylabel(\"NEH\")    \n",
    "        plt.savefig(col+\"_CI.jpeg\",dpi=900,bbox_inches='tight')\n",
    "    plt.legend()\n",
    "    plt.show()"
   ]
  },
  {
   "cell_type": "code",
   "execution_count": 15,
   "id": "01efddd1",
   "metadata": {},
   "outputs": [
    {
     "name": "stdout",
     "output_type": "stream",
     "text": [
      "============>  Asym_NEH \t\n",
      "============>  APE \t\n",
      "============>  MPE \t\n"
     ]
    },
    {
     "data": {
      "image/png": "[encoded data removed]",
      "text/plain": [
       "<Figure size 1296x504 with 1 Axes>"
      ]
     },
     "metadata": {
      "needs_background": "light"
     },
     "output_type": "display_data"
    },
    {
     "name": "stdout",
     "output_type": "stream",
     "text": [
      "============>  Asym_NEH \t\n",
      "============>  APE \t\n",
      "============>  MPE \t\n"
     ]
    },
    {
     "data": {
      "image/png": "[encoded data removed]",
      "text/plain": [
       "<Figure size 1296x504 with 1 Axes>"
      ]
     },
     "metadata": {
      "needs_background": "light"
     },
     "output_type": "display_data"
    }
   ],
   "source": [
    "plot_neh_aa(data)\n",
    "plot_neh_aa(data2)"
   ]
  },
  {
   "cell_type": "code",
   "execution_count": 8,
   "id": "7e08d236",
   "metadata": {},
   "outputs": [],
   "source": [
    "# plt.rc('font', size=17) \n",
    "# plt.rc('figure', figsize=(9,9)) \n",
    "# plt.scatter(data.Asym_NEH,data2.Asym_NEH)\n",
    "# # plt.scatter(data.APE,data2.APE)\n",
    "# # plt.scatter(data.MPE,data2.MPE)"
   ]
  },
  {
   "cell_type": "code",
   "execution_count": null,
   "id": "adc66213",
   "metadata": {},
   "outputs": [],
   "source": []
  },
  {
   "cell_type": "code",
   "execution_count": null,
   "id": "04ec6536",
   "metadata": {},
   "outputs": [],
   "source": []
  },
  {
   "cell_type": "code",
   "execution_count": null,
   "id": "03d63e22",
   "metadata": {},
   "outputs": [],
   "source": []
  },
  {
   "cell_type": "code",
   "execution_count": null,
   "id": "a3da556a",
   "metadata": {},
   "outputs": [],
   "source": []
  },
  {
   "cell_type": "code",
   "execution_count": null,
   "id": "5584a72f",
   "metadata": {},
   "outputs": [],
   "source": []
  },
  {
   "cell_type": "code",
   "execution_count": null,
   "id": "6d7e319b",
   "metadata": {},
   "outputs": [],
   "source": []
  },
  {
   "cell_type": "code",
   "execution_count": null,
   "id": "3553cb89",
   "metadata": {},
   "outputs": [],
   "source": []
  },
  {
   "cell_type": "code",
   "execution_count": null,
   "id": "ea05741d",
   "metadata": {},
   "outputs": [],
   "source": []
  },
  {
   "cell_type": "code",
   "execution_count": null,
   "id": "1221f498",
   "metadata": {},
   "outputs": [],
   "source": []
  },
  {
   "cell_type": "code",
   "execution_count": null,
   "id": "0dc1fe55",
   "metadata": {},
   "outputs": [],
   "source": []
  },
  {
   "cell_type": "code",
   "execution_count": null,
   "id": "a567f6e9",
   "metadata": {},
   "outputs": [],
   "source": []
  },
  {
   "cell_type": "code",
   "execution_count": null,
   "id": "fd9641cf",
   "metadata": {},
   "outputs": [],
   "source": []
  },
  {
   "cell_type": "code",
   "execution_count": null,
   "id": "5784d20c",
   "metadata": {},
   "outputs": [],
   "source": []
  },
  {
   "cell_type": "code",
   "execution_count": null,
   "id": "ad108c2c",
   "metadata": {},
   "outputs": [],
   "source": []
  },
  {
   "cell_type": "code",
   "execution_count": 9,
   "id": "aeeb1633",
   "metadata": {},
   "outputs": [
    {
     "ename": "AttributeError",
     "evalue": "'DataFrame' object has no attribute 'Asym_RMSE'",
     "output_type": "error",
     "traceback": [
      "\u001b[1;31m---------------------------------------------------------------------------\u001b[0m",
      "\u001b[1;31mAttributeError\u001b[0m                            Traceback (most recent call last)",
      "Input \u001b[1;32mIn [9]\u001b[0m, in \u001b[0;36m<cell line: 1>\u001b[1;34m()\u001b[0m\n\u001b[1;32m----> 1\u001b[0m (data[\u001b[43mdata\u001b[49m\u001b[38;5;241;43m.\u001b[39;49m\u001b[43mAsym_RMSE\u001b[49m \u001b[38;5;241m<\u001b[39m \u001b[38;5;241m0.01\u001b[39m]\u001b[38;5;241m.\u001b[39mshape[\u001b[38;5;241m0\u001b[39m],\n\u001b[0;32m      2\u001b[0m data[data\u001b[38;5;241m.\u001b[39mAPE_RMSE \u001b[38;5;241m<\u001b[39m \u001b[38;5;241m0.01\u001b[39m]\u001b[38;5;241m.\u001b[39mshape[\u001b[38;5;241m0\u001b[39m],\n\u001b[0;32m      3\u001b[0m data[data\u001b[38;5;241m.\u001b[39mMPE_RMSE \u001b[38;5;241m<\u001b[39m \u001b[38;5;241m0.01\u001b[39m]\u001b[38;5;241m.\u001b[39mshape[\u001b[38;5;241m0\u001b[39m])\n",
      "File \u001b[1;32m~\\.conda\\envs\\myenv\\lib\\site-packages\\pandas\\core\\generic.py:5583\u001b[0m, in \u001b[0;36mNDFrame.__getattr__\u001b[1;34m(self, name)\u001b[0m\n\u001b[0;32m   5576\u001b[0m \u001b[38;5;28;01mif\u001b[39;00m (\n\u001b[0;32m   5577\u001b[0m     name \u001b[38;5;129;01mnot\u001b[39;00m \u001b[38;5;129;01min\u001b[39;00m \u001b[38;5;28mself\u001b[39m\u001b[38;5;241m.\u001b[39m_internal_names_set\n\u001b[0;32m   5578\u001b[0m     \u001b[38;5;129;01mand\u001b[39;00m name \u001b[38;5;129;01mnot\u001b[39;00m \u001b[38;5;129;01min\u001b[39;00m \u001b[38;5;28mself\u001b[39m\u001b[38;5;241m.\u001b[39m_metadata\n\u001b[0;32m   5579\u001b[0m     \u001b[38;5;129;01mand\u001b[39;00m name \u001b[38;5;129;01mnot\u001b[39;00m \u001b[38;5;129;01min\u001b[39;00m \u001b[38;5;28mself\u001b[39m\u001b[38;5;241m.\u001b[39m_accessors\n\u001b[0;32m   5580\u001b[0m     \u001b[38;5;129;01mand\u001b[39;00m \u001b[38;5;28mself\u001b[39m\u001b[38;5;241m.\u001b[39m_info_axis\u001b[38;5;241m.\u001b[39m_can_hold_identifiers_and_holds_name(name)\n\u001b[0;32m   5581\u001b[0m ):\n\u001b[0;32m   5582\u001b[0m     \u001b[38;5;28;01mreturn\u001b[39;00m \u001b[38;5;28mself\u001b[39m[name]\n\u001b[1;32m-> 5583\u001b[0m \u001b[38;5;28;01mreturn\u001b[39;00m \u001b[38;5;28;43mobject\u001b[39;49m\u001b[38;5;241;43m.\u001b[39;49m\u001b[38;5;21;43m__getattribute__\u001b[39;49m\u001b[43m(\u001b[49m\u001b[38;5;28;43mself\u001b[39;49m\u001b[43m,\u001b[49m\u001b[43m \u001b[49m\u001b[43mname\u001b[49m\u001b[43m)\u001b[49m\n",
      "\u001b[1;31mAttributeError\u001b[0m: 'DataFrame' object has no attribute 'Asym_RMSE'"
     ]
    }
   ],
   "source": [
    "(data[data.Asym_RMSE < 0.01].shape[0],\n",
    "data[data.APE_RMSE < 0.01].shape[0],\n",
    "data[data.MPE_RMSE < 0.01].shape[0])"
   ]
  },
  {
   "cell_type": "code",
   "execution_count": null,
   "id": "94dd9c17",
   "metadata": {},
   "outputs": [],
   "source": [
    "(100*data[data.Asym_RMSE < 0.01].shape[0]/data.shape[0],\n",
    "100*data[data.APE_RMSE < 0.01].shape[0]/data.shape[0],\n",
    "100*data[data.MPE_RMSE < 0.01].shape[0]/data.shape[0])"
   ]
  },
  {
   "cell_type": "code",
   "execution_count": null,
   "id": "6b366cac",
   "metadata": {},
   "outputs": [],
   "source": [
    "import numpy as np\n",
    "import seaborn as sns\n",
    "plt.rc('font', size=15) \n",
    "plt.figure(figsize=(8,8))\n",
    "sns.kdeplot(data.MPE_RMSE, bw=0.3,label='MPE')\n",
    "sns.kdeplot(data.Asym_RMSE, bw=0.25,label='Asymp')\n",
    "sns.kdeplot(data.APE_RMSE, bw=0.55,label='APE')\n",
    "sns.kdeplot(data.il_rmse, bw=0.3,label='Ilchenko et al.')\n",
    "plt.xlabel('RMSE')\n",
    "plt.legend()\n",
    "\n",
    "plt.savefig(\"rmse_utmb.jpeg\",dpi=900,bbox_inches='tight')"
   ]
  },
  {
   "cell_type": "code",
   "execution_count": null,
   "id": "731f7503",
   "metadata": {
    "scrolled": false
   },
   "outputs": [],
   "source": [
    "plt.rc('font', size=15) \n",
    "plt.figure(figsize=(8,8))\n",
    "plt.scatter(data.T_NEH,data.Asym_NEH,alpha=0.5,\n",
    "            label='r = '+'{0:.2f}'.format(np.corrcoef(data.T_NEH,data.Asym_NEH)[0][1]),c='k')\n",
    "plt.plot(data.T_NEH,data.T_NEH,ls=\"-.\",c='r')\n",
    "plt.xlabel(\"NEH (Tritium)\")\n",
    "plt.ylabel(\"Estimation of NEH using the \\nmonoisotopic RIA at the plateau of labeling\")\n",
    "plt.legend()\n",
    "plt.savefig(\"asym_utmb.jpeg\",dpi=900,bbox_inches='tight')\n",
    "plt.show()\n",
    "\n",
    "plt.rc('font', size=15) \n",
    "plt.figure(figsize=(8,8))\n",
    "plt.scatter(data.T_NEH,data.APE_NEH,alpha=0.5,\n",
    "            label='r = '+'{0:.2f}'.format(np.corrcoef(data.T_NEH,data.APE_NEH)[0][1]),c='k')\n",
    "plt.plot(data.T_NEH,data.T_NEH,ls=\"-.\",c='r')\n",
    "plt.xlabel(\"NEH (Tritium)\")\n",
    "plt.ylabel(\"Estimation of NEH using  \\nAtomic percent excess (APE) \")\n",
    "plt.legend()\n",
    "plt.savefig(\"ape_utmb.jpeg\",dpi=900,bbox_inches='tight')\n",
    "plt.show()\n",
    "\n",
    "plt.rc('font', size=15) \n",
    "plt.figure(figsize=(8,8))\n",
    "plt.scatter(data.T_NEH,data.MPE_NEH,alpha=0.5,\n",
    "            label='r = '+'{0:.2f}'.format(np.corrcoef(data.T_NEH,data.MPE_NEH)[0][1]),c='k')\n",
    "plt.plot(data.T_NEH,data.T_NEH,ls=\"-.\",c='r')\n",
    "plt.xlabel(\"NEH (Tritium)\")\n",
    "plt.ylabel(\"Estimation of NEH using \\nMolecular percent enrichment (MPE)\")\n",
    "plt.legend()\n",
    "plt.savefig(\"mpe_utmb.jpeg\",dpi=900,bbox_inches='tight')\n",
    "plt.show()\n",
    "\n",
    "# plt.rc('font', size=15) \n",
    "# plt.figure(figsize=(8,8))\n",
    "# plt.scatter(data.T_NEH,data.sd_neh,alpha=0.5,label='sd',c='k')\n",
    "# plt.plot(data.T_NEH,data.T_NEH,ls=\"-.\",c='r')\n",
    "# plt.xlabel(\"NEH (Tritium)\")\n",
    "# plt.ylabel(\"Estimation of NEH using the \\nmonoisotopic RIA at the plateau of labeling\")\n",
    "# plt.legend()\n",
    "# plt.show()\n",
    "\n",
    "plt.rc('font', size=15) \n",
    "plt.figure(figsize=(8,8))\n",
    "plt.scatter(data.T_NEH,data.il_neh,alpha=0.5,\n",
    "            label='r = '+'{0:.2f}'.format(np.corrcoef(data.T_NEH,data.il_neh)[0][1]),c='k')\n",
    "plt.plot(data.T_NEH,data.T_NEH,ls=\"-.\",c='r')\n",
    "plt.xlabel(\"NEH (Tritium)\")\n",
    "plt.ylabel(\"NEH (Ilchenko et al.)\")\n",
    "plt.legend()\n",
    "plt.savefig(\"lich_utmb.jpeg\",dpi=900,bbox_inches='tight')\n",
    "plt.show()"
   ]
  },
  {
   "cell_type": "code",
   "execution_count": null,
   "id": "201f8e6b",
   "metadata": {},
   "outputs": [],
   "source": [
    "data=pd.read_csv(r\"C:\\Workplace\\Python\\AnalysisForThePaper\\NEH\\second_round\\D2O_NEH\\neh_from_formula_utmb.csv\")\n",
    "data.columns"
   ]
  },
  {
   "cell_type": "code",
   "execution_count": null,
   "id": "cecb6b47",
   "metadata": {},
   "outputs": [],
   "source": [
    "# plt.scatter(data['data.T_NEH'],data.neh,alpha=0.5,label='il_neh',c='k')\n",
    "# plt.plot(data['data.T_NEH'],data['data.T_NEH'],ls=\"-.\",c='r')\n",
    "# plt.legend()\n",
    "# plt.show()"
   ]
  },
  {
   "cell_type": "code",
   "execution_count": null,
   "id": "19bd491a",
   "metadata": {},
   "outputs": [],
   "source": [
    "plt.rc('font', size=15) \n",
    "plt.figure(figsize=(8,8))\n",
    "plt.scatter(data['data.T_NEH'],data.neh,alpha=0.5,\n",
    "            label='r = '+'{0:.2f}'.format(np.corrcoef(data['data.T_NEH'],data.neh)[0][1]),c='k')\n",
    "plt.plot(data['data.T_NEH'],data['data.T_NEH'],ls=\"-.\",c='r')\n",
    "plt.xlabel(\"NEH (Tritium)\")\n",
    "plt.ylabel(\"NEH (using the Simultaneous \\nestimation of label enrichment and NEH method)\")\n",
    "plt.legend()\n",
    "plt.savefig(\"simul_utmb.jpeg\",dpi=900,bbox_inches='tight')\n",
    "plt.show()"
   ]
  },
  {
   "cell_type": "code",
   "execution_count": null,
   "id": "79e37c31",
   "metadata": {},
   "outputs": [],
   "source": []
  },
  {
   "cell_type": "code",
   "execution_count": null,
   "id": "c70fdac9",
   "metadata": {},
   "outputs": [],
   "source": []
  },
  {
   "cell_type": "code",
   "execution_count": null,
   "id": "74625589",
   "metadata": {},
   "outputs": [],
   "source": []
  }
 ],
 "metadata": {
  "kernelspec": {
   "display_name": "Python 3 (ipykernel)",
   "language": "python",
   "name": "python3"
  },
  "language_info": {
   "codemirror_mode": {
    "name": "ipython",
    "version": 3
   },
   "file_extension": ".py",
   "mimetype": "text/x-python",
   "name": "python",
   "nbconvert_exporter": "python",
   "pygments_lexer": "ipython3",
   "version": "3.9.11"
  }
 },
 "nbformat": 4,
 "nbformat_minor": 5
}
