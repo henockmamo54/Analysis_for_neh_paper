{
 "cells": [
  {
   "cell_type": "code",
   "execution_count": 151,
   "id": "0e0f6748",
   "metadata": {},
   "outputs": [],
   "source": [
    "import os\n",
    "import math\n",
    "import random\n",
    "import warnings\n",
    "import numpy as np\n",
    "import pandas as pd \n",
    "from sklearn import metrics\n",
    "from matplotlib import pyplot as plt\n",
    "\n",
    "warnings.filterwarnings(\"ignore\")"
   ]
  },
  {
   "cell_type": "code",
   "execution_count": 152,
   "id": "c0783817",
   "metadata": {},
   "outputs": [
    {
     "name": "stdout",
     "output_type": "stream",
     "text": [
      "(169271, 28)\n"
     ]
    }
   ],
   "source": [
    "# data=pd.read_csv(r\"C:\\Workplace\\Python\\AnalysisForThePaper\\NEH\\second_round\\D2O_NEH\\res_theo_exp1.csv\")\n",
    "data=pd.read_csv(r\"C:\\Workplace\\Python\\AnalysisForThePaper\\NEH\\second_round\\D2O_NEH\\sim_all_no_noise.csv\")\n",
    "data.columns=['pep','a','b','cpxt','pxt','neh','cneh','b1','b2','b3','a1','a2','delta1','delta2','rmse',\n",
    "             'a20','a21','a22','a23',\n",
    "             'b20','b21','b22','b23','b24','b25','i0','i1','i2']\n",
    "data=data[data.pxt<=0.06]\n",
    "data=data.drop_duplicates()\n",
    "print(data.shape)"
   ]
  },
  {
   "cell_type": "code",
   "execution_count": 153,
   "id": "9b2932ee",
   "metadata": {},
   "outputs": [
    {
     "name": "stdout",
     "output_type": "stream",
     "text": [
      "(169271, 28)\n"
     ]
    }
   ],
   "source": [
    "data2=pd.read_csv(r\"C:\\Workplace\\Python\\AnalysisForThePaper\\NEH\\second_round\\D2O_NEH\\sim_i1_noise.csv\")\n",
    "data2.columns=['pep','a','b','cpxt','pxt','neh','cneh','b1','b2','b3','a1','a2','delta1','delta2','rmse',\n",
    "             'a20','a21','a22','a23',\n",
    "             'b20','b21','b22','b23','b24','b25','i0','i1','i2']\n",
    "data2=data2[data2.pxt<=0.06]\n",
    "data2=data2.drop_duplicates()\n",
    "print(data2.shape)"
   ]
  },
  {
   "cell_type": "code",
   "execution_count": 154,
   "id": "7d3368fa",
   "metadata": {},
   "outputs": [
    {
     "name": "stdout",
     "output_type": "stream",
     "text": [
      "(169271, 14)\n"
     ]
    }
   ],
   "source": [
    "data=data[['pep','cpxt','pxt','delta1','delta2','i0','i1','i2']]\n",
    "data2=data2[['pep','cpxt','pxt','delta1','delta2','i0','i1','i2']]\n",
    "\n",
    "temp_merged=data.merge(data2,on=['pep','pxt'])\n",
    "print(temp_merged.shape)\n"
   ]
  },
  {
   "cell_type": "code",
   "execution_count": 155,
   "id": "b7de5557",
   "metadata": {},
   "outputs": [],
   "source": [
    "# def new_pxt(pxt,delta2_x,delta1_x,i1_x,i0_x,i2_x):\n",
    "#     return 1 +(0.5/( (delta2_x/delta1_x) - (i1_x/i0_x) + (0.5*delta1_x) - 0.5))\n",
    "def new_pxt(delta2_x,delta1_x,i1_x,i0_x):\n",
    "    return 1 +((delta1_x*0.5)/( (delta2_x) - (delta1_x*i1_x/i0_x) + (0.5*delta1_x*delta1_x) - 0.5*delta1_x))"
   ]
  },
  {
   "cell_type": "code",
   "execution_count": 156,
   "id": "f47931f9",
   "metadata": {},
   "outputs": [
    {
     "data": {
      "text/html": [
       "<div>\n",
       "<style scoped>\n",
       "    .dataframe tbody tr th:only-of-type {\n",
       "        vertical-align: middle;\n",
       "    }\n",
       "\n",
       "    .dataframe tbody tr th {\n",
       "        vertical-align: top;\n",
       "    }\n",
       "\n",
       "    .dataframe thead th {\n",
       "        text-align: right;\n",
       "    }\n",
       "</style>\n",
       "<table border=\"1\" class=\"dataframe\">\n",
       "  <thead>\n",
       "    <tr style=\"text-align: right;\">\n",
       "      <th></th>\n",
       "      <th>pep</th>\n",
       "      <th>cpxt_x</th>\n",
       "      <th>pxt</th>\n",
       "      <th>delta1_x</th>\n",
       "      <th>delta2_x</th>\n",
       "      <th>i0_x</th>\n",
       "      <th>i1_x</th>\n",
       "      <th>i2_x</th>\n",
       "      <th>cpxt_y</th>\n",
       "      <th>delta1_y</th>\n",
       "      <th>delta2_y</th>\n",
       "      <th>i0_y</th>\n",
       "      <th>i1_y</th>\n",
       "      <th>i2_y</th>\n",
       "    </tr>\n",
       "  </thead>\n",
       "  <tbody>\n",
       "    <tr>\n",
       "      <th>0</th>\n",
       "      <td>DSTLIMQLLR</td>\n",
       "      <td>0.0591</td>\n",
       "      <td>0.0591</td>\n",
       "      <td>1.005318</td>\n",
       "      <td>1.128255</td>\n",
       "      <td>0.183086</td>\n",
       "      <td>0.303286</td>\n",
       "      <td>0.258738</td>\n",
       "      <td>-0.019583</td>\n",
       "      <td>0.980377</td>\n",
       "      <td>1.128255</td>\n",
       "      <td>0.183086</td>\n",
       "      <td>0.298719</td>\n",
       "      <td>0.258738</td>\n",
       "    </tr>\n",
       "  </tbody>\n",
       "</table>\n",
       "</div>"
      ],
      "text/plain": [
       "          pep  cpxt_x     pxt  delta1_x  delta2_x      i0_x      i1_x  \\\n",
       "0  DSTLIMQLLR  0.0591  0.0591  1.005318  1.128255  0.183086  0.303286   \n",
       "\n",
       "       i2_x    cpxt_y  delta1_y  delta2_y      i0_y      i1_y      i2_y  \n",
       "0  0.258738 -0.019583  0.980377  1.128255  0.183086  0.298719  0.258738  "
      ]
     },
     "execution_count": 156,
     "metadata": {},
     "output_type": "execute_result"
    }
   ],
   "source": [
    "k=58\n",
    "temp_merged=data.merge(data2,on=['pep','pxt'])\n",
    "temp_merged=temp_merged.loc[k:k,:]\n",
    "temp_merged=temp_merged.reset_index(drop=True)\n",
    "temp_merged"
   ]
  },
  {
   "cell_type": "code",
   "execution_count": 157,
   "id": "584eed98",
   "metadata": {},
   "outputs": [
    {
     "name": "stdout",
     "output_type": "stream",
     "text": [
      "0.059393571135023304 0.0591\n"
     ]
    }
   ],
   "source": [
    "temp_res=[]\n",
    "temp_pxt=[]\n",
    "for index in range(1):#temp_merged.shape[0]):\n",
    "    pxt        =temp_merged.pxt[index]\n",
    "    delta2_x   =temp_merged.delta2_x[index]\n",
    "    delta1_x   =temp_merged.delta1_x[index]\n",
    "    i1_x       =temp_merged.i1_x    [index]\n",
    "    i0_x       =temp_merged.i0_x    [index]\n",
    "    i2_x       =temp_merged.i2_x    [index]\n",
    "    i1_0_i0_0=delta1_x-(i1_x/i0_x)\n",
    "    \n",
    "    x=i1_x\n",
    "    res=[]\n",
    "    xs=[]\n",
    "    ccpxt=new_pxt(delta2_x,delta1_x,i1_x,i0_x) \n",
    "    print(ccpxt,pxt)\n",
    "    \n",
    "#     for i in range(1,10):        \n",
    "#         xs.append(x+i*x/100)        \n",
    "#         temp_res.append(i)\n",
    "#         temp_pxt.append( 100*abs(new_pxt(xs[-1],delta1_x,i1_x,i0_x) -ccpxt)/ccpxt)          \n",
    "#         xs.append(x-i*x/100)\n",
    "#         temp_res.append(i)\n",
    "#         temp_pxt.append( 100*abs(new_pxt(xs[-1],delta1_x,i1_x,i0_x) -ccpxt)/ccpxt)  \n",
    "    for i in range(1,100):    \n",
    "        \n",
    "        xs.append(x+i*x/1000)   \n",
    "        temp_delta1_x= xs[-1]/i0_x - i1_0_i0_0\n",
    "        \n",
    "        temp_res.append( 100*abs(x - (x+i*x/1000))/x)\n",
    "        temp_pxt.append( 100*abs(new_pxt(delta2_x,temp_delta1_x,xs[-1],i0_x) -ccpxt)/ccpxt)\n",
    "#         print(i,ccpxt,new_pxt(xs[-1],delta1_x,i1_x,i0_x),temp_pxt[-1])          \n",
    "        \n",
    "#         xs.append(x-i*x/1000)\n",
    "#         temp_delta1_x= xs[-1]/i0_x - i1_0_i0_0\n",
    "        \n",
    "#         temp_res.append( 100*abs(x - (x -i*x/1000))/x)\n",
    "#         temp_pxt.append( 100*abs(new_pxt(delta2_x,temp_delta1_x,xs[-1],i0_x) -ccpxt)/ccpxt) \n",
    "#         print(i,ccpxt,new_pxt(xs[-1],delta1_x,i1_x,i0_x),temp_pxt[-1],end=\"\\n\\n\") \n",
    "    "
   ]
  },
  {
   "cell_type": "code",
   "execution_count": 158,
   "id": "123f5acd",
   "metadata": {
    "scrolled": false
   },
   "outputs": [
    {
     "name": "stdout",
     "output_type": "stream",
     "text": [
      "9.899999999999995\n"
     ]
    },
    {
     "data": {
      "text/html": [
       "<div>\n",
       "<style scoped>\n",
       "    .dataframe tbody tr th:only-of-type {\n",
       "        vertical-align: middle;\n",
       "    }\n",
       "\n",
       "    .dataframe tbody tr th {\n",
       "        vertical-align: top;\n",
       "    }\n",
       "\n",
       "    .dataframe thead th {\n",
       "        text-align: right;\n",
       "    }\n",
       "</style>\n",
       "<table border=\"1\" class=\"dataframe\">\n",
       "  <thead>\n",
       "    <tr style=\"text-align: right;\">\n",
       "      <th></th>\n",
       "      <th>xs</th>\n",
       "      <th>res</th>\n",
       "    </tr>\n",
       "  </thead>\n",
       "  <tbody>\n",
       "    <tr>\n",
       "      <th>14</th>\n",
       "      <td>0.554908</td>\n",
       "      <td>1.5</td>\n",
       "    </tr>\n",
       "    <tr>\n",
       "      <th>15</th>\n",
       "      <td>2.930108</td>\n",
       "      <td>1.6</td>\n",
       "    </tr>\n",
       "    <tr>\n",
       "      <th>13</th>\n",
       "      <td>4.056786</td>\n",
       "      <td>1.4</td>\n",
       "    </tr>\n",
       "    <tr>\n",
       "      <th>16</th>\n",
       "      <td>6.398387</td>\n",
       "      <td>1.7</td>\n",
       "    </tr>\n",
       "    <tr>\n",
       "      <th>12</th>\n",
       "      <td>7.575651</td>\n",
       "      <td>1.3</td>\n",
       "    </tr>\n",
       "  </tbody>\n",
       "</table>\n",
       "</div>"
      ],
      "text/plain": [
       "          xs  res\n",
       "14  0.554908  1.5\n",
       "15  2.930108  1.6\n",
       "13  4.056786  1.4\n",
       "16  6.398387  1.7\n",
       "12  7.575651  1.3"
      ]
     },
     "execution_count": 158,
     "metadata": {},
     "output_type": "execute_result"
    },
    {
     "data": {
      "image/png": "[encoded data removed]",
      "text/plain": [
       "<Figure size 432x288 with 1 Axes>"
      ]
     },
     "metadata": {
      "needs_background": "light"
     },
     "output_type": "display_data"
    }
   ],
   "source": [
    "df=pd.DataFrame([temp_pxt,temp_res]).transpose()\n",
    "df.columns=['xs','res']\n",
    "# df=df[ df['xs']<20 ]\n",
    "print(df.res.max())\n",
    "plt.scatter(df['xs'],df.res,s=20)\n",
    "df.sort_values(by='xs').head()"
   ]
  },
  {
   "cell_type": "code",
   "execution_count": 159,
   "id": "572fa0cc",
   "metadata": {},
   "outputs": [],
   "source": [
    "def new_pxt(delta2_x,delta1_x,i1_x,i0_x):\n",
    "    return 1 +((delta1_x*0.5)/( (delta2_x) - (delta1_x*i1_x/i0_x) + (0.5*delta1_x*delta1_x) - 0.5*delta1_x))\n",
    "    "
   ]
  },
  {
   "cell_type": "code",
   "execution_count": 160,
   "id": "c013ebc2",
   "metadata": {
    "scrolled": false
   },
   "outputs": [
    {
     "name": "stdout",
     "output_type": "stream",
     "text": [
      "118 0    AVTEQGHELSNEER\n",
      "Name: pep, dtype: object\n",
      "119 0    AVTEQGHELSNEER\n",
      "Name: pep, dtype: object\n",
      "120 0    AVTEQGHELSNEER\n",
      "Name: pep, dtype: object\n",
      "121 0    AVTEQGHELSNEER\n",
      "Name: pep, dtype: object\n",
      "122 0    AVTEQGHELSNEER\n",
      "Name: pep, dtype: object\n",
      "123 0    AVTEQGHELSNEER\n",
      "Name: pep, dtype: object\n",
      "124 0    AVTEQGHELSNEER\n",
      "Name: pep, dtype: object\n",
      "125 0    AVTEQGHELSNEER\n",
      "Name: pep, dtype: object\n",
      "126 0    AVTEQGHELSNEER\n",
      "Name: pep, dtype: object\n",
      "127 0    AVTEQGHELSNEER\n",
      "Name: pep, dtype: object\n",
      "128 0    AVTEQGHELSNEER\n",
      "Name: pep, dtype: object\n",
      "129 0    AVTEQGHELSNEER\n",
      "Name: pep, dtype: object\n",
      "130 0    AVTEQGHELSNEER\n",
      "Name: pep, dtype: object\n",
      "131 0    AVTEQGHELSNEER\n",
      "Name: pep, dtype: object\n",
      "132 0    AVTEQGHELSNEER\n",
      "Name: pep, dtype: object\n",
      "133 0    AVTEQGHELSNEER\n",
      "Name: pep, dtype: object\n",
      "134 0    AVTEQGHELSNEER\n",
      "Name: pep, dtype: object\n",
      "135 0    AVTEQGHELSNEER\n",
      "Name: pep, dtype: object\n",
      "136 0    AVTEQGHELSNEER\n",
      "Name: pep, dtype: object\n",
      "137 0    AVTEQGHELSNEER\n",
      "Name: pep, dtype: object\n",
      "138 0    AVTEQGHELSNEER\n",
      "Name: pep, dtype: object\n",
      "139 0    AVTEQGHELSNEER\n",
      "Name: pep, dtype: object\n",
      "140 0    AVTEQGHELSNEER\n",
      "Name: pep, dtype: object\n",
      "141 0    AVTEQGHELSNEER\n",
      "Name: pep, dtype: object\n",
      "142 0    AVTEQGHELSNEER\n",
      "Name: pep, dtype: object\n",
      "143 0    AVTEQGHELSNEER\n",
      "Name: pep, dtype: object\n",
      "144 0    AVTEQGHELSNEER\n",
      "Name: pep, dtype: object\n",
      "145 0    AVTEQGHELSNEER\n",
      "Name: pep, dtype: object\n",
      "146 0    AVTEQGHELSNEER\n",
      "Name: pep, dtype: object\n",
      "147 0    AVTEQGHELSNEER\n",
      "Name: pep, dtype: object\n",
      "148 0    AVTEQGHELSNEER\n",
      "Name: pep, dtype: object\n",
      "149 0    AVTEQGHELSNEER\n",
      "Name: pep, dtype: object\n",
      "150 0    AVTEQGHELSNEER\n",
      "Name: pep, dtype: object\n",
      "151 0    AVTEQGHELSNEER\n",
      "Name: pep, dtype: object\n",
      "152 0    AVTEQGHELSNEER\n",
      "Name: pep, dtype: object\n",
      "153 0    AVTEQGHELSNEER\n",
      "Name: pep, dtype: object\n",
      "154 0    AVTEQGHELSNEER\n",
      "Name: pep, dtype: object\n",
      "155 0    AVTEQGHELSNEER\n",
      "Name: pep, dtype: object\n",
      "156 0    AVTEQGHELSNEER\n",
      "Name: pep, dtype: object\n",
      "157 0    AVTEQGHELSNEER\n",
      "Name: pep, dtype: object\n",
      "158 0    AVTEQGHELSNEER\n",
      "Name: pep, dtype: object\n",
      "159 0    AVTEQGHELSNEER\n",
      "Name: pep, dtype: object\n",
      "160 0    AVTEQGHELSNEER\n",
      "Name: pep, dtype: object\n",
      "161 0    AVTEQGHELSNEER\n",
      "Name: pep, dtype: object\n",
      "162 0    AVTEQGHELSNEER\n",
      "Name: pep, dtype: object\n",
      "163 0    AVTEQGHELSNEER\n",
      "Name: pep, dtype: object\n",
      "164 0    AVTEQGHELSNEER\n",
      "Name: pep, dtype: object\n",
      "165 0    AVTEQGHELSNEER\n",
      "Name: pep, dtype: object\n",
      "166 0    AVTEQGHELSNEER\n",
      "Name: pep, dtype: object\n",
      "167 0    AVTEQGHELSNEER\n",
      "Name: pep, dtype: object\n",
      "168 0    AVTEQGHELSNEER\n",
      "Name: pep, dtype: object\n",
      "169 0    AVTEQGHELSNEER\n",
      "Name: pep, dtype: object\n",
      "170 0    AVTEQGHELSNEER\n",
      "Name: pep, dtype: object\n",
      "171 0    AVTEQGHELSNEER\n",
      "Name: pep, dtype: object\n",
      "172 0    AVTEQGHELSNEER\n",
      "Name: pep, dtype: object\n",
      "173 0    AVTEQGHELSNEER\n",
      "Name: pep, dtype: object\n",
      "174 0    AVTEQGHELSNEER\n",
      "Name: pep, dtype: object\n",
      "175 0    AVTEQGHELSNEER\n",
      "Name: pep, dtype: object\n",
      "176 0    AVTEQGHELSNEER\n",
      "Name: pep, dtype: object\n"
     ]
    }
   ],
   "source": [
    "all_res=[]\n",
    "for k in range(59):#35,36):#20,21):#59\n",
    "    k=k + 2*59\n",
    "    temp_merged=data.merge(data2,on=['pep','pxt'])\n",
    "    temp_merged=temp_merged.loc[k:k,:]\n",
    "    temp_merged=temp_merged.reset_index(drop=True)\n",
    "    print(k,temp_merged.pep)\n",
    "    \n",
    "    temp_res=[]\n",
    "    temp_pxt=[]\n",
    "    for index in range(1):#temp_merged.shape[0]):\n",
    "        pxt        =temp_merged.pxt[index]\n",
    "        delta2_x   =temp_merged.delta2_x[index]\n",
    "        delta1_x   =temp_merged.delta1_x[index]\n",
    "        i1_x       =temp_merged.i1_x    [index]\n",
    "        i0_x       =temp_merged.i0_x    [index]\n",
    "        i2_x       =temp_merged.i2_x    [index]\n",
    "        \n",
    "        i1_0_i0_0=delta1_x-(i1_x/i0_x)    \n",
    "        x=i1_x\n",
    "        \n",
    "        res=[]\n",
    "        xs=[]\n",
    "        ccpxt=new_pxt(delta2_x,delta1_x,i1_x,i0_x) \n",
    "#         print(pxt,ccpxt)\n",
    "         \n",
    "        for i in range(1,50):        \n",
    "            xs.append(x+i*x/1000)   \n",
    "            temp_delta1_x= xs[-1]/i0_x - i1_0_i0_0\n",
    "\n",
    "            temp_res.append( 100*abs(x - (x+i*x/1000))/x)\n",
    "            temp_pxt.append( 100*abs(new_pxt(delta2_x,temp_delta1_x,xs[-1],i0_x) -ccpxt)/ccpxt)\n",
    "#             print('\\t',pxt,ccpxt,delta2_x,xs[-1],temp_res[-1],new_pxt(xs[-1],delta1_x,i1_x,i0_x),temp_pxt[-1])\n",
    "\n",
    "            xs.append(x-i*x/1000)\n",
    "            temp_delta1_x= xs[-1]/i0_x - i1_0_i0_0\n",
    "            temp_res.append( 100*abs(x - (x -i*x/1000))/x)\n",
    "            temp_pxt.append( 100*abs(new_pxt(delta2_x,temp_delta1_x,xs[-1],i0_x) -ccpxt)/ccpxt)\n",
    "            \n",
    "#             print('\\t',pxt,ccpxt,delta2_x,xs[-1],temp_res[-1],new_pxt(xs[-1],delta1_x,i1_x,i0_x),temp_pxt[-1])\n",
    "    df=pd.DataFrame([temp_pxt,temp_res]).transpose()\n",
    "    all_res.append([temp_res,temp_pxt])\n",
    "#     df=pd.DataFrame([temp_pxt,temp_res]).transpose()\n",
    "#     df.columns=['xs','res']\n",
    "#     df=df[ df['xs']<20 ]\n",
    "#     all_res.append([pxt,df.shape[0],df.res.max()])\n"
   ]
  },
  {
   "cell_type": "code",
   "execution_count": 161,
   "id": "8d98ee35",
   "metadata": {},
   "outputs": [],
   "source": [
    "# pd.DataFrame(all_res).transpose()\n",
    "df=pd.DataFrame()\n",
    "for x in all_res:\n",
    "    df=pd.concat([df,pd.DataFrame(x)],axis=1)\n",
    "df=df.transpose()\n",
    "df.columns=['er','px']\n",
    "# df=df[df.px<20]"
   ]
  },
  {
   "cell_type": "code",
   "execution_count": 162,
   "id": "da71215f",
   "metadata": {},
   "outputs": [
    {
     "data": {
      "text/plain": [
       "<matplotlib.collections.PathCollection at 0x2384c9eb5b0>"
      ]
     },
     "execution_count": 162,
     "metadata": {},
     "output_type": "execute_result"
    },
    {
     "data": {
      "image/png": "[encoded data removed]",
      "text/plain": [
       "<Figure size 432x288 with 1 Axes>"
      ]
     },
     "metadata": {
      "needs_background": "light"
     },
     "output_type": "display_data"
    }
   ],
   "source": [
    "plt.scatter(df.er,df.px)"
   ]
  },
  {
   "cell_type": "code",
   "execution_count": 163,
   "id": "4060bdbc",
   "metadata": {},
   "outputs": [
    {
     "data": {
      "text/plain": [
       "<matplotlib.collections.PathCollection at 0x2384c340f40>"
      ]
     },
     "execution_count": 163,
     "metadata": {},
     "output_type": "execute_result"
    },
    {
     "data": {
      "image/png": "[encoded data removed]",
      "text/plain": [
       "<Figure size 432x288 with 1 Axes>"
      ]
     },
     "metadata": {
      "needs_background": "light"
     },
     "output_type": "display_data"
    }
   ],
   "source": [
    "# df2=df\n",
    "plt.scatter(df2.er,df2.px)\n",
    "plt.scatter(df.er,df.px)"
   ]
  },
  {
   "cell_type": "code",
   "execution_count": 164,
   "id": "16ce2e24",
   "metadata": {},
   "outputs": [
    {
     "data": {
      "text/html": [
       "<div>\n",
       "<style scoped>\n",
       "    .dataframe tbody tr th:only-of-type {\n",
       "        vertical-align: middle;\n",
       "    }\n",
       "\n",
       "    .dataframe tbody tr th {\n",
       "        vertical-align: top;\n",
       "    }\n",
       "\n",
       "    .dataframe thead th {\n",
       "        text-align: right;\n",
       "    }\n",
       "</style>\n",
       "<table border=\"1\" class=\"dataframe\">\n",
       "  <thead>\n",
       "    <tr style=\"text-align: right;\">\n",
       "      <th></th>\n",
       "      <th>er</th>\n",
       "      <th>px</th>\n",
       "    </tr>\n",
       "  </thead>\n",
       "  <tbody>\n",
       "    <tr>\n",
       "      <th>0</th>\n",
       "      <td>0.1</td>\n",
       "      <td>56.964147</td>\n",
       "    </tr>\n",
       "    <tr>\n",
       "      <th>1</th>\n",
       "      <td>0.1</td>\n",
       "      <td>76.703836</td>\n",
       "    </tr>\n",
       "    <tr>\n",
       "      <th>2</th>\n",
       "      <td>0.2</td>\n",
       "      <td>47.161799</td>\n",
       "    </tr>\n",
       "    <tr>\n",
       "      <th>3</th>\n",
       "      <td>0.2</td>\n",
       "      <td>86.641809</td>\n",
       "    </tr>\n",
       "    <tr>\n",
       "      <th>4</th>\n",
       "      <td>0.3</td>\n",
       "      <td>37.404034</td>\n",
       "    </tr>\n",
       "    <tr>\n",
       "      <th>...</th>\n",
       "      <td>...</td>\n",
       "      <td>...</td>\n",
       "    </tr>\n",
       "    <tr>\n",
       "      <th>93</th>\n",
       "      <td>4.7</td>\n",
       "      <td>586.753174</td>\n",
       "    </tr>\n",
       "    <tr>\n",
       "      <th>94</th>\n",
       "      <td>4.8</td>\n",
       "      <td>360.088268</td>\n",
       "    </tr>\n",
       "    <tr>\n",
       "      <th>95</th>\n",
       "      <td>4.8</td>\n",
       "      <td>599.187137</td>\n",
       "    </tr>\n",
       "    <tr>\n",
       "      <th>96</th>\n",
       "      <td>4.9</td>\n",
       "      <td>368.087495</td>\n",
       "    </tr>\n",
       "    <tr>\n",
       "      <th>97</th>\n",
       "      <td>4.9</td>\n",
       "      <td>611.685597</td>\n",
       "    </tr>\n",
       "  </tbody>\n",
       "</table>\n",
       "<p>98 rows × 2 columns</p>\n",
       "</div>"
      ],
      "text/plain": [
       "     er          px\n",
       "0   0.1   56.964147\n",
       "1   0.1   76.703836\n",
       "2   0.2   47.161799\n",
       "3   0.2   86.641809\n",
       "4   0.3   37.404034\n",
       "..  ...         ...\n",
       "93  4.7  586.753174\n",
       "94  4.8  360.088268\n",
       "95  4.8  599.187137\n",
       "96  4.9  368.087495\n",
       "97  4.9  611.685597\n",
       "\n",
       "[98 rows x 2 columns]"
      ]
     },
     "execution_count": 164,
     "metadata": {},
     "output_type": "execute_result"
    }
   ],
   "source": [
    "df2"
   ]
  },
  {
   "cell_type": "code",
   "execution_count": null,
   "id": "010f5888",
   "metadata": {},
   "outputs": [],
   "source": []
  }
 ],
 "metadata": {
  "kernelspec": {
   "display_name": "Python 3 (ipykernel)",
   "language": "python",
   "name": "python3"
  },
  "language_info": {
   "codemirror_mode": {
    "name": "ipython",
    "version": 3
   },
   "file_extension": ".py",
   "mimetype": "text/x-python",
   "name": "python",
   "nbconvert_exporter": "python",
   "pygments_lexer": "ipython3",
   "version": "3.9.11"
  }
 },
 "nbformat": 4,
 "nbformat_minor": 5
}
