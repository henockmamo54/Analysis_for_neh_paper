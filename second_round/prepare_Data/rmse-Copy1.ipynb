{
 "cells": [
  {
   "cell_type": "code",
   "execution_count": 83,
   "id": "562621e7",
   "metadata": {},
   "outputs": [],
   "source": [
    "import os\n",
    "import math\n",
    "import random\n",
    "import warnings\n",
    "import numpy as np\n",
    "import pandas as pd \n",
    "from sklearn import metrics\n",
    "from matplotlib import pyplot as plt\n",
    "\n",
    "warnings.filterwarnings(\"ignore\")"
   ]
  },
  {
   "cell_type": "code",
   "execution_count": null,
   "id": "c21b0bbf",
   "metadata": {},
   "outputs": [],
   "source": []
  },
  {
   "cell_type": "code",
   "execution_count": 173,
   "id": "e19b4feb",
   "metadata": {},
   "outputs": [
    {
     "data": {
      "text/html": [
       "<div>\n",
       "<style scoped>\n",
       "    .dataframe tbody tr th:only-of-type {\n",
       "        vertical-align: middle;\n",
       "    }\n",
       "\n",
       "    .dataframe tbody tr th {\n",
       "        vertical-align: top;\n",
       "    }\n",
       "\n",
       "    .dataframe thead th {\n",
       "        text-align: right;\n",
       "    }\n",
       "</style>\n",
       "<table border=\"1\" class=\"dataframe\">\n",
       "  <thead>\n",
       "    <tr style=\"text-align: right;\">\n",
       "      <th></th>\n",
       "      <th>pep</th>\n",
       "      <th>a</th>\n",
       "      <th>b</th>\n",
       "      <th>cpxt</th>\n",
       "      <th>pxt</th>\n",
       "      <th>neh</th>\n",
       "      <th>cneh</th>\n",
       "      <th>b1</th>\n",
       "      <th>b2</th>\n",
       "      <th>b3</th>\n",
       "      <th>a1</th>\n",
       "      <th>a2</th>\n",
       "      <th>delta1</th>\n",
       "      <th>delta2</th>\n",
       "      <th>rmse</th>\n",
       "    </tr>\n",
       "  </thead>\n",
       "  <tbody>\n",
       "    <tr>\n",
       "      <th>159600</th>\n",
       "      <td>LFPSLLDTK</td>\n",
       "      <td>-0.231828</td>\n",
       "      <td>0.010933</td>\n",
       "      <td>0.047162</td>\n",
       "      <td>0.046</td>\n",
       "      <td>9</td>\n",
       "      <td>9.157915</td>\n",
       "      <td>-0.353032</td>\n",
       "      <td>0.461516</td>\n",
       "      <td>-0.097550</td>\n",
       "      <td>-0.108531</td>\n",
       "      <td>-0.123298</td>\n",
       "      <td>0.441718</td>\n",
       "      <td>0.353170</td>\n",
       "      <td>0.000946</td>\n",
       "    </tr>\n",
       "    <tr>\n",
       "      <th>53900</th>\n",
       "      <td>QAGLSYIR</td>\n",
       "      <td>-0.372177</td>\n",
       "      <td>0.014315</td>\n",
       "      <td>0.038464</td>\n",
       "      <td>0.046</td>\n",
       "      <td>18</td>\n",
       "      <td>14.836351</td>\n",
       "      <td>-0.604363</td>\n",
       "      <td>0.874638</td>\n",
       "      <td>-0.255959</td>\n",
       "      <td>-0.270397</td>\n",
       "      <td>-0.101781</td>\n",
       "      <td>0.715608</td>\n",
       "      <td>0.604570</td>\n",
       "      <td>0.001550</td>\n",
       "    </tr>\n",
       "    <tr>\n",
       "      <th>91400</th>\n",
       "      <td>TAHIVLEDGTK</td>\n",
       "      <td>-0.462296</td>\n",
       "      <td>0.022261</td>\n",
       "      <td>0.048154</td>\n",
       "      <td>0.046</td>\n",
       "      <td>17</td>\n",
       "      <td>18.243046</td>\n",
       "      <td>-0.930355</td>\n",
       "      <td>1.339586</td>\n",
       "      <td>-0.386969</td>\n",
       "      <td>-0.409415</td>\n",
       "      <td>-0.052881</td>\n",
       "      <td>0.879924</td>\n",
       "      <td>0.930677</td>\n",
       "      <td>0.002466</td>\n",
       "    </tr>\n",
       "    <tr>\n",
       "      <th>275000</th>\n",
       "      <td>GcTATLGNFAK</td>\n",
       "      <td>-0.332513</td>\n",
       "      <td>0.012170</td>\n",
       "      <td>0.036601</td>\n",
       "      <td>0.046</td>\n",
       "      <td>17</td>\n",
       "      <td>13.280884</td>\n",
       "      <td>-0.569668</td>\n",
       "      <td>0.786951</td>\n",
       "      <td>-0.205113</td>\n",
       "      <td>-0.217381</td>\n",
       "      <td>-0.115132</td>\n",
       "      <td>0.640582</td>\n",
       "      <td>0.569874</td>\n",
       "      <td>0.002546</td>\n",
       "    </tr>\n",
       "    <tr>\n",
       "      <th>34300</th>\n",
       "      <td>STGSVVGQQPFGGAR</td>\n",
       "      <td>-0.731722</td>\n",
       "      <td>0.029087</td>\n",
       "      <td>0.039752</td>\n",
       "      <td>0.046</td>\n",
       "      <td>33</td>\n",
       "      <td>29.130062</td>\n",
       "      <td>-2.053368</td>\n",
       "      <td>3.068978</td>\n",
       "      <td>-0.986522</td>\n",
       "      <td>-1.016075</td>\n",
       "      <td>0.284353</td>\n",
       "      <td>1.405042</td>\n",
       "      <td>2.054029</td>\n",
       "      <td>0.003204</td>\n",
       "    </tr>\n",
       "  </tbody>\n",
       "</table>\n",
       "</div>"
      ],
      "text/plain": [
       "                    pep         a         b      cpxt    pxt  neh       cneh  \\\n",
       "159600        LFPSLLDTK -0.231828  0.010933  0.047162  0.046    9   9.157915   \n",
       "53900          QAGLSYIR -0.372177  0.014315  0.038464  0.046   18  14.836351   \n",
       "91400       TAHIVLEDGTK -0.462296  0.022261  0.048154  0.046   17  18.243046   \n",
       "275000      GcTATLGNFAK -0.332513  0.012170  0.036601  0.046   17  13.280884   \n",
       "34300   STGSVVGQQPFGGAR -0.731722  0.029087  0.039752  0.046   33  29.130062   \n",
       "\n",
       "              b1        b2        b3        a1        a2    delta1    delta2  \\\n",
       "159600 -0.353032  0.461516 -0.097550 -0.108531 -0.123298  0.441718  0.353170   \n",
       "53900  -0.604363  0.874638 -0.255959 -0.270397 -0.101781  0.715608  0.604570   \n",
       "91400  -0.930355  1.339586 -0.386969 -0.409415 -0.052881  0.879924  0.930677   \n",
       "275000 -0.569668  0.786951 -0.205113 -0.217381 -0.115132  0.640582  0.569874   \n",
       "34300  -2.053368  3.068978 -0.986522 -1.016075  0.284353  1.405042  2.054029   \n",
       "\n",
       "            rmse  \n",
       "159600  0.000946  \n",
       "53900   0.001550  \n",
       "91400   0.002466  \n",
       "275000  0.002546  \n",
       "34300   0.003204  "
      ]
     },
     "execution_count": 173,
     "metadata": {},
     "output_type": "execute_result"
    }
   ],
   "source": [
    "data2=pd.read_csv(r\"C:\\Workplace\\Python\\AnalysisForThePaper\\NEH\\second_round\\D2O_NEH\\res_theo_exp.csv\")\n",
    "data2.columns=['pep','a','b','cpxt','pxt','neh','cneh','b1','b2','b3','a1','a2','delta1','delta2','rmse']\n",
    "# data2.rmse=[math.sqrt(x) for x in data2.rmse/3]\n",
    "data2=data2.drop_duplicates()\n",
    "data2=data2.sort_values(by='rmse')\n",
    "data2.head()"
   ]
  },
  {
   "cell_type": "code",
   "execution_count": 174,
   "id": "98d1c4e0",
   "metadata": {},
   "outputs": [],
   "source": [
    "# temp2=data2[data2.pep==data2[data2.neh == data2.neh.median()].pep.unique()[0]]\n",
    "# # temp2=temp2[(temp2.cpxt<0.1)&(temp2.cpxt>0)]\n",
    "# plt.scatter(temp2.cpxt.astype('float'),temp2.b.astype('float'),alpha=0.75,label=\"b\" +f\" NEH: {list(temp2.neh.astype('float'))[0]}\",c='k' )\n",
    "# plt.scatter(temp2.cpxt.astype('float'),temp2.b1.astype('float'),alpha=0.75,label=\"b1\" +f\" NEH: {list(temp2.neh.astype('float'))[0]}\",c='m',ls=\"--\" )\n",
    "# plt.scatter(temp2.cpxt.astype('float'),temp2.b2.astype('float'),alpha=0.75,label=\"b2\" +f\" NEH: {list(temp2.neh.astype('float'))[0]}\",c='r',ls=\"--\" )\n",
    "# plt.scatter(temp2.cpxt.astype('float'),temp2.b3.astype('float'),alpha=0.75,label=\"b3\" +f\" NEH: {list(temp2.neh.astype('float'))[0]}\",c='y',ls=\"--\" )\n",
    "\n",
    "\n",
    "# plt.xlabel('pxt')\n",
    "# # plt.xlim([0,.5])\n",
    "# plt.legend()"
   ]
  },
  {
   "cell_type": "code",
   "execution_count": 175,
   "id": "65457d94",
   "metadata": {},
   "outputs": [],
   "source": [
    "\n",
    "# plt.scatter(temp2.cpxt.astype('float'),temp2.b.astype('float'),alpha=0.75,label=\"b\" +f\" NEH: {list(temp.neh.astype('float'))[0]}\",c='k' )\n",
    "# plt.scatter(temp2.cpxt.astype('float'),temp2.b1.astype('float'),alpha=0.75,label=\"b1\" +f\" NEH: {list(temp.neh.astype('float'))[0]}\",c='m',ls=\"--\" )\n",
    "# plt.scatter(temp2.cpxt.astype('float'),temp2.b2.astype('float'),alpha=0.75,label=\"b2\" +f\" NEH: {list(temp.neh.astype('float'))[0]}\",c='r',ls=\"--\" )\n",
    "# plt.scatter(temp2.cpxt.astype('float'),temp2.b3.astype('float'),alpha=0.75,label=\"b3\" +f\" NEH: {list(temp.neh.astype('float'))[0]}\",c='y',ls=\"--\" )\n",
    "\n",
    "# plt.scatter(temp.cpxt.astype('float'),temp.b.astype('float'),alpha=0.75,label=\"b\" +f\" NEH: {list(temp.neh.astype('float'))[0]}\",c='g' )\n",
    "# plt.scatter(temp.cpxt.astype('float'),temp.b1.astype('float'),alpha=0.75,label=\"b1\" +f\" NEH: {list(temp.neh.astype('float'))[0]}\",c='m',ls=\"--\" )\n",
    "# plt.scatter(temp.cpxt.astype('float'),temp.b2.astype('float'),alpha=0.5,label=\"b2\" +f\" NEH: {list(temp.neh.astype('float'))[0]}\",c='r',ls=\"--\" )\n",
    "# plt.scatter(temp.cpxt.astype('float'),temp.b3.astype('float'),alpha=0.75,label=\"b3\" +f\" NEH: {list(temp.neh.astype('float'))[0]}\",c='y',ls=\"--\" )\n"
   ]
  },
  {
   "cell_type": "code",
   "execution_count": null,
   "id": "816db6e5",
   "metadata": {},
   "outputs": [],
   "source": []
  },
  {
   "cell_type": "code",
   "execution_count": 176,
   "id": "c1d525f5",
   "metadata": {
    "scrolled": true
   },
   "outputs": [],
   "source": [
    "# [x for x in abs((temp2.b2)/(temp2.b1+temp2.b3)) ]"
   ]
  },
  {
   "cell_type": "code",
   "execution_count": 177,
   "id": "60ee1fcf",
   "metadata": {},
   "outputs": [],
   "source": [
    "# data2['btest']=[(int)(100*x) for x in abs((data2.b2)/(data2.b1+data2.b3)) ]"
   ]
  },
  {
   "cell_type": "code",
   "execution_count": null,
   "id": "790cba56",
   "metadata": {},
   "outputs": [],
   "source": []
  },
  {
   "cell_type": "code",
   "execution_count": 178,
   "id": "abe85b99",
   "metadata": {},
   "outputs": [],
   "source": [
    "# plt.scatter(temp2.cpxt.astype('float'),temp2.a.astype('float'),alpha=0.75,label=\"a\" +f\" NEH: {list(temp2.neh.astype('float'))[0]}\",c='k' )\n",
    "# plt.scatter(temp2.cpxt.astype('float'),temp2.a1.astype('float'),alpha=0.75,label=\"a1\" +f\" NEH: {list(temp2.neh.astype('float'))[0]}\",c='m',ls=\"--\" )\n",
    "# plt.scatter(temp2.cpxt.astype('float'),temp2.a2.astype('float'),alpha=0.75,label=\"a2\" +f\" NEH: {list(temp2.neh.astype('float'))[0]}\",c='r',ls=\"--\" )\n",
    "\n",
    "# plt.xlabel('pxt')\n",
    "# # plt.xlim([-5,1])\n",
    "# plt.legend()"
   ]
  },
  {
   "cell_type": "code",
   "execution_count": null,
   "id": "8a9ba19e",
   "metadata": {},
   "outputs": [],
   "source": []
  },
  {
   "cell_type": "code",
   "execution_count": 179,
   "id": "ab12a7f8",
   "metadata": {},
   "outputs": [],
   "source": [
    "# data2.columns"
   ]
  },
  {
   "cell_type": "code",
   "execution_count": 188,
   "id": "3aee66df",
   "metadata": {},
   "outputs": [],
   "source": [
    "# temp3=data2[(data2.rmse < 1e-02) & (data2.b >0)& (data2.a <0) & (data2.cpxt < 0.05)][['pep','b','a' , 'cpxt', 'pxt', 'neh', 'cneh', 'delta1', 'delta2', 'rmse']]\n",
    "# plt.scatter(temp3.rmse,100*(temp3.pxt-temp3.cpxt)/temp3.pxt,c='k',alpha=0.5)\n",
    "# plt.xlabel('rmse')\n",
    "# plt.ylabel('100*(pxt- c_pxt)/ pxt')\n",
    "# temp3=temp3.drop_duplicates()\n",
    "# temp3.shape"
   ]
  },
  {
   "cell_type": "code",
   "execution_count": 203,
   "id": "52da9507",
   "metadata": {},
   "outputs": [],
   "source": [
    "# float(1e-2)"
   ]
  },
  {
   "cell_type": "code",
   "execution_count": 204,
   "id": "cbeb5759",
   "metadata": {},
   "outputs": [
    {
     "data": {
      "text/plain": [
       "(27, 10)"
      ]
     },
     "execution_count": 204,
     "metadata": {},
     "output_type": "execute_result"
    },
    {
     "data": {
      "image/png": "[encoded data removed]",
      "text/plain": [
       "<Figure size 432x288 with 1 Axes>"
      ]
     },
     "metadata": {
      "needs_background": "light"
     },
     "output_type": "display_data"
    }
   ],
   "source": [
    "temp3=data2[(data2.rmse < 1e-2) & (data2.b >0)& (data2.a <0) & (data2.cpxt < 0.05)& (data2.cpxt >= 0.0)][['pep','b','a' , 'cpxt', 'pxt', 'neh', 'cneh', 'delta1', 'delta2', 'rmse']]\n",
    "plt.scatter(temp3.rmse,100*(temp3.pxt-temp3.cpxt)/temp3.pxt,c='k',alpha=0.5)\n",
    "plt.hlines(y=0,xmin=0,xmax=0.5,color='r',ls='-.')\n",
    "plt.xlabel('rmse')\n",
    "plt.ylabel('100*(pxt- c_pxt)/ pxt')\n",
    "temp3=temp3.drop_duplicates()\n",
    "temp3.shape"
   ]
  },
  {
   "cell_type": "code",
   "execution_count": 205,
   "id": "1bfad7e4",
   "metadata": {},
   "outputs": [
    {
     "data": {
      "text/plain": [
       "Text(0, 0.5, 'c_pxt')"
      ]
     },
     "execution_count": 205,
     "metadata": {},
     "output_type": "execute_result"
    },
    {
     "data": {
      "image/png": "[encoded data removed]",
      "text/plain": [
       "<Figure size 432x288 with 1 Axes>"
      ]
     },
     "metadata": {
      "needs_background": "light"
     },
     "output_type": "display_data"
    }
   ],
   "source": [
    "plt.scatter(temp3.pxt,temp3.cpxt,c='k',alpha=0.5)\n",
    "plt.plot(temp3.pxt,temp3.pxt,c='r',ls=\"-.\")\n",
    "plt.xlabel(\"pxt\")\n",
    "plt.ylabel(\"c_pxt\")"
   ]
  },
  {
   "cell_type": "code",
   "execution_count": 209,
   "id": "bd953d2a",
   "metadata": {},
   "outputs": [
    {
     "data": {
      "image/png": "[encoded data removed]",
      "text/plain": [
       "<Figure size 432x288 with 1 Axes>"
      ]
     },
     "metadata": {
      "needs_background": "light"
     },
     "output_type": "display_data"
    }
   ],
   "source": [
    "plt.hist(100*(temp3.pxt-temp3.cpxt)/temp3.pxt,bins=15)\n",
    "plt.show()"
   ]
  },
  {
   "cell_type": "code",
   "execution_count": null,
   "id": "c30580dc",
   "metadata": {},
   "outputs": [],
   "source": []
  },
  {
   "cell_type": "code",
   "execution_count": null,
   "id": "5b82e590",
   "metadata": {},
   "outputs": [],
   "source": []
  }
 ],
 "metadata": {
  "kernelspec": {
   "display_name": "Python 3 (ipykernel)",
   "language": "python",
   "name": "python3"
  },
  "language_info": {
   "codemirror_mode": {
    "name": "ipython",
    "version": 3
   },
   "file_extension": ".py",
   "mimetype": "text/x-python",
   "name": "python",
   "nbconvert_exporter": "python",
   "pygments_lexer": "ipython3",
   "version": "3.9.11"
  }
 },
 "nbformat": 4,
 "nbformat_minor": 5
}
