{
 "cells": [
  {
   "cell_type": "code",
   "execution_count": 119,
   "id": "4a09022c",
   "metadata": {},
   "outputs": [],
   "source": [
    "import numpy as np\n",
    "import random\n",
    "import matplotlib.pyplot as plt\n",
    "\n",
    "np.random.seed(seed=5)"
   ]
  },
  {
   "cell_type": "code",
   "execution_count": 120,
   "id": "169e3a0a",
   "metadata": {},
   "outputs": [
    {
     "data": {
      "image/png": "[encoded data removed]",
      "text/plain": [
       "<Figure size 432x288 with 1 Axes>"
      ]
     },
     "metadata": {
      "needs_background": "light"
     },
     "output_type": "display_data"
    }
   ],
   "source": [
    "s=[(10*x) for x in np.array(np.random.uniform(low = 0, high = 1.92, size = (20, 1000))).ravel()]#np.rint\n",
    "count, bins, ignored = plt.hist(s, 20, density=False)\n",
    "plt.show() "
   ]
  },
  {
   "cell_type": "code",
   "execution_count": 158,
   "id": "8e41edad",
   "metadata": {},
   "outputs": [],
   "source": [
    "def get_index_frombin(bins,val,j):\n",
    "    for i in range(1,21):\n",
    "        if val[j]<= bins[i]: \n",
    "            return (i-1) "
   ]
  },
  {
   "cell_type": "code",
   "execution_count": 159,
   "id": "d501ef9f",
   "metadata": {},
   "outputs": [
    {
     "data": {
      "text/plain": [
       "<BarContainer object of 20 artists>"
      ]
     },
     "execution_count": 159,
     "metadata": {},
     "output_type": "execute_result"
    },
    {
     "data": {
      "image/png": "[encoded data removed]",
      "text/plain": [
       "<Figure size 432x288 with 1 Axes>"
      ]
     },
     "metadata": {
      "needs_background": "light"
     },
     "output_type": "display_data"
    }
   ],
   "source": [
    "res=[]\n",
    "for j in range(len(s)):     \n",
    "    res.append(get_index_frombin(bins,s,j))\n",
    "    \n",
    "x,y=np.unique(np.array(res),return_counts=True)\n",
    "plt.bar(x,y)"
   ]
  },
  {
   "cell_type": "code",
   "execution_count": 175,
   "id": "f16fd603",
   "metadata": {},
   "outputs": [
    {
     "data": {
      "text/plain": [
       "array([[ 4, 17,  4, ...,  5, 12, 11],\n",
       "       [11,  5,  5, ..., 10, 12, 19],\n",
       "       [ 5, 16, 17, ..., 12, 16, 11],\n",
       "       ...,\n",
       "       [ 1, 15,  3, ...,  2, 19, 11],\n",
       "       [ 4, 14,  9, ...,  6,  0, 17],\n",
       "       [ 3,  1, 10, ..., 12,  4, 11]])"
      ]
     },
     "execution_count": 175,
     "metadata": {},
     "output_type": "execute_result"
    }
   ],
   "source": [
    "res=np.array(res).reshape(1000,20)\n",
    "res"
   ]
  },
  {
   "cell_type": "code",
   "execution_count": 184,
   "id": "4e3c60cc",
   "metadata": {},
   "outputs": [
    {
     "name": "stdout",
     "output_type": "stream",
     "text": [
      "[4, 17, 4, 18, 9, 12, 15, 10, 5, 3, 1, 14, 8, 3, 17, 5, 8, 5, 12, 11]\n",
      "17\n",
      "11\n",
      "13\n",
      "13\n",
      "14\n",
      "16\n"
     ]
    }
   ],
   "source": [
    "temp_remove=[10*x for x in np.random.uniform(low = 0, high = 1.92, size=random.randint(0, 9))]\n",
    "temp_res=list(res[0])\n",
    "print(temp_res)\n",
    "for j in range(len(temp_remove)):\n",
    "    print(get_index_frombin(bins,temp_remove,j))\n",
    "    del temp_res[get_index_frombin(bins,temp_remove,j)]\n",
    "    "
   ]
  },
  {
   "cell_type": "code",
   "execution_count": 177,
   "id": "f3069b30",
   "metadata": {},
   "outputs": [
    {
     "data": {
      "text/plain": [
       "9.271596404452747"
      ]
     },
     "execution_count": 177,
     "metadata": {},
     "output_type": "execute_result"
    }
   ],
   "source": [
    "temp_remove[0]"
   ]
  },
  {
   "cell_type": "code",
   "execution_count": 178,
   "id": "93ee50bc",
   "metadata": {},
   "outputs": [
    {
     "data": {
      "text/plain": [
       "20000"
      ]
     },
     "execution_count": 178,
     "metadata": {},
     "output_type": "execute_result"
    }
   ],
   "source": [
    "len(s)"
   ]
  },
  {
   "cell_type": "code",
   "execution_count": 183,
   "id": "37239236",
   "metadata": {},
   "outputs": [
    {
     "name": "stdout",
     "output_type": "stream",
     "text": [
      "[4, 17, 4, 18, 9, 12, 15, 10, 5, 3, 1, 14, 8, 3, 17, 5, 8, 5, 12, 11]\n",
      "[17, 4, 18, 9, 12, 15, 10, 5, 3, 1, 14, 8, 3, 17, 5, 8, 5, 12, 11]\n"
     ]
    }
   ],
   "source": [
    "temp=list(res[0])\n",
    "print(temp)\n",
    "del temp[0]\n",
    "print(temp)"
   ]
  },
  {
   "cell_type": "code",
   "execution_count": null,
   "id": "127f3cb2",
   "metadata": {},
   "outputs": [],
   "source": []
  },
  {
   "cell_type": "code",
   "execution_count": null,
   "id": "f03aefa3",
   "metadata": {},
   "outputs": [],
   "source": []
  },
  {
   "cell_type": "code",
   "execution_count": 56,
   "id": "974b7b33",
   "metadata": {},
   "outputs": [
    {
     "data": {
      "text/plain": [
       "(21,)"
      ]
     },
     "execution_count": 56,
     "metadata": {},
     "output_type": "execute_result"
    }
   ],
   "source": [
    "bins.shape"
   ]
  },
  {
   "cell_type": "code",
   "execution_count": 41,
   "id": "28a3f683",
   "metadata": {},
   "outputs": [
    {
     "data": {
      "text/plain": [
       "(21,)"
      ]
     },
     "execution_count": 41,
     "metadata": {},
     "output_type": "execute_result"
    }
   ],
   "source": [
    "np.ones_like(bins).shape"
   ]
  },
  {
   "cell_type": "code",
   "execution_count": 42,
   "id": "1ef8f97e",
   "metadata": {},
   "outputs": [
    {
     "data": {
      "text/plain": [
       "(20,)"
      ]
     },
     "execution_count": 42,
     "metadata": {},
     "output_type": "execute_result"
    }
   ],
   "source": [
    "count.shape"
   ]
  },
  {
   "cell_type": "code",
   "execution_count": 43,
   "id": "06d3a24d",
   "metadata": {},
   "outputs": [
    {
     "data": {
      "text/plain": [
       "array([3.21147414e-04, 9.55297324e-01, 1.91027350e+00, 2.86524968e+00,\n",
       "       3.82022586e+00, 4.77520203e+00, 5.73017821e+00, 6.68515439e+00,\n",
       "       7.64013056e+00, 8.59510674e+00, 9.55008292e+00, 1.05050591e+01,\n",
       "       1.14600353e+01, 1.24150114e+01, 1.33699876e+01, 1.43249638e+01,\n",
       "       1.52799400e+01, 1.62349162e+01, 1.71898923e+01, 1.81448685e+01,\n",
       "       1.90998447e+01])"
      ]
     },
     "execution_count": 43,
     "metadata": {},
     "output_type": "execute_result"
    }
   ],
   "source": [
    "bins"
   ]
  },
  {
   "cell_type": "code",
   "execution_count": 44,
   "id": "7bc9ce9e",
   "metadata": {},
   "outputs": [],
   "source": [
    "# res=[]\n",
    "# for i in s:\n",
    "    "
   ]
  },
  {
   "cell_type": "code",
   "execution_count": 45,
   "id": "e7185b95",
   "metadata": {},
   "outputs": [],
   "source": [
    "import pandas as pd"
   ]
  },
  {
   "cell_type": "code",
   "execution_count": 52,
   "id": "86bfd48f",
   "metadata": {},
   "outputs": [
    {
     "data": {
      "text/plain": [
       "[(-0.0188, 0.955], (0.955, 1.91], (1.91, 2.865], (2.865, 3.82], (3.82, 4.775], ..., (14.325, 15.28], (15.28, 16.235], (16.235, 17.19], (17.19, 18.145], (18.145, 19.1]]\n",
       "Length: 20\n",
       "Categories (20, interval[float64, right]): [(-0.0188, 0.955] < (0.955, 1.91] < (1.91, 2.865] < (2.865, 3.82] ... (15.28, 16.235] < (16.235, 17.19] < (17.19, 18.145] < (18.145, 19.1]]"
      ]
     },
     "execution_count": 52,
     "metadata": {},
     "output_type": "execute_result"
    }
   ],
   "source": [
    "(pd.cut(bins,20))[1:]"
   ]
  },
  {
   "cell_type": "code",
   "execution_count": null,
   "id": "4c96ef56",
   "metadata": {},
   "outputs": [],
   "source": []
  },
  {
   "cell_type": "code",
   "execution_count": 47,
   "id": "eae3c826",
   "metadata": {},
   "outputs": [
    {
     "data": {
      "text/plain": [
       "19.09984468866529"
      ]
     },
     "execution_count": 47,
     "metadata": {},
     "output_type": "execute_result"
    }
   ],
   "source": [
    "max(s)"
   ]
  },
  {
   "cell_type": "code",
   "execution_count": null,
   "id": "2177d3aa",
   "metadata": {},
   "outputs": [],
   "source": []
  }
 ],
 "metadata": {
  "kernelspec": {
   "display_name": "Python 3 (ipykernel)",
   "language": "python",
   "name": "python3"
  },
  "language_info": {
   "codemirror_mode": {
    "name": "ipython",
    "version": 3
   },
   "file_extension": ".py",
   "mimetype": "text/x-python",
   "name": "python",
   "nbconvert_exporter": "python",
   "pygments_lexer": "ipython3",
   "version": "3.9.11"
  }
 },
 "nbformat": 4,
 "nbformat_minor": 5
}
