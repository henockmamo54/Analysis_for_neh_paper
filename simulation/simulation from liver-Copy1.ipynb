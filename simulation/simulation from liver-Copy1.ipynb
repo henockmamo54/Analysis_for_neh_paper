{
 "cells": [
  {
   "cell_type": "code",
   "execution_count": 1,
   "id": "0b976867",
   "metadata": {},
   "outputs": [],
   "source": [
    "import os \n",
    "import numpy as np\n",
    "import pandas as pd\n",
    "import warnings\n",
    "from matplotlib import pyplot as plt\n",
    "import math\n",
    "from sklearn import metrics\n",
    "\n",
    "warnings.filterwarnings(\"ignore\")"
   ]
  },
  {
   "cell_type": "code",
   "execution_count": 2,
   "id": "1259d9ab",
   "metadata": {},
   "outputs": [],
   "source": [
    "filespath=\"H:\\Warehouse\\Data\\DataUsedForPublication\\Partial IsotopeProfile paper data used for publication\\liverpool_CI\\liver\"\n",
    "protiens=[ x for x in os.listdir(filespath) if (\".Quant.csv\") in x]\n",
    "\n",
    "res=pd.DataFrame()\n",
    "for file in protiens:\n",
    "    \n",
    "    try:\n",
    "        list(pd.read_csv(os.path.join(filespath,file), skiprows=1,index_col=False).Peptide)\n",
    "        res=pd.concat([res,pd.read_csv(os.path.join(filespath,file), skiprows=1,index_col=False)])  \n",
    "    except:\n",
    "        list(pd.read_csv(os.path.join(filespath,file), skiprows=3,index_col=False).Peptide)\n",
    "        res=pd.concat([res,pd.read_csv(os.path.join(filespath,file), skiprows=3,index_col=False)])  \n",
    "        \n",
    "        "
   ]
  },
  {
   "cell_type": "code",
   "execution_count": 3,
   "id": "e6078936",
   "metadata": {},
   "outputs": [
    {
     "data": {
      "text/html": [
       "<div>\n",
       "<style scoped>\n",
       "    .dataframe tbody tr th:only-of-type {\n",
       "        vertical-align: middle;\n",
       "    }\n",
       "\n",
       "    .dataframe tbody tr th {\n",
       "        vertical-align: top;\n",
       "    }\n",
       "\n",
       "    .dataframe thead th {\n",
       "        text-align: right;\n",
       "    }\n",
       "</style>\n",
       "<table border=\"1\" class=\"dataframe\">\n",
       "  <thead>\n",
       "    <tr style=\"text-align: right;\">\n",
       "      <th></th>\n",
       "      <th>Peptide</th>\n",
       "      <th>UniqueToProtein</th>\n",
       "      <th>Exchangeable Hydrogens</th>\n",
       "      <th>Charge</th>\n",
       "      <th>m/z(Sequence)</th>\n",
       "      <th>M0</th>\n",
       "      <th>M1</th>\n",
       "      <th>M2</th>\n",
       "      <th>M3</th>\n",
       "      <th>M4</th>\n",
       "      <th>...</th>\n",
       "      <th>I1.11</th>\n",
       "      <th>I2.11</th>\n",
       "      <th>I3.11</th>\n",
       "      <th>I4.11</th>\n",
       "      <th>I5.11</th>\n",
       "      <th>Start Elution (min).11</th>\n",
       "      <th>End Elution (min).11</th>\n",
       "      <th>I0 Peak Width.11</th>\n",
       "      <th>Total Labeling.12</th>\n",
       "      <th>Net Labeling.11</th>\n",
       "    </tr>\n",
       "  </thead>\n",
       "  <tbody>\n",
       "    <tr>\n",
       "      <th>0</th>\n",
       "      <td>NLLSVAYK</td>\n",
       "      <td>No</td>\n",
       "      <td>11</td>\n",
       "      <td>2</td>\n",
       "      <td>454.26599</td>\n",
       "      <td>58.030</td>\n",
       "      <td>30.342</td>\n",
       "      <td>9.172</td>\n",
       "      <td>2.031</td>\n",
       "      <td>0.362</td>\n",
       "      <td>...</td>\n",
       "      <td>1093816000.0</td>\n",
       "      <td>579122900.0</td>\n",
       "      <td>192473100.0</td>\n",
       "      <td>58030120.0</td>\n",
       "      <td>9012703.0</td>\n",
       "      <td>38.159962</td>\n",
       "      <td>38.384819</td>\n",
       "      <td>0.0001</td>\n",
       "      <td>0.50926</td>\n",
       "      <td>0.186437</td>\n",
       "    </tr>\n",
       "    <tr>\n",
       "      <th>1</th>\n",
       "      <td>EMQPTHPIR</td>\n",
       "      <td>No</td>\n",
       "      <td>21</td>\n",
       "      <td>3</td>\n",
       "      <td>370.19043</td>\n",
       "      <td>50.917</td>\n",
       "      <td>30.906</td>\n",
       "      <td>12.900</td>\n",
       "      <td>4.018</td>\n",
       "      <td>1.005</td>\n",
       "      <td>...</td>\n",
       "      <td>210457800.0</td>\n",
       "      <td>155419400.0</td>\n",
       "      <td>77888640.0</td>\n",
       "      <td>31394280.0</td>\n",
       "      <td>10591990.0</td>\n",
       "      <td>18.565918</td>\n",
       "      <td>18.729511</td>\n",
       "      <td>0.0001</td>\n",
       "      <td>0.602036</td>\n",
       "      <td>0.239675</td>\n",
       "    </tr>\n",
       "    <tr>\n",
       "      <th>2</th>\n",
       "      <td>DSTLIMQLLR</td>\n",
       "      <td>No</td>\n",
       "      <td>16</td>\n",
       "      <td>2</td>\n",
       "      <td>595.33411</td>\n",
       "      <td>48.532</td>\n",
       "      <td>31.604</td>\n",
       "      <td>13.829</td>\n",
       "      <td>4.522</td>\n",
       "      <td>1.191</td>\n",
       "      <td>...</td>\n",
       "      <td>2074063000.0</td>\n",
       "      <td>1553297000.0</td>\n",
       "      <td>781084300.0</td>\n",
       "      <td>293169600.0</td>\n",
       "      <td>89676220.0</td>\n",
       "      <td>67.00631</td>\n",
       "      <td>67.259964</td>\n",
       "      <td>0.0001</td>\n",
       "      <td>0.576532</td>\n",
       "      <td>0.190398</td>\n",
       "    </tr>\n",
       "    <tr>\n",
       "      <th>3</th>\n",
       "      <td>YLSEVASGENK</td>\n",
       "      <td>Yes</td>\n",
       "      <td>23</td>\n",
       "      <td>2</td>\n",
       "      <td>598.79327</td>\n",
       "      <td>50.852</td>\n",
       "      <td>32.518</td>\n",
       "      <td>12.269</td>\n",
       "      <td>3.414</td>\n",
       "      <td>0.770</td>\n",
       "      <td>...</td>\n",
       "      <td>178110700.0</td>\n",
       "      <td>151365800.0</td>\n",
       "      <td>87354120.0</td>\n",
       "      <td>34175270.0</td>\n",
       "      <td>8094392.0</td>\n",
       "      <td>23.606974</td>\n",
       "      <td>24.672041</td>\n",
       "      <td>0.0001</td>\n",
       "      <td>0.630086</td>\n",
       "      <td>0.239263</td>\n",
       "    </tr>\n",
       "    <tr>\n",
       "      <th>4</th>\n",
       "      <td>DSTLImQLLR</td>\n",
       "      <td>No</td>\n",
       "      <td>16</td>\n",
       "      <td>2</td>\n",
       "      <td>603.33154</td>\n",
       "      <td>48.532</td>\n",
       "      <td>31.604</td>\n",
       "      <td>13.829</td>\n",
       "      <td>4.522</td>\n",
       "      <td>1.191</td>\n",
       "      <td>...</td>\n",
       "      <td>36900160.0</td>\n",
       "      <td>22052220.0</td>\n",
       "      <td>11620070.0</td>\n",
       "      <td>4757536.0</td>\n",
       "      <td>2203624.0</td>\n",
       "      <td>61.689384</td>\n",
       "      <td>62.532894</td>\n",
       "      <td>0.0001</td>\n",
       "      <td>0.486553</td>\n",
       "      <td>0.094899</td>\n",
       "    </tr>\n",
       "    <tr>\n",
       "      <th>...</th>\n",
       "      <td>...</td>\n",
       "      <td>...</td>\n",
       "      <td>...</td>\n",
       "      <td>...</td>\n",
       "      <td>...</td>\n",
       "      <td>...</td>\n",
       "      <td>...</td>\n",
       "      <td>...</td>\n",
       "      <td>...</td>\n",
       "      <td>...</td>\n",
       "      <td>...</td>\n",
       "      <td>...</td>\n",
       "      <td>...</td>\n",
       "      <td>...</td>\n",
       "      <td>...</td>\n",
       "      <td>...</td>\n",
       "      <td>...</td>\n",
       "      <td>...</td>\n",
       "      <td>...</td>\n",
       "      <td>...</td>\n",
       "      <td>...</td>\n",
       "    </tr>\n",
       "    <tr>\n",
       "      <th>3</th>\n",
       "      <td>SSEPVQHEENIR</td>\n",
       "      <td>Yes</td>\n",
       "      <td>33</td>\n",
       "      <td>3</td>\n",
       "      <td>475.56366</td>\n",
       "      <td>45.601</td>\n",
       "      <td>33.879</td>\n",
       "      <td>14.516</td>\n",
       "      <td>4.552</td>\n",
       "      <td>1.151</td>\n",
       "      <td>...</td>\n",
       "      <td>0.0</td>\n",
       "      <td>0.0</td>\n",
       "      <td>0.0</td>\n",
       "      <td>0.0</td>\n",
       "      <td>0.0</td>\n",
       "      <td>1064.170044</td>\n",
       "      <td>1064.170044</td>\n",
       "      <td>0.0</td>\n",
       "      <td>0.0</td>\n",
       "      <td>-0.35197</td>\n",
       "    </tr>\n",
       "    <tr>\n",
       "      <th>0</th>\n",
       "      <td>LILVDYVLFK</td>\n",
       "      <td>Yes</td>\n",
       "      <td>7</td>\n",
       "      <td>2</td>\n",
       "      <td>611.87592</td>\n",
       "      <td>45.843</td>\n",
       "      <td>34.651</td>\n",
       "      <td>14.201</td>\n",
       "      <td>4.136</td>\n",
       "      <td>0.952</td>\n",
       "      <td>...</td>\n",
       "      <td></td>\n",
       "      <td></td>\n",
       "      <td></td>\n",
       "      <td></td>\n",
       "      <td></td>\n",
       "      <td></td>\n",
       "      <td></td>\n",
       "      <td></td>\n",
       "      <td></td>\n",
       "      <td></td>\n",
       "    </tr>\n",
       "    <tr>\n",
       "      <th>1</th>\n",
       "      <td>DLGLSQGSFAFIHK</td>\n",
       "      <td>Yes</td>\n",
       "      <td>25</td>\n",
       "      <td>3</td>\n",
       "      <td>507.26831</td>\n",
       "      <td>40.248</td>\n",
       "      <td>35.199</td>\n",
       "      <td>16.825</td>\n",
       "      <td>5.741</td>\n",
       "      <td>1.553</td>\n",
       "      <td>...</td>\n",
       "      <td></td>\n",
       "      <td></td>\n",
       "      <td></td>\n",
       "      <td></td>\n",
       "      <td></td>\n",
       "      <td></td>\n",
       "      <td></td>\n",
       "      <td></td>\n",
       "      <td></td>\n",
       "      <td></td>\n",
       "    </tr>\n",
       "    <tr>\n",
       "      <th>0</th>\n",
       "      <td>GPLSQAPTPAPK</td>\n",
       "      <td>Yes</td>\n",
       "      <td>28</td>\n",
       "      <td>2</td>\n",
       "      <td>582.32458</td>\n",
       "      <td>50.545</td>\n",
       "      <td>33.037</td>\n",
       "      <td>12.248</td>\n",
       "      <td>3.302</td>\n",
       "      <td>0.714</td>\n",
       "      <td>...</td>\n",
       "      <td></td>\n",
       "      <td></td>\n",
       "      <td></td>\n",
       "      <td></td>\n",
       "      <td></td>\n",
       "      <td></td>\n",
       "      <td></td>\n",
       "      <td></td>\n",
       "      <td></td>\n",
       "      <td></td>\n",
       "    </tr>\n",
       "    <tr>\n",
       "      <th>1</th>\n",
       "      <td>VNPFRPGDSEPPVAAGAQR</td>\n",
       "      <td>Yes</td>\n",
       "      <td>49</td>\n",
       "      <td>3</td>\n",
       "      <td>655.66943</td>\n",
       "      <td>32.273</td>\n",
       "      <td>34.931</td>\n",
       "      <td>20.476</td>\n",
       "      <td>8.522</td>\n",
       "      <td>2.803</td>\n",
       "      <td>...</td>\n",
       "      <td></td>\n",
       "      <td></td>\n",
       "      <td></td>\n",
       "      <td></td>\n",
       "      <td></td>\n",
       "      <td></td>\n",
       "      <td></td>\n",
       "      <td></td>\n",
       "      <td></td>\n",
       "      <td></td>\n",
       "    </tr>\n",
       "  </tbody>\n",
       "</table>\n",
       "<p>27307 rows × 204 columns</p>\n",
       "</div>"
      ],
      "text/plain": [
       "                Peptide  UniqueToProtein   Exchangeable Hydrogens   Charge  \\\n",
       "0              NLLSVAYK               No                       11        2   \n",
       "1             EMQPTHPIR               No                       21        3   \n",
       "2            DSTLIMQLLR               No                       16        2   \n",
       "3           YLSEVASGENK              Yes                       23        2   \n",
       "4            DSTLImQLLR               No                       16        2   \n",
       "..                  ...              ...                      ...      ...   \n",
       "3          SSEPVQHEENIR              Yes                       33        3   \n",
       "0            LILVDYVLFK              Yes                        7        2   \n",
       "1        DLGLSQGSFAFIHK              Yes                       25        3   \n",
       "0          GPLSQAPTPAPK              Yes                       28        2   \n",
       "1   VNPFRPGDSEPPVAAGAQR              Yes                       49        3   \n",
       "\n",
       "     m/z(Sequence)      M0      M1      M2     M3     M4  ...         I1.11  \\\n",
       "0        454.26599  58.030  30.342   9.172  2.031  0.362  ...  1093816000.0   \n",
       "1        370.19043  50.917  30.906  12.900  4.018  1.005  ...   210457800.0   \n",
       "2        595.33411  48.532  31.604  13.829  4.522  1.191  ...  2074063000.0   \n",
       "3        598.79327  50.852  32.518  12.269  3.414  0.770  ...   178110700.0   \n",
       "4        603.33154  48.532  31.604  13.829  4.522  1.191  ...    36900160.0   \n",
       "..             ...     ...     ...     ...    ...    ...  ...           ...   \n",
       "3        475.56366  45.601  33.879  14.516  4.552  1.151  ...           0.0   \n",
       "0        611.87592  45.843  34.651  14.201  4.136  0.952  ...                 \n",
       "1        507.26831  40.248  35.199  16.825  5.741  1.553  ...                 \n",
       "0        582.32458  50.545  33.037  12.248  3.302  0.714  ...                 \n",
       "1        655.66943  32.273  34.931  20.476  8.522  2.803  ...                 \n",
       "\n",
       "           I2.11        I3.11        I4.11       I5.11  \\\n",
       "0    579122900.0  192473100.0   58030120.0   9012703.0   \n",
       "1    155419400.0   77888640.0   31394280.0  10591990.0   \n",
       "2   1553297000.0  781084300.0  293169600.0  89676220.0   \n",
       "3    151365800.0   87354120.0   34175270.0   8094392.0   \n",
       "4     22052220.0   11620070.0    4757536.0   2203624.0   \n",
       "..           ...          ...          ...         ...   \n",
       "3            0.0          0.0          0.0         0.0   \n",
       "0                                                        \n",
       "1                                                        \n",
       "0                                                        \n",
       "1                                                        \n",
       "\n",
       "    Start Elution (min).11  End Elution (min).11  I0 Peak Width.11  \\\n",
       "0                38.159962             38.384819            0.0001   \n",
       "1                18.565918             18.729511            0.0001   \n",
       "2                 67.00631             67.259964            0.0001   \n",
       "3                23.606974             24.672041            0.0001   \n",
       "4                61.689384             62.532894            0.0001   \n",
       "..                     ...                   ...               ...   \n",
       "3              1064.170044           1064.170044               0.0   \n",
       "0                                                                    \n",
       "1                                                                    \n",
       "0                                                                    \n",
       "1                                                                    \n",
       "\n",
       "    Total Labeling.12  Net Labeling.11  \n",
       "0             0.50926         0.186437  \n",
       "1            0.602036         0.239675  \n",
       "2            0.576532         0.190398  \n",
       "3            0.630086         0.239263  \n",
       "4            0.486553         0.094899  \n",
       "..                ...              ...  \n",
       "3                 0.0         -0.35197  \n",
       "0                                       \n",
       "1                                       \n",
       "0                                       \n",
       "1                                       \n",
       "\n",
       "[27307 rows x 204 columns]"
      ]
     },
     "execution_count": 3,
     "metadata": {},
     "output_type": "execute_result"
    }
   ],
   "source": [
    "res"
   ]
  },
  {
   "cell_type": "code",
   "execution_count": null,
   "id": "1dfd7a88",
   "metadata": {},
   "outputs": [],
   "source": []
  },
  {
   "cell_type": "code",
   "execution_count": 4,
   "id": "54b1d0a2",
   "metadata": {},
   "outputs": [
    {
     "name": "stdout",
     "output_type": "stream",
     "text": [
      "(27307, 204)\n",
      "(21619, 204)\n"
     ]
    }
   ],
   "source": [
    "res[\"Peptide\"]=[x.upper() for x in res.Peptide]\n",
    "print(res.shape)\n",
    "res=res.drop_duplicates(subset=['Peptide'])\n",
    "print(res.shape)"
   ]
  },
  {
   "cell_type": "code",
   "execution_count": 5,
   "id": "c2009e9d",
   "metadata": {},
   "outputs": [],
   "source": [
    "# pd.read_csv(os.path.join(filespath,file), skiprows=3,index_col=False)[[' M0',' M1',' M2',' M3',' M4',' M5']]"
   ]
  },
  {
   "cell_type": "code",
   "execution_count": 6,
   "id": "e28854ce",
   "metadata": {},
   "outputs": [],
   "source": [
    "# \"print(len(res))\n",
    "# temp_pep=(np.array(res))\n",
    "# temp_pep=np.unique([x.upper() for x in temp_pep])\n",
    "# temp_pep.shape\""
   ]
  },
  {
   "cell_type": "code",
   "execution_count": 7,
   "id": "1965c70f",
   "metadata": {},
   "outputs": [
    {
     "name": "stdout",
     "output_type": "stream",
     "text": [
      "7 52\n"
     ]
    },
    {
     "data": {
      "text/plain": [
       "<BarContainer object of 44 artists>"
      ]
     },
     "execution_count": 7,
     "metadata": {},
     "output_type": "execute_result"
    },
    {
     "data": {
      "image/png": "[encoded data removed]",
      "text/plain": [
       "<Figure size 432x288 with 1 Axes>"
      ]
     },
     "metadata": {
      "needs_background": "light"
     },
     "output_type": "display_data"
    }
   ],
   "source": [
    "x,y=np.unique(np.array([len(x) for x in res[\"Peptide\"]]),return_counts=True)\n",
    "print(min(x),max(x))\n",
    "plt.bar(x,y)"
   ]
  },
  {
   "cell_type": "code",
   "execution_count": 8,
   "id": "b4893b48",
   "metadata": {},
   "outputs": [
    {
     "data": {
      "image/png": "[encoded data removed]",
      "text/plain": [
       "<Figure size 432x288 with 1 Axes>"
      ]
     },
     "metadata": {
      "needs_background": "light"
     },
     "output_type": "display_data"
    }
   ],
   "source": [
    "rate=[x for x in np.array(np.random.uniform(low = math.log(2)/31, high = math.log(2), size = res.shape[0] )).ravel()]#np.rint\n",
    "res[\"rate\"]=rate\n",
    "count, bins, ignored = plt.hist(rate, 20, density=False)"
   ]
  },
  {
   "cell_type": "code",
   "execution_count": 75,
   "id": "951b7b4d",
   "metadata": {},
   "outputs": [],
   "source": [
    "trueval=[4.0,1.62,1.89,3.95,0.32,2.06,2.88,1.0,0.6,0.54,1.12,1.89,2.59,3.95,3.43,2.61,0.2,0.56,0.08,0.42]\n",
    "trueval=[2]*20\n",
    "all_AAs=[x.upper() for x in\n",
    "         ['a', 'c', 'd', 'e', 'f', 'g', 'h', 'i', 'k', 'l', 'm', 'n', 'p','q', 'r', 's', 't', 'v', 'w', 'y']]"
   ]
  },
  {
   "cell_type": "code",
   "execution_count": 76,
   "id": "b0ae89a4",
   "metadata": {},
   "outputs": [],
   "source": [
    "def compute_neh(seq):\n",
    "    res=0\n",
    "    for c in seq:\n",
    "        res+=trueval[all_AAs.index(c)]\n",
    "    return int(res)"
   ]
  },
  {
   "cell_type": "code",
   "execution_count": 77,
   "id": "a9cc9d01",
   "metadata": {},
   "outputs": [
    {
     "data": {
      "text/plain": [
       "21619"
      ]
     },
     "execution_count": 77,
     "metadata": {},
     "output_type": "execute_result"
    }
   ],
   "source": [
    "pep_neh=[]\n",
    "for pep in res[\"Peptide\"]:\n",
    "    pep_neh.append(compute_neh(pep))\n",
    "res[\"pep_neh\"]=pep_neh\n",
    "len(pep_neh)"
   ]
  },
  {
   "cell_type": "code",
   "execution_count": 78,
   "id": "7eb3a2a6",
   "metadata": {},
   "outputs": [
    {
     "name": "stdout",
     "output_type": "stream",
     "text": [
      "14 104\n"
     ]
    },
    {
     "data": {
      "text/plain": [
       "<BarContainer object of 44 artists>"
      ]
     },
     "execution_count": 78,
     "metadata": {},
     "output_type": "execute_result"
    },
    {
     "data": {
      "image/png": "[encoded data removed]",
      "text/plain": [
       "<Figure size 432x288 with 1 Axes>"
      ]
     },
     "metadata": {
      "needs_background": "light"
     },
     "output_type": "display_data"
    }
   ],
   "source": [
    "x,y=np.unique(np.array(pep_neh),return_counts=True)\n",
    "print(min(x),max(x))\n",
    "plt.bar(x,y)"
   ]
  },
  {
   "cell_type": "code",
   "execution_count": 79,
   "id": "7f8366cd",
   "metadata": {},
   "outputs": [],
   "source": [
    "# I0=[x for x in np.array(np.random.uniform(low = 0.15, high = 0.55, size = res.shape[0] )).ravel()]#np.rint\n",
    "# res[\"I0\"]=I0\n",
    "# count, bins, ignored = plt.hist(I0, 20, density=False)"
   ]
  },
  {
   "cell_type": "code",
   "execution_count": 80,
   "id": "abd9e379",
   "metadata": {},
   "outputs": [],
   "source": [
    "def compute_ioasym(i0,neh):\n",
    "    pw=0.05\n",
    "    ph=1.5574E-4\n",
    "    return i0*(1-pw/(1-ph))**neh"
   ]
  },
  {
   "cell_type": "code",
   "execution_count": 81,
   "id": "5d7122ff",
   "metadata": {},
   "outputs": [],
   "source": [
    "def compute_i0_t(t,k,neh,i0):\n",
    "    io_asym=compute_ioasym(i0,neh)\n",
    "    return  io_asym + (i0-io_asym)*(math.exp(-k*t))"
   ]
  },
  {
   "cell_type": "code",
   "execution_count": null,
   "id": "3391b9f7",
   "metadata": {},
   "outputs": [],
   "source": []
  },
  {
   "cell_type": "code",
   "execution_count": 82,
   "id": "5b057901",
   "metadata": {},
   "outputs": [],
   "source": [
    "res=res.reset_index(drop=True)"
   ]
  },
  {
   "cell_type": "code",
   "execution_count": 137,
   "id": "21739cbb",
   "metadata": {},
   "outputs": [
    {
     "name": "stdout",
     "output_type": "stream",
     "text": [
      "0.9356099636515658 0.02748602986196779\n",
      "0.8388832617938591 0.047835160780779436\n",
      "0.7916944315041187 0.048351199308185086\n",
      "0.8307683404749573 0.04079243655492322\n",
      "0.8297723220761143 0.04205431279992541\n",
      "0.8959412491986106 0.029774668390305264\n",
      "0.925782424118914 0.028091084544348433\n",
      "0.8930500690467468 0.032854568773894935\n",
      "0.9335711198243213 0.027269590956782462\n",
      "0.9419771279239568 0.02402490638816078\n",
      "0.9011400113671896 0.033577879696258243\n",
      "0.7094789505483777 0.0508931103014781\n",
      "0.8311238828580473 0.04443258953659798\n",
      "0.8968665666647867 0.040688396236156915\n",
      "0.9030039632142592 0.0349151407385743\n",
      "0.9225045851931635 0.02466824831347346\n",
      "0.8240350754326886 0.04291338578285086\n",
      "0.9062501022168354 0.028221320344871556\n",
      "0.9688253110953521 0.018003829781535193\n",
      "0.8858117418266633 0.03345344445754182\n"
     ]
    },
    {
     "data": {
      "image/png": "[encoded data removed]",
      "text/plain": [
       "<Figure size 432x288 with 1 Axes>"
      ]
     },
     "metadata": {
      "needs_background": "light"
     },
     "output_type": "display_data"
    }
   ],
   "source": [
    "for k in range(20):\n",
    "    io_ts=[]\n",
    "    io_ns=[]\n",
    "    times=[0,1 ,2 ,3 ,6 ,7 ,9 ,13,16,21,24,31]\n",
    "    for i in times:\n",
    "        io_ts.append(compute_i0_t(i,res[\"rate\"][0],res[\"pep_neh\"][0],res[\" M0\"][0]/100))\n",
    "        io_ns.append(io_ts[-1]+np.random.normal(0,0.035,1))\n",
    "    plt.scatter(times,io_ns,c='r')\n",
    "    plt.scatter(times,io_ts,c='k')\n",
    "    print(metrics.r2_score(io_ns,io_ts),(metrics.mean_squared_error(io_ns,io_ts))**0.5)"
   ]
  },
  {
   "cell_type": "code",
   "execution_count": null,
   "id": "86a9bb0f",
   "metadata": {
    "scrolled": true
   },
   "outputs": [],
   "source": []
  },
  {
   "cell_type": "code",
   "execution_count": 138,
   "id": "84226dc1",
   "metadata": {},
   "outputs": [],
   "source": [
    "\n",
    "sim_res=[]\n",
    "for i in range(res.shape[0]):\n",
    "    temp_res=[\n",
    "    res[\"Peptide\"][i],res[\"pep_neh\"][i],\n",
    "    res[\"rate\"][i],\n",
    "    res[\" M0\"][i],res[\" M1\"][i],res[\" M2\"][i],\n",
    "    res[\" M3\"][i],res[\" M4\"][i],res[\" M5\"][i]\n",
    "    ]\n",
    "    \n",
    "    io_ts=[]\n",
    "    io_ns=[] \n",
    "    for t in times:\n",
    "        io_ts.append(compute_i0_t(t,res[\"rate\"][i],res[\"pep_neh\"][i],res[\" M0\"][i]/100))\n",
    "        io_ns.append(float(io_ts[-1]+np.random.normal(0,0.05,1)))\n",
    "        \n",
    "    temp_res+=[metrics.r2_score(io_ns,io_ts),(metrics.mean_squared_error(io_ns,io_ts))**0.5]\n",
    "    \n",
    "    temp_res+=io_ns+io_ts\n",
    "    sim_res.append(temp_res)\n",
    "    "
   ]
  },
  {
   "cell_type": "code",
   "execution_count": 139,
   "id": "00ae7d2f",
   "metadata": {},
   "outputs": [],
   "source": [
    "df_sim_res=pd.DataFrame(sim_res)\n",
    "df_sim_res.columns=[\"Pep\",'NEH','k','M0','M1','M2','M3','M4','M5','R2','RMSE']+ [f'T_i0_{t}' for t in times] +[f'N_i0_{t}' for t in times]"
   ]
  },
  {
   "cell_type": "code",
   "execution_count": 140,
   "id": "1a0c8c37",
   "metadata": {},
   "outputs": [],
   "source": [
    "df_sim_res.to_csv(\"NEH_sim.csv\",index=False)"
   ]
  },
  {
   "cell_type": "code",
   "execution_count": 141,
   "id": "14134990",
   "metadata": {},
   "outputs": [
    {
     "data": {
      "text/plain": [
       "Index(['Pep', 'NEH', 'k', 'M0', 'M1', 'M2', 'M3', 'M4', 'M5', 'R2', 'RMSE',\n",
       "       'T_i0_0', 'T_i0_1', 'T_i0_2', 'T_i0_3', 'T_i0_6', 'T_i0_7', 'T_i0_9',\n",
       "       'T_i0_13', 'T_i0_16', 'T_i0_21', 'T_i0_24', 'T_i0_31', 'N_i0_0',\n",
       "       'N_i0_1', 'N_i0_2', 'N_i0_3', 'N_i0_6', 'N_i0_7', 'N_i0_9', 'N_i0_13',\n",
       "       'N_i0_16', 'N_i0_21', 'N_i0_24', 'N_i0_31'],\n",
       "      dtype='object')"
      ]
     },
     "execution_count": 141,
     "metadata": {},
     "output_type": "execute_result"
    }
   ],
   "source": [
    "df_sim_res.columns"
   ]
  },
  {
   "cell_type": "code",
   "execution_count": 142,
   "id": "0b20deed",
   "metadata": {},
   "outputs": [],
   "source": [
    "# df_sim_res['_i0_31'][0]"
   ]
  },
  {
   "cell_type": "code",
   "execution_count": 143,
   "id": "99ac73d6",
   "metadata": {},
   "outputs": [
    {
     "data": {
      "text/plain": [
       "31.2731548534781"
      ]
     },
     "execution_count": 143,
     "metadata": {},
     "output_type": "execute_result"
    }
   ],
   "source": [
    "math.log(0.11665089731141727/0.5803)/ math.log(1- (0.05/ (1-1.5574E-4)))\n"
   ]
  },
  {
   "cell_type": "code",
   "execution_count": 144,
   "id": "a937fccc",
   "metadata": {},
   "outputs": [
    {
     "data": {
      "text/html": [
       "<div>\n",
       "<style scoped>\n",
       "    .dataframe tbody tr th:only-of-type {\n",
       "        vertical-align: middle;\n",
       "    }\n",
       "\n",
       "    .dataframe tbody tr th {\n",
       "        vertical-align: top;\n",
       "    }\n",
       "\n",
       "    .dataframe thead th {\n",
       "        text-align: right;\n",
       "    }\n",
       "</style>\n",
       "<table border=\"1\" class=\"dataframe\">\n",
       "  <thead>\n",
       "    <tr style=\"text-align: right;\">\n",
       "      <th></th>\n",
       "      <th>N_i0_1</th>\n",
       "      <th>N_i0_2</th>\n",
       "      <th>N_i0_3</th>\n",
       "      <th>N_i0_6</th>\n",
       "      <th>N_i0_7</th>\n",
       "      <th>N_i0_9</th>\n",
       "      <th>N_i0_13</th>\n",
       "      <th>N_i0_16</th>\n",
       "      <th>N_i0_21</th>\n",
       "      <th>N_i0_24</th>\n",
       "      <th>N_i0_31</th>\n",
       "      <th>R2</th>\n",
       "    </tr>\n",
       "  </thead>\n",
       "  <tbody>\n",
       "    <tr>\n",
       "      <th>0</th>\n",
       "      <td>0.443215</td>\n",
       "      <td>0.363966</td>\n",
       "      <td>0.318151</td>\n",
       "      <td>0.267501</td>\n",
       "      <td>0.262384</td>\n",
       "      <td>0.257715</td>\n",
       "      <td>0.255634</td>\n",
       "      <td>0.255423</td>\n",
       "      <td>0.255375</td>\n",
       "      <td>0.255373</td>\n",
       "      <td>0.255372</td>\n",
       "      <td>0.836324</td>\n",
       "    </tr>\n",
       "    <tr>\n",
       "      <th>1</th>\n",
       "      <td>0.375442</td>\n",
       "      <td>0.299975</td>\n",
       "      <td>0.257386</td>\n",
       "      <td>0.212134</td>\n",
       "      <td>0.207815</td>\n",
       "      <td>0.204002</td>\n",
       "      <td>0.202400</td>\n",
       "      <td>0.202252</td>\n",
       "      <td>0.202222</td>\n",
       "      <td>0.202220</td>\n",
       "      <td>0.202220</td>\n",
       "      <td>0.880946</td>\n",
       "    </tr>\n",
       "    <tr>\n",
       "      <th>2</th>\n",
       "      <td>0.456115</td>\n",
       "      <td>0.429649</td>\n",
       "      <td>0.405665</td>\n",
       "      <td>0.346388</td>\n",
       "      <td>0.330214</td>\n",
       "      <td>0.302275</td>\n",
       "      <td>0.260490</td>\n",
       "      <td>0.238352</td>\n",
       "      <td>0.213308</td>\n",
       "      <td>0.203240</td>\n",
       "      <td>0.188650</td>\n",
       "      <td>0.617860</td>\n",
       "    </tr>\n",
       "    <tr>\n",
       "      <th>3</th>\n",
       "      <td>0.460771</td>\n",
       "      <td>0.419649</td>\n",
       "      <td>0.384235</td>\n",
       "      <td>0.304850</td>\n",
       "      <td>0.285369</td>\n",
       "      <td>0.254144</td>\n",
       "      <td>0.213808</td>\n",
       "      <td>0.195993</td>\n",
       "      <td>0.179416</td>\n",
       "      <td>0.174025</td>\n",
       "      <td>0.167842</td>\n",
       "      <td>0.776535</td>\n",
       "    </tr>\n",
       "    <tr>\n",
       "      <th>4</th>\n",
       "      <td>0.384319</td>\n",
       "      <td>0.322613</td>\n",
       "      <td>0.278569</td>\n",
       "      <td>0.208677</td>\n",
       "      <td>0.197245</td>\n",
       "      <td>0.183261</td>\n",
       "      <td>0.172507</td>\n",
       "      <td>0.170108</td>\n",
       "      <td>0.168991</td>\n",
       "      <td>0.168829</td>\n",
       "      <td>0.168745</td>\n",
       "      <td>0.929675</td>\n",
       "    </tr>\n",
       "    <tr>\n",
       "      <th>...</th>\n",
       "      <td>...</td>\n",
       "      <td>...</td>\n",
       "      <td>...</td>\n",
       "      <td>...</td>\n",
       "      <td>...</td>\n",
       "      <td>...</td>\n",
       "      <td>...</td>\n",
       "      <td>...</td>\n",
       "      <td>...</td>\n",
       "      <td>...</td>\n",
       "      <td>...</td>\n",
       "      <td>...</td>\n",
       "    </tr>\n",
       "    <tr>\n",
       "      <th>21614</th>\n",
       "      <td>0.295888</td>\n",
       "      <td>0.215172</td>\n",
       "      <td>0.174483</td>\n",
       "      <td>0.138422</td>\n",
       "      <td>0.135794</td>\n",
       "      <td>0.133802</td>\n",
       "      <td>0.133168</td>\n",
       "      <td>0.133129</td>\n",
       "      <td>0.133124</td>\n",
       "      <td>0.133124</td>\n",
       "      <td>0.133124</td>\n",
       "      <td>0.857125</td>\n",
       "    </tr>\n",
       "    <tr>\n",
       "      <th>21615</th>\n",
       "      <td>0.395012</td>\n",
       "      <td>0.345268</td>\n",
       "      <td>0.306251</td>\n",
       "      <td>0.232811</td>\n",
       "      <td>0.218041</td>\n",
       "      <td>0.197370</td>\n",
       "      <td>0.176826</td>\n",
       "      <td>0.170352</td>\n",
       "      <td>0.166107</td>\n",
       "      <td>0.165179</td>\n",
       "      <td>0.164472</td>\n",
       "      <td>0.672260</td>\n",
       "    </tr>\n",
       "    <tr>\n",
       "      <th>21616</th>\n",
       "      <td>0.305826</td>\n",
       "      <td>0.239623</td>\n",
       "      <td>0.194278</td>\n",
       "      <td>0.127376</td>\n",
       "      <td>0.117396</td>\n",
       "      <td>0.105878</td>\n",
       "      <td>0.097939</td>\n",
       "      <td>0.096418</td>\n",
       "      <td>0.095807</td>\n",
       "      <td>0.095733</td>\n",
       "      <td>0.095701</td>\n",
       "      <td>0.697629</td>\n",
       "    </tr>\n",
       "    <tr>\n",
       "      <th>21617</th>\n",
       "      <td>0.433300</td>\n",
       "      <td>0.375695</td>\n",
       "      <td>0.329703</td>\n",
       "      <td>0.240258</td>\n",
       "      <td>0.221570</td>\n",
       "      <td>0.194736</td>\n",
       "      <td>0.166728</td>\n",
       "      <td>0.157314</td>\n",
       "      <td>0.150722</td>\n",
       "      <td>0.149168</td>\n",
       "      <td>0.147890</td>\n",
       "      <td>0.837586</td>\n",
       "    </tr>\n",
       "    <tr>\n",
       "      <th>21618</th>\n",
       "      <td>0.213801</td>\n",
       "      <td>0.147741</td>\n",
       "      <td>0.107678</td>\n",
       "      <td>0.059711</td>\n",
       "      <td>0.054292</td>\n",
       "      <td>0.049012</td>\n",
       "      <td>0.046357</td>\n",
       "      <td>0.046034</td>\n",
       "      <td>0.045949</td>\n",
       "      <td>0.045943</td>\n",
       "      <td>0.045941</td>\n",
       "      <td>0.678309</td>\n",
       "    </tr>\n",
       "  </tbody>\n",
       "</table>\n",
       "<p>21619 rows × 12 columns</p>\n",
       "</div>"
      ],
      "text/plain": [
       "         N_i0_1    N_i0_2    N_i0_3    N_i0_6    N_i0_7    N_i0_9   N_i0_13  \\\n",
       "0      0.443215  0.363966  0.318151  0.267501  0.262384  0.257715  0.255634   \n",
       "1      0.375442  0.299975  0.257386  0.212134  0.207815  0.204002  0.202400   \n",
       "2      0.456115  0.429649  0.405665  0.346388  0.330214  0.302275  0.260490   \n",
       "3      0.460771  0.419649  0.384235  0.304850  0.285369  0.254144  0.213808   \n",
       "4      0.384319  0.322613  0.278569  0.208677  0.197245  0.183261  0.172507   \n",
       "...         ...       ...       ...       ...       ...       ...       ...   \n",
       "21614  0.295888  0.215172  0.174483  0.138422  0.135794  0.133802  0.133168   \n",
       "21615  0.395012  0.345268  0.306251  0.232811  0.218041  0.197370  0.176826   \n",
       "21616  0.305826  0.239623  0.194278  0.127376  0.117396  0.105878  0.097939   \n",
       "21617  0.433300  0.375695  0.329703  0.240258  0.221570  0.194736  0.166728   \n",
       "21618  0.213801  0.147741  0.107678  0.059711  0.054292  0.049012  0.046357   \n",
       "\n",
       "        N_i0_16   N_i0_21   N_i0_24   N_i0_31        R2  \n",
       "0      0.255423  0.255375  0.255373  0.255372  0.836324  \n",
       "1      0.202252  0.202222  0.202220  0.202220  0.880946  \n",
       "2      0.238352  0.213308  0.203240  0.188650  0.617860  \n",
       "3      0.195993  0.179416  0.174025  0.167842  0.776535  \n",
       "4      0.170108  0.168991  0.168829  0.168745  0.929675  \n",
       "...         ...       ...       ...       ...       ...  \n",
       "21614  0.133129  0.133124  0.133124  0.133124  0.857125  \n",
       "21615  0.170352  0.166107  0.165179  0.164472  0.672260  \n",
       "21616  0.096418  0.095807  0.095733  0.095701  0.697629  \n",
       "21617  0.157314  0.150722  0.149168  0.147890  0.837586  \n",
       "21618  0.046034  0.045949  0.045943  0.045941  0.678309  \n",
       "\n",
       "[21619 rows x 12 columns]"
      ]
     },
     "execution_count": 144,
     "metadata": {},
     "output_type": "execute_result"
    }
   ],
   "source": [
    "df_sim_res[['N_i0_1', 'N_i0_2', 'N_i0_3', 'N_i0_6', 'N_i0_7', 'N_i0_9', 'N_i0_13',\n",
    "       'N_i0_16', 'N_i0_21', 'N_i0_24', 'N_i0_31','R2']]"
   ]
  },
  {
   "cell_type": "code",
   "execution_count": null,
   "id": "8ddc2d81",
   "metadata": {},
   "outputs": [],
   "source": []
  }
 ],
 "metadata": {
  "kernelspec": {
   "display_name": "Python 3 (ipykernel)",
   "language": "python",
   "name": "python3"
  },
  "language_info": {
   "codemirror_mode": {
    "name": "ipython",
    "version": 3
   },
   "file_extension": ".py",
   "mimetype": "text/x-python",
   "name": "python",
   "nbconvert_exporter": "python",
   "pygments_lexer": "ipython3",
   "version": "3.9.11"
  }
 },
 "nbformat": 4,
 "nbformat_minor": 5
}
