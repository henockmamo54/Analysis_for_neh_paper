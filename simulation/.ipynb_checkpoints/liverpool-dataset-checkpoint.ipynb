{
 "cells": [
  {
   "cell_type": "code",
   "execution_count": 2,
   "id": "fd9e87f0",
   "metadata": {},
   "outputs": [],
   "source": [
    "import numpy as np\n",
    "import pandas as pd\n",
    "import os "
   ]
  },
  {
   "cell_type": "code",
   "execution_count": 3,
   "id": "dc114fc0",
   "metadata": {},
   "outputs": [
    {
     "name": "stdout",
     "output_type": "stream",
     "text": [
      "(26187, 8)\n",
      "(15339, 8)\n"
     ]
    }
   ],
   "source": [
    "path=\"C:\\\\Workplace\\\\C#\\\\Test\\\\immonium_mass_neh\\\\immonium_mass\\\\bin\\\\x64\\\\Debug\\\\\"\n",
    "data=pd.DataFrame()\n",
    "\n",
    "for f in [\"Liver_l0.csv\"]:\n",
    "    \n",
    "    data=pd.concat([data,pd.read_csv(path+f)])\n",
    "    \n",
    "    \n",
    "data[\"ion_count\"]=[ len(str(x).split('|')) for x in data[[\"values\"]].values]\n",
    "print(data.shape)\n",
    "data=data[data.ion_count>=2]\n",
    "data=data.reset_index(drop=True)\n",
    "print(data.shape)"
   ]
  },
  {
   "cell_type": "code",
   "execution_count": 4,
   "id": "ccd87614",
   "metadata": {},
   "outputs": [
    {
     "name": "stdout",
     "output_type": "stream",
     "text": [
      "15339\n"
     ]
    }
   ],
   "source": [
    "res=[]\n",
    "peps=[]\n",
    "count=0\n",
    "for i in range(data.shape[0]): \n",
    "    temp=[ int(float(x)*10)/10 for x in data[\"values\"][i].split(\"|\")]\n",
    "    res.append(temp)\n",
    "    peps.append((data[\"peptide\"][i]))\n",
    "    count+=1\n",
    "print(count)"
   ]
  },
  {
   "cell_type": "code",
   "execution_count": 5,
   "id": "4351fd47",
   "metadata": {},
   "outputs": [],
   "source": [
    "df=pd.DataFrame()\n",
    "df[\"pep\"]=peps\n",
    "df[\"vals\"]=res"
   ]
  },
  {
   "cell_type": "code",
   "execution_count": 6,
   "id": "509e9faf",
   "metadata": {},
   "outputs": [
    {
     "data": {
      "text/html": [
       "<div>\n",
       "<style scoped>\n",
       "    .dataframe tbody tr th:only-of-type {\n",
       "        vertical-align: middle;\n",
       "    }\n",
       "\n",
       "    .dataframe tbody tr th {\n",
       "        vertical-align: top;\n",
       "    }\n",
       "\n",
       "    .dataframe thead th {\n",
       "        text-align: right;\n",
       "    }\n",
       "</style>\n",
       "<table border=\"1\" class=\"dataframe\">\n",
       "  <thead>\n",
       "    <tr style=\"text-align: right;\">\n",
       "      <th></th>\n",
       "      <th>mz</th>\n",
       "      <th>count_s</th>\n",
       "    </tr>\n",
       "  </thead>\n",
       "  <tbody>\n",
       "    <tr>\n",
       "      <th>145</th>\n",
       "      <td>128.2</td>\n",
       "      <td>107.0</td>\n",
       "    </tr>\n",
       "    <tr>\n",
       "      <th>146</th>\n",
       "      <td>128.8</td>\n",
       "      <td>113.0</td>\n",
       "    </tr>\n",
       "    <tr>\n",
       "      <th>147</th>\n",
       "      <td>129.0</td>\n",
       "      <td>5909.0</td>\n",
       "    </tr>\n",
       "    <tr>\n",
       "      <th>148</th>\n",
       "      <td>129.1</td>\n",
       "      <td>14607.0</td>\n",
       "    </tr>\n",
       "    <tr>\n",
       "      <th>149</th>\n",
       "      <td>129.2</td>\n",
       "      <td>102.0</td>\n",
       "    </tr>\n",
       "  </tbody>\n",
       "</table>\n",
       "</div>"
      ],
      "text/plain": [
       "        mz  count_s\n",
       "145  128.2    107.0\n",
       "146  128.8    113.0\n",
       "147  129.0   5909.0\n",
       "148  129.1  14607.0\n",
       "149  129.2    102.0"
      ]
     },
     "execution_count": 6,
     "metadata": {},
     "output_type": "execute_result"
    }
   ],
   "source": [
    "df_mzs=pd.DataFrame(np.unique([j for i in df.vals for j in i],return_counts=True)).transpose()\n",
    "df_mzs.columns=[\"mz\",\"count_s\"]\n",
    "df_mzs=df_mzs[df_mzs.count_s>100]\n",
    "df_mzs=df_mzs.sort_values(by=\"mz\").reset_index(drop=True)\n",
    "df_mzs.tail()"
   ]
  },
  {
   "cell_type": "code",
   "execution_count": 7,
   "id": "5f33145b",
   "metadata": {
    "scrolled": true
   },
   "outputs": [
    {
     "name": "stdout",
     "output_type": "stream",
     "text": [
      "15339\n",
      "0\n",
      "10000\n"
     ]
    }
   ],
   "source": [
    "mz_dict={mz:{\"aas\":[],\"count\":0} for mz in df_mzs.mz}\n",
    "print(df.shape[0])\n",
    "_mzs=set(df_mzs.mz)\n",
    "for i in range(df.shape[0]):\n",
    "#     print(i)\n",
    "#     temp_mz_vals=[x for x in df[\"vals\"][i] if x in list(df_mzs.mz)]\n",
    "    \n",
    "    temp_mz_vals=set(df[\"vals\"][i]).intersection(_mzs)\n",
    "        \n",
    "    for mz_val in temp_mz_vals:\n",
    "        mz_dict[mz_val][\"aas\"]+= list(np.unique(list(df[\"pep\"][i])))\n",
    "        mz_dict[mz_val][\"count\"]+=1 \n",
    "    \n",
    "    if i%10000==0:\n",
    "        print(i)"
   ]
  },
  {
   "cell_type": "code",
   "execution_count": 8,
   "id": "12d6daa3",
   "metadata": {},
   "outputs": [],
   "source": [
    "# print(mz_dict[82.91]['count'])\n",
    "# np.unique(mz_dict[82.91]['aas'],return_counts=True)"
   ]
  },
  {
   "cell_type": "code",
   "execution_count": 9,
   "id": "509a046a",
   "metadata": {},
   "outputs": [],
   "source": [
    "aas=set(['A' ,'C', 'D' ,'E', 'F', 'G', 'H', 'I' ,'K', 'L', 'M', 'N' ,'P' ,'Q' ,'R' ,'S', 'T', 'V', 'W' ,'Y'])"
   ]
  },
  {
   "cell_type": "code",
   "execution_count": 14,
   "id": "b663d4ae",
   "metadata": {
    "scrolled": true
   },
   "outputs": [
    {
     "name": "stdout",
     "output_type": "stream",
     "text": [
      "60.0\n",
      "65.3\n",
      "69.0\n",
      "70.0\n",
      "71.0\n",
      "72.0\n",
      "72.1\n",
      "73.0\n",
      "74.0\n",
      "75.0\n",
      "75.4\n",
      "79.8\n",
      "80.4\n",
      "80.5\n",
      "80.6\n",
      "80.7\n",
      "80.8\n",
      "80.9\n",
      "81.0\n",
      "82.6\n",
      "82.7\n",
      "82.8\n",
      "83.0\n",
      "84.0\n",
      "85.0\n",
      "86.0\n",
      "86.1\n",
      "87.0\n",
      "87.1\n",
      "88.0\n",
      "89.0\n",
      "90.0\n",
      "91.0\n",
      "92.0\n",
      "93.0\n",
      "94.1\n",
      "94.2\n",
      "95.0\n",
      "96.0\n",
      "97.0\n",
      "97.1\n",
      "97.2\n",
      "97.3\n",
      "97.4\n",
      "97.5\n",
      "97.6\n",
      "97.7\n",
      "97.8\n",
      "97.9\n",
      "98.0\n",
      "98.9\n",
      "99.0\n",
      "99.7\n",
      "99.8\n",
      "100.0\n",
      "100.3\n",
      "100.4\n",
      "100.5\n",
      "100.6\n",
      "100.7\n",
      "100.8\n",
      "100.9\n",
      "101.0\n",
      "101.1\n",
      "101.2\n",
      "101.3\n",
      "102.0\n",
      "103.0\n",
      "103.8\n",
      "104.0\n",
      "105.0\n",
      "105.9\n",
      "106.0\n",
      "106.7\n",
      "107.0\n",
      "107.8\n",
      "109.8\n",
      "110.0\n",
      "110.1\n",
      "110.2\n",
      "111.0\n",
      "111.2\n",
      "112.0\n",
      "112.1\n",
      "112.6\n",
      "112.7\n",
      "112.8\n",
      "113.0\n",
      "113.1\n",
      "114.0\n",
      "114.1\n",
      "114.6\n",
      "114.8\n",
      "115.0\n",
      "116.0\n",
      "116.3\n",
      "117.0\n",
      "117.1\n",
      "117.7\n",
      "117.9\n",
      "118.0\n",
      "118.3\n",
      "118.6\n",
      "118.9\n",
      "119.0\n",
      "119.1\n",
      "119.2\n",
      "119.3\n",
      "119.8\n",
      "119.9\n",
      "120.0\n",
      "120.1\n",
      "120.4\n",
      "120.8\n",
      "120.9\n",
      "121.0\n",
      "122.0\n",
      "122.3\n",
      "122.5\n",
      "122.8\n",
      "122.9\n",
      "123.0\n",
      "124.0\n",
      "124.1\n",
      "124.3\n",
      "124.6\n",
      "124.7\n",
      "125.0\n",
      "125.1\n",
      "125.3\n",
      "125.4\n",
      "125.6\n",
      "125.7\n",
      "125.8\n",
      "126.0\n",
      "126.1\n",
      "126.2\n",
      "126.5\n",
      "126.6\n",
      "127.0\n",
      "127.1\n",
      "127.3\n",
      "127.5\n",
      "128.0\n",
      "128.1\n",
      "128.2\n",
      "128.8\n",
      "129.0\n",
      "129.1\n",
      "129.2\n"
     ]
    }
   ],
   "source": [
    "res=[]\n",
    "for key in mz_dict.keys():\n",
    "    _temp_count=mz_dict[key]['count']\n",
    "    _temp_aas=mz_dict[key]['aas']\n",
    "    \n",
    "    _temp_res=[key,_temp_count] + [_temp_aas.count(c)/_temp_count for c in aas]\n",
    "#     _temp_res=[key,_temp_count] + [x if x >0.7 else 0 for x in [_temp_aas.count(c)/_temp_count for c in aas]]\n",
    "    res.append(_temp_res)    \n",
    "    print(key)"
   ]
  },
  {
   "cell_type": "code",
   "execution_count": 15,
   "id": "637513a6",
   "metadata": {
    "scrolled": true
   },
   "outputs": [],
   "source": [
    "res=pd.DataFrame(res)\n",
    "res.columns=[\"mz\",\"count\"]+sorted([x for x in (aas)])\n",
    "res.to_csv(\"test_Liver_l0.csv\",index=False)"
   ]
  },
  {
   "cell_type": "code",
   "execution_count": 16,
   "id": "2e1ab2a5",
   "metadata": {},
   "outputs": [
    {
     "data": {
      "text/html": [
       "<div>\n",
       "<style scoped>\n",
       "    .dataframe tbody tr th:only-of-type {\n",
       "        vertical-align: middle;\n",
       "    }\n",
       "\n",
       "    .dataframe tbody tr th {\n",
       "        vertical-align: top;\n",
       "    }\n",
       "\n",
       "    .dataframe thead th {\n",
       "        text-align: right;\n",
       "    }\n",
       "</style>\n",
       "<table border=\"1\" class=\"dataframe\">\n",
       "  <thead>\n",
       "    <tr style=\"text-align: right;\">\n",
       "      <th></th>\n",
       "      <th>mz</th>\n",
       "      <th>count</th>\n",
       "      <th>A</th>\n",
       "      <th>C</th>\n",
       "      <th>D</th>\n",
       "      <th>E</th>\n",
       "      <th>F</th>\n",
       "      <th>G</th>\n",
       "      <th>H</th>\n",
       "      <th>I</th>\n",
       "      <th>...</th>\n",
       "      <th>M</th>\n",
       "      <th>N</th>\n",
       "      <th>P</th>\n",
       "      <th>Q</th>\n",
       "      <th>R</th>\n",
       "      <th>S</th>\n",
       "      <th>T</th>\n",
       "      <th>V</th>\n",
       "      <th>W</th>\n",
       "      <th>Y</th>\n",
       "    </tr>\n",
       "  </thead>\n",
       "  <tbody>\n",
       "    <tr>\n",
       "      <th>145</th>\n",
       "      <td>128.2</td>\n",
       "      <td>98</td>\n",
       "      <td>0.469388</td>\n",
       "      <td>0.632653</td>\n",
       "      <td>0.061224</td>\n",
       "      <td>0.581633</td>\n",
       "      <td>0.530612</td>\n",
       "      <td>0.244898</td>\n",
       "      <td>0.744898</td>\n",
       "      <td>0.500000</td>\n",
       "      <td>...</td>\n",
       "      <td>0.500000</td>\n",
       "      <td>0.346939</td>\n",
       "      <td>0.561224</td>\n",
       "      <td>0.367347</td>\n",
       "      <td>0.622449</td>\n",
       "      <td>0.438776</td>\n",
       "      <td>0.663265</td>\n",
       "      <td>0.489796</td>\n",
       "      <td>0.275510</td>\n",
       "      <td>0.561224</td>\n",
       "    </tr>\n",
       "    <tr>\n",
       "      <th>146</th>\n",
       "      <td>128.8</td>\n",
       "      <td>102</td>\n",
       "      <td>0.392157</td>\n",
       "      <td>0.578431</td>\n",
       "      <td>0.117647</td>\n",
       "      <td>0.647059</td>\n",
       "      <td>0.627451</td>\n",
       "      <td>0.303922</td>\n",
       "      <td>0.705882</td>\n",
       "      <td>0.333333</td>\n",
       "      <td>...</td>\n",
       "      <td>0.588235</td>\n",
       "      <td>0.235294</td>\n",
       "      <td>0.598039</td>\n",
       "      <td>0.450980</td>\n",
       "      <td>0.627451</td>\n",
       "      <td>0.401961</td>\n",
       "      <td>0.578431</td>\n",
       "      <td>0.441176</td>\n",
       "      <td>0.343137</td>\n",
       "      <td>0.647059</td>\n",
       "    </tr>\n",
       "    <tr>\n",
       "      <th>147</th>\n",
       "      <td>129.0</td>\n",
       "      <td>5619</td>\n",
       "      <td>0.537640</td>\n",
       "      <td>0.487453</td>\n",
       "      <td>0.146645</td>\n",
       "      <td>0.601531</td>\n",
       "      <td>0.504182</td>\n",
       "      <td>0.239366</td>\n",
       "      <td>0.714540</td>\n",
       "      <td>0.550098</td>\n",
       "      <td>...</td>\n",
       "      <td>0.483716</td>\n",
       "      <td>0.269621</td>\n",
       "      <td>0.533369</td>\n",
       "      <td>0.390283</td>\n",
       "      <td>0.592988</td>\n",
       "      <td>0.398647</td>\n",
       "      <td>0.615412</td>\n",
       "      <td>0.415020</td>\n",
       "      <td>0.323723</td>\n",
       "      <td>0.470724</td>\n",
       "    </tr>\n",
       "    <tr>\n",
       "      <th>148</th>\n",
       "      <td>129.1</td>\n",
       "      <td>14058</td>\n",
       "      <td>0.403827</td>\n",
       "      <td>0.491606</td>\n",
       "      <td>0.145682</td>\n",
       "      <td>0.570494</td>\n",
       "      <td>0.503486</td>\n",
       "      <td>0.244558</td>\n",
       "      <td>0.722364</td>\n",
       "      <td>0.577892</td>\n",
       "      <td>...</td>\n",
       "      <td>0.503983</td>\n",
       "      <td>0.276284</td>\n",
       "      <td>0.533575</td>\n",
       "      <td>0.384905</td>\n",
       "      <td>0.605847</td>\n",
       "      <td>0.410442</td>\n",
       "      <td>0.597738</td>\n",
       "      <td>0.439394</td>\n",
       "      <td>0.322948</td>\n",
       "      <td>0.446436</td>\n",
       "    </tr>\n",
       "    <tr>\n",
       "      <th>149</th>\n",
       "      <td>129.2</td>\n",
       "      <td>96</td>\n",
       "      <td>0.385417</td>\n",
       "      <td>0.500000</td>\n",
       "      <td>0.135417</td>\n",
       "      <td>0.604167</td>\n",
       "      <td>0.427083</td>\n",
       "      <td>0.343750</td>\n",
       "      <td>0.739583</td>\n",
       "      <td>0.541667</td>\n",
       "      <td>...</td>\n",
       "      <td>0.541667</td>\n",
       "      <td>0.250000</td>\n",
       "      <td>0.479167</td>\n",
       "      <td>0.395833</td>\n",
       "      <td>0.635417</td>\n",
       "      <td>0.468750</td>\n",
       "      <td>0.645833</td>\n",
       "      <td>0.416667</td>\n",
       "      <td>0.281250</td>\n",
       "      <td>0.468750</td>\n",
       "    </tr>\n",
       "  </tbody>\n",
       "</table>\n",
       "<p>5 rows × 22 columns</p>\n",
       "</div>"
      ],
      "text/plain": [
       "        mz  count         A         C         D         E         F         G  \\\n",
       "145  128.2     98  0.469388  0.632653  0.061224  0.581633  0.530612  0.244898   \n",
       "146  128.8    102  0.392157  0.578431  0.117647  0.647059  0.627451  0.303922   \n",
       "147  129.0   5619  0.537640  0.487453  0.146645  0.601531  0.504182  0.239366   \n",
       "148  129.1  14058  0.403827  0.491606  0.145682  0.570494  0.503486  0.244558   \n",
       "149  129.2     96  0.385417  0.500000  0.135417  0.604167  0.427083  0.343750   \n",
       "\n",
       "            H         I  ...         M         N         P         Q  \\\n",
       "145  0.744898  0.500000  ...  0.500000  0.346939  0.561224  0.367347   \n",
       "146  0.705882  0.333333  ...  0.588235  0.235294  0.598039  0.450980   \n",
       "147  0.714540  0.550098  ...  0.483716  0.269621  0.533369  0.390283   \n",
       "148  0.722364  0.577892  ...  0.503983  0.276284  0.533575  0.384905   \n",
       "149  0.739583  0.541667  ...  0.541667  0.250000  0.479167  0.395833   \n",
       "\n",
       "            R         S         T         V         W         Y  \n",
       "145  0.622449  0.438776  0.663265  0.489796  0.275510  0.561224  \n",
       "146  0.627451  0.401961  0.578431  0.441176  0.343137  0.647059  \n",
       "147  0.592988  0.398647  0.615412  0.415020  0.323723  0.470724  \n",
       "148  0.605847  0.410442  0.597738  0.439394  0.322948  0.446436  \n",
       "149  0.635417  0.468750  0.645833  0.416667  0.281250  0.468750  \n",
       "\n",
       "[5 rows x 22 columns]"
      ]
     },
     "execution_count": 16,
     "metadata": {},
     "output_type": "execute_result"
    }
   ],
   "source": [
    "res.tail()"
   ]
  },
  {
   "cell_type": "code",
   "execution_count": 17,
   "id": "8a5dbcf4",
   "metadata": {},
   "outputs": [],
   "source": [
    "net_file=[]\n",
    "for i in range(res.shape[0]):\n",
    "    _temp_mz=res.mz[i]\n",
    "    for aa in sorted([x for x in (aas)]):\n",
    "        net_file.append([_temp_mz,aa,res[aa][i]/100])\n",
    "    "
   ]
  },
  {
   "cell_type": "code",
   "execution_count": 42,
   "id": "b823caed",
   "metadata": {},
   "outputs": [],
   "source": [
    "# pd.DataFrame(net_file).to_csv(\"net_test.txt\",index=False)"
   ]
  },
  {
   "cell_type": "code",
   "execution_count": null,
   "id": "e112e93f",
   "metadata": {},
   "outputs": [],
   "source": []
  },
  {
   "cell_type": "code",
   "execution_count": null,
   "id": "ed0eb6eb",
   "metadata": {},
   "outputs": [],
   "source": []
  },
  {
   "cell_type": "code",
   "execution_count": null,
   "id": "839bac78",
   "metadata": {},
   "outputs": [],
   "source": []
  },
  {
   "cell_type": "code",
   "execution_count": null,
   "id": "8d16c6dd",
   "metadata": {},
   "outputs": [],
   "source": []
  },
  {
   "cell_type": "code",
   "execution_count": null,
   "id": "1247b2a1",
   "metadata": {},
   "outputs": [],
   "source": []
  },
  {
   "cell_type": "code",
   "execution_count": null,
   "id": "f699300c",
   "metadata": {},
   "outputs": [],
   "source": []
  },
  {
   "cell_type": "code",
   "execution_count": null,
   "id": "83b51c6a",
   "metadata": {},
   "outputs": [],
   "source": []
  },
  {
   "cell_type": "code",
   "execution_count": null,
   "id": "37984049",
   "metadata": {},
   "outputs": [],
   "source": []
  },
  {
   "cell_type": "code",
   "execution_count": null,
   "id": "22f8d9bf",
   "metadata": {},
   "outputs": [],
   "source": []
  },
  {
   "cell_type": "code",
   "execution_count": null,
   "id": "d9edc57b",
   "metadata": {},
   "outputs": [],
   "source": []
  },
  {
   "cell_type": "code",
   "execution_count": 14,
   "id": "63452289",
   "metadata": {},
   "outputs": [],
   "source": [
    "data=pd.read_csv(\"Liver_l0.csv\")\n",
    "data[\"ion_count\"]=[ len(str(x).split('|')) for x in data[[\"values\"]].values]"
   ]
  },
  {
   "cell_type": "code",
   "execution_count": 15,
   "id": "c16d06a9",
   "metadata": {},
   "outputs": [
    {
     "name": "stdout",
     "output_type": "stream",
     "text": [
      "(26187, 8)\n",
      "(15339, 8)\n"
     ]
    }
   ],
   "source": [
    "print(data.shape)\n",
    "data=data[data.ion_count>=2]\n",
    "data=data.reset_index(drop=True)\n",
    "print(data.shape)"
   ]
  },
  {
   "cell_type": "code",
   "execution_count": 16,
   "id": "23322282",
   "metadata": {},
   "outputs": [
    {
     "name": "stdout",
     "output_type": "stream",
     "text": [
      "15339\n"
     ]
    }
   ],
   "source": [
    "res=[]\n",
    "peps=[]\n",
    "count=0\n",
    "for i in range(data.shape[0]): \n",
    "    temp=[ int(float(x)*100)/100 for x in data[\"values\"][i].split(\"|\")]\n",
    "    res.append(temp)\n",
    "    peps.append((data[\"peptide\"][i]))\n",
    "    count+=1\n",
    "print(count)"
   ]
  },
  {
   "cell_type": "code",
   "execution_count": null,
   "id": "e024fa6c",
   "metadata": {},
   "outputs": [],
   "source": []
  },
  {
   "cell_type": "code",
   "execution_count": 17,
   "id": "cd60e3a4",
   "metadata": {},
   "outputs": [],
   "source": [
    "_test=[]\n",
    "for i in res:\n",
    "    _test+=i\n",
    "    \n",
    "_test=pd.DataFrame(np.unique(_test,return_counts=True)).transpose()\n",
    "_test.columns=['x','c']\n",
    "_test=_test.sort_values(by='c',ascending=False)\n",
    "mzs=list(_test.head(40).x)"
   ]
  },
  {
   "cell_type": "code",
   "execution_count": 18,
   "id": "79a9babf",
   "metadata": {},
   "outputs": [],
   "source": [
    "df=pd.DataFrame()\n",
    "df[\"pep\"]=peps\n",
    "df[\"vals\"]=res"
   ]
  },
  {
   "cell_type": "code",
   "execution_count": null,
   "id": "d3a5e2d2",
   "metadata": {},
   "outputs": [],
   "source": []
  },
  {
   "cell_type": "code",
   "execution_count": 19,
   "id": "eda16eff",
   "metadata": {
    "scrolled": true
   },
   "outputs": [
    {
     "name": "stdout",
     "output_type": "stream",
     "text": [
      "DADPILR\n",
      "[70.06, 79.89, 84.08, 86.09, 87.05, 89.01, 99.79, 120.08, 129.1]\n",
      "CGVELFK\n",
      "AMLSTGFK\n",
      "AMLSTGFK\n",
      "LFAEAVQK\n",
      "LFAEAVQK\n",
      "IITGLAAGAK\n",
      "NLAVPLYK\n",
      "[70.06, 72.08, 79.88, 84.08, 86.09, 87.05, 87.1, 89.01, 99.79, 112.65, 120.08, 128.17, 129.1]\n",
      "NLAVPLYK\n",
      "[70.06, 72.08, 79.88, 84.04, 84.08, 86.09, 87.05, 87.1, 89.01, 99.79, 101.1, 110.07, 112.65, 120.08, 128.17, 129.1]\n",
      "YMESDGIK\n",
      "VVAVDCGIK\n",
      "VVAVDCGIK\n",
      "MSLDEIVR\n",
      "NCGVELFK\n",
      "TNQILVER\n",
      "EVEMDAVGK\n",
      "EVEMDAVGK\n",
      "ETLIDLGTK\n",
      "APMFSWPR\n",
      "[70.06, 72.08, 79.88, 86.09, 89.01, 99.79, 104.05, 110.07, 112.65, 115.08, 120.08]\n",
      "APMFSWPR\n",
      "[70.06, 99.78, 104.05, 112.08, 120.08, 128.17]\n",
      "APMFSWPR\n",
      "[70.06, 72.08, 79.89, 84.04, 84.08, 86.09, 87.05, 89.01, 99.79, 101.07, 102.05, 104.05, 110.07, 112.08, 112.66, 115.08, 120.08, 121.08, 128.18, 129.1]\n",
      "EVEMDAVGK\n",
      "HLGIVGECN\n",
      "TFEESFQK\n",
      "TFEESFQK\n",
      "TFEESFQK\n",
      "GTTITSVLPK\n",
      "[72.08, 74.06, 79.88, 84.04, 84.08, 86.09, 99.78, 102.05, 112.65, 113.07, 129.1]\n",
      "GTTITSVLPK\n",
      "[74.06, 79.88, 84.04, 84.08, 86.09, 99.78, 112.65, 113.07, 128.17, 129.1]\n",
      "SVGEVMAIGR\n",
      "KNIHPWVK\n",
      "[72.08, 84.08, 86.09, 89.01, 99.79, 101.1, 110.07, 120.08, 129.1]\n",
      "EIEYEVVR\n",
      "EIEYEVVR\n",
      "QTISQGAIEK\n",
      "NMSLDEIVR\n",
      "EWPANLDLK\n",
      "[79.88, 84.04, 84.08, 86.09, 89.0, 91.05, 99.78, 102.05, 110.07, 120.08, 128.17, 129.1]\n",
      "EWPANLDLK\n",
      "[84.04, 84.08, 86.09, 87.05, 89.0, 99.78, 102.05, 112.64, 129.1]\n",
      "EWPANLDLK\n",
      "[79.89, 84.04, 84.08, 86.09, 89.01, 99.79, 129.1]\n",
      "EWPANLDLK\n",
      "[79.88, 84.04, 84.08, 86.09, 99.78, 102.05, 120.08, 129.1]\n",
      "VPAIYGVDTR\n",
      "[84.04, 84.08, 86.09, 89.01, 99.79, 120.08, 129.1]\n",
      "SNAEFQMLR\n",
      "QNLIAEVSTK\n",
      "QNLIAEVSTK\n",
      "KETLIDLGTK\n",
      "MGTSPLQIDR\n",
      "[79.88, 84.04, 84.08, 86.09, 87.05, 87.1, 89.01, 99.79, 101.07, 102.05, 104.05, 110.07, 112.08, 112.65, 113.07, 115.08, 116.07, 120.08, 128.17, 129.1]\n",
      "VMIGESIDEK\n",
      "VMIGESIDEK\n",
      "MRDILNMDK\n",
      "CLGLTEAQTR\n",
      "CLGLTEAQTR\n",
      "FVHDNYVIR\n",
      "FVHDNYVIR\n",
      "IALGIPLPEIK\n",
      "[84.04, 84.08, 86.09, 87.1, 101.07, 110.07, 112.65, 115.08, 120.08, 127.08, 128.17, 129.1]\n",
      "IALGIPLPEIK\n",
      "[84.08, 86.09, 87.1, 99.8, 102.05, 110.07, 112.66, 120.08, 129.1]\n",
      "IALGIPLPEIK\n",
      "[84.08, 86.09, 112.66, 128.18, 129.1]\n",
      "IALGIPLPEIK\n",
      "[84.08, 86.09, 87.1, 89.0, 99.79, 110.07, 115.08, 116.07, 120.08, 121.08, 129.1]\n",
      "IALGIPLPEIK\n",
      "[84.04, 84.08, 86.09, 87.05, 87.1, 89.01, 91.05, 99.79, 101.07, 102.05, 104.05, 110.07, 112.65, 120.08, 121.08, 128.17, 129.1]\n",
      "TAVDSGIALLTN\n",
      "TAHIVLEDGTK\n",
      "TAHIVLEDGTK\n",
      "TAHIVLEDGTK\n",
      "NVVFSEDEMK\n",
      "SLGQWLQEEK\n",
      "SIFSAVLDELK\n",
      "SIFSAVLDELK\n",
      "SIFSAVLDELK\n",
      "SIFSAVLDELK\n",
      "SIFSAVLDELK\n",
      "SIFSAVLDELK\n",
      "SIFSAVLDELK\n",
      "IMGTSPLQIDR\n",
      "[86.09, 101.07, 104.05, 120.08]\n",
      "IMGTSPLQIDR\n",
      "[86.09, 87.1, 89.01, 99.79, 104.05, 110.07, 112.65, 113.07, 116.07, 120.08, 129.06, 129.1]\n",
      "IMGTSPLQIDR\n",
      "[86.09, 87.1, 89.0, 99.78, 101.07, 102.05, 104.05, 110.07, 112.65, 115.08, 116.07, 120.08, 128.17, 129.1]\n",
      "GILIGIQQSFR\n",
      "GILIGIQQSFR\n",
      "GILIGIQQSFR\n",
      "VSQEHPVVLTK\n",
      "[86.09, 101.07, 110.07, 111.07, 120.08, 121.08, 129.1]\n",
      "VSQEHPVVLTK\n",
      "[86.09, 99.8, 101.07, 101.1, 110.07, 129.1]\n",
      "VSQEHPVVLTK\n",
      "[86.09, 99.8, 101.07, 110.07, 113.07, 129.06, 129.1]\n",
      "QAFITAQNHGY\n",
      "QAFITAQNHGY\n",
      "TALNCGVELFK\n",
      "IASVQTNEVGLK\n",
      "IASVQTNEVGLK\n",
      "STGNIITGLAAGAK\n",
      "TLGVDFIDVATK\n",
      "TLGVDFIDVATK\n",
      "TLGVDFIDVATK\n",
      "LYFEELSLER\n",
      "LYFEELSLER\n",
      "VTYNGQEHDIK\n",
      "AADTIGYPVMIR\n",
      "[91.05, 99.78, 101.07, 104.05, 112.64, 115.08, 119.04, 120.08, 128.17, 129.06, 129.1]\n",
      "AADTIGYPVMIR\n",
      "[112.65, 115.08, 120.08, 128.17]\n",
      "AADTIGYPVMIR\n",
      "[91.05, 99.79, 101.07, 102.05, 104.05, 110.07, 112.08, 112.65, 115.08, 120.08, 127.08, 128.17, 129.06, 129.1]\n",
      "TAVDSGIALLTNF\n",
      "TSVESIMATEDR\n",
      "GQILTMANPIIGN\n",
      "[99.8, 101.07, 103.05, 104.05, 110.07, 112.66, 120.08, 121.08, 129.06]\n",
      "SNDYNHWLATK\n",
      "SNDYNHWLATK\n",
      "NVVFSEDEMKR\n",
      "NVVFSEDEMKR\n",
      "GQNQPVLNITNR\n",
      "[99.79, 101.07, 110.07, 112.08, 112.65, 113.07, 115.08, 116.07, 120.08, 128.17, 129.06, 129.1]\n",
      "GQNQPVLNITNR\n",
      "[99.78, 102.05, 110.07, 112.08, 112.65, 120.08, 129.06, 129.1]\n"
     ]
    }
   ],
   "source": [
    "data_dict={}\n",
    "\n",
    "for i in range(df.shape[0]):\n",
    "    \n",
    "    print(df.pep[i])\n",
    "    for aa in list(np.unique([x for x in df.pep[i]])):\n",
    "        if aa in data_dict.keys(): \n",
    "            data_dict[aa][\"vals\"]=data_dict[aa][\"vals\"]+[ x for x in list( list(np.unique([x for x in df.vals[i]])) ) if x in mzs]\n",
    "            data_dict[aa][\"count\"]+=1\n",
    "            \n",
    "            if (aa=='P'):\n",
    "                print ([ x for x in list( list(np.unique([x for x in df.vals[i]])) ) if x in mzs])\n",
    "            \n",
    "        else:\n",
    "            data_dict[aa]={\"vals\":list(np.unique([x for x in df.vals[i]])),\"count\":1}\n",
    "            \n",
    "            if (aa=='P'):\n",
    "                print ([ x for x in list( list(np.unique([x for x in df.vals[i]])) ) if x in mzs])\n",
    "            \n",
    "    if i >100: break\n",
    "#     for v in vals:\n",
    "#         if v in data_dict.keys():\n",
    "#             data_dict[v][\"aa\"]=data_dict[v][\"aa\"]+list( list(np.unique([x for x in df.pep[i]])) )\n",
    "#             data_dict[v][\"count\"]+=1\n",
    "#         else:\n",
    "#             data_dict[v]={\"aa\":list(np.unique([x for x in df.pep[i]])),\"count\":1}"
   ]
  },
  {
   "cell_type": "code",
   "execution_count": null,
   "id": "5f39f1d9",
   "metadata": {},
   "outputs": [],
   "source": []
  },
  {
   "cell_type": "code",
   "execution_count": 20,
   "id": "0d7253d3",
   "metadata": {},
   "outputs": [],
   "source": [
    "# aas=sorted(['A' ,'C', 'D' ,'E', 'F', 'G', 'H', 'I' ,'K', 'L', 'M', 'N' ,'P' ,'Q' ,'R' ,'S', 'T', 'V', 'W' ,'Y'])\n",
    "_index=[]\n",
    "vals=[]\n",
    "\n",
    "for k in data_dict.keys():\n",
    "    _count=data_dict[k][\"count\"]\n",
    "    if(_count>1000):\n",
    "        temp_count=[]\n",
    "        for c in mzs:\n",
    "            temp_count.append(100*data_dict[k][\"vals\"].count(c)/_count)\n",
    "        vals.append(temp_count)\n",
    "        _index.append(k)\n",
    "    break"
   ]
  },
  {
   "cell_type": "code",
   "execution_count": null,
   "id": "464ebd99",
   "metadata": {},
   "outputs": [],
   "source": []
  },
  {
   "cell_type": "code",
   "execution_count": 21,
   "id": "57287fd7",
   "metadata": {},
   "outputs": [
    {
     "data": {
      "text/html": [
       "<div>\n",
       "<style scoped>\n",
       "    .dataframe tbody tr th:only-of-type {\n",
       "        vertical-align: middle;\n",
       "    }\n",
       "\n",
       "    .dataframe tbody tr th {\n",
       "        vertical-align: top;\n",
       "    }\n",
       "\n",
       "    .dataframe thead th {\n",
       "        text-align: right;\n",
       "    }\n",
       "</style>\n",
       "<table border=\"1\" class=\"dataframe\">\n",
       "  <thead>\n",
       "    <tr style=\"text-align: right;\">\n",
       "      <th></th>\n",
       "      <th>0</th>\n",
       "      <th>1</th>\n",
       "    </tr>\n",
       "  </thead>\n",
       "  <tbody>\n",
       "    <tr>\n",
       "      <th>7</th>\n",
       "      <td>70.06</td>\n",
       "      <td>6.0</td>\n",
       "    </tr>\n",
       "  </tbody>\n",
       "</table>\n",
       "</div>"
      ],
      "text/plain": [
       "       0    1\n",
       "7  70.06  6.0"
      ]
     },
     "execution_count": 21,
     "metadata": {},
     "output_type": "execute_result"
    }
   ],
   "source": [
    "xx=pd.DataFrame(np.unique(data_dict[\"P\"]['vals'],return_counts=True)).transpose()\n",
    "xx[xx.iloc[:,0]==70.06]\n",
    "\n",
    "# data_dict.keys()"
   ]
  },
  {
   "cell_type": "code",
   "execution_count": 22,
   "id": "5e4d9f8b",
   "metadata": {},
   "outputs": [
    {
     "data": {
      "text/plain": [
       "0"
      ]
     },
     "execution_count": 22,
     "metadata": {},
     "output_type": "execute_result"
    }
   ],
   "source": [
    "len(vals)"
   ]
  },
  {
   "cell_type": "code",
   "execution_count": 23,
   "id": "140fba61",
   "metadata": {},
   "outputs": [
    {
     "ename": "ValueError",
     "evalue": "Length mismatch: Expected axis has 0 elements, new values have 40 elements",
     "output_type": "error",
     "traceback": [
      "\u001b[1;31m---------------------------------------------------------------------------\u001b[0m",
      "\u001b[1;31mValueError\u001b[0m                                Traceback (most recent call last)",
      "Input \u001b[1;32mIn [23]\u001b[0m, in \u001b[0;36m<cell line: 2>\u001b[1;34m()\u001b[0m\n\u001b[0;32m      1\u001b[0m _vals\u001b[38;5;241m=\u001b[39mpd\u001b[38;5;241m.\u001b[39mDataFrame(vals)\n\u001b[1;32m----> 2\u001b[0m _vals\u001b[38;5;241m.\u001b[39mcolumns\u001b[38;5;241m=\u001b[39mmzs\n\u001b[0;32m      3\u001b[0m \u001b[38;5;66;03m# _vals[\"mz\"]=_index\u001b[39;00m\n\u001b[0;32m      4\u001b[0m _vals\u001b[38;5;241m.\u001b[39mindex\u001b[38;5;241m=\u001b[39m_index\n",
      "File \u001b[1;32m~\\.conda\\envs\\myenv\\lib\\site-packages\\pandas\\core\\generic.py:5596\u001b[0m, in \u001b[0;36mNDFrame.__setattr__\u001b[1;34m(self, name, value)\u001b[0m\n\u001b[0;32m   5594\u001b[0m \u001b[38;5;28;01mtry\u001b[39;00m:\n\u001b[0;32m   5595\u001b[0m     \u001b[38;5;28mobject\u001b[39m\u001b[38;5;241m.\u001b[39m\u001b[38;5;21m__getattribute__\u001b[39m(\u001b[38;5;28mself\u001b[39m, name)\n\u001b[1;32m-> 5596\u001b[0m     \u001b[38;5;28;01mreturn\u001b[39;00m \u001b[38;5;28;43mobject\u001b[39;49m\u001b[38;5;241;43m.\u001b[39;49m\u001b[38;5;21;43m__setattr__\u001b[39;49m\u001b[43m(\u001b[49m\u001b[38;5;28;43mself\u001b[39;49m\u001b[43m,\u001b[49m\u001b[43m \u001b[49m\u001b[43mname\u001b[49m\u001b[43m,\u001b[49m\u001b[43m \u001b[49m\u001b[43mvalue\u001b[49m\u001b[43m)\u001b[49m\n\u001b[0;32m   5597\u001b[0m \u001b[38;5;28;01mexcept\u001b[39;00m \u001b[38;5;167;01mAttributeError\u001b[39;00m:\n\u001b[0;32m   5598\u001b[0m     \u001b[38;5;28;01mpass\u001b[39;00m\n",
      "File \u001b[1;32m~\\.conda\\envs\\myenv\\lib\\site-packages\\pandas\\_libs\\properties.pyx:70\u001b[0m, in \u001b[0;36mpandas._libs.properties.AxisProperty.__set__\u001b[1;34m()\u001b[0m\n",
      "File \u001b[1;32m~\\.conda\\envs\\myenv\\lib\\site-packages\\pandas\\core\\generic.py:769\u001b[0m, in \u001b[0;36mNDFrame._set_axis\u001b[1;34m(self, axis, labels)\u001b[0m\n\u001b[0;32m    767\u001b[0m \u001b[38;5;28;01mdef\u001b[39;00m \u001b[38;5;21m_set_axis\u001b[39m(\u001b[38;5;28mself\u001b[39m, axis: \u001b[38;5;28mint\u001b[39m, labels: Index) \u001b[38;5;241m-\u001b[39m\u001b[38;5;241m>\u001b[39m \u001b[38;5;28;01mNone\u001b[39;00m:\n\u001b[0;32m    768\u001b[0m     labels \u001b[38;5;241m=\u001b[39m ensure_index(labels)\n\u001b[1;32m--> 769\u001b[0m     \u001b[38;5;28;43mself\u001b[39;49m\u001b[38;5;241;43m.\u001b[39;49m\u001b[43m_mgr\u001b[49m\u001b[38;5;241;43m.\u001b[39;49m\u001b[43mset_axis\u001b[49m\u001b[43m(\u001b[49m\u001b[43maxis\u001b[49m\u001b[43m,\u001b[49m\u001b[43m \u001b[49m\u001b[43mlabels\u001b[49m\u001b[43m)\u001b[49m\n\u001b[0;32m    770\u001b[0m     \u001b[38;5;28mself\u001b[39m\u001b[38;5;241m.\u001b[39m_clear_item_cache()\n",
      "File \u001b[1;32m~\\.conda\\envs\\myenv\\lib\\site-packages\\pandas\\core\\internals\\managers.py:214\u001b[0m, in \u001b[0;36mBaseBlockManager.set_axis\u001b[1;34m(self, axis, new_labels)\u001b[0m\n\u001b[0;32m    212\u001b[0m \u001b[38;5;28;01mdef\u001b[39;00m \u001b[38;5;21mset_axis\u001b[39m(\u001b[38;5;28mself\u001b[39m, axis: \u001b[38;5;28mint\u001b[39m, new_labels: Index) \u001b[38;5;241m-\u001b[39m\u001b[38;5;241m>\u001b[39m \u001b[38;5;28;01mNone\u001b[39;00m:\n\u001b[0;32m    213\u001b[0m     \u001b[38;5;66;03m# Caller is responsible for ensuring we have an Index object.\u001b[39;00m\n\u001b[1;32m--> 214\u001b[0m     \u001b[38;5;28;43mself\u001b[39;49m\u001b[38;5;241;43m.\u001b[39;49m\u001b[43m_validate_set_axis\u001b[49m\u001b[43m(\u001b[49m\u001b[43maxis\u001b[49m\u001b[43m,\u001b[49m\u001b[43m \u001b[49m\u001b[43mnew_labels\u001b[49m\u001b[43m)\u001b[49m\n\u001b[0;32m    215\u001b[0m     \u001b[38;5;28mself\u001b[39m\u001b[38;5;241m.\u001b[39maxes[axis] \u001b[38;5;241m=\u001b[39m new_labels\n",
      "File \u001b[1;32m~\\.conda\\envs\\myenv\\lib\\site-packages\\pandas\\core\\internals\\base.py:69\u001b[0m, in \u001b[0;36mDataManager._validate_set_axis\u001b[1;34m(self, axis, new_labels)\u001b[0m\n\u001b[0;32m     66\u001b[0m     \u001b[38;5;28;01mpass\u001b[39;00m\n\u001b[0;32m     68\u001b[0m \u001b[38;5;28;01melif\u001b[39;00m new_len \u001b[38;5;241m!=\u001b[39m old_len:\n\u001b[1;32m---> 69\u001b[0m     \u001b[38;5;28;01mraise\u001b[39;00m \u001b[38;5;167;01mValueError\u001b[39;00m(\n\u001b[0;32m     70\u001b[0m         \u001b[38;5;124mf\u001b[39m\u001b[38;5;124m\"\u001b[39m\u001b[38;5;124mLength mismatch: Expected axis has \u001b[39m\u001b[38;5;132;01m{\u001b[39;00mold_len\u001b[38;5;132;01m}\u001b[39;00m\u001b[38;5;124m elements, new \u001b[39m\u001b[38;5;124m\"\u001b[39m\n\u001b[0;32m     71\u001b[0m         \u001b[38;5;124mf\u001b[39m\u001b[38;5;124m\"\u001b[39m\u001b[38;5;124mvalues have \u001b[39m\u001b[38;5;132;01m{\u001b[39;00mnew_len\u001b[38;5;132;01m}\u001b[39;00m\u001b[38;5;124m elements\u001b[39m\u001b[38;5;124m\"\u001b[39m\n\u001b[0;32m     72\u001b[0m     )\n",
      "\u001b[1;31mValueError\u001b[0m: Length mismatch: Expected axis has 0 elements, new values have 40 elements"
     ]
    }
   ],
   "source": [
    "_vals=pd.DataFrame(vals)\n",
    "_vals.columns=mzs\n",
    "# _vals[\"mz\"]=_index\n",
    "_vals.index=_index\n",
    "_vals=_vals.sort_index()\n",
    "# _vals=_vals.sort_values(by=\"mz\")\n",
    "_vals.transpose().to_csv(\"aa_percentage2.csv\")"
   ]
  },
  {
   "cell_type": "code",
   "execution_count": null,
   "id": "9beedea1",
   "metadata": {},
   "outputs": [],
   "source": [
    "_vals"
   ]
  },
  {
   "cell_type": "code",
   "execution_count": null,
   "id": "dfaf236f",
   "metadata": {},
   "outputs": [],
   "source": [
    "import seaborn as sns\n",
    "from matplotlib import pyplot as plt\n",
    "plt.figure(figsize=(40,20))\n",
    "dataplot = sns.heatmap(_vals.round(2), cmap=\"YlGnBu\", annot=True)\n",
    "plt.savefig(\"_vals.jpeg\",dpx=900)#,bbox_inches='tight'\n",
    "plt.show()"
   ]
  },
  {
   "cell_type": "code",
   "execution_count": null,
   "id": "5a26214f",
   "metadata": {},
   "outputs": [],
   "source": []
  },
  {
   "cell_type": "code",
   "execution_count": null,
   "id": "f7333236",
   "metadata": {},
   "outputs": [],
   "source": []
  },
  {
   "cell_type": "code",
   "execution_count": null,
   "id": "5a0d39d2",
   "metadata": {
    "scrolled": true
   },
   "outputs": [],
   "source": [
    "_index=[]\n",
    "_seq=[]\n",
    "_per=[]\n",
    "for k in data_dict.keys():\n",
    "    if(len(data_dict[k])>1000):\n",
    "        print(k,\"\\t ==> \\t\",len(data_dict[k]))\n",
    "        x,y=(np.unique(data_dict[k],return_counts=True))\n",
    "        y=[ int(10000*i/sum(y))/100 for i in y]\n",
    "#         print(x,y)\n",
    "        \n",
    "        temp=set(['A' ,'C', 'D' ,'E', 'F', 'G', 'H', 'I' ,'K', 'L', 'M', 'N' ,'P' ,'Q' ,'R' ,'S', 'T', 'V', 'W' ,'Y']) -set(list(x))\n",
    "        \n",
    "        for c in temp:\n",
    "            x.append(c)\n",
    "            y.append(0)\n",
    "        \n",
    "        _index.append(k)\n",
    "        _seq.append(list(x))\n",
    "        _per.append(y)\n",
    "        "
   ]
  },
  {
   "cell_type": "code",
   "execution_count": null,
   "id": "ee073c7a",
   "metadata": {},
   "outputs": [],
   "source": []
  },
  {
   "cell_type": "code",
   "execution_count": null,
   "id": "a0bc172f",
   "metadata": {},
   "outputs": [],
   "source": []
  },
  {
   "cell_type": "code",
   "execution_count": null,
   "id": "cd51d242",
   "metadata": {},
   "outputs": [],
   "source": []
  },
  {
   "cell_type": "code",
   "execution_count": null,
   "id": "14f43d5b",
   "metadata": {},
   "outputs": [],
   "source": []
  },
  {
   "cell_type": "code",
   "execution_count": null,
   "id": "7e7071f9",
   "metadata": {},
   "outputs": [],
   "source": []
  },
  {
   "cell_type": "code",
   "execution_count": null,
   "id": "db8855a0",
   "metadata": {},
   "outputs": [],
   "source": []
  },
  {
   "cell_type": "code",
   "execution_count": null,
   "id": "e61323ef",
   "metadata": {},
   "outputs": [],
   "source": []
  },
  {
   "cell_type": "code",
   "execution_count": null,
   "id": "317c6ed0",
   "metadata": {},
   "outputs": [],
   "source": []
  },
  {
   "cell_type": "code",
   "execution_count": null,
   "id": "9445e988",
   "metadata": {},
   "outputs": [],
   "source": []
  },
  {
   "cell_type": "code",
   "execution_count": null,
   "id": "5ee36687",
   "metadata": {},
   "outputs": [],
   "source": []
  },
  {
   "cell_type": "code",
   "execution_count": null,
   "id": "c24ed1b5",
   "metadata": {},
   "outputs": [],
   "source": []
  },
  {
   "cell_type": "code",
   "execution_count": null,
   "id": "501d8954",
   "metadata": {},
   "outputs": [],
   "source": []
  },
  {
   "cell_type": "code",
   "execution_count": null,
   "id": "3f372f43",
   "metadata": {},
   "outputs": [],
   "source": []
  },
  {
   "cell_type": "code",
   "execution_count": null,
   "id": "ce41dd82",
   "metadata": {},
   "outputs": [],
   "source": [
    "res=[]\n",
    "peps=\"\"\n",
    "count=0\n",
    "for i in range(data.shape[0]): \n",
    "    temp=[ int(float(x)*100)/100 for x in data[\"values\"][i].split(\"|\")]\n",
    "#     print(min(temp))\n",
    "    if min(temp)< 70 and (70.06  in temp) :\n",
    "        count+=1\n",
    "print(count)\n"
   ]
  },
  {
   "cell_type": "code",
   "execution_count": null,
   "id": "93cc1045",
   "metadata": {},
   "outputs": [],
   "source": [
    "res=[]\n",
    "peps=\"\"\n",
    "count=0\n",
    "for i in range(data.shape[0]): \n",
    "    temp=[ int(float(x)*100)/100 for x in data[\"values\"][i].split(\"|\")]\n",
    "#     print(min(temp))\n",
    "    if min(temp)<=70.06 and 70.06 in temp  and (\"P\" not in data.peptide[i] and  \"R\" not in data.peptide[i]): #or \"N\" in data.peptide[i] or \"D\" in data.peptide[i]): #or \"K\" in data.peptide[i] ) :\n",
    "#         print(data.peptide[i])\n",
    "        peps+=\"\".join(np.unique([ x for x in data.peptide[i]]))\n",
    "        res+= [ int(float(x)*100)/100 for x in data[\"values\"][i].split(\"|\")]\n",
    "        count+=1\n",
    "print(count)"
   ]
  },
  {
   "cell_type": "code",
   "execution_count": null,
   "id": "98646e57",
   "metadata": {
    "scrolled": false
   },
   "outputs": [],
   "source": [
    "temp=pd.DataFrame(np.unique(res,return_counts=True)).transpose()\n",
    "temp.columns=[\"mz\",\"freq\"]\n",
    "temp=temp[temp.freq>10].reset_index(drop=True)\n",
    "temp=temp.sort_values(by=\"freq\",ascending=False).reset_index(drop=True)\n",
    "temp.head(10)"
   ]
  },
  {
   "cell_type": "code",
   "execution_count": null,
   "id": "a58041c3",
   "metadata": {},
   "outputs": [],
   "source": [
    "temp=pd.DataFrame(np.unique([x for x in peps],return_counts=True)).transpose()\n",
    "temp.columns=[\"mz\",\"freq\"]\n",
    "temp=temp[temp.freq>10].reset_index(drop=True)\n",
    "temp=temp.sort_values(by=\"freq\",ascending=False).reset_index(drop=True)\n",
    "temp.head(20)"
   ]
  },
  {
   "cell_type": "code",
   "execution_count": null,
   "id": "b689f34f",
   "metadata": {},
   "outputs": [],
   "source": []
  },
  {
   "cell_type": "code",
   "execution_count": null,
   "id": "90e8b756",
   "metadata": {},
   "outputs": [],
   "source": []
  },
  {
   "cell_type": "code",
   "execution_count": null,
   "id": "4d9c9ae7",
   "metadata": {},
   "outputs": [],
   "source": [
    "res=[]\n",
    "peps=\"\"\n",
    "_pepts=\"\"\n",
    "count=0\n",
    "for i in range(data.shape[0]):\n",
    "    temp=[ int(float(x)*10)/10 for x in data[\"values\"][i].split(\"|\")]\n",
    "    if ((70.0 in temp) and (\"P\"  not  in data.peptide[i].strip()) ):\n",
    "#         print(data.peptide[i])\n",
    "        peps+=\"\".join(np.unique([ x for x in data.peptide[i]]))\n",
    "        _pepts+=\",\"+data.peptide[i]\n",
    "        res+= [ int(float(x)*100)/100 for x in data[\"values\"][i].split(\"|\")]\n",
    "        count+=1\n",
    "print(count)"
   ]
  },
  {
   "cell_type": "code",
   "execution_count": null,
   "id": "591a0bc0",
   "metadata": {
    "scrolled": false
   },
   "outputs": [],
   "source": [
    "temp=pd.DataFrame(np.unique(res,return_counts=True)).transpose()\n",
    "temp.columns=[\"mz\",\"freq\"]\n",
    "temp=temp[temp.freq>10].reset_index(drop=True)\n",
    "temp=temp.sort_values(by=\"freq\",ascending=False).reset_index(drop=True)\n",
    "temp.head(10)"
   ]
  },
  {
   "cell_type": "code",
   "execution_count": null,
   "id": "0c5f0a36",
   "metadata": {},
   "outputs": [],
   "source": [
    "temp=pd.DataFrame(np.unique([x for x in peps],return_counts=True)).transpose()\n",
    "temp.columns=[\"mz\",\"freq\"]\n",
    "temp=temp[temp.freq>10].reset_index(drop=True)\n",
    "temp=temp.sort_values(by=\"freq\",ascending=False).reset_index(drop=True)\n",
    "temp.head(20)"
   ]
  },
  {
   "cell_type": "code",
   "execution_count": null,
   "id": "1cb62746",
   "metadata": {},
   "outputs": [],
   "source": [
    "res=[]\n",
    "for i in [x for x in _pepts.split(',') if len(x)>0]:\n",
    "#     print(i)\n",
    "#     print(list(combinations(i, 2)))\n",
    "    for j in range(1,len(i)):\n",
    "        res.append(i[j-1:j+1])\n",
    "#         print(i[j-1:j+1])"
   ]
  },
  {
   "cell_type": "code",
   "execution_count": null,
   "id": "1abe1a0c",
   "metadata": {},
   "outputs": [],
   "source": [
    "temp=pd.DataFrame(np.unique(res,return_counts=True)).transpose()\n",
    "temp.columns=[\"aa\",\"counts\"]\n",
    "temp=temp.sort_values(by=\"counts\",ascending=False).reset_index(drop=True)\n",
    "temp.head(20)"
   ]
  },
  {
   "cell_type": "code",
   "execution_count": null,
   "id": "fb59adb7",
   "metadata": {},
   "outputs": [],
   "source": []
  },
  {
   "cell_type": "code",
   "execution_count": null,
   "id": "25452ed3",
   "metadata": {},
   "outputs": [],
   "source": []
  },
  {
   "cell_type": "code",
   "execution_count": null,
   "id": "cf552405",
   "metadata": {},
   "outputs": [],
   "source": [
    "res=[]\n",
    "peps=\"\"\n",
    "count=0\n",
    "for i in range(data.shape[0]):\n",
    "    temp=[ int(float(x)*10)/10 for x in data[\"values\"][i].split(\"|\")]\n",
    "    if ((70.0 in temp) and (72.0 in temp) and min(temp)<=70 ):# and (\"P\"  not  in data.peptide[i].strip()) ):\n",
    "        peps+=\"\".join(np.unique([ x for x in data.peptide[i]]))\n",
    "        res+= [ int(float(x)*100)/100 for x in data[\"values\"][i].split(\"|\")]\n",
    "        if ((\"I\"    in data.peptide[i].strip()) or\n",
    "           (\"L\"    in data.peptide[i].strip()) or\n",
    "           (\"V\"    in data.peptide[i].strip())):\n",
    "            count+=1\n",
    "print(count)"
   ]
  },
  {
   "cell_type": "code",
   "execution_count": null,
   "id": "8c76386d",
   "metadata": {},
   "outputs": [],
   "source": [
    "775/815"
   ]
  },
  {
   "cell_type": "code",
   "execution_count": null,
   "id": "ed49ea6a",
   "metadata": {},
   "outputs": [],
   "source": [
    "temp=pd.DataFrame(np.unique([x for x in peps],return_counts=True)).transpose()\n",
    "temp.columns=[\"mz\",\"freq\"]\n",
    "temp=temp[temp.freq>10].reset_index(drop=True)\n",
    "temp=temp.sort_values(by=\"freq\",ascending=False).reset_index(drop=True)\n",
    "temp.head(20)"
   ]
  },
  {
   "cell_type": "code",
   "execution_count": null,
   "id": "7e878f99",
   "metadata": {},
   "outputs": [],
   "source": []
  },
  {
   "cell_type": "code",
   "execution_count": null,
   "id": "4b06f8ec",
   "metadata": {},
   "outputs": [],
   "source": [
    "[x.strip() for x in sorted(['do-2-10pct_90mingrad_60OTit_1p3s_cycletime_E_wr_03Feb23_008.mzML    '\n",
    ",'do-2-12p5pct_90mingrad_60OTit_1p3s_cycletime_E_wr_03Feb23_009.mzid    '\n",
    ",'do-2-12p5pct_90mingrad_60OTit_1p3s_cycletime_E_wr_03Feb23_009.mzML  '\n",
    ",'do-2-15pct_90mingrad_60OTit_1p3s_cycletime_E_wr_03Feb23_010.mzid      '\n",
    ",'do-2-15pct_90mingrad_60OTit_1p3s_cycletime_E_wr_03Feb23_010.mzML    '\n",
    ",'do-2-17p5pct_90mingrad_60OTit_1p3s_cycletime_E_wr_03Feb23_011.mzid    '\n",
    ",'do-2-17p5pct_90mingrad_60OTit_1p3s_cycletime_E_wr_03Feb23_011.mzML  '\n",
    ",'do-2-20pct_90mingrad_60OTit_1p3s_cycletime_E_wr_03Feb23_012.mzid      '\n",
    ",'do-2-20pct_90mingrad_60OTit_1p3s_cycletime_E_wr_03Feb23_012.mzML    '\n",
    ",'do-2-50pct_90mingrad_60OTit_1p3s_cycletime_E_wr_03Feb23_013.mzid      '\n",
    ",'do-2-50pct_90mingrad_60OTit_1p3s_cycletime_E_wr_03Feb23_013.mzML    '\n",
    ",'do-2-5pct_90mingrad_60OTit_1p3s_cycletime_E_wr_03Feb23_006.mzid       '\n",
    ",'do-2-5pct_90mingrad_60OTit_1p3s_cycletime_E_wr_03Feb23_006.mzML     '\n",
    ",'do-2-7p5pct_90mingrad_60OTit_1p3s_cycletime_E_wr_03Feb23_007.mzid    '\n",
    ",'do-2-7p5pct_90mingrad_60OTit_1p3s_cycletime_E_wr_03Feb23_007.mzML   ']) if \".mzid\" in x]"
   ]
  },
  {
   "cell_type": "code",
   "execution_count": null,
   "id": "b00331d0",
   "metadata": {},
   "outputs": [],
   "source": [
    "[x.strip().replace('.mzML','.csv') for x in sorted(['do-2-10pct_90mingrad_60OTit_1p3s_cycletime_E_wr_03Feb23_008.mzML    '\n",
    ",'do-2-12p5pct_90mingrad_60OTit_1p3s_cycletime_E_wr_03Feb23_009.mzid    '\n",
    ",'do-2-12p5pct_90mingrad_60OTit_1p3s_cycletime_E_wr_03Feb23_009.mzML  '\n",
    ",'do-2-15pct_90mingrad_60OTit_1p3s_cycletime_E_wr_03Feb23_010.mzid      '\n",
    ",'do-2-15pct_90mingrad_60OTit_1p3s_cycletime_E_wr_03Feb23_010.mzML    '\n",
    ",'do-2-17p5pct_90mingrad_60OTit_1p3s_cycletime_E_wr_03Feb23_011.mzid    '\n",
    ",'do-2-17p5pct_90mingrad_60OTit_1p3s_cycletime_E_wr_03Feb23_011.mzML  '\n",
    ",'do-2-20pct_90mingrad_60OTit_1p3s_cycletime_E_wr_03Feb23_012.mzid      '\n",
    ",'do-2-20pct_90mingrad_60OTit_1p3s_cycletime_E_wr_03Feb23_012.mzML    '\n",
    ",'do-2-50pct_90mingrad_60OTit_1p3s_cycletime_E_wr_03Feb23_013.mzid      '\n",
    ",'do-2-50pct_90mingrad_60OTit_1p3s_cycletime_E_wr_03Feb23_013.mzML    '\n",
    ",'do-2-5pct_90mingrad_60OTit_1p3s_cycletime_E_wr_03Feb23_006.mzid       '\n",
    ",'do-2-5pct_90mingrad_60OTit_1p3s_cycletime_E_wr_03Feb23_006.mzML     '\n",
    ",'do-2-7p5pct_90mingrad_60OTit_1p3s_cycletime_E_wr_03Feb23_007.mzid    '\n",
    ",'do-2-7p5pct_90mingrad_60OTit_1p3s_cycletime_E_wr_03Feb23_007.mzML   ']) if \".mzML\" in x]"
   ]
  },
  {
   "cell_type": "code",
   "execution_count": null,
   "id": "924f4af0",
   "metadata": {},
   "outputs": [],
   "source": []
  }
 ],
 "metadata": {
  "kernelspec": {
   "display_name": "Python 3 (ipykernel)",
   "language": "python",
   "name": "python3"
  },
  "language_info": {
   "codemirror_mode": {
    "name": "ipython",
    "version": 3
   },
   "file_extension": ".py",
   "mimetype": "text/x-python",
   "name": "python",
   "nbconvert_exporter": "python",
   "pygments_lexer": "ipython3",
   "version": "3.9.11"
  }
 },
 "nbformat": 4,
 "nbformat_minor": 5
}
