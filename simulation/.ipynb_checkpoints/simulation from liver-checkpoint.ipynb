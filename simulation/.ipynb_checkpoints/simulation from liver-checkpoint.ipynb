{
 "cells": [
  {
   "cell_type": "code",
   "execution_count": 185,
   "id": "0b976867",
   "metadata": {},
   "outputs": [],
   "source": [
    "import os \n",
    "import numpy as np\n",
    "import pandas as pd\n",
    "import warnings\n",
    "from matplotlib import pyplot as plt\n",
    "import math\n",
    "from sklearn import metrics\n",
    "\n",
    "warnings.filterwarnings(\"ignore\")"
   ]
  },
  {
   "cell_type": "code",
   "execution_count": 187,
   "id": "1259d9ab",
   "metadata": {},
   "outputs": [
    {
     "name": "stderr",
     "output_type": "stream",
     "text": [
      "\n",
      "KeyboardInterrupt\n",
      "\n"
     ]
    }
   ],
   "source": [
    "filespath=\"H:\\Warehouse\\Data\\DataUsedForPublication\\Partial IsotopeProfile paper data used for publication\\liverpool_CI\\liver\"\n",
    "protiens=[ x for x in os.listdir(filespath) if (\".Quant.csv\") in x]\n",
    "\n",
    "res=[]\n",
    "for file in protiens:\n",
    "    \n",
    "    try:\n",
    "        res= res +list(pd.read_csv(os.path.join(filespath,file), skiprows=1,index_col=False).Peptide)\n",
    "    except:\n",
    "        res= res +list(pd.read_csv(os.path.join(filespath,file), skiprows=3,index_col=False).Peptide)\n",
    "    "
   ]
  },
  {
   "cell_type": "code",
   "execution_count": 197,
   "id": "c2009e9d",
   "metadata": {},
   "outputs": [],
   "source": [
    "# pd.read_csv(os.path.join(filespath,file), skiprows=3,index_col=False)[[' M0',' M1',' M2',' M3',' M4',' M5']]"
   ]
  },
  {
   "cell_type": "code",
   "execution_count": 83,
   "id": "e28854ce",
   "metadata": {},
   "outputs": [
    {
     "name": "stdout",
     "output_type": "stream",
     "text": [
      "27307\n"
     ]
    },
    {
     "data": {
      "text/plain": [
       "(21619,)"
      ]
     },
     "execution_count": 83,
     "metadata": {},
     "output_type": "execute_result"
    }
   ],
   "source": [
    "print(len(res))\n",
    "temp_pep=(np.array(res))\n",
    "temp_pep=np.unique([x.upper() for x in temp_pep])\n",
    "temp_pep.shape"
   ]
  },
  {
   "cell_type": "code",
   "execution_count": 84,
   "id": "1965c70f",
   "metadata": {},
   "outputs": [
    {
     "name": "stdout",
     "output_type": "stream",
     "text": [
      "7 52\n"
     ]
    },
    {
     "data": {
      "text/plain": [
       "<BarContainer object of 44 artists>"
      ]
     },
     "execution_count": 84,
     "metadata": {},
     "output_type": "execute_result"
    },
    {
     "data": {
      "image/png": "[encoded data removed]",
      "text/plain": [
       "<Figure size 432x288 with 1 Axes>"
      ]
     },
     "metadata": {
      "needs_background": "light"
     },
     "output_type": "display_data"
    }
   ],
   "source": [
    "x,y=np.unique(np.array([len(x) for x in temp_pep]),return_counts=True)\n",
    "print(min(x),max(x))\n",
    "plt.bar(x,y)"
   ]
  },
  {
   "cell_type": "code",
   "execution_count": 90,
   "id": "b4893b48",
   "metadata": {},
   "outputs": [
    {
     "data": {
      "image/png": "[encoded data removed]",
      "text/plain": [
       "<Figure size 432x288 with 1 Axes>"
      ]
     },
     "metadata": {
      "needs_background": "light"
     },
     "output_type": "display_data"
    }
   ],
   "source": [
    "rate=[x for x in np.array(np.random.uniform(low = math.log(2)/31, high = math.log(2), size = temp_pep.shape[0] )).ravel()]#np.rint\n",
    "count, bins, ignored = plt.hist(s, 20, density=False)"
   ]
  },
  {
   "cell_type": "code",
   "execution_count": 86,
   "id": "951b7b4d",
   "metadata": {},
   "outputs": [],
   "source": [
    "trueval=[4.0,1.62,1.89,3.95,0.32,2.06,2.88,1.0,0.6,0.54,1.12,1.89,2.59,3.95,3.43,2.61,0.2,0.56,0.08,0.42]\n",
    "all_AAs=[x.upper() for x in\n",
    "         ['a', 'c', 'd', 'e', 'f', 'g', 'h', 'i', 'k', 'l', 'm', 'n', 'p','q', 'r', 's', 't', 'v', 'w', 'y']]"
   ]
  },
  {
   "cell_type": "code",
   "execution_count": 87,
   "id": "b0ae89a4",
   "metadata": {},
   "outputs": [],
   "source": [
    "def compute_neh(seq):\n",
    "    res=0\n",
    "    for c in seq:\n",
    "        res+=trueval[all_AAs.index(c)]\n",
    "    return int(res)"
   ]
  },
  {
   "cell_type": "code",
   "execution_count": 88,
   "id": "a9cc9d01",
   "metadata": {},
   "outputs": [
    {
     "data": {
      "text/plain": [
       "21619"
      ]
     },
     "execution_count": 88,
     "metadata": {},
     "output_type": "execute_result"
    }
   ],
   "source": [
    "pep_neh=[]\n",
    "for pep in temp_pep:\n",
    "    pep_neh.append(compute_neh(pep))\n",
    "len(pep_neh)"
   ]
  },
  {
   "cell_type": "code",
   "execution_count": 89,
   "id": "7eb3a2a6",
   "metadata": {},
   "outputs": [
    {
     "name": "stdout",
     "output_type": "stream",
     "text": [
      "3 112\n"
     ]
    },
    {
     "data": {
      "text/plain": [
       "<BarContainer object of 97 artists>"
      ]
     },
     "execution_count": 89,
     "metadata": {},
     "output_type": "execute_result"
    },
    {
     "data": {
      "image/png": "[encoded data removed]",
      "text/plain": [
       "<Figure size 432x288 with 1 Axes>"
      ]
     },
     "metadata": {
      "needs_background": "light"
     },
     "output_type": "display_data"
    }
   ],
   "source": [
    "x,y=np.unique(np.array(pep_neh),return_counts=True)\n",
    "print(min(x),max(x))\n",
    "plt.bar(x,y)"
   ]
  },
  {
   "cell_type": "code",
   "execution_count": 92,
   "id": "7f8366cd",
   "metadata": {},
   "outputs": [
    {
     "data": {
      "image/png": "[encoded data removed]",
      "text/plain": [
       "<Figure size 432x288 with 1 Axes>"
      ]
     },
     "metadata": {
      "needs_background": "light"
     },
     "output_type": "display_data"
    }
   ],
   "source": [
    "I0=[x for x in np.array(np.random.uniform(low = 0.15, high = 0.55, size = temp_pep.shape[0] )).ravel()]#np.rint\n",
    "count, bins, ignored = plt.hist(s, 20, density=False)"
   ]
  },
  {
   "cell_type": "code",
   "execution_count": 95,
   "id": "abd9e379",
   "metadata": {},
   "outputs": [],
   "source": [
    "def compute_ioasym(i0,neh):\n",
    "    pw=0.05\n",
    "    ph=1.5574E-4\n",
    "    return i0*(1-pw/(1-ph))**neh"
   ]
  },
  {
   "cell_type": "code",
   "execution_count": 99,
   "id": "5d7122ff",
   "metadata": {},
   "outputs": [],
   "source": [
    "def compute_i0_t(t,k,neh,i0):\n",
    "    io_asym=compute_ioasym(i0,neh)\n",
    "    return  io_asym + (i0-io_asym)*(math.exp(-k*t))"
   ]
  },
  {
   "cell_type": "code",
   "execution_count": 170,
   "id": "21739cbb",
   "metadata": {},
   "outputs": [
    {
     "name": "stdout",
     "output_type": "stream",
     "text": [
      "0.9956130152099965 0.006148186427872429\n"
     ]
    },
    {
     "data": {
      "image/png": "[encoded data removed]",
      "text/plain": [
       "<Figure size 432x288 with 1 Axes>"
      ]
     },
     "metadata": {
      "needs_background": "light"
     },
     "output_type": "display_data"
    }
   ],
   "source": [
    "io_ts=[]\n",
    "io_ns=[]\n",
    "times=[0,1 ,2 ,3 ,6 ,7 ,9 ,13,16,21,24,31]\n",
    "for i in times:\n",
    "    io_ts.append(compute_i0_t(i,0.5,25,0.4))\n",
    "    io_ns.append(io_ts[-1]+np.random.normal(0,0.005,1))\n",
    "plt.scatter(times,io_ts)\n",
    "plt.scatter(times,io_ns,c='r')\n",
    "print(metrics.r2_score(io_ns,io_ts),(metrics.mean_squared_error(io_ns,io_ts))**0.5)"
   ]
  },
  {
   "cell_type": "code",
   "execution_count": null,
   "id": "86a9bb0f",
   "metadata": {
    "scrolled": true
   },
   "outputs": [],
   "source": []
  },
  {
   "cell_type": "code",
   "execution_count": 179,
   "id": "84226dc1",
   "metadata": {},
   "outputs": [],
   "source": [
    "sim_res=[]\n",
    "for i in range(len(temp_pep)):\n",
    "    temp_res=[\n",
    "    temp_pep[i],pep_neh[i],\n",
    "    rate[i],\n",
    "    I0[i]]\n",
    "    \n",
    "    io_ts=[]\n",
    "    io_ns=[] \n",
    "    for i in times:\n",
    "        io_ts.append(compute_i0_t(i,rate[i],pep_neh[i],I0[i]))\n",
    "        io_ns.append(float(io_ts[-1]+np.random.normal(0,0.005,1)))\n",
    "        \n",
    "    temp_res+=[metrics.r2_score(io_ns,io_ts),(metrics.mean_squared_error(io_ns,io_ts))**0.5]\n",
    "    \n",
    "    temp_res+=io_ns+io_ts\n",
    "    sim_res.append(temp_res)"
   ]
  },
  {
   "cell_type": "code",
   "execution_count": 180,
   "id": "00ae7d2f",
   "metadata": {},
   "outputs": [],
   "source": [
    "df_sim_res=pd.DataFrame(sim_res)\n",
    "df_sim_res.columns=[\"Pep\",'NEH','k','I0','R2','RMSE']+ [f'T_i0_{t}' for t in times] +[f'N_i0_{t}' for t in times]"
   ]
  },
  {
   "cell_type": "code",
   "execution_count": 184,
   "id": "1a0c8c37",
   "metadata": {},
   "outputs": [],
   "source": [
    "df_sim_res.to_csv(\"NEH_sim.csv\",index=False)"
   ]
  },
  {
   "cell_type": "code",
   "execution_count": null,
   "id": "14134990",
   "metadata": {},
   "outputs": [],
   "source": []
  },
  {
   "cell_type": "code",
   "execution_count": null,
   "id": "0b20deed",
   "metadata": {},
   "outputs": [],
   "source": []
  }
 ],
 "metadata": {
  "kernelspec": {
   "display_name": "Python 3 (ipykernel)",
   "language": "python",
   "name": "python3"
  },
  "language_info": {
   "codemirror_mode": {
    "name": "ipython",
    "version": 3
   },
   "file_extension": ".py",
   "mimetype": "text/x-python",
   "name": "python",
   "nbconvert_exporter": "python",
   "pygments_lexer": "ipython3",
   "version": "3.9.11"
  }
 },
 "nbformat": 4,
 "nbformat_minor": 5
}
