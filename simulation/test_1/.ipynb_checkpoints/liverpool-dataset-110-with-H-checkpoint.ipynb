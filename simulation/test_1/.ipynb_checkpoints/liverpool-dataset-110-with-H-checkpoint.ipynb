{
 "cells": [
  {
   "cell_type": "code",
   "execution_count": 29,
   "id": "fd9e87f0",
   "metadata": {},
   "outputs": [],
   "source": [
    "import numpy as np\n",
    "import pandas as pd\n",
    "import os "
   ]
  },
  {
   "cell_type": "code",
   "execution_count": 30,
   "id": "c4b1b4a5",
   "metadata": {},
   "outputs": [],
   "source": [
    "aas_residualmz={\"G\":57.02147,\"A\":71.03712,\"S\":87.03203,\"P\":97.05277,\"V\":99.06842,\"T\":101.04768,\"C\":103.00919,\"I\":113.08407,\"L\":113.08407,\"N\":114.04293\n",
    ",\"D\":115.02695,\"Q\":128.05858,\"K\":128.09497,\"E\":129.0426,\"M\":131.04049,\"H\":137.05891,\"F\":147.06842,\"R\":156.10112,\"Y\":163.06333,\"W\":186.07932}\n",
    "aas=['A' ,'C', 'D' ,'E', 'F', 'G', 'H', 'I' ,'K', 'L', 'M', 'N' ,'P' ,'Q' ,'R' ,'S', 'T', 'V', 'W' ,'Y']"
   ]
  },
  {
   "cell_type": "code",
   "execution_count": 31,
   "id": "dc114fc0",
   "metadata": {},
   "outputs": [
    {
     "name": "stdout",
     "output_type": "stream",
     "text": [
      "(26187, 9)\n",
      "(15339, 9)\n"
     ]
    }
   ],
   "source": [
    "path=\"C:\\\\Workplace\\\\C#\\\\Test\\\\immonium_mass_neh\\\\immonium_mass\\\\bin\\\\x64\\\\Debug\\\\\"\n",
    "data=pd.DataFrame()\n",
    "\n",
    "for f in [\"Liver_l0.csv\"]:\n",
    "    \n",
    "    data=pd.concat([data,pd.read_csv(path+f)])\n",
    "    \n",
    "    \n",
    "data[\"ion_count\"]=[ len(str(x).split('|')) for x in data[[\"values\"]].values]\n",
    "print(data.shape)\n",
    "data=data[data.ion_count>=2]\n",
    "data=data.reset_index(drop=True)\n",
    "print(data.shape)"
   ]
  },
  {
   "cell_type": "code",
   "execution_count": 32,
   "id": "ccd87614",
   "metadata": {},
   "outputs": [
    {
     "name": "stdout",
     "output_type": "stream",
     "text": [
      "2962\n"
     ]
    }
   ],
   "source": [
    "res=[]\n",
    "peps=[]\n",
    "count=0\n",
    "for i in range(data.shape[0]): \n",
    "    temp=np.unique([ int(float(x)*100)/100 for x in data[\"values\"][i].split(\"|\")])\n",
    "    \n",
    "    if 110.07 in temp and 'H'  in data[\"peptide\"][i] : #'L' in data[\"peptide\"][i] : #120.08 in temp:#'R' not in data[\"peptide\"][i] :  #and 110.07 in temp:and 'V' not in data[\"peptide\"][i]\n",
    "        res.append(temp)\n",
    "        peps.append((data[\"peptide\"][i]))\n",
    "        count+=1\n",
    "print(count)"
   ]
  },
  {
   "cell_type": "code",
   "execution_count": 33,
   "id": "aee147c8",
   "metadata": {},
   "outputs": [
    {
     "data": {
      "text/plain": [
       "['I', 'N', 'D', 'Q', 'E', 'M', 'H', 'F', 'Y', 'W']"
      ]
     },
     "execution_count": 33,
     "metadata": {},
     "output_type": "execute_result"
    }
   ],
   "source": [
    "possible_aa=[x for x,val in aas_residualmz.items() if val>=110.07 and x not in ['R','K','L']] #\n",
    "possible_aa"
   ]
  },
  {
   "cell_type": "code",
   "execution_count": null,
   "id": "4351fd47",
   "metadata": {},
   "outputs": [],
   "source": []
  },
  {
   "cell_type": "code",
   "execution_count": 34,
   "id": "b637db0a",
   "metadata": {},
   "outputs": [
    {
     "name": "stdout",
     "output_type": "stream",
     "text": [
      "2962\n"
     ]
    },
    {
     "data": {
      "text/html": [
       "<div>\n",
       "<style scoped>\n",
       "    .dataframe tbody tr th:only-of-type {\n",
       "        vertical-align: middle;\n",
       "    }\n",
       "\n",
       "    .dataframe tbody tr th {\n",
       "        vertical-align: top;\n",
       "    }\n",
       "\n",
       "    .dataframe thead th {\n",
       "        text-align: right;\n",
       "    }\n",
       "</style>\n",
       "<table border=\"1\" class=\"dataframe\">\n",
       "  <thead>\n",
       "    <tr style=\"text-align: right;\">\n",
       "      <th></th>\n",
       "      <th>aa</th>\n",
       "      <th>perc</th>\n",
       "    </tr>\n",
       "  </thead>\n",
       "  <tbody>\n",
       "    <tr>\n",
       "      <th>6</th>\n",
       "      <td>H</td>\n",
       "      <td>100.0</td>\n",
       "    </tr>\n",
       "    <tr>\n",
       "      <th>3</th>\n",
       "      <td>E</td>\n",
       "      <td>50.573937</td>\n",
       "    </tr>\n",
       "    <tr>\n",
       "      <th>7</th>\n",
       "      <td>I</td>\n",
       "      <td>46.556381</td>\n",
       "    </tr>\n",
       "    <tr>\n",
       "      <th>2</th>\n",
       "      <td>D</td>\n",
       "      <td>44.632005</td>\n",
       "    </tr>\n",
       "    <tr>\n",
       "      <th>13</th>\n",
       "      <td>Q</td>\n",
       "      <td>37.238352</td>\n",
       "    </tr>\n",
       "    <tr>\n",
       "      <th>4</th>\n",
       "      <td>F</td>\n",
       "      <td>35.280216</td>\n",
       "    </tr>\n",
       "    <tr>\n",
       "      <th>11</th>\n",
       "      <td>N</td>\n",
       "      <td>33.760972</td>\n",
       "    </tr>\n",
       "    <tr>\n",
       "      <th>19</th>\n",
       "      <td>Y</td>\n",
       "      <td>29.743417</td>\n",
       "    </tr>\n",
       "    <tr>\n",
       "      <th>10</th>\n",
       "      <td>M</td>\n",
       "      <td>22.9237</td>\n",
       "    </tr>\n",
       "    <tr>\n",
       "      <th>18</th>\n",
       "      <td>W</td>\n",
       "      <td>11.681296</td>\n",
       "    </tr>\n",
       "  </tbody>\n",
       "</table>\n",
       "</div>"
      ],
      "text/plain": [
       "   aa       perc\n",
       "6   H      100.0\n",
       "3   E  50.573937\n",
       "7   I  46.556381\n",
       "2   D  44.632005\n",
       "13  Q  37.238352\n",
       "4   F  35.280216\n",
       "11  N  33.760972\n",
       "19  Y  29.743417\n",
       "10  M    22.9237\n",
       "18  W  11.681296"
      ]
     },
     "execution_count": 34,
     "metadata": {},
     "output_type": "execute_result"
    }
   ],
   "source": [
    "df=pd.DataFrame()\n",
    "df[\"pep\"]=peps\n",
    "df[\"vals\"]=res\n",
    "\n",
    "print(len(peps))\n",
    "_temp_s=pd.DataFrame(np.unique([j for i in [list(np.unique(list(x))) for x in peps] for j in i],return_counts=True))\n",
    "_temp_s.loc[1,:]=100*_temp_s.loc[1,:]/count\n",
    "_temp_s=_temp_s.transpose()\n",
    "\n",
    "_temp_s.columns=['aa','perc']\n",
    "_temp_s=_temp_s.query(f'aa in {possible_aa}')\n",
    "_temp_s=_temp_s.sort_values(by='perc',ascending=False)\n",
    "_temp_s"
   ]
  },
  {
   "cell_type": "code",
   "execution_count": 35,
   "id": "768488ae",
   "metadata": {},
   "outputs": [
    {
     "data": {
      "text/html": [
       "<div>\n",
       "<style scoped>\n",
       "    .dataframe tbody tr th:only-of-type {\n",
       "        vertical-align: middle;\n",
       "    }\n",
       "\n",
       "    .dataframe tbody tr th {\n",
       "        vertical-align: top;\n",
       "    }\n",
       "\n",
       "    .dataframe thead th {\n",
       "        text-align: right;\n",
       "    }\n",
       "</style>\n",
       "<table border=\"1\" class=\"dataframe\">\n",
       "  <thead>\n",
       "    <tr style=\"text-align: right;\">\n",
       "      <th></th>\n",
       "      <th>aa</th>\n",
       "      <th>freq</th>\n",
       "    </tr>\n",
       "  </thead>\n",
       "  <tbody>\n",
       "    <tr>\n",
       "      <th>11</th>\n",
       "      <td>NE</td>\n",
       "      <td>491</td>\n",
       "    </tr>\n",
       "    <tr>\n",
       "      <th>0</th>\n",
       "      <td>IN</td>\n",
       "      <td>492</td>\n",
       "    </tr>\n",
       "    <tr>\n",
       "      <th>21</th>\n",
       "      <td>DF</td>\n",
       "      <td>499</td>\n",
       "    </tr>\n",
       "    <tr>\n",
       "      <th>24</th>\n",
       "      <td>QE</td>\n",
       "      <td>544</td>\n",
       "    </tr>\n",
       "    <tr>\n",
       "      <th>18</th>\n",
       "      <td>DE</td>\n",
       "      <td>606</td>\n",
       "    </tr>\n",
       "    <tr>\n",
       "      <th>1</th>\n",
       "      <td>ID</td>\n",
       "      <td>660</td>\n",
       "    </tr>\n",
       "    <tr>\n",
       "      <th>3</th>\n",
       "      <td>IE</td>\n",
       "      <td>675</td>\n",
       "    </tr>\n",
       "    <tr>\n",
       "      <th>35</th>\n",
       "      <td>MH</td>\n",
       "      <td>679</td>\n",
       "    </tr>\n",
       "    <tr>\n",
       "      <th>40</th>\n",
       "      <td>HY</td>\n",
       "      <td>881</td>\n",
       "    </tr>\n",
       "    <tr>\n",
       "      <th>13</th>\n",
       "      <td>NH</td>\n",
       "      <td>1000</td>\n",
       "    </tr>\n",
       "    <tr>\n",
       "      <th>39</th>\n",
       "      <td>HF</td>\n",
       "      <td>1045</td>\n",
       "    </tr>\n",
       "    <tr>\n",
       "      <th>26</th>\n",
       "      <td>QH</td>\n",
       "      <td>1103</td>\n",
       "    </tr>\n",
       "    <tr>\n",
       "      <th>20</th>\n",
       "      <td>DH</td>\n",
       "      <td>1322</td>\n",
       "    </tr>\n",
       "    <tr>\n",
       "      <th>5</th>\n",
       "      <td>IH</td>\n",
       "      <td>1379</td>\n",
       "    </tr>\n",
       "    <tr>\n",
       "      <th>31</th>\n",
       "      <td>EH</td>\n",
       "      <td>1498</td>\n",
       "    </tr>\n",
       "  </tbody>\n",
       "</table>\n",
       "</div>"
      ],
      "text/plain": [
       "    aa  freq\n",
       "11  NE   491\n",
       "0   IN   492\n",
       "21  DF   499\n",
       "24  QE   544\n",
       "18  DE   606\n",
       "1   ID   660\n",
       "3   IE   675\n",
       "35  MH   679\n",
       "40  HY   881\n",
       "13  NH  1000\n",
       "39  HF  1045\n",
       "26  QH  1103\n",
       "20  DH  1322\n",
       "5   IH  1379\n",
       "31  EH  1498"
      ]
     },
     "execution_count": 35,
     "metadata": {},
     "output_type": "execute_result"
    }
   ],
   "source": [
    "from itertools import combinations\n",
    "possible_two_aa=[\"\".join(x) for x in list(combinations(possible_aa,2))]\n",
    "two_dict={x:0 for x in possible_two_aa}\n",
    "for p in peps:\n",
    "    for cc in possible_two_aa:\n",
    "        if cc[0] in p and cc[1] in p:\n",
    "            two_dict[cc]+=1\n",
    "df=pd.DataFrame([two_dict.keys(),two_dict.values()]).transpose()\n",
    "df.columns=['aa','freq']\n",
    "df=df.sort_values(by='freq')\n",
    "df.tail(15)"
   ]
  },
  {
   "cell_type": "code",
   "execution_count": 51,
   "id": "2c028c86",
   "metadata": {
    "scrolled": false
   },
   "outputs": [
    {
     "name": "stdout",
     "output_type": "stream",
     "text": [
      "2962\n"
     ]
    },
    {
     "data": {
      "text/html": [
       "<div>\n",
       "<style scoped>\n",
       "    .dataframe tbody tr th:only-of-type {\n",
       "        vertical-align: middle;\n",
       "    }\n",
       "\n",
       "    .dataframe tbody tr th {\n",
       "        vertical-align: top;\n",
       "    }\n",
       "\n",
       "    .dataframe thead th {\n",
       "        text-align: right;\n",
       "    }\n",
       "</style>\n",
       "<table border=\"1\" class=\"dataframe\">\n",
       "  <thead>\n",
       "    <tr style=\"text-align: right;\">\n",
       "      <th></th>\n",
       "      <th>aa</th>\n",
       "      <th>term_x</th>\n",
       "      <th>term_y</th>\n",
       "      <th>h_next</th>\n",
       "    </tr>\n",
       "  </thead>\n",
       "  <tbody>\n",
       "    <tr>\n",
       "      <th>0</th>\n",
       "      <td>R</td>\n",
       "      <td>0.742741</td>\n",
       "      <td>44.09183</td>\n",
       "      <td>4.456448</td>\n",
       "    </tr>\n",
       "    <tr>\n",
       "      <th>1</th>\n",
       "      <td>C</td>\n",
       "      <td>1.181634</td>\n",
       "      <td>0.573937</td>\n",
       "      <td>1.654288</td>\n",
       "    </tr>\n",
       "    <tr>\n",
       "      <th>2</th>\n",
       "      <td>P</td>\n",
       "      <td>1.519244</td>\n",
       "      <td>NaN</td>\n",
       "      <td>6.58339</td>\n",
       "    </tr>\n",
       "    <tr>\n",
       "      <th>3</th>\n",
       "      <td>W</td>\n",
       "      <td>1.688049</td>\n",
       "      <td>0.202566</td>\n",
       "      <td>0.877785</td>\n",
       "    </tr>\n",
       "    <tr>\n",
       "      <th>4</th>\n",
       "      <td>K</td>\n",
       "      <td>2.903444</td>\n",
       "      <td>45.577313</td>\n",
       "      <td>3.241053</td>\n",
       "    </tr>\n",
       "    <tr>\n",
       "      <th>5</th>\n",
       "      <td>Y</td>\n",
       "      <td>3.072248</td>\n",
       "      <td>1.012829</td>\n",
       "      <td>3.072248</td>\n",
       "    </tr>\n",
       "    <tr>\n",
       "      <th>6</th>\n",
       "      <td>M</td>\n",
       "      <td>3.207292</td>\n",
       "      <td>0.540176</td>\n",
       "      <td>2.025658</td>\n",
       "    </tr>\n",
       "    <tr>\n",
       "      <th>7</th>\n",
       "      <td>Q</td>\n",
       "      <td>3.511141</td>\n",
       "      <td>0.067522</td>\n",
       "      <td>4.321404</td>\n",
       "    </tr>\n",
       "    <tr>\n",
       "      <th>8</th>\n",
       "      <td>N</td>\n",
       "      <td>3.848751</td>\n",
       "      <td>0.844024</td>\n",
       "      <td>2.937205</td>\n",
       "    </tr>\n",
       "    <tr>\n",
       "      <th>9</th>\n",
       "      <td>F</td>\n",
       "      <td>4.388926</td>\n",
       "      <td>1.316678</td>\n",
       "      <td>4.017556</td>\n",
       "    </tr>\n",
       "    <tr>\n",
       "      <th>10</th>\n",
       "      <td>D</td>\n",
       "      <td>4.557731</td>\n",
       "      <td>NaN</td>\n",
       "      <td>3.646185</td>\n",
       "    </tr>\n",
       "    <tr>\n",
       "      <th>11</th>\n",
       "      <td>E</td>\n",
       "      <td>5.469278</td>\n",
       "      <td>0.101283</td>\n",
       "      <td>7.494936</td>\n",
       "    </tr>\n",
       "    <tr>\n",
       "      <th>12</th>\n",
       "      <td>S</td>\n",
       "      <td>5.604321</td>\n",
       "      <td>0.101283</td>\n",
       "      <td>6.009453</td>\n",
       "    </tr>\n",
       "    <tr>\n",
       "      <th>13</th>\n",
       "      <td>G</td>\n",
       "      <td>6.380824</td>\n",
       "      <td>0.168805</td>\n",
       "      <td>8.136394</td>\n",
       "    </tr>\n",
       "    <tr>\n",
       "      <th>14</th>\n",
       "      <td>T</td>\n",
       "      <td>6.448346</td>\n",
       "      <td>0.067522</td>\n",
       "      <td>5.401756</td>\n",
       "    </tr>\n",
       "    <tr>\n",
       "      <th>15</th>\n",
       "      <td>V</td>\n",
       "      <td>7.123565</td>\n",
       "      <td>NaN</td>\n",
       "      <td>7.359892</td>\n",
       "    </tr>\n",
       "    <tr>\n",
       "      <th>16</th>\n",
       "      <td>I</td>\n",
       "      <td>7.393653</td>\n",
       "      <td>0.033761</td>\n",
       "      <td>4.827819</td>\n",
       "    </tr>\n",
       "    <tr>\n",
       "      <th>17</th>\n",
       "      <td>A</td>\n",
       "      <td>8.136394</td>\n",
       "      <td>0.067522</td>\n",
       "      <td>5.90817</td>\n",
       "    </tr>\n",
       "    <tr>\n",
       "      <th>18</th>\n",
       "      <td>L</td>\n",
       "      <td>9.182984</td>\n",
       "      <td>0.438893</td>\n",
       "      <td>10.297097</td>\n",
       "    </tr>\n",
       "    <tr>\n",
       "      <th>19</th>\n",
       "      <td>H</td>\n",
       "      <td>13.639433</td>\n",
       "      <td>4.794058</td>\n",
       "      <td>3.916273</td>\n",
       "    </tr>\n",
       "  </tbody>\n",
       "</table>\n",
       "</div>"
      ],
      "text/plain": [
       "   aa     term_x     term_y     h_next\n",
       "0   R   0.742741   44.09183   4.456448\n",
       "1   C   1.181634   0.573937   1.654288\n",
       "2   P   1.519244        NaN    6.58339\n",
       "3   W   1.688049   0.202566   0.877785\n",
       "4   K   2.903444  45.577313   3.241053\n",
       "5   Y   3.072248   1.012829   3.072248\n",
       "6   M   3.207292   0.540176   2.025658\n",
       "7   Q   3.511141   0.067522   4.321404\n",
       "8   N   3.848751   0.844024   2.937205\n",
       "9   F   4.388926   1.316678   4.017556\n",
       "10  D   4.557731        NaN   3.646185\n",
       "11  E   5.469278   0.101283   7.494936\n",
       "12  S   5.604321   0.101283   6.009453\n",
       "13  G   6.380824   0.168805   8.136394\n",
       "14  T   6.448346   0.067522   5.401756\n",
       "15  V   7.123565        NaN   7.359892\n",
       "16  I   7.393653   0.033761   4.827819\n",
       "17  A   8.136394   0.067522    5.90817\n",
       "18  L   9.182984   0.438893  10.297097\n",
       "19  H  13.639433   4.794058   3.916273"
      ]
     },
     "execution_count": 51,
     "metadata": {},
     "output_type": "execute_result"
    }
   ],
   "source": [
    "from itertools import combinations\n",
    "possible_two_aa=[\"\".join(x) for x in list(combinations(possible_aa,2))]\n",
    "two_dict={x:0 for x in aas}\n",
    "N_t=[]\n",
    "c_t=[]\n",
    "hnext=[]\n",
    "\n",
    "print(len(peps))\n",
    "for p in peps:\n",
    "    N_t.append(p[0])\n",
    "    c_t.append(p[-1])\n",
    "#     print(p)\n",
    "    try:\n",
    "        hnext.append(p[list(p).index(\"H\")+1])\n",
    "    except:\n",
    "        continue\n",
    "        \n",
    "df=pd.DataFrame(np.unique(N_t,return_counts=True)).transpose()\n",
    "df2=pd.DataFrame(np.unique(c_t,return_counts=True)).transpose()\n",
    "df3=pd.DataFrame(np.unique(hnext,return_counts=True)).transpose()\n",
    "df2.columns=['aa','term']\n",
    "df3.columns=['aa','h_next']\n",
    "df.columns=['aa','term']\n",
    "\n",
    "df=df.sort_values(by='term').reset_index(drop=True)\n",
    "df=df.merge(df2,on='aa',how=\"outer\")\n",
    "df=df.merge(df3,on='aa',how=\"outer\")\n",
    "df.term_x=100*df.term_x/len(peps)\n",
    "df.term_y=100*df.term_y/len(peps)\n",
    "df.h_next=100*df.h_next/len(peps)\n",
    "df"
   ]
  },
  {
   "cell_type": "code",
   "execution_count": null,
   "id": "f0a54fa2",
   "metadata": {},
   "outputs": [],
   "source": []
  },
  {
   "cell_type": "code",
   "execution_count": null,
   "id": "a913ab69",
   "metadata": {},
   "outputs": [],
   "source": []
  },
  {
   "cell_type": "code",
   "execution_count": null,
   "id": "047cceea",
   "metadata": {},
   "outputs": [],
   "source": []
  },
  {
   "cell_type": "code",
   "execution_count": 163,
   "id": "509e9faf",
   "metadata": {},
   "outputs": [
    {
     "data": {
      "text/html": [
       "<div>\n",
       "<style scoped>\n",
       "    .dataframe tbody tr th:only-of-type {\n",
       "        vertical-align: middle;\n",
       "    }\n",
       "\n",
       "    .dataframe tbody tr th {\n",
       "        vertical-align: top;\n",
       "    }\n",
       "\n",
       "    .dataframe thead th {\n",
       "        text-align: right;\n",
       "    }\n",
       "</style>\n",
       "<table border=\"1\" class=\"dataframe\">\n",
       "  <thead>\n",
       "    <tr style=\"text-align: right;\">\n",
       "      <th></th>\n",
       "      <th>mz</th>\n",
       "      <th>count_s</th>\n",
       "    </tr>\n",
       "  </thead>\n",
       "  <tbody>\n",
       "    <tr>\n",
       "      <th>0</th>\n",
       "      <td>65.39</td>\n",
       "      <td>185.0</td>\n",
       "    </tr>\n",
       "    <tr>\n",
       "      <th>1</th>\n",
       "      <td>69.07</td>\n",
       "      <td>383.0</td>\n",
       "    </tr>\n",
       "    <tr>\n",
       "      <th>2</th>\n",
       "      <td>70.02</td>\n",
       "      <td>135.0</td>\n",
       "    </tr>\n",
       "    <tr>\n",
       "      <th>3</th>\n",
       "      <td>70.06</td>\n",
       "      <td>1265.0</td>\n",
       "    </tr>\n",
       "    <tr>\n",
       "      <th>4</th>\n",
       "      <td>71.06</td>\n",
       "      <td>233.0</td>\n",
       "    </tr>\n",
       "    <tr>\n",
       "      <th>...</th>\n",
       "      <td>...</td>\n",
       "      <td>...</td>\n",
       "    </tr>\n",
       "    <tr>\n",
       "      <th>73</th>\n",
       "      <td>120.07</td>\n",
       "      <td>823.0</td>\n",
       "    </tr>\n",
       "    <tr>\n",
       "      <th>74</th>\n",
       "      <td>120.08</td>\n",
       "      <td>11793.0</td>\n",
       "    </tr>\n",
       "    <tr>\n",
       "      <th>75</th>\n",
       "      <td>121.08</td>\n",
       "      <td>3790.0</td>\n",
       "    </tr>\n",
       "    <tr>\n",
       "      <th>76</th>\n",
       "      <td>122.07</td>\n",
       "      <td>227.0</td>\n",
       "    </tr>\n",
       "    <tr>\n",
       "      <th>77</th>\n",
       "      <td>124.03</td>\n",
       "      <td>118.0</td>\n",
       "    </tr>\n",
       "  </tbody>\n",
       "</table>\n",
       "<p>78 rows × 2 columns</p>\n",
       "</div>"
      ],
      "text/plain": [
       "        mz  count_s\n",
       "0    65.39    185.0\n",
       "1    69.07    383.0\n",
       "2    70.02    135.0\n",
       "3    70.06   1265.0\n",
       "4    71.06    233.0\n",
       "..     ...      ...\n",
       "73  120.07    823.0\n",
       "74  120.08  11793.0\n",
       "75  121.08   3790.0\n",
       "76  122.07    227.0\n",
       "77  124.03    118.0\n",
       "\n",
       "[78 rows x 2 columns]"
      ]
     },
     "execution_count": 163,
     "metadata": {},
     "output_type": "execute_result"
    }
   ],
   "source": [
    "df_mzs=pd.DataFrame(np.unique([j for i in df.vals for j in i],return_counts=True)).transpose()\n",
    "# df_mzs.iloc[:,1]=df_mzs.iloc[:,1]/count\n",
    "df_mzs.columns=[\"mz\",\"count_s\"]\n",
    "df_mzs=df_mzs[df_mzs.count_s>100]\n",
    "df_mzs=df_mzs.sort_values(by=\"mz\").reset_index(drop=True)\n",
    "df_mzs.iloc[:,1]=df_mzs.iloc[:,1]#/count100*\n",
    "df_mzs.head(78)"
   ]
  },
  {
   "cell_type": "code",
   "execution_count": 81,
   "id": "5f33145b",
   "metadata": {
    "scrolled": true
   },
   "outputs": [
    {
     "name": "stdout",
     "output_type": "stream",
     "text": [
      "6382\n",
      "0\n"
     ]
    }
   ],
   "source": [
    "mz_dict={mz:{\"aas\":[],\"count\":0} for mz in df_mzs.mz}\n",
    "print(df.shape[0])\n",
    "_mzs=set(df_mzs.mz)\n",
    "for i in range(df.shape[0]):\n",
    "#     print(i)\n",
    "#     temp_mz_vals=[x for x in df[\"vals\"][i] if x in list(df_mzs.mz)]\n",
    "    \n",
    "    temp_mz_vals=set(df[\"vals\"][i]).intersection(_mzs)\n",
    "        \n",
    "    for mz_val in temp_mz_vals:\n",
    "        mz_dict[mz_val][\"aas\"]+= list(np.unique(list(df[\"pep\"][i])))\n",
    "        mz_dict[mz_val][\"count\"]+=1 \n",
    "    \n",
    "    if i%10000==0:\n",
    "        print(i)"
   ]
  },
  {
   "cell_type": "code",
   "execution_count": 82,
   "id": "12d6daa3",
   "metadata": {},
   "outputs": [],
   "source": [
    "# print(mz_dict[70.0]['count'])\n",
    "# print(mz_dict[70.0]['aas'].count('W'))\n",
    "# # np.unique(mz_dict[82.91]['aas'],return_counts=True)"
   ]
  },
  {
   "cell_type": "code",
   "execution_count": 83,
   "id": "509a046a",
   "metadata": {},
   "outputs": [],
   "source": [
    "aas=(['A' ,'C', 'D' ,'E', 'F', 'G', 'H', 'I' ,'K', 'L', 'M', 'N' ,'P' ,'Q' ,'R' ,'S', 'T', 'V', 'W' ,'Y'])"
   ]
  },
  {
   "cell_type": "code",
   "execution_count": 84,
   "id": "b663d4ae",
   "metadata": {
    "scrolled": true
   },
   "outputs": [
    {
     "name": "stdout",
     "output_type": "stream",
     "text": [
      "72.08\n",
      "84.04\n",
      "84.08\n",
      "86.09\n",
      "87.05\n",
      "87.1\n",
      "89.01\n",
      "91.05\n",
      "99.78\n",
      "99.79\n",
      "101.07\n",
      "102.05\n",
      "103.05\n",
      "104.05\n",
      "110.07\n",
      "112.08\n",
      "112.64\n",
      "112.65\n",
      "112.66\n",
      "115.08\n",
      "116.07\n",
      "119.04\n",
      "120.07\n",
      "120.08\n",
      "121.08\n",
      "127.08\n",
      "128.17\n",
      "128.18\n",
      "129.06\n",
      "129.1\n"
     ]
    }
   ],
   "source": [
    "res=[]\n",
    "for key in mz_dict.keys():\n",
    "    _temp_count=mz_dict[key]['count']\n",
    "    _temp_aas=mz_dict[key]['aas']\n",
    "    \n",
    "    _temp_res=[key,_temp_count] + [_temp_aas.count(c)/_temp_count for c in aas]\n",
    "#     _temp_res=[key,_temp_count] + [x if x >0.7 else 0 for x in [_temp_aas.count(c)/_temp_count for c in aas]]\n",
    "    res.append(_temp_res)    \n",
    "    print(key)"
   ]
  },
  {
   "cell_type": "code",
   "execution_count": 85,
   "id": "637513a6",
   "metadata": {
    "scrolled": true
   },
   "outputs": [
    {
     "ename": "PermissionError",
     "evalue": "[Errno 13] Permission denied: 'test_Liver_l0.csv'",
     "output_type": "error",
     "traceback": [
      "\u001b[1;31m---------------------------------------------------------------------------\u001b[0m",
      "\u001b[1;31mPermissionError\u001b[0m                           Traceback (most recent call last)",
      "Input \u001b[1;32mIn [85]\u001b[0m, in \u001b[0;36m<cell line: 3>\u001b[1;34m()\u001b[0m\n\u001b[0;32m      1\u001b[0m res\u001b[38;5;241m=\u001b[39mpd\u001b[38;5;241m.\u001b[39mDataFrame(res)\n\u001b[0;32m      2\u001b[0m res\u001b[38;5;241m.\u001b[39mcolumns\u001b[38;5;241m=\u001b[39m[\u001b[38;5;124m\"\u001b[39m\u001b[38;5;124mmz\u001b[39m\u001b[38;5;124m\"\u001b[39m,\u001b[38;5;124m\"\u001b[39m\u001b[38;5;124mcount\u001b[39m\u001b[38;5;124m\"\u001b[39m]\u001b[38;5;241m+\u001b[39m\u001b[38;5;28msorted\u001b[39m([x \u001b[38;5;28;01mfor\u001b[39;00m x \u001b[38;5;129;01min\u001b[39;00m (aas)])\n\u001b[1;32m----> 3\u001b[0m \u001b[43mres\u001b[49m\u001b[38;5;241;43m.\u001b[39;49m\u001b[43mto_csv\u001b[49m\u001b[43m(\u001b[49m\u001b[38;5;124;43m\"\u001b[39;49m\u001b[38;5;124;43mtest_Liver_l0.csv\u001b[39;49m\u001b[38;5;124;43m\"\u001b[39;49m\u001b[43m,\u001b[49m\u001b[43mindex\u001b[49m\u001b[38;5;241;43m=\u001b[39;49m\u001b[38;5;28;43;01mFalse\u001b[39;49;00m\u001b[43m)\u001b[49m\n",
      "File \u001b[1;32m~\\.conda\\envs\\myenv\\lib\\site-packages\\pandas\\core\\generic.py:3563\u001b[0m, in \u001b[0;36mNDFrame.to_csv\u001b[1;34m(self, path_or_buf, sep, na_rep, float_format, columns, header, index, index_label, mode, encoding, compression, quoting, quotechar, line_terminator, chunksize, date_format, doublequote, escapechar, decimal, errors, storage_options)\u001b[0m\n\u001b[0;32m   3552\u001b[0m df \u001b[38;5;241m=\u001b[39m \u001b[38;5;28mself\u001b[39m \u001b[38;5;28;01mif\u001b[39;00m \u001b[38;5;28misinstance\u001b[39m(\u001b[38;5;28mself\u001b[39m, ABCDataFrame) \u001b[38;5;28;01melse\u001b[39;00m \u001b[38;5;28mself\u001b[39m\u001b[38;5;241m.\u001b[39mto_frame()\n\u001b[0;32m   3554\u001b[0m formatter \u001b[38;5;241m=\u001b[39m DataFrameFormatter(\n\u001b[0;32m   3555\u001b[0m     frame\u001b[38;5;241m=\u001b[39mdf,\n\u001b[0;32m   3556\u001b[0m     header\u001b[38;5;241m=\u001b[39mheader,\n\u001b[1;32m   (...)\u001b[0m\n\u001b[0;32m   3560\u001b[0m     decimal\u001b[38;5;241m=\u001b[39mdecimal,\n\u001b[0;32m   3561\u001b[0m )\n\u001b[1;32m-> 3563\u001b[0m \u001b[38;5;28;01mreturn\u001b[39;00m \u001b[43mDataFrameRenderer\u001b[49m\u001b[43m(\u001b[49m\u001b[43mformatter\u001b[49m\u001b[43m)\u001b[49m\u001b[38;5;241;43m.\u001b[39;49m\u001b[43mto_csv\u001b[49m\u001b[43m(\u001b[49m\n\u001b[0;32m   3564\u001b[0m \u001b[43m    \u001b[49m\u001b[43mpath_or_buf\u001b[49m\u001b[43m,\u001b[49m\n\u001b[0;32m   3565\u001b[0m \u001b[43m    \u001b[49m\u001b[43mline_terminator\u001b[49m\u001b[38;5;241;43m=\u001b[39;49m\u001b[43mline_terminator\u001b[49m\u001b[43m,\u001b[49m\n\u001b[0;32m   3566\u001b[0m \u001b[43m    \u001b[49m\u001b[43msep\u001b[49m\u001b[38;5;241;43m=\u001b[39;49m\u001b[43msep\u001b[49m\u001b[43m,\u001b[49m\n\u001b[0;32m   3567\u001b[0m \u001b[43m    \u001b[49m\u001b[43mencoding\u001b[49m\u001b[38;5;241;43m=\u001b[39;49m\u001b[43mencoding\u001b[49m\u001b[43m,\u001b[49m\n\u001b[0;32m   3568\u001b[0m \u001b[43m    \u001b[49m\u001b[43merrors\u001b[49m\u001b[38;5;241;43m=\u001b[39;49m\u001b[43merrors\u001b[49m\u001b[43m,\u001b[49m\n\u001b[0;32m   3569\u001b[0m \u001b[43m    \u001b[49m\u001b[43mcompression\u001b[49m\u001b[38;5;241;43m=\u001b[39;49m\u001b[43mcompression\u001b[49m\u001b[43m,\u001b[49m\n\u001b[0;32m   3570\u001b[0m \u001b[43m    \u001b[49m\u001b[43mquoting\u001b[49m\u001b[38;5;241;43m=\u001b[39;49m\u001b[43mquoting\u001b[49m\u001b[43m,\u001b[49m\n\u001b[0;32m   3571\u001b[0m \u001b[43m    \u001b[49m\u001b[43mcolumns\u001b[49m\u001b[38;5;241;43m=\u001b[39;49m\u001b[43mcolumns\u001b[49m\u001b[43m,\u001b[49m\n\u001b[0;32m   3572\u001b[0m \u001b[43m    \u001b[49m\u001b[43mindex_label\u001b[49m\u001b[38;5;241;43m=\u001b[39;49m\u001b[43mindex_label\u001b[49m\u001b[43m,\u001b[49m\n\u001b[0;32m   3573\u001b[0m \u001b[43m    \u001b[49m\u001b[43mmode\u001b[49m\u001b[38;5;241;43m=\u001b[39;49m\u001b[43mmode\u001b[49m\u001b[43m,\u001b[49m\n\u001b[0;32m   3574\u001b[0m \u001b[43m    \u001b[49m\u001b[43mchunksize\u001b[49m\u001b[38;5;241;43m=\u001b[39;49m\u001b[43mchunksize\u001b[49m\u001b[43m,\u001b[49m\n\u001b[0;32m   3575\u001b[0m \u001b[43m    \u001b[49m\u001b[43mquotechar\u001b[49m\u001b[38;5;241;43m=\u001b[39;49m\u001b[43mquotechar\u001b[49m\u001b[43m,\u001b[49m\n\u001b[0;32m   3576\u001b[0m \u001b[43m    \u001b[49m\u001b[43mdate_format\u001b[49m\u001b[38;5;241;43m=\u001b[39;49m\u001b[43mdate_format\u001b[49m\u001b[43m,\u001b[49m\n\u001b[0;32m   3577\u001b[0m \u001b[43m    \u001b[49m\u001b[43mdoublequote\u001b[49m\u001b[38;5;241;43m=\u001b[39;49m\u001b[43mdoublequote\u001b[49m\u001b[43m,\u001b[49m\n\u001b[0;32m   3578\u001b[0m \u001b[43m    \u001b[49m\u001b[43mescapechar\u001b[49m\u001b[38;5;241;43m=\u001b[39;49m\u001b[43mescapechar\u001b[49m\u001b[43m,\u001b[49m\n\u001b[0;32m   3579\u001b[0m \u001b[43m    \u001b[49m\u001b[43mstorage_options\u001b[49m\u001b[38;5;241;43m=\u001b[39;49m\u001b[43mstorage_options\u001b[49m\u001b[43m,\u001b[49m\n\u001b[0;32m   3580\u001b[0m \u001b[43m\u001b[49m\u001b[43m)\u001b[49m\n",
      "File \u001b[1;32m~\\.conda\\envs\\myenv\\lib\\site-packages\\pandas\\io\\formats\\format.py:1180\u001b[0m, in \u001b[0;36mDataFrameRenderer.to_csv\u001b[1;34m(self, path_or_buf, encoding, sep, columns, index_label, mode, compression, quoting, quotechar, line_terminator, chunksize, date_format, doublequote, escapechar, errors, storage_options)\u001b[0m\n\u001b[0;32m   1159\u001b[0m     created_buffer \u001b[38;5;241m=\u001b[39m \u001b[38;5;28;01mFalse\u001b[39;00m\n\u001b[0;32m   1161\u001b[0m csv_formatter \u001b[38;5;241m=\u001b[39m CSVFormatter(\n\u001b[0;32m   1162\u001b[0m     path_or_buf\u001b[38;5;241m=\u001b[39mpath_or_buf,\n\u001b[0;32m   1163\u001b[0m     line_terminator\u001b[38;5;241m=\u001b[39mline_terminator,\n\u001b[1;32m   (...)\u001b[0m\n\u001b[0;32m   1178\u001b[0m     formatter\u001b[38;5;241m=\u001b[39m\u001b[38;5;28mself\u001b[39m\u001b[38;5;241m.\u001b[39mfmt,\n\u001b[0;32m   1179\u001b[0m )\n\u001b[1;32m-> 1180\u001b[0m \u001b[43mcsv_formatter\u001b[49m\u001b[38;5;241;43m.\u001b[39;49m\u001b[43msave\u001b[49m\u001b[43m(\u001b[49m\u001b[43m)\u001b[49m\n\u001b[0;32m   1182\u001b[0m \u001b[38;5;28;01mif\u001b[39;00m created_buffer:\n\u001b[0;32m   1183\u001b[0m     \u001b[38;5;28;01massert\u001b[39;00m \u001b[38;5;28misinstance\u001b[39m(path_or_buf, StringIO)\n",
      "File \u001b[1;32m~\\.conda\\envs\\myenv\\lib\\site-packages\\pandas\\io\\formats\\csvs.py:241\u001b[0m, in \u001b[0;36mCSVFormatter.save\u001b[1;34m(self)\u001b[0m\n\u001b[0;32m    237\u001b[0m \u001b[38;5;124;03m\"\"\"\u001b[39;00m\n\u001b[0;32m    238\u001b[0m \u001b[38;5;124;03mCreate the writer & save.\u001b[39;00m\n\u001b[0;32m    239\u001b[0m \u001b[38;5;124;03m\"\"\"\u001b[39;00m\n\u001b[0;32m    240\u001b[0m \u001b[38;5;66;03m# apply compression and byte/text conversion\u001b[39;00m\n\u001b[1;32m--> 241\u001b[0m \u001b[38;5;28;01mwith\u001b[39;00m \u001b[43mget_handle\u001b[49m\u001b[43m(\u001b[49m\n\u001b[0;32m    242\u001b[0m \u001b[43m    \u001b[49m\u001b[38;5;28;43mself\u001b[39;49m\u001b[38;5;241;43m.\u001b[39;49m\u001b[43mfilepath_or_buffer\u001b[49m\u001b[43m,\u001b[49m\n\u001b[0;32m    243\u001b[0m \u001b[43m    \u001b[49m\u001b[38;5;28;43mself\u001b[39;49m\u001b[38;5;241;43m.\u001b[39;49m\u001b[43mmode\u001b[49m\u001b[43m,\u001b[49m\n\u001b[0;32m    244\u001b[0m \u001b[43m    \u001b[49m\u001b[43mencoding\u001b[49m\u001b[38;5;241;43m=\u001b[39;49m\u001b[38;5;28;43mself\u001b[39;49m\u001b[38;5;241;43m.\u001b[39;49m\u001b[43mencoding\u001b[49m\u001b[43m,\u001b[49m\n\u001b[0;32m    245\u001b[0m \u001b[43m    \u001b[49m\u001b[43merrors\u001b[49m\u001b[38;5;241;43m=\u001b[39;49m\u001b[38;5;28;43mself\u001b[39;49m\u001b[38;5;241;43m.\u001b[39;49m\u001b[43merrors\u001b[49m\u001b[43m,\u001b[49m\n\u001b[0;32m    246\u001b[0m \u001b[43m    \u001b[49m\u001b[43mcompression\u001b[49m\u001b[38;5;241;43m=\u001b[39;49m\u001b[38;5;28;43mself\u001b[39;49m\u001b[38;5;241;43m.\u001b[39;49m\u001b[43mcompression\u001b[49m\u001b[43m,\u001b[49m\n\u001b[0;32m    247\u001b[0m \u001b[43m    \u001b[49m\u001b[43mstorage_options\u001b[49m\u001b[38;5;241;43m=\u001b[39;49m\u001b[38;5;28;43mself\u001b[39;49m\u001b[38;5;241;43m.\u001b[39;49m\u001b[43mstorage_options\u001b[49m\u001b[43m,\u001b[49m\n\u001b[0;32m    248\u001b[0m \u001b[43m\u001b[49m\u001b[43m)\u001b[49m \u001b[38;5;28;01mas\u001b[39;00m handles:\n\u001b[0;32m    249\u001b[0m \n\u001b[0;32m    250\u001b[0m     \u001b[38;5;66;03m# Note: self.encoding is irrelevant here\u001b[39;00m\n\u001b[0;32m    251\u001b[0m     \u001b[38;5;28mself\u001b[39m\u001b[38;5;241m.\u001b[39mwriter \u001b[38;5;241m=\u001b[39m csvlib\u001b[38;5;241m.\u001b[39mwriter(\n\u001b[0;32m    252\u001b[0m         handles\u001b[38;5;241m.\u001b[39mhandle,\n\u001b[0;32m    253\u001b[0m         lineterminator\u001b[38;5;241m=\u001b[39m\u001b[38;5;28mself\u001b[39m\u001b[38;5;241m.\u001b[39mline_terminator,\n\u001b[1;32m   (...)\u001b[0m\n\u001b[0;32m    258\u001b[0m         quotechar\u001b[38;5;241m=\u001b[39m\u001b[38;5;28mself\u001b[39m\u001b[38;5;241m.\u001b[39mquotechar,\n\u001b[0;32m    259\u001b[0m     )\n\u001b[0;32m    261\u001b[0m     \u001b[38;5;28mself\u001b[39m\u001b[38;5;241m.\u001b[39m_save()\n",
      "File \u001b[1;32m~\\.conda\\envs\\myenv\\lib\\site-packages\\pandas\\io\\common.py:789\u001b[0m, in \u001b[0;36mget_handle\u001b[1;34m(path_or_buf, mode, encoding, compression, memory_map, is_text, errors, storage_options)\u001b[0m\n\u001b[0;32m    784\u001b[0m \u001b[38;5;28;01melif\u001b[39;00m \u001b[38;5;28misinstance\u001b[39m(handle, \u001b[38;5;28mstr\u001b[39m):\n\u001b[0;32m    785\u001b[0m     \u001b[38;5;66;03m# Check whether the filename is to be opened in binary mode.\u001b[39;00m\n\u001b[0;32m    786\u001b[0m     \u001b[38;5;66;03m# Binary mode does not support 'encoding' and 'newline'.\u001b[39;00m\n\u001b[0;32m    787\u001b[0m     \u001b[38;5;28;01mif\u001b[39;00m ioargs\u001b[38;5;241m.\u001b[39mencoding \u001b[38;5;129;01mand\u001b[39;00m \u001b[38;5;124m\"\u001b[39m\u001b[38;5;124mb\u001b[39m\u001b[38;5;124m\"\u001b[39m \u001b[38;5;129;01mnot\u001b[39;00m \u001b[38;5;129;01min\u001b[39;00m ioargs\u001b[38;5;241m.\u001b[39mmode:\n\u001b[0;32m    788\u001b[0m         \u001b[38;5;66;03m# Encoding\u001b[39;00m\n\u001b[1;32m--> 789\u001b[0m         handle \u001b[38;5;241m=\u001b[39m \u001b[38;5;28;43mopen\u001b[39;49m\u001b[43m(\u001b[49m\n\u001b[0;32m    790\u001b[0m \u001b[43m            \u001b[49m\u001b[43mhandle\u001b[49m\u001b[43m,\u001b[49m\n\u001b[0;32m    791\u001b[0m \u001b[43m            \u001b[49m\u001b[43mioargs\u001b[49m\u001b[38;5;241;43m.\u001b[39;49m\u001b[43mmode\u001b[49m\u001b[43m,\u001b[49m\n\u001b[0;32m    792\u001b[0m \u001b[43m            \u001b[49m\u001b[43mencoding\u001b[49m\u001b[38;5;241;43m=\u001b[39;49m\u001b[43mioargs\u001b[49m\u001b[38;5;241;43m.\u001b[39;49m\u001b[43mencoding\u001b[49m\u001b[43m,\u001b[49m\n\u001b[0;32m    793\u001b[0m \u001b[43m            \u001b[49m\u001b[43merrors\u001b[49m\u001b[38;5;241;43m=\u001b[39;49m\u001b[43merrors\u001b[49m\u001b[43m,\u001b[49m\n\u001b[0;32m    794\u001b[0m \u001b[43m            \u001b[49m\u001b[43mnewline\u001b[49m\u001b[38;5;241;43m=\u001b[39;49m\u001b[38;5;124;43m\"\u001b[39;49m\u001b[38;5;124;43m\"\u001b[39;49m\u001b[43m,\u001b[49m\n\u001b[0;32m    795\u001b[0m \u001b[43m        \u001b[49m\u001b[43m)\u001b[49m\n\u001b[0;32m    796\u001b[0m     \u001b[38;5;28;01melse\u001b[39;00m:\n\u001b[0;32m    797\u001b[0m         \u001b[38;5;66;03m# Binary mode\u001b[39;00m\n\u001b[0;32m    798\u001b[0m         handle \u001b[38;5;241m=\u001b[39m \u001b[38;5;28mopen\u001b[39m(handle, ioargs\u001b[38;5;241m.\u001b[39mmode)\n",
      "\u001b[1;31mPermissionError\u001b[0m: [Errno 13] Permission denied: 'test_Liver_l0.csv'"
     ]
    }
   ],
   "source": [
    "res=pd.DataFrame(res)\n",
    "res.columns=[\"mz\",\"count\"]+sorted([x for x in (aas)])\n",
    "res.to_csv(\"test_Liver_l0.csv\",index=False)"
   ]
  },
  {
   "cell_type": "code",
   "execution_count": null,
   "id": "2e1ab2a5",
   "metadata": {},
   "outputs": [],
   "source": [
    "res.head(20)"
   ]
  },
  {
   "cell_type": "code",
   "execution_count": 86,
   "id": "8a5dbcf4",
   "metadata": {},
   "outputs": [],
   "source": [
    "net_file=[]\n",
    "for i in range(res.shape[0]):\n",
    "    _temp_mz=res.mz[i]\n",
    "    for aa in sorted([x for x in (aas)]):\n",
    "        net_file.append([_temp_mz,aa,res[aa][i]/100])\n",
    "    "
   ]
  },
  {
   "cell_type": "code",
   "execution_count": 87,
   "id": "b823caed",
   "metadata": {},
   "outputs": [],
   "source": [
    "# pd.DataFrame(net_file).to_csv(\"net_test.txt\",index=False)"
   ]
  },
  {
   "cell_type": "code",
   "execution_count": null,
   "id": "e112e93f",
   "metadata": {},
   "outputs": [],
   "source": []
  },
  {
   "cell_type": "code",
   "execution_count": null,
   "id": "ed0eb6eb",
   "metadata": {},
   "outputs": [],
   "source": []
  },
  {
   "cell_type": "code",
   "execution_count": null,
   "id": "839bac78",
   "metadata": {},
   "outputs": [],
   "source": []
  },
  {
   "cell_type": "code",
   "execution_count": null,
   "id": "8d16c6dd",
   "metadata": {},
   "outputs": [],
   "source": []
  },
  {
   "cell_type": "code",
   "execution_count": null,
   "id": "1247b2a1",
   "metadata": {},
   "outputs": [],
   "source": []
  },
  {
   "cell_type": "code",
   "execution_count": null,
   "id": "f699300c",
   "metadata": {},
   "outputs": [],
   "source": []
  },
  {
   "cell_type": "code",
   "execution_count": null,
   "id": "83b51c6a",
   "metadata": {},
   "outputs": [],
   "source": []
  },
  {
   "cell_type": "code",
   "execution_count": null,
   "id": "37984049",
   "metadata": {},
   "outputs": [],
   "source": []
  },
  {
   "cell_type": "code",
   "execution_count": null,
   "id": "22f8d9bf",
   "metadata": {},
   "outputs": [],
   "source": []
  },
  {
   "cell_type": "code",
   "execution_count": null,
   "id": "d9edc57b",
   "metadata": {},
   "outputs": [],
   "source": []
  },
  {
   "cell_type": "code",
   "execution_count": 14,
   "id": "63452289",
   "metadata": {},
   "outputs": [],
   "source": [
    "data=pd.read_csv(\"Liver_l0.csv\")\n",
    "data[\"ion_count\"]=[ len(str(x).split('|')) for x in data[[\"values\"]].values]"
   ]
  },
  {
   "cell_type": "code",
   "execution_count": 15,
   "id": "c16d06a9",
   "metadata": {},
   "outputs": [
    {
     "name": "stdout",
     "output_type": "stream",
     "text": [
      "(26187, 8)\n",
      "(15339, 8)\n"
     ]
    }
   ],
   "source": [
    "print(data.shape)\n",
    "data=data[data.ion_count>=2]\n",
    "data=data.reset_index(drop=True)\n",
    "print(data.shape)"
   ]
  },
  {
   "cell_type": "code",
   "execution_count": 16,
   "id": "23322282",
   "metadata": {},
   "outputs": [
    {
     "name": "stdout",
     "output_type": "stream",
     "text": [
      "15339\n"
     ]
    }
   ],
   "source": [
    "res=[]\n",
    "peps=[]\n",
    "count=0\n",
    "for i in range(data.shape[0]): \n",
    "    temp=[ int(float(x)*100)/100 for x in data[\"values\"][i].split(\"|\")]\n",
    "    res.append(temp)\n",
    "    peps.append((data[\"peptide\"][i]))\n",
    "    count+=1\n",
    "print(count)"
   ]
  },
  {
   "cell_type": "code",
   "execution_count": null,
   "id": "e024fa6c",
   "metadata": {},
   "outputs": [],
   "source": []
  },
  {
   "cell_type": "code",
   "execution_count": 17,
   "id": "cd60e3a4",
   "metadata": {},
   "outputs": [],
   "source": [
    "_test=[]\n",
    "for i in res:\n",
    "    _test+=i\n",
    "    \n",
    "_test=pd.DataFrame(np.unique(_test,return_counts=True)).transpose()\n",
    "_test.columns=['x','c']\n",
    "_test=_test.sort_values(by='c',ascending=False)\n",
    "mzs=list(_test.head(40).x)"
   ]
  },
  {
   "cell_type": "code",
   "execution_count": 18,
   "id": "79a9babf",
   "metadata": {},
   "outputs": [],
   "source": [
    "df=pd.DataFrame()\n",
    "df[\"pep\"]=peps\n",
    "df[\"vals\"]=res"
   ]
  },
  {
   "cell_type": "code",
   "execution_count": null,
   "id": "d3a5e2d2",
   "metadata": {},
   "outputs": [],
   "source": []
  },
  {
   "cell_type": "code",
   "execution_count": 19,
   "id": "eda16eff",
   "metadata": {
    "scrolled": true
   },
   "outputs": [
    {
     "name": "stdout",
     "output_type": "stream",
     "text": [
      "DADPILR\n",
      "[70.06, 79.89, 84.08, 86.09, 87.05, 89.01, 99.79, 120.08, 129.1]\n",
      "CGVELFK\n",
      "AMLSTGFK\n",
      "AMLSTGFK\n",
      "LFAEAVQK\n",
      "LFAEAVQK\n",
      "IITGLAAGAK\n",
      "NLAVPLYK\n",
      "[70.06, 72.08, 79.88, 84.08, 86.09, 87.05, 87.1, 89.01, 99.79, 112.65, 120.08, 128.17, 129.1]\n",
      "NLAVPLYK\n",
      "[70.06, 72.08, 79.88, 84.04, 84.08, 86.09, 87.05, 87.1, 89.01, 99.79, 101.1, 110.07, 112.65, 120.08, 128.17, 129.1]\n",
      "YMESDGIK\n",
      "VVAVDCGIK\n",
      "VVAVDCGIK\n",
      "MSLDEIVR\n",
      "NCGVELFK\n",
      "TNQILVER\n",
      "EVEMDAVGK\n",
      "EVEMDAVGK\n",
      "ETLIDLGTK\n",
      "APMFSWPR\n",
      "[70.06, 72.08, 79.88, 86.09, 89.01, 99.79, 104.05, 110.07, 112.65, 115.08, 120.08]\n",
      "APMFSWPR\n",
      "[70.06, 99.78, 104.05, 112.08, 120.08, 128.17]\n",
      "APMFSWPR\n",
      "[70.06, 72.08, 79.89, 84.04, 84.08, 86.09, 87.05, 89.01, 99.79, 101.07, 102.05, 104.05, 110.07, 112.08, 112.66, 115.08, 120.08, 121.08, 128.18, 129.1]\n",
      "EVEMDAVGK\n",
      "HLGIVGECN\n",
      "TFEESFQK\n",
      "TFEESFQK\n",
      "TFEESFQK\n",
      "GTTITSVLPK\n",
      "[72.08, 74.06, 79.88, 84.04, 84.08, 86.09, 99.78, 102.05, 112.65, 113.07, 129.1]\n",
      "GTTITSVLPK\n",
      "[74.06, 79.88, 84.04, 84.08, 86.09, 99.78, 112.65, 113.07, 128.17, 129.1]\n",
      "SVGEVMAIGR\n",
      "KNIHPWVK\n",
      "[72.08, 84.08, 86.09, 89.01, 99.79, 101.1, 110.07, 120.08, 129.1]\n",
      "EIEYEVVR\n",
      "EIEYEVVR\n",
      "QTISQGAIEK\n",
      "NMSLDEIVR\n",
      "EWPANLDLK\n",
      "[79.88, 84.04, 84.08, 86.09, 89.0, 91.05, 99.78, 102.05, 110.07, 120.08, 128.17, 129.1]\n",
      "EWPANLDLK\n",
      "[84.04, 84.08, 86.09, 87.05, 89.0, 99.78, 102.05, 112.64, 129.1]\n",
      "EWPANLDLK\n",
      "[79.89, 84.04, 84.08, 86.09, 89.01, 99.79, 129.1]\n",
      "EWPANLDLK\n",
      "[79.88, 84.04, 84.08, 86.09, 99.78, 102.05, 120.08, 129.1]\n",
      "VPAIYGVDTR\n",
      "[84.04, 84.08, 86.09, 89.01, 99.79, 120.08, 129.1]\n",
      "SNAEFQMLR\n",
      "QNLIAEVSTK\n",
      "QNLIAEVSTK\n",
      "KETLIDLGTK\n",
      "MGTSPLQIDR\n",
      "[79.88, 84.04, 84.08, 86.09, 87.05, 87.1, 89.01, 99.79, 101.07, 102.05, 104.05, 110.07, 112.08, 112.65, 113.07, 115.08, 116.07, 120.08, 128.17, 129.1]\n",
      "VMIGESIDEK\n",
      "VMIGESIDEK\n",
      "MRDILNMDK\n",
      "CLGLTEAQTR\n",
      "CLGLTEAQTR\n",
      "FVHDNYVIR\n",
      "FVHDNYVIR\n",
      "IALGIPLPEIK\n",
      "[84.04, 84.08, 86.09, 87.1, 101.07, 110.07, 112.65, 115.08, 120.08, 127.08, 128.17, 129.1]\n",
      "IALGIPLPEIK\n",
      "[84.08, 86.09, 87.1, 99.8, 102.05, 110.07, 112.66, 120.08, 129.1]\n",
      "IALGIPLPEIK\n",
      "[84.08, 86.09, 112.66, 128.18, 129.1]\n",
      "IALGIPLPEIK\n",
      "[84.08, 86.09, 87.1, 89.0, 99.79, 110.07, 115.08, 116.07, 120.08, 121.08, 129.1]\n",
      "IALGIPLPEIK\n",
      "[84.04, 84.08, 86.09, 87.05, 87.1, 89.01, 91.05, 99.79, 101.07, 102.05, 104.05, 110.07, 112.65, 120.08, 121.08, 128.17, 129.1]\n",
      "TAVDSGIALLTN\n",
      "TAHIVLEDGTK\n",
      "TAHIVLEDGTK\n",
      "TAHIVLEDGTK\n",
      "NVVFSEDEMK\n",
      "SLGQWLQEEK\n",
      "SIFSAVLDELK\n",
      "SIFSAVLDELK\n",
      "SIFSAVLDELK\n",
      "SIFSAVLDELK\n",
      "SIFSAVLDELK\n",
      "SIFSAVLDELK\n",
      "SIFSAVLDELK\n",
      "IMGTSPLQIDR\n",
      "[86.09, 101.07, 104.05, 120.08]\n",
      "IMGTSPLQIDR\n",
      "[86.09, 87.1, 89.01, 99.79, 104.05, 110.07, 112.65, 113.07, 116.07, 120.08, 129.06, 129.1]\n",
      "IMGTSPLQIDR\n",
      "[86.09, 87.1, 89.0, 99.78, 101.07, 102.05, 104.05, 110.07, 112.65, 115.08, 116.07, 120.08, 128.17, 129.1]\n",
      "GILIGIQQSFR\n",
      "GILIGIQQSFR\n",
      "GILIGIQQSFR\n",
      "VSQEHPVVLTK\n",
      "[86.09, 101.07, 110.07, 111.07, 120.08, 121.08, 129.1]\n",
      "VSQEHPVVLTK\n",
      "[86.09, 99.8, 101.07, 101.1, 110.07, 129.1]\n",
      "VSQEHPVVLTK\n",
      "[86.09, 99.8, 101.07, 110.07, 113.07, 129.06, 129.1]\n",
      "QAFITAQNHGY\n",
      "QAFITAQNHGY\n",
      "TALNCGVELFK\n",
      "IASVQTNEVGLK\n",
      "IASVQTNEVGLK\n",
      "STGNIITGLAAGAK\n",
      "TLGVDFIDVATK\n",
      "TLGVDFIDVATK\n",
      "TLGVDFIDVATK\n",
      "LYFEELSLER\n",
      "LYFEELSLER\n",
      "VTYNGQEHDIK\n",
      "AADTIGYPVMIR\n",
      "[91.05, 99.78, 101.07, 104.05, 112.64, 115.08, 119.04, 120.08, 128.17, 129.06, 129.1]\n",
      "AADTIGYPVMIR\n",
      "[112.65, 115.08, 120.08, 128.17]\n",
      "AADTIGYPVMIR\n",
      "[91.05, 99.79, 101.07, 102.05, 104.05, 110.07, 112.08, 112.65, 115.08, 120.08, 127.08, 128.17, 129.06, 129.1]\n",
      "TAVDSGIALLTNF\n",
      "TSVESIMATEDR\n",
      "GQILTMANPIIGN\n",
      "[99.8, 101.07, 103.05, 104.05, 110.07, 112.66, 120.08, 121.08, 129.06]\n",
      "SNDYNHWLATK\n",
      "SNDYNHWLATK\n",
      "NVVFSEDEMKR\n",
      "NVVFSEDEMKR\n",
      "GQNQPVLNITNR\n",
      "[99.79, 101.07, 110.07, 112.08, 112.65, 113.07, 115.08, 116.07, 120.08, 128.17, 129.06, 129.1]\n",
      "GQNQPVLNITNR\n",
      "[99.78, 102.05, 110.07, 112.08, 112.65, 120.08, 129.06, 129.1]\n"
     ]
    }
   ],
   "source": [
    "data_dict={}\n",
    "\n",
    "for i in range(df.shape[0]):\n",
    "    \n",
    "    print(df.pep[i])\n",
    "    for aa in list(np.unique([x for x in df.pep[i]])):\n",
    "        if aa in data_dict.keys(): \n",
    "            data_dict[aa][\"vals\"]=data_dict[aa][\"vals\"]+[ x for x in list( list(np.unique([x for x in df.vals[i]])) ) if x in mzs]\n",
    "            data_dict[aa][\"count\"]+=1\n",
    "            \n",
    "            if (aa=='P'):\n",
    "                print ([ x for x in list( list(np.unique([x for x in df.vals[i]])) ) if x in mzs])\n",
    "            \n",
    "        else:\n",
    "            data_dict[aa]={\"vals\":list(np.unique([x for x in df.vals[i]])),\"count\":1}\n",
    "            \n",
    "            if (aa=='P'):\n",
    "                print ([ x for x in list( list(np.unique([x for x in df.vals[i]])) ) if x in mzs])\n",
    "            \n",
    "    if i >100: break\n",
    "#     for v in vals:\n",
    "#         if v in data_dict.keys():\n",
    "#             data_dict[v][\"aa\"]=data_dict[v][\"aa\"]+list( list(np.unique([x for x in df.pep[i]])) )\n",
    "#             data_dict[v][\"count\"]+=1\n",
    "#         else:\n",
    "#             data_dict[v]={\"aa\":list(np.unique([x for x in df.pep[i]])),\"count\":1}"
   ]
  },
  {
   "cell_type": "code",
   "execution_count": null,
   "id": "5f39f1d9",
   "metadata": {},
   "outputs": [],
   "source": []
  },
  {
   "cell_type": "code",
   "execution_count": 20,
   "id": "0d7253d3",
   "metadata": {},
   "outputs": [],
   "source": [
    "# aas=sorted(['A' ,'C', 'D' ,'E', 'F', 'G', 'H', 'I' ,'K', 'L', 'M', 'N' ,'P' ,'Q' ,'R' ,'S', 'T', 'V', 'W' ,'Y'])\n",
    "_index=[]\n",
    "vals=[]\n",
    "\n",
    "for k in data_dict.keys():\n",
    "    _count=data_dict[k][\"count\"]\n",
    "    if(_count>1000):\n",
    "        temp_count=[]\n",
    "        for c in mzs:\n",
    "            temp_count.append(100*data_dict[k][\"vals\"].count(c)/_count)\n",
    "        vals.append(temp_count)\n",
    "        _index.append(k)\n",
    "    break"
   ]
  },
  {
   "cell_type": "code",
   "execution_count": null,
   "id": "464ebd99",
   "metadata": {},
   "outputs": [],
   "source": []
  },
  {
   "cell_type": "code",
   "execution_count": 21,
   "id": "57287fd7",
   "metadata": {},
   "outputs": [
    {
     "data": {
      "text/html": [
       "<div>\n",
       "<style scoped>\n",
       "    .dataframe tbody tr th:only-of-type {\n",
       "        vertical-align: middle;\n",
       "    }\n",
       "\n",
       "    .dataframe tbody tr th {\n",
       "        vertical-align: top;\n",
       "    }\n",
       "\n",
       "    .dataframe thead th {\n",
       "        text-align: right;\n",
       "    }\n",
       "</style>\n",
       "<table border=\"1\" class=\"dataframe\">\n",
       "  <thead>\n",
       "    <tr style=\"text-align: right;\">\n",
       "      <th></th>\n",
       "      <th>0</th>\n",
       "      <th>1</th>\n",
       "    </tr>\n",
       "  </thead>\n",
       "  <tbody>\n",
       "    <tr>\n",
       "      <th>7</th>\n",
       "      <td>70.06</td>\n",
       "      <td>6.0</td>\n",
       "    </tr>\n",
       "  </tbody>\n",
       "</table>\n",
       "</div>"
      ],
      "text/plain": [
       "       0    1\n",
       "7  70.06  6.0"
      ]
     },
     "execution_count": 21,
     "metadata": {},
     "output_type": "execute_result"
    }
   ],
   "source": [
    "xx=pd.DataFrame(np.unique(data_dict[\"P\"]['vals'],return_counts=True)).transpose()\n",
    "xx[xx.iloc[:,0]==70.06]\n",
    "\n",
    "# data_dict.keys()"
   ]
  },
  {
   "cell_type": "code",
   "execution_count": 22,
   "id": "5e4d9f8b",
   "metadata": {},
   "outputs": [
    {
     "data": {
      "text/plain": [
       "0"
      ]
     },
     "execution_count": 22,
     "metadata": {},
     "output_type": "execute_result"
    }
   ],
   "source": [
    "len(vals)"
   ]
  },
  {
   "cell_type": "code",
   "execution_count": 23,
   "id": "140fba61",
   "metadata": {},
   "outputs": [
    {
     "ename": "ValueError",
     "evalue": "Length mismatch: Expected axis has 0 elements, new values have 40 elements",
     "output_type": "error",
     "traceback": [
      "\u001b[1;31m---------------------------------------------------------------------------\u001b[0m",
      "\u001b[1;31mValueError\u001b[0m                                Traceback (most recent call last)",
      "Input \u001b[1;32mIn [23]\u001b[0m, in \u001b[0;36m<cell line: 2>\u001b[1;34m()\u001b[0m\n\u001b[0;32m      1\u001b[0m _vals\u001b[38;5;241m=\u001b[39mpd\u001b[38;5;241m.\u001b[39mDataFrame(vals)\n\u001b[1;32m----> 2\u001b[0m _vals\u001b[38;5;241m.\u001b[39mcolumns\u001b[38;5;241m=\u001b[39mmzs\n\u001b[0;32m      3\u001b[0m \u001b[38;5;66;03m# _vals[\"mz\"]=_index\u001b[39;00m\n\u001b[0;32m      4\u001b[0m _vals\u001b[38;5;241m.\u001b[39mindex\u001b[38;5;241m=\u001b[39m_index\n",
      "File \u001b[1;32m~\\.conda\\envs\\myenv\\lib\\site-packages\\pandas\\core\\generic.py:5596\u001b[0m, in \u001b[0;36mNDFrame.__setattr__\u001b[1;34m(self, name, value)\u001b[0m\n\u001b[0;32m   5594\u001b[0m \u001b[38;5;28;01mtry\u001b[39;00m:\n\u001b[0;32m   5595\u001b[0m     \u001b[38;5;28mobject\u001b[39m\u001b[38;5;241m.\u001b[39m\u001b[38;5;21m__getattribute__\u001b[39m(\u001b[38;5;28mself\u001b[39m, name)\n\u001b[1;32m-> 5596\u001b[0m     \u001b[38;5;28;01mreturn\u001b[39;00m \u001b[38;5;28;43mobject\u001b[39;49m\u001b[38;5;241;43m.\u001b[39;49m\u001b[38;5;21;43m__setattr__\u001b[39;49m\u001b[43m(\u001b[49m\u001b[38;5;28;43mself\u001b[39;49m\u001b[43m,\u001b[49m\u001b[43m \u001b[49m\u001b[43mname\u001b[49m\u001b[43m,\u001b[49m\u001b[43m \u001b[49m\u001b[43mvalue\u001b[49m\u001b[43m)\u001b[49m\n\u001b[0;32m   5597\u001b[0m \u001b[38;5;28;01mexcept\u001b[39;00m \u001b[38;5;167;01mAttributeError\u001b[39;00m:\n\u001b[0;32m   5598\u001b[0m     \u001b[38;5;28;01mpass\u001b[39;00m\n",
      "File \u001b[1;32m~\\.conda\\envs\\myenv\\lib\\site-packages\\pandas\\_libs\\properties.pyx:70\u001b[0m, in \u001b[0;36mpandas._libs.properties.AxisProperty.__set__\u001b[1;34m()\u001b[0m\n",
      "File \u001b[1;32m~\\.conda\\envs\\myenv\\lib\\site-packages\\pandas\\core\\generic.py:769\u001b[0m, in \u001b[0;36mNDFrame._set_axis\u001b[1;34m(self, axis, labels)\u001b[0m\n\u001b[0;32m    767\u001b[0m \u001b[38;5;28;01mdef\u001b[39;00m \u001b[38;5;21m_set_axis\u001b[39m(\u001b[38;5;28mself\u001b[39m, axis: \u001b[38;5;28mint\u001b[39m, labels: Index) \u001b[38;5;241m-\u001b[39m\u001b[38;5;241m>\u001b[39m \u001b[38;5;28;01mNone\u001b[39;00m:\n\u001b[0;32m    768\u001b[0m     labels \u001b[38;5;241m=\u001b[39m ensure_index(labels)\n\u001b[1;32m--> 769\u001b[0m     \u001b[38;5;28;43mself\u001b[39;49m\u001b[38;5;241;43m.\u001b[39;49m\u001b[43m_mgr\u001b[49m\u001b[38;5;241;43m.\u001b[39;49m\u001b[43mset_axis\u001b[49m\u001b[43m(\u001b[49m\u001b[43maxis\u001b[49m\u001b[43m,\u001b[49m\u001b[43m \u001b[49m\u001b[43mlabels\u001b[49m\u001b[43m)\u001b[49m\n\u001b[0;32m    770\u001b[0m     \u001b[38;5;28mself\u001b[39m\u001b[38;5;241m.\u001b[39m_clear_item_cache()\n",
      "File \u001b[1;32m~\\.conda\\envs\\myenv\\lib\\site-packages\\pandas\\core\\internals\\managers.py:214\u001b[0m, in \u001b[0;36mBaseBlockManager.set_axis\u001b[1;34m(self, axis, new_labels)\u001b[0m\n\u001b[0;32m    212\u001b[0m \u001b[38;5;28;01mdef\u001b[39;00m \u001b[38;5;21mset_axis\u001b[39m(\u001b[38;5;28mself\u001b[39m, axis: \u001b[38;5;28mint\u001b[39m, new_labels: Index) \u001b[38;5;241m-\u001b[39m\u001b[38;5;241m>\u001b[39m \u001b[38;5;28;01mNone\u001b[39;00m:\n\u001b[0;32m    213\u001b[0m     \u001b[38;5;66;03m# Caller is responsible for ensuring we have an Index object.\u001b[39;00m\n\u001b[1;32m--> 214\u001b[0m     \u001b[38;5;28;43mself\u001b[39;49m\u001b[38;5;241;43m.\u001b[39;49m\u001b[43m_validate_set_axis\u001b[49m\u001b[43m(\u001b[49m\u001b[43maxis\u001b[49m\u001b[43m,\u001b[49m\u001b[43m \u001b[49m\u001b[43mnew_labels\u001b[49m\u001b[43m)\u001b[49m\n\u001b[0;32m    215\u001b[0m     \u001b[38;5;28mself\u001b[39m\u001b[38;5;241m.\u001b[39maxes[axis] \u001b[38;5;241m=\u001b[39m new_labels\n",
      "File \u001b[1;32m~\\.conda\\envs\\myenv\\lib\\site-packages\\pandas\\core\\internals\\base.py:69\u001b[0m, in \u001b[0;36mDataManager._validate_set_axis\u001b[1;34m(self, axis, new_labels)\u001b[0m\n\u001b[0;32m     66\u001b[0m     \u001b[38;5;28;01mpass\u001b[39;00m\n\u001b[0;32m     68\u001b[0m \u001b[38;5;28;01melif\u001b[39;00m new_len \u001b[38;5;241m!=\u001b[39m old_len:\n\u001b[1;32m---> 69\u001b[0m     \u001b[38;5;28;01mraise\u001b[39;00m \u001b[38;5;167;01mValueError\u001b[39;00m(\n\u001b[0;32m     70\u001b[0m         \u001b[38;5;124mf\u001b[39m\u001b[38;5;124m\"\u001b[39m\u001b[38;5;124mLength mismatch: Expected axis has \u001b[39m\u001b[38;5;132;01m{\u001b[39;00mold_len\u001b[38;5;132;01m}\u001b[39;00m\u001b[38;5;124m elements, new \u001b[39m\u001b[38;5;124m\"\u001b[39m\n\u001b[0;32m     71\u001b[0m         \u001b[38;5;124mf\u001b[39m\u001b[38;5;124m\"\u001b[39m\u001b[38;5;124mvalues have \u001b[39m\u001b[38;5;132;01m{\u001b[39;00mnew_len\u001b[38;5;132;01m}\u001b[39;00m\u001b[38;5;124m elements\u001b[39m\u001b[38;5;124m\"\u001b[39m\n\u001b[0;32m     72\u001b[0m     )\n",
      "\u001b[1;31mValueError\u001b[0m: Length mismatch: Expected axis has 0 elements, new values have 40 elements"
     ]
    }
   ],
   "source": [
    "_vals=pd.DataFrame(vals)\n",
    "_vals.columns=mzs\n",
    "# _vals[\"mz\"]=_index\n",
    "_vals.index=_index\n",
    "_vals=_vals.sort_index()\n",
    "# _vals=_vals.sort_values(by=\"mz\")\n",
    "_vals.transpose().to_csv(\"aa_percentage2.csv\")"
   ]
  },
  {
   "cell_type": "code",
   "execution_count": null,
   "id": "9beedea1",
   "metadata": {},
   "outputs": [],
   "source": [
    "_vals"
   ]
  },
  {
   "cell_type": "code",
   "execution_count": null,
   "id": "dfaf236f",
   "metadata": {},
   "outputs": [],
   "source": [
    "import seaborn as sns\n",
    "from matplotlib import pyplot as plt\n",
    "plt.figure(figsize=(40,20))\n",
    "dataplot = sns.heatmap(_vals.round(2), cmap=\"YlGnBu\", annot=True)\n",
    "plt.savefig(\"_vals.jpeg\",dpx=900)#,bbox_inches='tight'\n",
    "plt.show()"
   ]
  },
  {
   "cell_type": "code",
   "execution_count": null,
   "id": "5a26214f",
   "metadata": {},
   "outputs": [],
   "source": []
  },
  {
   "cell_type": "code",
   "execution_count": null,
   "id": "f7333236",
   "metadata": {},
   "outputs": [],
   "source": []
  },
  {
   "cell_type": "code",
   "execution_count": null,
   "id": "5a0d39d2",
   "metadata": {
    "scrolled": true
   },
   "outputs": [],
   "source": [
    "_index=[]\n",
    "_seq=[]\n",
    "_per=[]\n",
    "for k in data_dict.keys():\n",
    "    if(len(data_dict[k])>1000):\n",
    "        print(k,\"\\t ==> \\t\",len(data_dict[k]))\n",
    "        x,y=(np.unique(data_dict[k],return_counts=True))\n",
    "        y=[ int(10000*i/sum(y))/100 for i in y]\n",
    "#         print(x,y)\n",
    "        \n",
    "        temp=set(['A' ,'C', 'D' ,'E', 'F', 'G', 'H', 'I' ,'K', 'L', 'M', 'N' ,'P' ,'Q' ,'R' ,'S', 'T', 'V', 'W' ,'Y']) -set(list(x))\n",
    "        \n",
    "        for c in temp:\n",
    "            x.append(c)\n",
    "            y.append(0)\n",
    "        \n",
    "        _index.append(k)\n",
    "        _seq.append(list(x))\n",
    "        _per.append(y)\n",
    "        "
   ]
  },
  {
   "cell_type": "code",
   "execution_count": null,
   "id": "ee073c7a",
   "metadata": {},
   "outputs": [],
   "source": []
  },
  {
   "cell_type": "code",
   "execution_count": null,
   "id": "a0bc172f",
   "metadata": {},
   "outputs": [],
   "source": []
  },
  {
   "cell_type": "code",
   "execution_count": null,
   "id": "cd51d242",
   "metadata": {},
   "outputs": [],
   "source": []
  },
  {
   "cell_type": "code",
   "execution_count": null,
   "id": "14f43d5b",
   "metadata": {},
   "outputs": [],
   "source": []
  },
  {
   "cell_type": "code",
   "execution_count": null,
   "id": "7e7071f9",
   "metadata": {},
   "outputs": [],
   "source": []
  },
  {
   "cell_type": "code",
   "execution_count": null,
   "id": "db8855a0",
   "metadata": {},
   "outputs": [],
   "source": []
  },
  {
   "cell_type": "code",
   "execution_count": null,
   "id": "e61323ef",
   "metadata": {},
   "outputs": [],
   "source": []
  },
  {
   "cell_type": "code",
   "execution_count": null,
   "id": "317c6ed0",
   "metadata": {},
   "outputs": [],
   "source": []
  },
  {
   "cell_type": "code",
   "execution_count": null,
   "id": "9445e988",
   "metadata": {},
   "outputs": [],
   "source": []
  },
  {
   "cell_type": "code",
   "execution_count": null,
   "id": "5ee36687",
   "metadata": {},
   "outputs": [],
   "source": []
  },
  {
   "cell_type": "code",
   "execution_count": null,
   "id": "c24ed1b5",
   "metadata": {},
   "outputs": [],
   "source": []
  },
  {
   "cell_type": "code",
   "execution_count": null,
   "id": "501d8954",
   "metadata": {},
   "outputs": [],
   "source": []
  },
  {
   "cell_type": "code",
   "execution_count": null,
   "id": "3f372f43",
   "metadata": {},
   "outputs": [],
   "source": []
  },
  {
   "cell_type": "code",
   "execution_count": null,
   "id": "ce41dd82",
   "metadata": {},
   "outputs": [],
   "source": [
    "res=[]\n",
    "peps=\"\"\n",
    "count=0\n",
    "for i in range(data.shape[0]): \n",
    "    temp=[ int(float(x)*100)/100 for x in data[\"values\"][i].split(\"|\")]\n",
    "#     print(min(temp))\n",
    "    if min(temp)< 70 and (70.06  in temp) :\n",
    "        count+=1\n",
    "print(count)\n"
   ]
  },
  {
   "cell_type": "code",
   "execution_count": null,
   "id": "93cc1045",
   "metadata": {},
   "outputs": [],
   "source": [
    "res=[]\n",
    "peps=\"\"\n",
    "count=0\n",
    "for i in range(data.shape[0]): \n",
    "    temp=[ int(float(x)*100)/100 for x in data[\"values\"][i].split(\"|\")]\n",
    "#     print(min(temp))\n",
    "    if min(temp)<=70.06 and 70.06 in temp  and (\"P\" not in data.peptide[i] and  \"R\" not in data.peptide[i]): #or \"N\" in data.peptide[i] or \"D\" in data.peptide[i]): #or \"K\" in data.peptide[i] ) :\n",
    "#         print(data.peptide[i])\n",
    "        peps+=\"\".join(np.unique([ x for x in data.peptide[i]]))\n",
    "        res+= [ int(float(x)*100)/100 for x in data[\"values\"][i].split(\"|\")]\n",
    "        count+=1\n",
    "print(count)"
   ]
  },
  {
   "cell_type": "code",
   "execution_count": null,
   "id": "98646e57",
   "metadata": {
    "scrolled": false
   },
   "outputs": [],
   "source": [
    "temp=pd.DataFrame(np.unique(res,return_counts=True)).transpose()\n",
    "temp.columns=[\"mz\",\"freq\"]\n",
    "temp=temp[temp.freq>10].reset_index(drop=True)\n",
    "temp=temp.sort_values(by=\"freq\",ascending=False).reset_index(drop=True)\n",
    "temp.head(10)"
   ]
  },
  {
   "cell_type": "code",
   "execution_count": null,
   "id": "a58041c3",
   "metadata": {},
   "outputs": [],
   "source": [
    "temp=pd.DataFrame(np.unique([x for x in peps],return_counts=True)).transpose()\n",
    "temp.columns=[\"mz\",\"freq\"]\n",
    "temp=temp[temp.freq>10].reset_index(drop=True)\n",
    "temp=temp.sort_values(by=\"freq\",ascending=False).reset_index(drop=True)\n",
    "temp.head(20)"
   ]
  },
  {
   "cell_type": "code",
   "execution_count": null,
   "id": "b689f34f",
   "metadata": {},
   "outputs": [],
   "source": []
  },
  {
   "cell_type": "code",
   "execution_count": null,
   "id": "90e8b756",
   "metadata": {},
   "outputs": [],
   "source": []
  },
  {
   "cell_type": "code",
   "execution_count": null,
   "id": "4d9c9ae7",
   "metadata": {},
   "outputs": [],
   "source": [
    "res=[]\n",
    "peps=\"\"\n",
    "_pepts=\"\"\n",
    "count=0\n",
    "for i in range(data.shape[0]):\n",
    "    temp=[ int(float(x)*10)/10 for x in data[\"values\"][i].split(\"|\")]\n",
    "    if ((70.0 in temp) and (\"P\"  not  in data.peptide[i].strip()) ):\n",
    "#         print(data.peptide[i])\n",
    "        peps+=\"\".join(np.unique([ x for x in data.peptide[i]]))\n",
    "        _pepts+=\",\"+data.peptide[i]\n",
    "        res+= [ int(float(x)*100)/100 for x in data[\"values\"][i].split(\"|\")]\n",
    "        count+=1\n",
    "print(count)"
   ]
  },
  {
   "cell_type": "code",
   "execution_count": null,
   "id": "591a0bc0",
   "metadata": {
    "scrolled": false
   },
   "outputs": [],
   "source": [
    "temp=pd.DataFrame(np.unique(res,return_counts=True)).transpose()\n",
    "temp.columns=[\"mz\",\"freq\"]\n",
    "temp=temp[temp.freq>10].reset_index(drop=True)\n",
    "temp=temp.sort_values(by=\"freq\",ascending=False).reset_index(drop=True)\n",
    "temp.head(10)"
   ]
  },
  {
   "cell_type": "code",
   "execution_count": null,
   "id": "0c5f0a36",
   "metadata": {},
   "outputs": [],
   "source": [
    "temp=pd.DataFrame(np.unique([x for x in peps],return_counts=True)).transpose()\n",
    "temp.columns=[\"mz\",\"freq\"]\n",
    "temp=temp[temp.freq>10].reset_index(drop=True)\n",
    "temp=temp.sort_values(by=\"freq\",ascending=False).reset_index(drop=True)\n",
    "temp.head(20)"
   ]
  },
  {
   "cell_type": "code",
   "execution_count": null,
   "id": "1cb62746",
   "metadata": {},
   "outputs": [],
   "source": [
    "res=[]\n",
    "for i in [x for x in _pepts.split(',') if len(x)>0]:\n",
    "#     print(i)\n",
    "#     print(list(combinations(i, 2)))\n",
    "    for j in range(1,len(i)):\n",
    "        res.append(i[j-1:j+1])\n",
    "#         print(i[j-1:j+1])"
   ]
  },
  {
   "cell_type": "code",
   "execution_count": null,
   "id": "1abe1a0c",
   "metadata": {},
   "outputs": [],
   "source": [
    "temp=pd.DataFrame(np.unique(res,return_counts=True)).transpose()\n",
    "temp.columns=[\"aa\",\"counts\"]\n",
    "temp=temp.sort_values(by=\"counts\",ascending=False).reset_index(drop=True)\n",
    "temp.head(20)"
   ]
  },
  {
   "cell_type": "code",
   "execution_count": null,
   "id": "fb59adb7",
   "metadata": {},
   "outputs": [],
   "source": []
  },
  {
   "cell_type": "code",
   "execution_count": null,
   "id": "25452ed3",
   "metadata": {},
   "outputs": [],
   "source": []
  },
  {
   "cell_type": "code",
   "execution_count": null,
   "id": "cf552405",
   "metadata": {},
   "outputs": [],
   "source": [
    "res=[]\n",
    "peps=\"\"\n",
    "count=0\n",
    "for i in range(data.shape[0]):\n",
    "    temp=[ int(float(x)*10)/10 for x in data[\"values\"][i].split(\"|\")]\n",
    "    if ((70.0 in temp) and (72.0 in temp) and min(temp)<=70 ):# and (\"P\"  not  in data.peptide[i].strip()) ):\n",
    "        peps+=\"\".join(np.unique([ x for x in data.peptide[i]]))\n",
    "        res+= [ int(float(x)*100)/100 for x in data[\"values\"][i].split(\"|\")]\n",
    "        if ((\"I\"    in data.peptide[i].strip()) or\n",
    "           (\"L\"    in data.peptide[i].strip()) or\n",
    "           (\"V\"    in data.peptide[i].strip())):\n",
    "            count+=1\n",
    "print(count)"
   ]
  },
  {
   "cell_type": "code",
   "execution_count": null,
   "id": "8c76386d",
   "metadata": {},
   "outputs": [],
   "source": [
    "775/815"
   ]
  },
  {
   "cell_type": "code",
   "execution_count": null,
   "id": "ed49ea6a",
   "metadata": {},
   "outputs": [],
   "source": [
    "temp=pd.DataFrame(np.unique([x for x in peps],return_counts=True)).transpose()\n",
    "temp.columns=[\"mz\",\"freq\"]\n",
    "temp=temp[temp.freq>10].reset_index(drop=True)\n",
    "temp=temp.sort_values(by=\"freq\",ascending=False).reset_index(drop=True)\n",
    "temp.head(20)"
   ]
  },
  {
   "cell_type": "code",
   "execution_count": null,
   "id": "7e878f99",
   "metadata": {},
   "outputs": [],
   "source": []
  },
  {
   "cell_type": "code",
   "execution_count": null,
   "id": "4b06f8ec",
   "metadata": {},
   "outputs": [],
   "source": [
    "[x.strip() for x in sorted(['do-2-10pct_90mingrad_60OTit_1p3s_cycletime_E_wr_03Feb23_008.mzML    '\n",
    ",'do-2-12p5pct_90mingrad_60OTit_1p3s_cycletime_E_wr_03Feb23_009.mzid    '\n",
    ",'do-2-12p5pct_90mingrad_60OTit_1p3s_cycletime_E_wr_03Feb23_009.mzML  '\n",
    ",'do-2-15pct_90mingrad_60OTit_1p3s_cycletime_E_wr_03Feb23_010.mzid      '\n",
    ",'do-2-15pct_90mingrad_60OTit_1p3s_cycletime_E_wr_03Feb23_010.mzML    '\n",
    ",'do-2-17p5pct_90mingrad_60OTit_1p3s_cycletime_E_wr_03Feb23_011.mzid    '\n",
    ",'do-2-17p5pct_90mingrad_60OTit_1p3s_cycletime_E_wr_03Feb23_011.mzML  '\n",
    ",'do-2-20pct_90mingrad_60OTit_1p3s_cycletime_E_wr_03Feb23_012.mzid      '\n",
    ",'do-2-20pct_90mingrad_60OTit_1p3s_cycletime_E_wr_03Feb23_012.mzML    '\n",
    ",'do-2-50pct_90mingrad_60OTit_1p3s_cycletime_E_wr_03Feb23_013.mzid      '\n",
    ",'do-2-50pct_90mingrad_60OTit_1p3s_cycletime_E_wr_03Feb23_013.mzML    '\n",
    ",'do-2-5pct_90mingrad_60OTit_1p3s_cycletime_E_wr_03Feb23_006.mzid       '\n",
    ",'do-2-5pct_90mingrad_60OTit_1p3s_cycletime_E_wr_03Feb23_006.mzML     '\n",
    ",'do-2-7p5pct_90mingrad_60OTit_1p3s_cycletime_E_wr_03Feb23_007.mzid    '\n",
    ",'do-2-7p5pct_90mingrad_60OTit_1p3s_cycletime_E_wr_03Feb23_007.mzML   ']) if \".mzid\" in x]"
   ]
  },
  {
   "cell_type": "code",
   "execution_count": null,
   "id": "b00331d0",
   "metadata": {},
   "outputs": [],
   "source": [
    "[x.strip().replace('.mzML','.csv') for x in sorted(['do-2-10pct_90mingrad_60OTit_1p3s_cycletime_E_wr_03Feb23_008.mzML    '\n",
    ",'do-2-12p5pct_90mingrad_60OTit_1p3s_cycletime_E_wr_03Feb23_009.mzid    '\n",
    ",'do-2-12p5pct_90mingrad_60OTit_1p3s_cycletime_E_wr_03Feb23_009.mzML  '\n",
    ",'do-2-15pct_90mingrad_60OTit_1p3s_cycletime_E_wr_03Feb23_010.mzid      '\n",
    ",'do-2-15pct_90mingrad_60OTit_1p3s_cycletime_E_wr_03Feb23_010.mzML    '\n",
    ",'do-2-17p5pct_90mingrad_60OTit_1p3s_cycletime_E_wr_03Feb23_011.mzid    '\n",
    ",'do-2-17p5pct_90mingrad_60OTit_1p3s_cycletime_E_wr_03Feb23_011.mzML  '\n",
    ",'do-2-20pct_90mingrad_60OTit_1p3s_cycletime_E_wr_03Feb23_012.mzid      '\n",
    ",'do-2-20pct_90mingrad_60OTit_1p3s_cycletime_E_wr_03Feb23_012.mzML    '\n",
    ",'do-2-50pct_90mingrad_60OTit_1p3s_cycletime_E_wr_03Feb23_013.mzid      '\n",
    ",'do-2-50pct_90mingrad_60OTit_1p3s_cycletime_E_wr_03Feb23_013.mzML    '\n",
    ",'do-2-5pct_90mingrad_60OTit_1p3s_cycletime_E_wr_03Feb23_006.mzid       '\n",
    ",'do-2-5pct_90mingrad_60OTit_1p3s_cycletime_E_wr_03Feb23_006.mzML     '\n",
    ",'do-2-7p5pct_90mingrad_60OTit_1p3s_cycletime_E_wr_03Feb23_007.mzid    '\n",
    ",'do-2-7p5pct_90mingrad_60OTit_1p3s_cycletime_E_wr_03Feb23_007.mzML   ']) if \".mzML\" in x]"
   ]
  },
  {
   "cell_type": "code",
   "execution_count": null,
   "id": "924f4af0",
   "metadata": {},
   "outputs": [],
   "source": []
  }
 ],
 "metadata": {
  "kernelspec": {
   "display_name": "Python 3 (ipykernel)",
   "language": "python",
   "name": "python3"
  },
  "language_info": {
   "codemirror_mode": {
    "name": "ipython",
    "version": 3
   },
   "file_extension": ".py",
   "mimetype": "text/x-python",
   "name": "python",
   "nbconvert_exporter": "python",
   "pygments_lexer": "ipython3",
   "version": "3.9.11"
  }
 },
 "nbformat": 4,
 "nbformat_minor": 5
}
