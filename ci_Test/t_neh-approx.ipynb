{
 "cells": [
  {
   "cell_type": "code",
   "execution_count": 1,
   "id": "758555b0",
   "metadata": {},
   "outputs": [],
   "source": [
    "import numpy as np\n",
    "import pandas as pd\n",
    "from scipy.optimize import nnls\n",
    "from matplotlib import pyplot as plt\n",
    "from sklearn.metrics import r2_score"
   ]
  },
  {
   "cell_type": "code",
   "execution_count": 2,
   "id": "0d0ab171",
   "metadata": {},
   "outputs": [
    {
     "data": {
      "text/plain": [
       "(568, 20)"
      ]
     },
     "execution_count": 2,
     "metadata": {},
     "output_type": "execute_result"
    }
   ],
   "source": [
    "all_AAs=['a', 'c', 'd', 'e', 'f', 'g', 'h', 'i', 'k', 'l', 'm', 'n', 'p','q', 'r', 's', 't', 'v', 'w', 'y']\n",
    "b=np.array(pd.read_csv(\"yvals.csv\")).ravel()\n",
    "A=np.array(pd.read_csv(\"coeff.csv\")).ravel().reshape(20,b.shape[0]).transpose()\n",
    "A.shape"
   ]
  },
  {
   "cell_type": "code",
   "execution_count": 3,
   "id": "03051838",
   "metadata": {},
   "outputs": [],
   "source": [
    "def plots(ypred,ci):\n",
    "    plt.figure(figsize=(12,5))\n",
    "    plt.bar(range(20),[int(sum(A[:,i]/(A[:,i]+0.00000000001))) for i in range(20)]) #sum(A)\n",
    "    plt.xlim([-1,20])\n",
    "    plt.xticks(list(range(-1,20)),[\" \"]+all_AAs)\n",
    "    plt.show()\n",
    "\n",
    "    plt.figure(figsize=(12,5))\n",
    "    plt.bar(range(20),ci,color =['m']*20)\n",
    "    plt.xlim([-1,20])\n",
    "    plt.xticks(list(range(-1,20)),[\" \"]+all_AAs)\n",
    "    plt.hlines(xmin=0,xmax=20,y=ci[4])\n",
    "    plt.show()\n",
    "\n",
    "    plt.scatter(b,ypred,c='k',alpha=0.7)\n",
    "    plt.plot(b,b,c='r',ls=\"-.\")\n",
    "    print(\"corr\",np.corrcoef(b,ypred)[0][1])\n",
    "    print(\"R2\",r2_score(b,ypred))"
   ]
  },
  {
   "cell_type": "code",
   "execution_count": 4,
   "id": "6185ea9a",
   "metadata": {},
   "outputs": [],
   "source": [
    "# sol=nnls(A, b,maxiter=1000000000)[0]\n",
    "# ## ci 95%\n",
    "# ypred=np.dot(A,sol)\n",
    "# sigma=sum([ (b[index]-x)**2 for index,x in enumerate(ypred)])/(len(ypred)-20-1)\n",
    "# cov=np.linalg.inv(np.matmul(A.transpose(),A))\n",
    "# var=[sigma*cov[x][x] for x in range(20)] \n",
    "# ci=[1.96*(var[i]**0.5) for i in range(20)]\n",
    "\n",
    "# res=pd.DataFrame()\n",
    "# res[\"aa\"]=all_AAs\n",
    "# res[\"val\"]=sol\n",
    "# res[\"ci\"]=ci\n",
    "\n",
    "# plots(ypred,ci)\n",
    "\n",
    "# res    \n"
   ]
  },
  {
   "cell_type": "code",
   "execution_count": null,
   "id": "115f82f3",
   "metadata": {},
   "outputs": [],
   "source": [
    "\n"
   ]
  },
  {
   "cell_type": "code",
   "execution_count": 5,
   "id": "a45d35b9",
   "metadata": {},
   "outputs": [
    {
     "name": "stdout",
     "output_type": "stream",
     "text": [
      "NNLS R2 score 0.8876526585855993\n"
     ]
    },
    {
     "data": {
      "image/png": "[encoded data removed]",
      "text/plain": [
       "<Figure size 864x360 with 1 Axes>"
      ]
     },
     "metadata": {
      "needs_background": "light"
     },
     "output_type": "display_data"
    },
    {
     "data": {
      "image/png": "[encoded data removed]",
      "text/plain": [
       "<Figure size 864x360 with 1 Axes>"
      ]
     },
     "metadata": {
      "needs_background": "light"
     },
     "output_type": "display_data"
    },
    {
     "name": "stdout",
     "output_type": "stream",
     "text": [
      "corr 0.9421532033515568\n",
      "R2 0.8876526585855993\n"
     ]
    },
    {
     "data": {
      "text/html": [
       "<div>\n",
       "<style scoped>\n",
       "    .dataframe tbody tr th:only-of-type {\n",
       "        vertical-align: middle;\n",
       "    }\n",
       "\n",
       "    .dataframe tbody tr th {\n",
       "        vertical-align: top;\n",
       "    }\n",
       "\n",
       "    .dataframe thead th {\n",
       "        text-align: right;\n",
       "    }\n",
       "</style>\n",
       "<table border=\"1\" class=\"dataframe\">\n",
       "  <thead>\n",
       "    <tr style=\"text-align: right;\">\n",
       "      <th></th>\n",
       "      <th>aa</th>\n",
       "      <th>val</th>\n",
       "      <th>ci</th>\n",
       "    </tr>\n",
       "  </thead>\n",
       "  <tbody>\n",
       "    <tr>\n",
       "      <th>0</th>\n",
       "      <td>a</td>\n",
       "      <td>3.277736</td>\n",
       "      <td>0.125291</td>\n",
       "    </tr>\n",
       "    <tr>\n",
       "      <th>1</th>\n",
       "      <td>c</td>\n",
       "      <td>1.689200</td>\n",
       "      <td>0.297651</td>\n",
       "    </tr>\n",
       "    <tr>\n",
       "      <th>2</th>\n",
       "      <td>d</td>\n",
       "      <td>2.901404</td>\n",
       "      <td>0.160945</td>\n",
       "    </tr>\n",
       "    <tr>\n",
       "      <th>3</th>\n",
       "      <td>e</td>\n",
       "      <td>4.083561</td>\n",
       "      <td>0.159116</td>\n",
       "    </tr>\n",
       "    <tr>\n",
       "      <th>4</th>\n",
       "      <td>f</td>\n",
       "      <td>0.370863</td>\n",
       "      <td>0.170018</td>\n",
       "    </tr>\n",
       "    <tr>\n",
       "      <th>5</th>\n",
       "      <td>g</td>\n",
       "      <td>1.851408</td>\n",
       "      <td>0.119904</td>\n",
       "    </tr>\n",
       "    <tr>\n",
       "      <th>6</th>\n",
       "      <td>h</td>\n",
       "      <td>1.998163</td>\n",
       "      <td>0.219852</td>\n",
       "    </tr>\n",
       "    <tr>\n",
       "      <th>7</th>\n",
       "      <td>i</td>\n",
       "      <td>0.686656</td>\n",
       "      <td>0.139096</td>\n",
       "    </tr>\n",
       "    <tr>\n",
       "      <th>8</th>\n",
       "      <td>k</td>\n",
       "      <td>0.275392</td>\n",
       "      <td>0.355766</td>\n",
       "    </tr>\n",
       "    <tr>\n",
       "      <th>9</th>\n",
       "      <td>l</td>\n",
       "      <td>0.827029</td>\n",
       "      <td>0.108688</td>\n",
       "    </tr>\n",
       "    <tr>\n",
       "      <th>10</th>\n",
       "      <td>m</td>\n",
       "      <td>1.047068</td>\n",
       "      <td>0.248558</td>\n",
       "    </tr>\n",
       "    <tr>\n",
       "      <th>11</th>\n",
       "      <td>n</td>\n",
       "      <td>1.226242</td>\n",
       "      <td>0.175776</td>\n",
       "    </tr>\n",
       "    <tr>\n",
       "      <th>12</th>\n",
       "      <td>p</td>\n",
       "      <td>1.575267</td>\n",
       "      <td>0.158051</td>\n",
       "    </tr>\n",
       "    <tr>\n",
       "      <th>13</th>\n",
       "      <td>q</td>\n",
       "      <td>3.855332</td>\n",
       "      <td>0.196978</td>\n",
       "    </tr>\n",
       "    <tr>\n",
       "      <th>14</th>\n",
       "      <td>r</td>\n",
       "      <td>1.928249</td>\n",
       "      <td>0.389938</td>\n",
       "    </tr>\n",
       "    <tr>\n",
       "      <th>15</th>\n",
       "      <td>s</td>\n",
       "      <td>1.923828</td>\n",
       "      <td>0.121318</td>\n",
       "    </tr>\n",
       "    <tr>\n",
       "      <th>16</th>\n",
       "      <td>t</td>\n",
       "      <td>0.349063</td>\n",
       "      <td>0.143212</td>\n",
       "    </tr>\n",
       "    <tr>\n",
       "      <th>17</th>\n",
       "      <td>v</td>\n",
       "      <td>0.634362</td>\n",
       "      <td>0.117992</td>\n",
       "    </tr>\n",
       "    <tr>\n",
       "      <th>18</th>\n",
       "      <td>w</td>\n",
       "      <td>0.196216</td>\n",
       "      <td>0.359378</td>\n",
       "    </tr>\n",
       "    <tr>\n",
       "      <th>19</th>\n",
       "      <td>y</td>\n",
       "      <td>0.937236</td>\n",
       "      <td>0.195053</td>\n",
       "    </tr>\n",
       "  </tbody>\n",
       "</table>\n",
       "</div>"
      ],
      "text/plain": [
       "   aa       val        ci\n",
       "0   a  3.277736  0.125291\n",
       "1   c  1.689200  0.297651\n",
       "2   d  2.901404  0.160945\n",
       "3   e  4.083561  0.159116\n",
       "4   f  0.370863  0.170018\n",
       "5   g  1.851408  0.119904\n",
       "6   h  1.998163  0.219852\n",
       "7   i  0.686656  0.139096\n",
       "8   k  0.275392  0.355766\n",
       "9   l  0.827029  0.108688\n",
       "10  m  1.047068  0.248558\n",
       "11  n  1.226242  0.175776\n",
       "12  p  1.575267  0.158051\n",
       "13  q  3.855332  0.196978\n",
       "14  r  1.928249  0.389938\n",
       "15  s  1.923828  0.121318\n",
       "16  t  0.349063  0.143212\n",
       "17  v  0.634362  0.117992\n",
       "18  w  0.196216  0.359378\n",
       "19  y  0.937236  0.195053"
      ]
     },
     "execution_count": 5,
     "metadata": {},
     "output_type": "execute_result"
    },
    {
     "data": {
      "image/png": "[encoded data removed]",
      "text/plain": [
       "<Figure size 432x288 with 1 Axes>"
      ]
     },
     "metadata": {
      "needs_background": "light"
     },
     "output_type": "display_data"
    }
   ],
   "source": [
    "from sklearn.linear_model import LinearRegression\n",
    "from scipy import stats\n",
    "reg_nnls = LinearRegression(positive=True)\n",
    "y_pred_nnls = reg_nnls.fit(A, b).predict(A)\n",
    "r2_score_nnls = r2_score(b, y_pred_nnls)\n",
    "print(\"NNLS R2 score\", r2_score_nnls)\n",
    "\n",
    "coefficients = reg_nnls.coef_\n",
    "mse_resid = np.mean((y_pred_nnls - b) ** 2)\n",
    "\n",
    "#===========================\n",
    "\n",
    "\n",
    "dof = A.shape[0]-20\n",
    "mse = np.sum((b - reg_nnls.predict(A)) ** 2) / dof\n",
    "var_params = np.diag(np.linalg.inv(A.T.dot(A)))\n",
    "t_val = stats.t.isf(0.05/2, dof)\n",
    "ci = t_val * np.sqrt(mse * var_params)\n",
    "\n",
    "ci\n",
    "\n",
    "\n",
    "res=pd.DataFrame()\n",
    "res[\"aa\"]=all_AAs\n",
    "res[\"val\"]=coefficients\n",
    "res[\"ci\"]=ci\n",
    "plots(reg_nnls.predict(A),ci)\n",
    "res"
   ]
  },
  {
   "cell_type": "code",
   "execution_count": null,
   "id": "fcb6b6da",
   "metadata": {},
   "outputs": [],
   "source": []
  },
  {
   "cell_type": "code",
   "execution_count": null,
   "id": "23834be9",
   "metadata": {},
   "outputs": [],
   "source": []
  },
  {
   "cell_type": "code",
   "execution_count": null,
   "id": "75214a30",
   "metadata": {},
   "outputs": [],
   "source": []
  }
 ],
 "metadata": {
  "kernelspec": {
   "display_name": "Python 3 (ipykernel)",
   "language": "python",
   "name": "python3"
  },
  "language_info": {
   "codemirror_mode": {
    "name": "ipython",
    "version": 3
   },
   "file_extension": ".py",
   "mimetype": "text/x-python",
   "name": "python",
   "nbconvert_exporter": "python",
   "pygments_lexer": "ipython3",
   "version": "3.9.11"
  }
 },
 "nbformat": 4,
 "nbformat_minor": 5
}
