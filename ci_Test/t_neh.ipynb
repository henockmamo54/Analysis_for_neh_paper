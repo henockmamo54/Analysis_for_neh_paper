{
 "cells": [
  {
   "cell_type": "code",
   "execution_count": 1,
   "id": "7d17e1d9",
   "metadata": {},
   "outputs": [],
   "source": [
    "import numpy as np\n",
    "import pandas as pd\n",
    "from scipy.optimize import nnls\n",
    "from matplotlib import pyplot as plt\n",
    "from sklearn.metrics import r2_score"
   ]
  },
  {
   "cell_type": "code",
   "execution_count": 2,
   "id": "58f08645",
   "metadata": {},
   "outputs": [
    {
     "data": {
      "text/plain": [
       "(74, 20)"
      ]
     },
     "execution_count": 2,
     "metadata": {},
     "output_type": "execute_result"
    }
   ],
   "source": [
    "all_AAs=['a', 'c', 'd', 'e', 'f', 'g', 'h', 'i', 'k', 'l', 'm', 'n', 'p','q', 'r', 's', 't', 'v', 'w', 'y']\n",
    "b=np.array(pd.read_csv(\"yvals_acc.csv\")).ravel()\n",
    "A=np.array(pd.read_csv(\"coeff_acc.csv\")).ravel().reshape(20,b.shape[0]).transpose()\n",
    "A.shape"
   ]
  },
  {
   "cell_type": "code",
   "execution_count": 3,
   "id": "78cc59d9",
   "metadata": {},
   "outputs": [],
   "source": [
    "def plots(ypred,ci):\n",
    "    plt.figure(figsize=(12,5))\n",
    "    plt.bar(range(20),[int(sum(A[:,i]/(A[:,i]+0.00000000001))) for i in range(20)]) #sum(A)\n",
    "    plt.xlim([-1,20])\n",
    "    plt.xticks(list(range(-1,20)),[\" \"]+all_AAs)\n",
    "    plt.show()\n",
    "\n",
    "    plt.figure(figsize=(12,5))\n",
    "    plt.bar(range(20),ci,color =['m']*20)\n",
    "    plt.xlim([-1,20])\n",
    "    plt.xticks(list(range(-1,20)),[\" \"]+all_AAs)\n",
    "    plt.hlines(xmin=0,xmax=20,y=ci[4])\n",
    "    plt.show()\n",
    "\n",
    "    plt.scatter(b,ypred,c='k',alpha=0.7)\n",
    "    plt.plot(b,b,c='r',ls=\"-.\")\n",
    "    print(\"corr\",np.corrcoef(b,ypred)[0][1])\n",
    "    print(\"R2\",r2_score(b,ypred))"
   ]
  },
  {
   "cell_type": "code",
   "execution_count": 6,
   "id": "5ec8f288",
   "metadata": {},
   "outputs": [
    {
     "data": {
      "image/png": "[encoded data removed]",
      "text/plain": [
       "<Figure size 864x360 with 1 Axes>"
      ]
     },
     "metadata": {
      "needs_background": "light"
     },
     "output_type": "display_data"
    },
    {
     "data": {
      "image/png": "[encoded data removed]",
      "text/plain": [
       "<Figure size 864x360 with 1 Axes>"
      ]
     },
     "metadata": {
      "needs_background": "light"
     },
     "output_type": "display_data"
    },
    {
     "name": "stdout",
     "output_type": "stream",
     "text": [
      "corr 0.9976760119910718\n",
      "R2 0.9953537342533527\n"
     ]
    },
    {
     "data": {
      "text/html": [
       "<div>\n",
       "<style scoped>\n",
       "    .dataframe tbody tr th:only-of-type {\n",
       "        vertical-align: middle;\n",
       "    }\n",
       "\n",
       "    .dataframe tbody tr th {\n",
       "        vertical-align: top;\n",
       "    }\n",
       "\n",
       "    .dataframe thead th {\n",
       "        text-align: right;\n",
       "    }\n",
       "</style>\n",
       "<table border=\"1\" class=\"dataframe\">\n",
       "  <thead>\n",
       "    <tr style=\"text-align: right;\">\n",
       "      <th></th>\n",
       "      <th>aa</th>\n",
       "      <th>val</th>\n",
       "      <th>ci</th>\n",
       "    </tr>\n",
       "  </thead>\n",
       "  <tbody>\n",
       "    <tr>\n",
       "      <th>0</th>\n",
       "      <td>a</td>\n",
       "      <td>3.860891</td>\n",
       "      <td>0.091243</td>\n",
       "    </tr>\n",
       "    <tr>\n",
       "      <th>1</th>\n",
       "      <td>c</td>\n",
       "      <td>1.659170</td>\n",
       "      <td>0.172630</td>\n",
       "    </tr>\n",
       "    <tr>\n",
       "      <th>2</th>\n",
       "      <td>d</td>\n",
       "      <td>2.023977</td>\n",
       "      <td>0.126570</td>\n",
       "    </tr>\n",
       "    <tr>\n",
       "      <th>3</th>\n",
       "      <td>e</td>\n",
       "      <td>4.010951</td>\n",
       "      <td>0.128748</td>\n",
       "    </tr>\n",
       "    <tr>\n",
       "      <th>4</th>\n",
       "      <td>f</td>\n",
       "      <td>0.256942</td>\n",
       "      <td>0.116519</td>\n",
       "    </tr>\n",
       "    <tr>\n",
       "      <th>5</th>\n",
       "      <td>g</td>\n",
       "      <td>2.044570</td>\n",
       "      <td>0.080237</td>\n",
       "    </tr>\n",
       "    <tr>\n",
       "      <th>6</th>\n",
       "      <td>h</td>\n",
       "      <td>2.730508</td>\n",
       "      <td>0.287507</td>\n",
       "    </tr>\n",
       "    <tr>\n",
       "      <th>7</th>\n",
       "      <td>i</td>\n",
       "      <td>0.935325</td>\n",
       "      <td>0.120488</td>\n",
       "    </tr>\n",
       "    <tr>\n",
       "      <th>8</th>\n",
       "      <td>k</td>\n",
       "      <td>0.575323</td>\n",
       "      <td>0.211949</td>\n",
       "    </tr>\n",
       "    <tr>\n",
       "      <th>9</th>\n",
       "      <td>l</td>\n",
       "      <td>0.678980</td>\n",
       "      <td>0.077511</td>\n",
       "    </tr>\n",
       "    <tr>\n",
       "      <th>10</th>\n",
       "      <td>m</td>\n",
       "      <td>1.076646</td>\n",
       "      <td>0.184434</td>\n",
       "    </tr>\n",
       "    <tr>\n",
       "      <th>11</th>\n",
       "      <td>n</td>\n",
       "      <td>1.728007</td>\n",
       "      <td>0.126356</td>\n",
       "    </tr>\n",
       "    <tr>\n",
       "      <th>12</th>\n",
       "      <td>p</td>\n",
       "      <td>2.443095</td>\n",
       "      <td>0.163551</td>\n",
       "    </tr>\n",
       "    <tr>\n",
       "      <th>13</th>\n",
       "      <td>q</td>\n",
       "      <td>3.916951</td>\n",
       "      <td>0.141285</td>\n",
       "    </tr>\n",
       "    <tr>\n",
       "      <th>14</th>\n",
       "      <td>r</td>\n",
       "      <td>3.311929</td>\n",
       "      <td>0.325207</td>\n",
       "    </tr>\n",
       "    <tr>\n",
       "      <th>15</th>\n",
       "      <td>s</td>\n",
       "      <td>2.509915</td>\n",
       "      <td>0.106110</td>\n",
       "    </tr>\n",
       "    <tr>\n",
       "      <th>16</th>\n",
       "      <td>t</td>\n",
       "      <td>0.147494</td>\n",
       "      <td>0.104448</td>\n",
       "    </tr>\n",
       "    <tr>\n",
       "      <th>17</th>\n",
       "      <td>v</td>\n",
       "      <td>0.536126</td>\n",
       "      <td>0.084465</td>\n",
       "    </tr>\n",
       "    <tr>\n",
       "      <th>18</th>\n",
       "      <td>w</td>\n",
       "      <td>0.000000</td>\n",
       "      <td>0.214849</td>\n",
       "    </tr>\n",
       "    <tr>\n",
       "      <th>19</th>\n",
       "      <td>y</td>\n",
       "      <td>0.521077</td>\n",
       "      <td>0.180774</td>\n",
       "    </tr>\n",
       "  </tbody>\n",
       "</table>\n",
       "</div>"
      ],
      "text/plain": [
       "   aa       val        ci\n",
       "0   a  3.860891  0.091243\n",
       "1   c  1.659170  0.172630\n",
       "2   d  2.023977  0.126570\n",
       "3   e  4.010951  0.128748\n",
       "4   f  0.256942  0.116519\n",
       "5   g  2.044570  0.080237\n",
       "6   h  2.730508  0.287507\n",
       "7   i  0.935325  0.120488\n",
       "8   k  0.575323  0.211949\n",
       "9   l  0.678980  0.077511\n",
       "10  m  1.076646  0.184434\n",
       "11  n  1.728007  0.126356\n",
       "12  p  2.443095  0.163551\n",
       "13  q  3.916951  0.141285\n",
       "14  r  3.311929  0.325207\n",
       "15  s  2.509915  0.106110\n",
       "16  t  0.147494  0.104448\n",
       "17  v  0.536126  0.084465\n",
       "18  w  0.000000  0.214849\n",
       "19  y  0.521077  0.180774"
      ]
     },
     "execution_count": 6,
     "metadata": {},
     "output_type": "execute_result"
    },
    {
     "data": {
      "image/png": "[encoded data removed]",
      "text/plain": [
       "<Figure size 432x288 with 1 Axes>"
      ]
     },
     "metadata": {
      "needs_background": "light"
     },
     "output_type": "display_data"
    }
   ],
   "source": [
    "sol=nnls(A, b,maxiter=1000000000)[0]\n",
    "## ci 95%\n",
    "ypred=np.dot(A,sol)\n",
    "sigma=sum([ (b[index]-x)**2 for index,x in enumerate(ypred)])/(len(ypred)-20-1)\n",
    "cov=np.linalg.inv(np.matmul(A.transpose(),A))\n",
    "var=[sigma*cov[x][x] for x in range(20)] \n",
    "ci=[1.96*(var[i]**0.5) for i in range(20)]\n",
    "\n",
    "res=pd.DataFrame()\n",
    "res[\"aa\"]=all_AAs\n",
    "res[\"val\"]=sol\n",
    "res[\"ci\"]=ci\n",
    "\n",
    "plots(ypred,ci)\n",
    "\n",
    "res    \n"
   ]
  },
  {
   "cell_type": "code",
   "execution_count": null,
   "id": "aaa0960e",
   "metadata": {},
   "outputs": [],
   "source": []
  },
  {
   "cell_type": "code",
   "execution_count": 7,
   "id": "9db7292d",
   "metadata": {},
   "outputs": [
    {
     "name": "stdout",
     "output_type": "stream",
     "text": [
      "NNLS R2 score 0.9953627989683302\n"
     ]
    },
    {
     "data": {
      "image/png": "[encoded data removed]",
      "text/plain": [
       "<Figure size 864x360 with 1 Axes>"
      ]
     },
     "metadata": {
      "needs_background": "light"
     },
     "output_type": "display_data"
    },
    {
     "data": {
      "image/png": "[encoded data removed]",
      "text/plain": [
       "<Figure size 864x360 with 1 Axes>"
      ]
     },
     "metadata": {
      "needs_background": "light"
     },
     "output_type": "display_data"
    },
    {
     "name": "stdout",
     "output_type": "stream",
     "text": [
      "corr 0.9976787052795754\n",
      "R2 0.9953627989683302\n"
     ]
    },
    {
     "data": {
      "text/html": [
       "<div>\n",
       "<style scoped>\n",
       "    .dataframe tbody tr th:only-of-type {\n",
       "        vertical-align: middle;\n",
       "    }\n",
       "\n",
       "    .dataframe tbody tr th {\n",
       "        vertical-align: top;\n",
       "    }\n",
       "\n",
       "    .dataframe thead th {\n",
       "        text-align: right;\n",
       "    }\n",
       "</style>\n",
       "<table border=\"1\" class=\"dataframe\">\n",
       "  <thead>\n",
       "    <tr style=\"text-align: right;\">\n",
       "      <th></th>\n",
       "      <th>aa</th>\n",
       "      <th>val</th>\n",
       "      <th>ci</th>\n",
       "    </tr>\n",
       "  </thead>\n",
       "  <tbody>\n",
       "    <tr>\n",
       "      <th>0</th>\n",
       "      <td>a</td>\n",
       "      <td>3.851916</td>\n",
       "      <td>0.092374</td>\n",
       "    </tr>\n",
       "    <tr>\n",
       "      <th>1</th>\n",
       "      <td>c</td>\n",
       "      <td>1.656961</td>\n",
       "      <td>0.174769</td>\n",
       "    </tr>\n",
       "    <tr>\n",
       "      <th>2</th>\n",
       "      <td>d</td>\n",
       "      <td>2.021832</td>\n",
       "      <td>0.128138</td>\n",
       "    </tr>\n",
       "    <tr>\n",
       "      <th>3</th>\n",
       "      <td>e</td>\n",
       "      <td>3.999410</td>\n",
       "      <td>0.130343</td>\n",
       "    </tr>\n",
       "    <tr>\n",
       "      <th>4</th>\n",
       "      <td>f</td>\n",
       "      <td>0.248654</td>\n",
       "      <td>0.117963</td>\n",
       "    </tr>\n",
       "    <tr>\n",
       "      <th>5</th>\n",
       "      <td>g</td>\n",
       "      <td>2.037096</td>\n",
       "      <td>0.081231</td>\n",
       "    </tr>\n",
       "    <tr>\n",
       "      <th>6</th>\n",
       "      <td>h</td>\n",
       "      <td>2.714389</td>\n",
       "      <td>0.291070</td>\n",
       "    </tr>\n",
       "    <tr>\n",
       "      <th>7</th>\n",
       "      <td>i</td>\n",
       "      <td>0.928513</td>\n",
       "      <td>0.121981</td>\n",
       "    </tr>\n",
       "    <tr>\n",
       "      <th>8</th>\n",
       "      <td>k</td>\n",
       "      <td>0.555897</td>\n",
       "      <td>0.214576</td>\n",
       "    </tr>\n",
       "    <tr>\n",
       "      <th>9</th>\n",
       "      <td>l</td>\n",
       "      <td>0.674417</td>\n",
       "      <td>0.078471</td>\n",
       "    </tr>\n",
       "    <tr>\n",
       "      <th>10</th>\n",
       "      <td>m</td>\n",
       "      <td>1.065586</td>\n",
       "      <td>0.186719</td>\n",
       "    </tr>\n",
       "    <tr>\n",
       "      <th>11</th>\n",
       "      <td>n</td>\n",
       "      <td>1.721356</td>\n",
       "      <td>0.127922</td>\n",
       "    </tr>\n",
       "    <tr>\n",
       "      <th>12</th>\n",
       "      <td>p</td>\n",
       "      <td>2.439137</td>\n",
       "      <td>0.165578</td>\n",
       "    </tr>\n",
       "    <tr>\n",
       "      <th>13</th>\n",
       "      <td>q</td>\n",
       "      <td>3.908189</td>\n",
       "      <td>0.143036</td>\n",
       "    </tr>\n",
       "    <tr>\n",
       "      <th>14</th>\n",
       "      <td>r</td>\n",
       "      <td>3.282579</td>\n",
       "      <td>0.329238</td>\n",
       "    </tr>\n",
       "    <tr>\n",
       "      <th>15</th>\n",
       "      <td>s</td>\n",
       "      <td>2.503708</td>\n",
       "      <td>0.107425</td>\n",
       "    </tr>\n",
       "    <tr>\n",
       "      <th>16</th>\n",
       "      <td>t</td>\n",
       "      <td>0.140985</td>\n",
       "      <td>0.105742</td>\n",
       "    </tr>\n",
       "    <tr>\n",
       "      <th>17</th>\n",
       "      <td>v</td>\n",
       "      <td>0.531066</td>\n",
       "      <td>0.085511</td>\n",
       "    </tr>\n",
       "    <tr>\n",
       "      <th>18</th>\n",
       "      <td>w</td>\n",
       "      <td>0.000000</td>\n",
       "      <td>0.217512</td>\n",
       "    </tr>\n",
       "    <tr>\n",
       "      <th>19</th>\n",
       "      <td>y</td>\n",
       "      <td>0.514679</td>\n",
       "      <td>0.183015</td>\n",
       "    </tr>\n",
       "  </tbody>\n",
       "</table>\n",
       "</div>"
      ],
      "text/plain": [
       "   aa       val        ci\n",
       "0   a  3.851916  0.092374\n",
       "1   c  1.656961  0.174769\n",
       "2   d  2.021832  0.128138\n",
       "3   e  3.999410  0.130343\n",
       "4   f  0.248654  0.117963\n",
       "5   g  2.037096  0.081231\n",
       "6   h  2.714389  0.291070\n",
       "7   i  0.928513  0.121981\n",
       "8   k  0.555897  0.214576\n",
       "9   l  0.674417  0.078471\n",
       "10  m  1.065586  0.186719\n",
       "11  n  1.721356  0.127922\n",
       "12  p  2.439137  0.165578\n",
       "13  q  3.908189  0.143036\n",
       "14  r  3.282579  0.329238\n",
       "15  s  2.503708  0.107425\n",
       "16  t  0.140985  0.105742\n",
       "17  v  0.531066  0.085511\n",
       "18  w  0.000000  0.217512\n",
       "19  y  0.514679  0.183015"
      ]
     },
     "execution_count": 7,
     "metadata": {},
     "output_type": "execute_result"
    },
    {
     "data": {
      "image/png": "[encoded data removed]",
      "text/plain": [
       "<Figure size 432x288 with 1 Axes>"
      ]
     },
     "metadata": {
      "needs_background": "light"
     },
     "output_type": "display_data"
    }
   ],
   "source": [
    "from sklearn.linear_model import LinearRegression\n",
    "from scipy import stats\n",
    "reg_nnls = LinearRegression(positive=True)\n",
    "y_pred_nnls = reg_nnls.fit(A, b).predict(A)\n",
    "r2_score_nnls = r2_score(b, y_pred_nnls)\n",
    "print(\"NNLS R2 score\", r2_score_nnls)\n",
    "\n",
    "coefficients = reg_nnls.coef_\n",
    "mse_resid = np.mean((y_pred_nnls - b) ** 2)\n",
    "\n",
    "#===========================\n",
    "\n",
    "\n",
    "dof = A.shape[0]-20\n",
    "mse = np.sum((b - reg_nnls.predict(A)) ** 2) / dof\n",
    "var_params = np.diag(np.linalg.inv(A.T.dot(A)))\n",
    "t_val = stats.t.isf(0.05/2, dof)\n",
    "ci = t_val * np.sqrt(mse * var_params)\n",
    "\n",
    "ci\n",
    "\n",
    "\n",
    "res=pd.DataFrame()\n",
    "res[\"aa\"]=all_AAs\n",
    "res[\"val\"]=coefficients\n",
    "res[\"ci\"]=ci\n",
    "plots(reg_nnls.predict(A),ci)\n",
    "res"
   ]
  },
  {
   "cell_type": "code",
   "execution_count": null,
   "id": "f8b2445c",
   "metadata": {},
   "outputs": [],
   "source": []
  }
 ],
 "metadata": {
  "kernelspec": {
   "display_name": "Python 3 (ipykernel)",
   "language": "python",
   "name": "python3"
  },
  "language_info": {
   "codemirror_mode": {
    "name": "ipython",
    "version": 3
   },
   "file_extension": ".py",
   "mimetype": "text/x-python",
   "name": "python",
   "nbconvert_exporter": "python",
   "pygments_lexer": "ipython3",
   "version": "3.9.11"
  }
 },
 "nbformat": 4,
 "nbformat_minor": 5
}
