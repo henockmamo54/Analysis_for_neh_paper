{
 "cells": [
  {
   "cell_type": "code",
   "execution_count": 1,
   "id": "266d6169",
   "metadata": {},
   "outputs": [],
   "source": [
    "import os\n",
    "import numpy as np\n",
    "import pandas as pd\n",
    "from scipy.optimize import nnls\n",
    "from matplotlib import pyplot as plt"
   ]
  },
  {
   "cell_type": "code",
   "execution_count": 2,
   "id": "6a324583",
   "metadata": {},
   "outputs": [],
   "source": [
    "path=r'C:\\Workplace\\C#\\Test\\Test_test\\ConsoleApp2\\bin\\Debug\\matrix_r'\n",
    "files=['exact_aa.csv',\n",
    " 'no_noise_aa.csv',\n",
    " 'with_noise_aa-6.csv',\n",
    " 'with_noise_aa-2.csv',\n",
    " 'with_noise_aa.csv']\n",
    "labels=['exact','no_noise','with_noise * 10^-6','with_noise * 10^-2','with_noise']"
   ]
  },
  {
   "cell_type": "code",
   "execution_count": 3,
   "id": "576e2bf3",
   "metadata": {
    "scrolled": true
   },
   "outputs": [],
   "source": [
    "data=pd.read_csv(path+\"\\\\\"+files[0])"
   ]
  },
  {
   "cell_type": "code",
   "execution_count": 4,
   "id": "15dad69e",
   "metadata": {},
   "outputs": [
    {
     "ename": "NameError",
     "evalue": "name 'label' is not defined",
     "output_type": "error",
     "traceback": [
      "\u001b[1;31m---------------------------------------------------------------------------\u001b[0m",
      "\u001b[1;31mNameError\u001b[0m                                 Traceback (most recent call last)",
      "Input \u001b[1;32mIn [4]\u001b[0m, in \u001b[0;36m<cell line: 6>\u001b[1;34m()\u001b[0m\n\u001b[0;32m      8\u001b[0m     col\u001b[38;5;241m=\u001b[39mdata[\u001b[38;5;124m'\u001b[39m\u001b[38;5;124mAAsInfo.AA_NEH_APE\u001b[39m\u001b[38;5;124m'\u001b[39m]\n\u001b[0;32m      9\u001b[0m     col_ci\u001b[38;5;241m=\u001b[39mdata[\u001b[38;5;124m'\u001b[39m\u001b[38;5;124mAAsInfo.AA_NEH_APE_ci\u001b[39m\u001b[38;5;124m'\u001b[39m]\n\u001b[0;32m     10\u001b[0m     plt\u001b[38;5;241m.\u001b[39merrorbar([x\u001b[38;5;241m+\u001b[39m\u001b[38;5;241m0.5\u001b[39m\u001b[38;5;241m*\u001b[39mk \u001b[38;5;28;01mfor\u001b[39;00m x \u001b[38;5;129;01min\u001b[39;00m \u001b[38;5;28mrange\u001b[39m(\u001b[38;5;241m0\u001b[39m,\u001b[38;5;241m80\u001b[39m,\u001b[38;5;241m4\u001b[39m)], col, col_ci,\n\u001b[1;32m---> 11\u001b[0m                      fmt \u001b[38;5;241m=\u001b[39m\u001b[38;5;124m'\u001b[39m\u001b[38;5;124mo\u001b[39m\u001b[38;5;124m'\u001b[39m,ms\u001b[38;5;241m=\u001b[39m\u001b[38;5;241m6\u001b[39m,label\u001b[38;5;241m=\u001b[39m\u001b[43mlabel\u001b[49m[k],capsize\u001b[38;5;241m=\u001b[39m\u001b[38;5;241m5\u001b[39m)\n\u001b[0;32m     14\u001b[0m plt\u001b[38;5;241m.\u001b[39mlegend(loc\u001b[38;5;241m=\u001b[39m\u001b[38;5;124m'\u001b[39m\u001b[38;5;124mlower left\u001b[39m\u001b[38;5;124m'\u001b[39m)\n\u001b[0;32m     15\u001b[0m plt\u001b[38;5;241m.\u001b[39mxticks(\u001b[38;5;28mrange\u001b[39m(\u001b[38;5;241m0\u001b[39m,\u001b[38;5;241m80\u001b[39m,\u001b[38;5;241m4\u001b[39m),data[\u001b[38;5;124m'\u001b[39m\u001b[38;5;124mAAsInfo.AA_name\u001b[39m\u001b[38;5;124m'\u001b[39m],rotation\u001b[38;5;241m=\u001b[39m\u001b[38;5;241m90\u001b[39m)\n",
      "\u001b[1;31mNameError\u001b[0m: name 'label' is not defined"
     ]
    },
    {
     "data": {
      "image/png": "[encoded data removed]",
      "text/plain": [
       "<Figure size 1296x720 with 1 Axes>"
      ]
     },
     "metadata": {
      "needs_background": "light"
     },
     "output_type": "display_data"
    }
   ],
   "source": [
    "\n",
    "plt.rc('font', size=17) \n",
    "plt.rc('figure', figsize=(18,10)) \n",
    "\n",
    "plt.errorbar([x+0.5*-1 for x in range(0,80,4)], data['AAsInfo.AA_NEH_tritium'], [0]*20,\n",
    "                     fmt ='o',ms=6,label=\"Set Value\",capsize=5)\n",
    "for k in range(len(labels)):\n",
    "    data=pd.read_csv(path+\"\\\\\"+files[k])\n",
    "    col=data['AAsInfo.AA_NEH_APE']\n",
    "    col_ci=data['AAsInfo.AA_NEH_APE_ci']\n",
    "    plt.errorbar([x+0.5*k for x in range(0,80,4)], col, col_ci,\n",
    "                     fmt ='o',ms=6,label=label[k],capsize=5)\n",
    "    \n",
    "\n",
    "plt.legend(loc='lower left')\n",
    "plt.xticks(range(0,80,4),data['AAsInfo.AA_name'],rotation=90)\n",
    "plt.grid()\n",
    "plt.savefig(\"simulation_aa_neh_CI_R.jpeg\",dpi=900,bbox_inches='tight')\n",
    "plt.show()"
   ]
  },
  {
   "cell_type": "code",
   "execution_count": null,
   "id": "9a96749d",
   "metadata": {},
   "outputs": [],
   "source": [
    "import seaborn as sns\n",
    "import warnings\n",
    "warnings.filterwarnings('ignore')"
   ]
  },
  {
   "cell_type": "code",
   "execution_count": null,
   "id": "36ae0c30",
   "metadata": {},
   "outputs": [],
   "source": [
    "files=[x for x in os.listdir(path) if '_aa' not in x]\n",
    "files=['no_noise.csv', 'with_noise-6.csv', 'with_noise-2.csv', 'with_noise.csv']\n",
    "labels=['no_noise','with_noise * 10^-6','with_noise * 10^-2','with_noise']"
   ]
  },
  {
   "cell_type": "code",
   "execution_count": null,
   "id": "c0e71c59",
   "metadata": {
    "scrolled": true
   },
   "outputs": [],
   "source": [
    "# data=pd.read_csv(path+\"\\\\\"+files[k])"
   ]
  },
  {
   "cell_type": "code",
   "execution_count": null,
   "id": "a2647781",
   "metadata": {},
   "outputs": [],
   "source": []
  },
  {
   "cell_type": "code",
   "execution_count": null,
   "id": "a9288cf9",
   "metadata": {
    "scrolled": false
   },
   "outputs": [],
   "source": [
    "bw=0.75\n",
    "bins=7000\n",
    "lw=2\n",
    "mtd=\"scott\"\n",
    "plt.rc('font', size=15) \n",
    "plt.figure(figsize=(10,8))\n",
    "\n",
    "for k in range(len(files)):\n",
    "    data=pd.read_csv(path+\"\\\\\"+files[k])\n",
    "    \n",
    "    res=list((data['PeptidesPassedNEHfilters.T_NEH'] - data['PeptidesPassedNEHfilters.APE_NEH'])/data['PeptidesPassedNEHfilters.T_NEH'])\n",
    "\n",
    "\n",
    "    sns.distplot(res, \n",
    "             hist = False,bins=bins, kde = True,\n",
    "                 hist_kws={'alpha':0.3},\n",
    "                     kde_kws = {'shade': False, 'linewidth': lw,'bw':bw,'bw_method':mtd} ,\n",
    "             label=labels[k])\n",
    "plt.legend()\n",
    "plt.xlabel(\"(true neh - estimated neh)/ true neh\")\n",
    "\n",
    "plt.savefig(\"neh_density_R.jpeg\",dpi=900,bbox_inches='tight')"
   ]
  },
  {
   "cell_type": "code",
   "execution_count": null,
   "id": "5920541c",
   "metadata": {},
   "outputs": [],
   "source": []
  },
  {
   "cell_type": "code",
   "execution_count": null,
   "id": "0e6d4fa8",
   "metadata": {},
   "outputs": [],
   "source": []
  }
 ],
 "metadata": {
  "kernelspec": {
   "display_name": "Python 3 (ipykernel)",
   "language": "python",
   "name": "python3"
  },
  "language_info": {
   "codemirror_mode": {
    "name": "ipython",
    "version": 3
   },
   "file_extension": ".py",
   "mimetype": "text/x-python",
   "name": "python",
   "nbconvert_exporter": "python",
   "pygments_lexer": "ipython3",
   "version": "3.9.11"
  }
 },
 "nbformat": 4,
 "nbformat_minor": 5
}
