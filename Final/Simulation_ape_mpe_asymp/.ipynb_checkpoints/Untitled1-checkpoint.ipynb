{
 "cells": [
  {
   "cell_type": "code",
   "execution_count": 1,
   "id": "ccb8913f",
   "metadata": {},
   "outputs": [],
   "source": [
    "import os\n",
    "import pandas as pd\n",
    "from matplotlib import pyplot as plt"
   ]
  },
  {
   "cell_type": "code",
   "execution_count": 2,
   "id": "806d52b9",
   "metadata": {},
   "outputs": [],
   "source": [
    "path=r\"C:\\Users\\hmdebern.UTMB-USERS-M\\Desktop\\_abigail\\d2ome_output_2_1_25\""
   ]
  },
  {
   "cell_type": "code",
   "execution_count": 3,
   "id": "6b5b8aaf",
   "metadata": {},
   "outputs": [
    {
     "data": {
      "text/plain": [
       "'lysate_output'"
      ]
     },
     "execution_count": 3,
     "metadata": {},
     "output_type": "execute_result"
    }
   ],
   "source": [
    "datatypes=os.listdir(path)\n",
    "datatypes[1]"
   ]
  },
  {
   "cell_type": "code",
   "execution_count": 4,
   "id": "ad0200d9",
   "metadata": {},
   "outputs": [
    {
     "data": {
      "text/plain": [
       "3535"
      ]
     },
     "execution_count": 4,
     "metadata": {},
     "output_type": "execute_result"
    }
   ],
   "source": [
    "len([x for x in os.listdir(path+\"\\\\\"+datatypes[1]) if \"Quant.csv\" in x])"
   ]
  },
  {
   "cell_type": "code",
   "execution_count": 5,
   "id": "3f963407",
   "metadata": {},
   "outputs": [
    {
     "data": {
      "text/plain": [
       "722"
      ]
     },
     "execution_count": 5,
     "metadata": {},
     "output_type": "execute_result"
    }
   ],
   "source": [
    "len([x for x in os.listdir(path+\"\\\\\"+datatypes[0]) if \"Quant.csv\" in x])"
   ]
  },
  {
   "cell_type": "code",
   "execution_count": 35,
   "id": "333fdc2e",
   "metadata": {},
   "outputs": [
    {
     "data": {
      "text/plain": [
       "Index(['Peptides', ' PeptideUnique', ' RateConstants', ' Correlations',\n",
       "       ' RootMeanRSS', ' AbsoluteIsotopeError', ' Charge', ' m/z(Sequence)',\n",
       "       ' NEH', ' Abundance', ' NDP', ' Rsquared', 'sigma', 'CI lower band',\n",
       "       ' CI upper band'],\n",
       "      dtype='object')"
      ]
     },
     "execution_count": 35,
     "metadata": {},
     "output_type": "execute_result"
    }
   ],
   "source": [
    "data.columns"
   ]
  },
  {
   "cell_type": "code",
   "execution_count": 8,
   "id": "828115c0",
   "metadata": {},
   "outputs": [],
   "source": [
    "files=[x for x in os.listdir(path+\"\\\\\"+datatypes[1]) if \"RateConst.csv\" in x]"
   ]
  },
  {
   "cell_type": "code",
   "execution_count": null,
   "id": "ac932e3f",
   "metadata": {},
   "outputs": [],
   "source": [
    "res=[]\n",
    "rsq=[]\n",
    "rmse=[]\n",
    "ndp=[]\n",
    "rates=[]\n",
    "for i in range(len(files)):\n",
    "    if 100*i // len(files):\n",
    "        print(i)\n",
    "    data=pd.read_csv(path+\"\\\\\"+datatypes[1]+\"\\\\\"+files[i]).dropna()\n",
    "    res.append(data.shape[0])\n",
    "    rsq+=list(data[' Rsquared'])\n",
    "    rmse+=list(data[' RootMeanRSS'])\n",
    "    ndp+=list(data[' NDP'])\n",
    "    rates+=list(data[' RateConstants'])"
   ]
  },
  {
   "cell_type": "code",
   "execution_count": null,
   "id": "daa96635",
   "metadata": {},
   "outputs": [],
   "source": [
    "print(sum(res))\n",
    "plt.rc('font', size=14) \n",
    "plt.figure(figsize=(8,6)) \n",
    "plt.hist(res,bins=100,color='k')\n",
    "plt.xlim(0,40)\n",
    "plt.ylabel(\"Count\")\n",
    "plt.xlabel(\"No. peptides per protien\")"
   ]
  },
  {
   "cell_type": "code",
   "execution_count": null,
   "id": "678bf6dc",
   "metadata": {},
   "outputs": [],
   "source": [
    "rsq"
   ]
  },
  {
   "cell_type": "code",
   "execution_count": null,
   "id": "438e4123",
   "metadata": {},
   "outputs": [],
   "source": [
    "\n",
    "# print(len(rsq))\n",
    "# plt.rc('font', size=14) \n",
    "# plt.figure(figsize=(8,6)) \n",
    "# plt.hist(rsq,bins=1000,color='k')\n",
    "# # plt.xlim(0,1)\n",
    "# plt.ylabel(\"Count\")\n",
    "# plt.xlabel(\"No. peptides per protien\")"
   ]
  },
  {
   "cell_type": "code",
   "execution_count": null,
   "id": "7c84b444",
   "metadata": {},
   "outputs": [],
   "source": [
    "# plt.hist(rsq,bins=30000)\n",
    "# plt.xlim(0,1)\n",
    "# plt.show()"
   ]
  },
  {
   "cell_type": "code",
   "execution_count": null,
   "id": "e4aab58b",
   "metadata": {},
   "outputs": [],
   "source": [
    "len([x for x in rsq if x >= 0.8])"
   ]
  },
  {
   "cell_type": "code",
   "execution_count": null,
   "id": "4ea063e7",
   "metadata": {},
   "outputs": [],
   "source": [
    "len([x for x in rsq if x < 0.8 and x >= 0.5])"
   ]
  },
  {
   "cell_type": "code",
   "execution_count": null,
   "id": "84fd3f74",
   "metadata": {},
   "outputs": [],
   "source": [
    "len([x for x in rsq if x < 0.5 ])"
   ]
  },
  {
   "cell_type": "code",
   "execution_count": null,
   "id": "aacdd063",
   "metadata": {},
   "outputs": [],
   "source": [
    "plt.rc('font', size=14) \n",
    "plt.figure(figsize=(8,6)) \n",
    "plt.hist(ndp,bins=6,color='k')\n",
    "plt.ylabel(\"Count\")\n",
    "plt.xlabel(\"Number of data points\")"
   ]
  },
  {
   "cell_type": "code",
   "execution_count": null,
   "id": "f881bdc3",
   "metadata": {},
   "outputs": [],
   "source": [
    "df=pd.DataFrame()\n",
    "df['rmse']=rmse\n",
    "df['rsq']=rsq\n",
    "df.query('rmse<=0.05 & rsq >=0.8').shape[0]/sum(res)"
   ]
  },
  {
   "cell_type": "code",
   "execution_count": null,
   "id": "cc136a06",
   "metadata": {},
   "outputs": [],
   "source": [
    "# df.query('rmse<=0.05 & rsq >=0.75').shape[0]/sum(res)"
   ]
  },
  {
   "cell_type": "code",
   "execution_count": null,
   "id": "e41cf478",
   "metadata": {},
   "outputs": [],
   "source": []
  },
  {
   "cell_type": "code",
   "execution_count": null,
   "id": "99b0cdeb",
   "metadata": {},
   "outputs": [],
   "source": []
  }
 ],
 "metadata": {
  "kernelspec": {
   "display_name": "Python 3 (ipykernel)",
   "language": "python",
   "name": "python3"
  },
  "language_info": {
   "codemirror_mode": {
    "name": "ipython",
    "version": 3
   },
   "file_extension": ".py",
   "mimetype": "text/x-python",
   "name": "python",
   "nbconvert_exporter": "python",
   "pygments_lexer": "ipython3",
   "version": "3.9.11"
  }
 },
 "nbformat": 4,
 "nbformat_minor": 5
}
