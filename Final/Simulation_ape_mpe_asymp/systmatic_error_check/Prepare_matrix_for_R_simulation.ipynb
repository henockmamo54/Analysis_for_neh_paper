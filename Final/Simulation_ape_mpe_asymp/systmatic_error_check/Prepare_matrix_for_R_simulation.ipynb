{
 "cells": [
  {
   "cell_type": "code",
   "execution_count": 8,
   "id": "ae95ba5b",
   "metadata": {},
   "outputs": [],
   "source": [
    "import numpy as np\n",
    "import pandas as pd\n",
    "from scipy.optimize import nnls\n",
    "from matplotlib import pyplot as plt\n",
    "from scipy.stats import norm,rv_continuous"
   ]
  },
  {
   "cell_type": "code",
   "execution_count": 9,
   "id": "5183986c",
   "metadata": {},
   "outputs": [],
   "source": [
    "data=pd.read_csv(r\"data.csv\")\n",
    "aa={'A':4,'C':1.62000000476837,'D':1.88999998569489,'E':3.95000004768372,'F':0.319999992847443,'G':2.05999994277954,\n",
    "    'H':2.88000011444092,'I':1,'K':0.540000021457672,'L':0.600000023841858,'M':1.12000000476837,'N':1.88999998569489,\n",
    "    'P':2.58999991416931,'Q':3.95000004768372,'R':3.4300000667572,'S':2.60999989509583,'T':0.200000002980232,\n",
    "    'V':0.560000002384186,'W':0.0799999982118607,'Y':0.419999986886978,}"
   ]
  },
  {
   "cell_type": "code",
   "execution_count": 30,
   "id": "947fc6a4",
   "metadata": {},
   "outputs": [],
   "source": [
    "# aa.values()"
   ]
  },
  {
   "cell_type": "code",
   "execution_count": 25,
   "id": "d9919fcc",
   "metadata": {},
   "outputs": [],
   "source": [
    "aa={'A':2,'C':3,'D':3,'E':2,'F':1,'G':4,\n",
    "    'H':1,'I':2,'K':2,'L':3,'M':0,'N':1,\n",
    "    'P':0,'Q':2,'R':1,'S':1,'T':4,\n",
    "    'V':0,'W':3,'Y':1}\n",
    "\n",
    "def get_theo_neh( pep):\n",
    "    num=0\n",
    "    for c in pep.upper():\n",
    "        num+=aa[c]\n",
    "    return num "
   ]
  },
  {
   "cell_type": "code",
   "execution_count": 26,
   "id": "65fc9f05",
   "metadata": {},
   "outputs": [
    {
     "name": "stdout",
     "output_type": "stream",
     "text": [
      "80.9800033569336 -0.2000007629395011 -0.17980017331734852 1.2382304442000105\n",
      "ModeResult(mode=array([-0.22999954]), count=array([12]))\n"
     ]
    },
    {
     "data": {
      "text/plain": [
       "(-0.17980017331734852, 1.2382304442000105)"
      ]
     },
     "execution_count": 26,
     "metadata": {},
     "output_type": "execute_result"
    }
   ],
   "source": [
    "print(\n",
    "max(data['PeptidesPassedNEHfilters.T_NEH']),\n",
    "np.median(data['PeptidesPassedNEHfilters.T_NEH'] -data['PeptidesPassedNEHfilters.APE_NEH']),\n",
    "np.mean(data['PeptidesPassedNEHfilters.T_NEH'] -data['PeptidesPassedNEHfilters.APE_NEH']),\n",
    "np.std(data['PeptidesPassedNEHfilters.T_NEH'] -data['PeptidesPassedNEHfilters.APE_NEH'])\n",
    ")\n",
    "\n",
    "from scipy import stats\n",
    "m = stats.mode((data['PeptidesPassedNEHfilters.T_NEH'] -data['PeptidesPassedNEHfilters.APE_NEH']))\n",
    "print(m)\n",
    "\n",
    "norm.fit(data['PeptidesPassedNEHfilters.T_NEH'] -data['PeptidesPassedNEHfilters.APE_NEH'])"
   ]
  },
  {
   "cell_type": "code",
   "execution_count": 27,
   "id": "34e5ee29",
   "metadata": {},
   "outputs": [
    {
     "data": {
      "text/plain": [
       "[('A', 2, 1.9999999999999956),\n",
       " ('C', 3, 3.0),\n",
       " ('D', 3, 2.9999999999999987),\n",
       " ('E', 2, 2.0000000000000093),\n",
       " ('F', 1, 0.9999999999999991),\n",
       " ('G', 4, 4.000000000000037),\n",
       " ('H', 1, 0.9999999999999998),\n",
       " ('I', 2, 2.0),\n",
       " ('K', 2, 2.000000000000002),\n",
       " ('L', 3, 3.0000000000000036),\n",
       " ('M', 0, 0.0),\n",
       " ('N', 1, 1.0000000000000004),\n",
       " ('P', 0, 9.575192687633272e-17),\n",
       " ('Q', 2, 1.9999999999999953),\n",
       " ('R', 1, 0.9999999999999982),\n",
       " ('S', 1, 0.9999999999999989),\n",
       " ('T', 4, 4.000000000000007),\n",
       " ('V', 0, 6.733934502643137e-16),\n",
       " ('W', 3, 2.9999999999999982),\n",
       " ('Y', 1, 1.0000000000000027)]"
      ]
     },
     "execution_count": 27,
     "metadata": {},
     "output_type": "execute_result"
    }
   ],
   "source": [
    "A=[]\n",
    "for i in range(data.shape[0]):\n",
    "    pep=data['PeptidesPassedNEHfilters.Peptide'][i].upper()\n",
    "    temp=[]\n",
    "    for c in aa.keys():\n",
    "        temp.append((float)(pep.count(c)))\n",
    "    A.append(temp)\n",
    "# b=[(float)(x) for x in data['PeptidesPassedNEHfilters.APE_NEH']]\n",
    "# b=[(float)(x) for x in data['PeptidesPassedNEHfilters.T_NEH']]\n",
    "\n",
    "b= [get_theo_neh(data['PeptidesPassedNEHfilters.Peptide'][x]) for  x in range(data.shape[0])]\n",
    "\n",
    "\n",
    "keys=list(aa.keys())\n",
    "[(keys[i],aa[keys[i]],val) for i,val in enumerate(nnls(A, b)[0])]"
   ]
  },
  {
   "cell_type": "code",
   "execution_count": 28,
   "id": "c9b31f74",
   "metadata": {},
   "outputs": [],
   "source": [
    "b=np.array(b)\n",
    "b=pd.DataFrame(b)\n",
    "b.to_csv(\"b_true.csv\",index=False)"
   ]
  },
  {
   "cell_type": "code",
   "execution_count": 6,
   "id": "cc5198b3",
   "metadata": {},
   "outputs": [
    {
     "data": {
      "text/plain": [
       "[('A', 4, 4.167054901487094),\n",
       " ('C', 1.62000000476837, 1.415808289940419),\n",
       " ('D', 1.88999998569489, 1.3278355576732874),\n",
       " ('E', 3.95000004768372, 3.6346851670252853),\n",
       " ('F', 0.319999992847443, 0.22942272712194092),\n",
       " ('G', 2.05999994277954, 2.1373269206151924),\n",
       " ('H', 2.88000011444092, 3.2627844538647905),\n",
       " ('I', 1, 1.1291217610022661),\n",
       " ('K', 0.540000021457672, 0.8757157604145703),\n",
       " ('L', 0.600000023841858, 0.4312749488639191),\n",
       " ('M', 1.12000000476837, 1.227110885361943),\n",
       " ('N', 1.88999998569489, 2.1069828752535753),\n",
       " ('P', 2.58999991416931, 2.982517556958995),\n",
       " ('Q', 3.95000004768372, 3.8529357824721884),\n",
       " ('R', 3.4300000667572, 4.20645077599214),\n",
       " ('S', 2.60999989509583, 2.8382642621261693),\n",
       " ('T', 0.200000002980232, 0.13614245742135836),\n",
       " ('V', 0.560000002384186, 0.48563048214945387),\n",
       " ('W', 0.0799999982118607, 0.0),\n",
       " ('Y', 0.419999986886978, 0.16195710423968998)]"
      ]
     },
     "execution_count": 6,
     "metadata": {},
     "output_type": "execute_result"
    }
   ],
   "source": [
    "A=[]\n",
    "for i in range(data.shape[0]):\n",
    "    pep=data['PeptidesPassedNEHfilters.Peptide'][i].upper()\n",
    "    temp=[]\n",
    "    for c in aa.keys():\n",
    "        temp.append((float)(pep.count(c)))\n",
    "    A.append(temp)\n",
    "b=[(float)(x) for x in data['PeptidesPassedNEHfilters.APE_NEH']]\n",
    "# b=[(float)(x) for x in data['PeptidesPassedNEHfilters.T_NEH']]\n",
    "\n",
    "keys=list(aa.keys())\n",
    "[(keys[i],aa[keys[i]],val) for i,val in enumerate(nnls(A, b)[0])]"
   ]
  },
  {
   "cell_type": "code",
   "execution_count": 7,
   "id": "1097db66",
   "metadata": {},
   "outputs": [
    {
     "data": {
      "text/plain": [
       "matrix([[ 4.16692557],\n",
       "        [ 1.41716481],\n",
       "        [ 1.32930357],\n",
       "        [ 3.63578471],\n",
       "        [ 0.22888977],\n",
       "        [ 2.13803289],\n",
       "        [ 3.26539794],\n",
       "        [ 1.12761516],\n",
       "        [ 0.87801604],\n",
       "        [ 0.4306182 ],\n",
       "        [ 1.22805349],\n",
       "        [ 2.10953067],\n",
       "        [ 2.98452738],\n",
       "        [ 3.85285848],\n",
       "        [ 4.21000232],\n",
       "        [ 2.83946263],\n",
       "        [ 0.13616743],\n",
       "        [ 0.48498653],\n",
       "        [-0.04172765],\n",
       "        [ 0.16111471]])"
      ]
     },
     "execution_count": 7,
     "metadata": {},
     "output_type": "execute_result"
    }
   ],
   "source": [
    "A=np.array(A)\n",
    "A=pd.DataFrame(A)\n",
    "A.to_csv(\"A.csv\",index=False)\n",
    "\n",
    "b=np.array(b)\n",
    "b=pd.DataFrame(b)\n",
    "b.to_csv(\"b.csv\",index=False)\n",
    "\n",
    "A=np.matrix(A)\n",
    "b=np.matrix(b)\n",
    "\n",
    "np.linalg.inv(np.transpose(A) * A)* np.transpose(A)*b"
   ]
  },
  {
   "cell_type": "code",
   "execution_count": null,
   "id": "dfe3c070",
   "metadata": {},
   "outputs": [],
   "source": []
  },
  {
   "cell_type": "code",
   "execution_count": null,
   "id": "a2a8ba6a",
   "metadata": {},
   "outputs": [],
   "source": []
  }
 ],
 "metadata": {
  "kernelspec": {
   "display_name": "Python 3 (ipykernel)",
   "language": "python",
   "name": "python3"
  },
  "language_info": {
   "codemirror_mode": {
    "name": "ipython",
    "version": 3
   },
   "file_extension": ".py",
   "mimetype": "text/x-python",
   "name": "python",
   "nbconvert_exporter": "python",
   "pygments_lexer": "ipython3",
   "version": "3.9.11"
  }
 },
 "nbformat": 4,
 "nbformat_minor": 5
}
