{
 "cells": [
  {
   "cell_type": "code",
   "execution_count": null,
   "id": "6757e1f0",
   "metadata": {},
   "outputs": [],
   "source": [
    "import os\n",
    "import math\n",
    "import random\n",
    "import warnings\n",
    "import numpy as np\n",
    "import pandas as pd \n",
    "from sklearn import metrics\n",
    "from matplotlib import pyplot as plt\n",
    "\n",
    "warnings.filterwarnings(\"ignore\")"
   ]
  },
  {
   "cell_type": "code",
   "execution_count": null,
   "id": "b987024b",
   "metadata": {
    "scrolled": true
   },
   "outputs": [],
   "source": [
    "# data=pd.read_csv(r\"C:\\Workplace\\C++\\d2ome_restructure\\d2ome_restructure\\d2ome_GUI\\d2ome_GUI\\v2\\bin\\Debug\\Estimated_AA_neh_numbers_liverpool_liver_.csv\")\n",
    "# data=data.dropna()\n",
    "# data=data.sort_values(by=\"Tritium\")\n",
    "# print(data.shape)\n",
    "# data['symbol']=[x.split('(')[1].replace(')','') for x in data.AA_name]\n",
    "# data.head(20)"
   ]
  },
  {
   "cell_type": "code",
   "execution_count": null,
   "id": "8e68fbf3",
   "metadata": {},
   "outputs": [],
   "source": [
    "# data.corr()"
   ]
  },
  {
   "cell_type": "code",
   "execution_count": null,
   "id": "6dad6197",
   "metadata": {},
   "outputs": [],
   "source": [
    "# Asym_NEH=abs(data.Tritium - data.Asym_NEH)/data.Tritium\n",
    "# print('Asym_NEH',np.median(Asym_NEH),np.std(Asym_NEH))\n",
    "\n",
    "# APE=abs(data.Tritium - data.APE)/data.Tritium\n",
    "# print('APE',np.median(APE),np.std(APE))\n",
    "\n",
    "# MPE=abs(data.Tritium - data.MPE)/data.Tritium\n",
    "# print('MPE',np.median(MPE),np.std(MPE))"
   ]
  },
  {
   "cell_type": "code",
   "execution_count": null,
   "id": "6993c792",
   "metadata": {
    "scrolled": true
   },
   "outputs": [],
   "source": [
    "data2=pd.read_csv(r\"Estimated_AA_neh_numbers_utmb-liver_.csv\")\n",
    "# data2=data2.dropna()\n",
    "data2=data2.sort_values(by=\"Tritium\")\n",
    "print(data2.shape)\n",
    "data2['symbol']=[x.split('(')[1].replace(')','') for x in data2.AA_name]\n",
    "data2.head(20)"
   ]
  },
  {
   "cell_type": "code",
   "execution_count": null,
   "id": "c739e552",
   "metadata": {},
   "outputs": [],
   "source": [
    "data2.corr()"
   ]
  },
  {
   "cell_type": "code",
   "execution_count": null,
   "id": "6b26872d",
   "metadata": {},
   "outputs": [],
   "source": [
    "Asym_NEH=abs(data2.Tritium - data2.Asym_NEH)/data2.Tritium\n",
    "print('Asym_NEH',np.median(Asym_NEH),np.std(Asym_NEH))\n",
    "\n",
    "APE=abs(data2.Tritium - data2.APE)/data2.Tritium\n",
    "print('APE',np.median(APE),np.std(APE))\n",
    "\n",
    "MPE=abs(data2.Tritium - data2.MPE)/data2.Tritium\n",
    "print('MPE',np.median(MPE),np.std(MPE))"
   ]
  },
  {
   "cell_type": "code",
   "execution_count": null,
   "id": "494365d3",
   "metadata": {},
   "outputs": [],
   "source": [
    "aa_sh_name={'Q':'Gln (Q)','N':'Asn (N)','S':'Ser (S)','G':'Gly (G)','T':'Thr (T)','A':'Ala (A)','D':'Asp (D)','P':'Pro (P)',\n",
    "            'M':'Met (M)','V':'Val (V)','E':'Glu (E)','H':'His (H)','K':'Lys (K)','L':'Leu (L)','I':'Ile (I)','F':'Phe (F)',\n",
    "            'C':'Cys (C)','Y':'Tyr (Y)','R':'Arg (R)','W':'Trp (W)',}"
   ]
  },
  {
   "cell_type": "code",
   "execution_count": null,
   "id": "0d01dca4",
   "metadata": {},
   "outputs": [],
   "source": [
    "def plot_neh_aa(input_data,filename):\n",
    "    cols=['Asym_NEH', 'APE', 'MPE']\n",
    "    col_cis=['Asym_NEH_ci', 'APE_ci','MPE_ci']\n",
    "    plt.rc('font', size=17) \n",
    "    plt.rc('figure', figsize=(18,7)) \n",
    "    plt.errorbar(range(0,40,2), input_data['Tritium'], [0]*20,fmt ='*',mfc='r',color=\"r\",ms=10)\n",
    "    \n",
    "    cs=['m','b','g']\n",
    "#     label=['Asymp', 'APE', 'MPE']\n",
    "    label=[r\"${N_{EH}},using\\: the\\: monoisotopic\\: RIA\\: at\\: the\\: plateau\\: of\\: labeling$\",\n",
    "           r\"${N_{EH}},\\:residual \\:sum \\:of \\:squares$\",\n",
    "            r\"${N_{EH}},molecular\\:percent\\:enrichment\\:of\\:mass\\:isotopomers$\"]\n",
    "    \n",
    "    for i in range(3):\n",
    "        col=cols[i]\n",
    "        col_ci=col_cis[i] \n",
    "        if i ==0: k=-1\n",
    "        else: k= i\n",
    "            \n",
    "        print(\"============> \",col,\"\\t\")\n",
    "        plt.errorbar([x+0.3*k for x in range(0,40,2)], input_data[col], input_data[col_ci],\n",
    "                     fmt ='o',mfc=cs[i],color=cs[i],ms=6,label=label[i],capsize=5)\n",
    "    \n",
    "#     plt.xticks(range(0,40,2),input_data.AA_name,rotation=90)\n",
    "    plt.xticks(range(0,40,2),[aa_sh_name[x] for x in input_data.symbol],rotation=90)\n",
    "    plt.ylabel(\"Number of exchangeable hydrogens\")    \n",
    "    \n",
    "    plt.legend()\n",
    "    plt.savefig(filename+\"_CI.jpeg\",dpi=900,bbox_inches='tight')\n",
    "    plt.show()"
   ]
  },
  {
   "cell_type": "code",
   "execution_count": null,
   "id": "91143add",
   "metadata": {
    "scrolled": false
   },
   "outputs": [],
   "source": [
    "# plot_neh_aa(data,'lv')\n",
    "plot_neh_aa(data2,'utmb')"
   ]
  },
  {
   "cell_type": "code",
   "execution_count": null,
   "id": "1165ea4c",
   "metadata": {},
   "outputs": [],
   "source": [
    "il={'A':3.41,     'C':1.49,     'D':2.490,     'E':3.58,     'F':0.418,     'G':1.844,    'H':1.372,     'I':0.592,\n",
    "     'K':0.121,     'L':0.634,     'M':0.994,     'N':0.674,    'P':0.78,     'Q':3.517,     'R':1.326,     'S':1.574,\n",
    "     'T':0.097,    'V':0.591,     'W':0.003,     'Y':0.74}\n",
    "ck={'Q':3.67,'N':0.69,'S':1.61,'G':1.34,'T':0.10,'A':4.59,'D':2.55,'P':0.57,'M':1.02,'V':0.78,'E':3.67,\n",
    "    'H':1.40,'K':0.12,'L':1.30,'I':0.76,'F':0.84,'C':1.53,'Y':0.75,'R':1.36,'W':0.00,}\n",
    "data2[\"il\"]=[il[c] for c in data2.symbol]\n",
    "data2[\"ck\"]=[ck[c] for c in data2.symbol]\n",
    "\n",
    "def plot_neh_aa(input_data,filename):\n",
    "    cols=['Asym_NEH', 'APE', 'MPE']\n",
    "    col_cis=['Asym_NEH_ci', 'APE_ci','MPE_ci']\n",
    "    plt.rc('font', size=17) \n",
    "    plt.rc('figure', figsize=(18,9)) \n",
    "#     plt.errorbar(range(0,40,2), input_data['Tritium'], [0]*20,fmt ='*',mfc='r',color=\"r\",ms=10,label='Commerford et al.')\n",
    "    \n",
    "    \n",
    "    temp_x=[x-0.5 for x in range(0,60,3)]    \n",
    "    plt.scatter(temp_x, input_data['Tritium'],marker='*',s=80, color=\"r\",label='Commerford et al.')    \n",
    "    plt.scatter(temp_x, input_data['il'],marker='+',s=80, color=\"k\",alpha=0.9,label='Ilchenko et al.')\n",
    "#     plt.scatter(temp_x, input_data['ck'],marker='x',s=80, color=\"k\",alpha=0.7,label='Peinado‐Izaguerri, Jorge, et al.')\n",
    "    \n",
    "    cs=['m','b','g']\n",
    "    label=['Asymp', 'APE', 'MPE']\n",
    "    \n",
    "    label=[r\"${N_{EH}},using\\: the\\: monoisotopic\\: RIA\\: at\\: the\\: plateau\\: of\\: labeling$\",\n",
    "           r\"${N_{EH}},\\:residual \\:sum \\:of \\:squares$\",\n",
    "            r\"${N_{EH}},molecular\\:percent\\:enrichment\\:of\\:mass\\:isotopomers$\"]\n",
    "    \n",
    "    \n",
    "    for i in range(3):\n",
    "        col=cols[i]\n",
    "        col_ci=col_cis[i] \n",
    "        k=i\n",
    "#         if i ==0: k=-1\n",
    "#         else: k= i\n",
    "            \n",
    "        print(\"============> \",col,\"\\t\")\n",
    "        plt.errorbar([x+0.3*k for x in range(0,60,3)], input_data[col], input_data[col_ci],\n",
    "                     fmt ='o',mfc=cs[i],color=cs[i],ms=6,label=label[i],capsize=5)\n",
    "    \n",
    "#     plt.xticks(range(0,60,3),input_data.AA_name,rotation=90)\n",
    "    plt.xticks(range(0,60,3),[aa_sh_name[x] for x in input_data.symbol],rotation=90)\n",
    "    plt.ylabel(\"Number of exchangeable hydrogens\")    \n",
    "    \n",
    "    plt.legend()\n",
    "#     plt.grid()\n",
    "    plt.savefig(filename+\"_CI.jpeg\",dpi=900,bbox_inches='tight')\n",
    "    plt.show()\n",
    "    \n",
    "plot_neh_aa(data2,'utmb2')"
   ]
  },
  {
   "cell_type": "code",
   "execution_count": null,
   "id": "08a3b96c",
   "metadata": {},
   "outputs": [],
   "source": []
  },
  {
   "cell_type": "code",
   "execution_count": null,
   "id": "9b19a916",
   "metadata": {},
   "outputs": [],
   "source": []
  }
 ],
 "metadata": {
  "kernelspec": {
   "display_name": "Python 3 (ipykernel)",
   "language": "python",
   "name": "python3"
  },
  "language_info": {
   "codemirror_mode": {
    "name": "ipython",
    "version": 3
   },
   "file_extension": ".py",
   "mimetype": "text/x-python",
   "name": "python",
   "nbconvert_exporter": "python",
   "pygments_lexer": "ipython3",
   "version": "3.9.11"
  }
 },
 "nbformat": 4,
 "nbformat_minor": 5
}
