{
 "cells": [
  {
   "cell_type": "code",
   "execution_count": 1,
   "id": "36843043",
   "metadata": {},
   "outputs": [],
   "source": [
    "import numpy as np\n",
    "import pandas as pd\n",
    "from scipy.optimize import nnls\n",
    "from matplotlib import pyplot as plt\n",
    "from scipy.stats import norm,rv_continuous"
   ]
  },
  {
   "cell_type": "code",
   "execution_count": 2,
   "id": "04e36d3a",
   "metadata": {},
   "outputs": [],
   "source": [
    "data=pd.read_csv(r\"data.csv\")\n",
    "aa={'A':4,'C':1.62000000476837,'D':1.88999998569489,'E':3.95000004768372,'F':0.319999992847443,'G':2.05999994277954,\n",
    "    'H':2.88000011444092,'I':1,'K':0.540000021457672,'L':0.600000023841858,'M':1.12000000476837,'N':1.88999998569489,\n",
    "    'P':2.58999991416931,'Q':3.95000004768372,'R':3.4300000667572,'S':2.60999989509583,'T':0.200000002980232,\n",
    "    'V':0.560000002384186,'W':0.0799999982118607,'Y':0.419999986886978,}"
   ]
  },
  {
   "cell_type": "code",
   "execution_count": 3,
   "id": "48f3f8af",
   "metadata": {},
   "outputs": [
    {
     "name": "stdout",
     "output_type": "stream",
     "text": [
      "80.9800033569336 -0.2000007629395011 -0.17980017331734852 1.2382304442000105\n",
      "ModeResult(mode=array([-0.22999954]), count=array([12]))\n"
     ]
    },
    {
     "data": {
      "text/plain": [
       "(-0.17980017331734852, 1.2382304442000105)"
      ]
     },
     "execution_count": 3,
     "metadata": {},
     "output_type": "execute_result"
    }
   ],
   "source": [
    "print(\n",
    "max(data['PeptidesPassedNEHfilters.T_NEH']),\n",
    "np.median(data['PeptidesPassedNEHfilters.T_NEH'] -data['PeptidesPassedNEHfilters.APE_NEH']),\n",
    "np.mean(data['PeptidesPassedNEHfilters.T_NEH'] -data['PeptidesPassedNEHfilters.APE_NEH']),\n",
    "np.std(data['PeptidesPassedNEHfilters.T_NEH'] -data['PeptidesPassedNEHfilters.APE_NEH'])\n",
    ")\n",
    "\n",
    "from scipy import stats\n",
    "m = stats.mode((data['PeptidesPassedNEHfilters.T_NEH'] -data['PeptidesPassedNEHfilters.APE_NEH']))\n",
    "print(m)\n",
    "\n",
    "norm.fit(data['PeptidesPassedNEHfilters.T_NEH'] -data['PeptidesPassedNEHfilters.APE_NEH'])"
   ]
  },
  {
   "cell_type": "code",
   "execution_count": 7,
   "id": "465adbbe",
   "metadata": {},
   "outputs": [
    {
     "data": {
      "text/plain": [
       "[('A', 4, 3.999999988631074),\n",
       " ('C', 1.62000000476837, 1.6199999173617556),\n",
       " ('D', 1.88999998569489, 1.8900000293669756),\n",
       " ('E', 3.95000004768372, 3.950000021940323),\n",
       " ('F', 0.319999992847443, 0.31999999191742895),\n",
       " ('G', 2.05999994277954, 2.0599999709403636),\n",
       " ('H', 2.88000011444092, 2.87999995781649),\n",
       " ('I', 1, 1.0000000069954849),\n",
       " ('K', 0.540000021457672, 0.5399999770436296),\n",
       " ('L', 0.600000023841858, 0.6000000155211551),\n",
       " ('M', 1.12000000476837, 1.1199999588943614),\n",
       " ('N', 1.88999998569489, 1.8900000006483961),\n",
       " ('P', 2.58999991416931, 2.5900000147275466),\n",
       " ('Q', 3.95000004768372, 3.94999998457317),\n",
       " ('R', 3.4300000667572, 3.429999942293561),\n",
       " ('S', 2.60999989509583, 2.609999991752013),\n",
       " ('T', 0.200000002980232, 0.2000000073425629),\n",
       " ('V', 0.560000002384186, 0.5600000310324071),\n",
       " ('W', 0.0799999982118607, 0.07999999732748657),\n",
       " ('Y', 0.419999986886978, 0.42000005540814933)]"
      ]
     },
     "execution_count": 7,
     "metadata": {},
     "output_type": "execute_result"
    }
   ],
   "source": [
    "A=[]\n",
    "for i in range(data.shape[0]):\n",
    "    pep=data['PeptidesPassedNEHfilters.Peptide'][i].upper()\n",
    "    temp=[]\n",
    "    for c in aa.keys():\n",
    "        temp.append((float)(pep.count(c)))\n",
    "    A.append(temp)\n",
    "# b=[(float)(x) for x in data['PeptidesPassedNEHfilters.APE_NEH']]\n",
    "b=[(float)(x) for x in data['PeptidesPassedNEHfilters.T_NEH']]\n",
    "\n",
    "keys=list(aa.keys())\n",
    "[(keys[i],aa[keys[i]],val) for i,val in enumerate(nnls(A, b)[0])]"
   ]
  },
  {
   "cell_type": "code",
   "execution_count": 8,
   "id": "fdf511a9",
   "metadata": {},
   "outputs": [
    {
     "data": {
      "text/plain": [
       "[('A', 4, 4.167054901487094),\n",
       " ('C', 1.62000000476837, 1.415808289940419),\n",
       " ('D', 1.88999998569489, 1.3278355576732874),\n",
       " ('E', 3.95000004768372, 3.6346851670252853),\n",
       " ('F', 0.319999992847443, 0.22942272712194092),\n",
       " ('G', 2.05999994277954, 2.1373269206151924),\n",
       " ('H', 2.88000011444092, 3.2627844538647905),\n",
       " ('I', 1, 1.1291217610022661),\n",
       " ('K', 0.540000021457672, 0.8757157604145703),\n",
       " ('L', 0.600000023841858, 0.4312749488639191),\n",
       " ('M', 1.12000000476837, 1.227110885361943),\n",
       " ('N', 1.88999998569489, 2.1069828752535753),\n",
       " ('P', 2.58999991416931, 2.982517556958995),\n",
       " ('Q', 3.95000004768372, 3.8529357824721884),\n",
       " ('R', 3.4300000667572, 4.20645077599214),\n",
       " ('S', 2.60999989509583, 2.8382642621261693),\n",
       " ('T', 0.200000002980232, 0.13614245742135836),\n",
       " ('V', 0.560000002384186, 0.48563048214945387),\n",
       " ('W', 0.0799999982118607, 0.0),\n",
       " ('Y', 0.419999986886978, 0.16195710423968998)]"
      ]
     },
     "execution_count": 8,
     "metadata": {},
     "output_type": "execute_result"
    }
   ],
   "source": [
    "A=[]\n",
    "for i in range(data.shape[0]):\n",
    "    pep=data['PeptidesPassedNEHfilters.Peptide'][i].upper()\n",
    "    temp=[]\n",
    "    for c in aa.keys():\n",
    "        temp.append((float)(pep.count(c)))\n",
    "    A.append(temp)\n",
    "b=[(float)(x) for x in data['PeptidesPassedNEHfilters.APE_NEH']]\n",
    "# b=[(float)(x) for x in data['PeptidesPassedNEHfilters.T_NEH']]\n",
    "\n",
    "keys=list(aa.keys())\n",
    "[(keys[i],aa[keys[i]],val) for i,val in enumerate(nnls(A, b)[0])]"
   ]
  },
  {
   "cell_type": "code",
   "execution_count": 10,
   "id": "32a06816",
   "metadata": {},
   "outputs": [
    {
     "data": {
      "text/plain": [
       "matrix([[ 4.16692557],\n",
       "        [ 1.41716481],\n",
       "        [ 1.32930357],\n",
       "        [ 3.63578471],\n",
       "        [ 0.22888977],\n",
       "        [ 2.13803289],\n",
       "        [ 3.26539794],\n",
       "        [ 1.12761516],\n",
       "        [ 0.87801604],\n",
       "        [ 0.4306182 ],\n",
       "        [ 1.22805349],\n",
       "        [ 2.10953067],\n",
       "        [ 2.98452738],\n",
       "        [ 3.85285848],\n",
       "        [ 4.21000232],\n",
       "        [ 2.83946263],\n",
       "        [ 0.13616743],\n",
       "        [ 0.48498653],\n",
       "        [-0.04172765],\n",
       "        [ 0.16111471]])"
      ]
     },
     "execution_count": 10,
     "metadata": {},
     "output_type": "execute_result"
    }
   ],
   "source": [
    "A=np.array(A)\n",
    "A=pd.DataFrame(A)\n",
    "A.to_csv(\"A.csv\",index=False)\n",
    "\n",
    "b=np.array(b)\n",
    "b=pd.DataFrame(b)\n",
    "b.to_csv(\"b.csv\",index=False)\n",
    "\n",
    "A=np.matrix(A)\n",
    "b=np.matrix(b)\n",
    "\n",
    "np.linalg.inv(np.transpose(A) * A)* np.transpose(A)*b"
   ]
  },
  {
   "cell_type": "code",
   "execution_count": null,
   "id": "1d2bd0bd",
   "metadata": {},
   "outputs": [],
   "source": []
  }
 ],
 "metadata": {
  "kernelspec": {
   "display_name": "Python 3 (ipykernel)",
   "language": "python",
   "name": "python3"
  },
  "language_info": {
   "codemirror_mode": {
    "name": "ipython",
    "version": 3
   },
   "file_extension": ".py",
   "mimetype": "text/x-python",
   "name": "python",
   "nbconvert_exporter": "python",
   "pygments_lexer": "ipython3",
   "version": "3.9.11"
  }
 },
 "nbformat": 4,
 "nbformat_minor": 5
}
