{
 "cells": [
  {
   "cell_type": "code",
   "execution_count": 64,
   "id": "ad00976d",
   "metadata": {},
   "outputs": [],
   "source": [
    "import numpy as np\n",
    "import pandas as pd\n",
    "from scipy.optimize import nnls\n",
    "from matplotlib import pyplot as plt\n",
    "from scipy.stats import norm,rv_continuous"
   ]
  },
  {
   "cell_type": "code",
   "execution_count": 61,
   "id": "733147d2",
   "metadata": {},
   "outputs": [],
   "source": [
    "# import os\n",
    "# os.getcwd()"
   ]
  },
  {
   "cell_type": "code",
   "execution_count": 62,
   "id": "449a3ad2",
   "metadata": {},
   "outputs": [],
   "source": [
    "data=pd.read_csv(r\"C:\\Workplace\\C#\\Test\\Test_test\\ConsoleApp2\\bin\\Debug\\ms.csv\")\n",
    "aa={'A':5,'C':2,'D':2,'E':5,'F':1,'G':2,'H':3,'I':1,'K':4,'L':1,'M':1,'N':2,'P':3,\n",
    "'Q':5,'R':2,'S':3,'T':0,'V':1,'W':0,'Y':1}"
   ]
  },
  {
   "cell_type": "code",
   "execution_count": 69,
   "id": "38a692a1",
   "metadata": {},
   "outputs": [
    {
     "name": "stdout",
     "output_type": "stream",
     "text": [
      "112.100006103516 -0.2000007629394993 -0.14813594242184708 1.4554250744918085\n",
      "ModeResult(mode=array([-0.90000153]), count=array([33]))\n"
     ]
    },
    {
     "data": {
      "text/plain": [
       "(-0.14813594242184708, 1.4554250744918085)"
      ]
     },
     "execution_count": 69,
     "metadata": {},
     "output_type": "execute_result"
    }
   ],
   "source": [
    "print(\n",
    "max(data['PeptidesPassedNEHfilters.T_NEH']),\n",
    "np.median(data['PeptidesPassedNEHfilters.T_NEH'] -data['PeptidesPassedNEHfilters.APE_NEH']),\n",
    "np.mean(data['PeptidesPassedNEHfilters.T_NEH'] -data['PeptidesPassedNEHfilters.APE_NEH']),\n",
    "np.std(data['PeptidesPassedNEHfilters.T_NEH'] -data['PeptidesPassedNEHfilters.APE_NEH'])\n",
    ")\n",
    "\n",
    "from scipy import stats\n",
    "m = stats.mode((data['PeptidesPassedNEHfilters.T_NEH'] -data['PeptidesPassedNEHfilters.APE_NEH']))\n",
    "print(m)\n",
    "\n",
    "norm.fit(data['PeptidesPassedNEHfilters.T_NEH'] -data['PeptidesPassedNEHfilters.APE_NEH'])"
   ]
  },
  {
   "cell_type": "code",
   "execution_count": 67,
   "id": "70a65043",
   "metadata": {},
   "outputs": [],
   "source": [
    "# rv_continuous.fit(data=(data['PeptidesPassedNEHfilters.T_NEH'] -data['PeptidesPassedNEHfilters.APE_NEH']))"
   ]
  },
  {
   "cell_type": "code",
   "execution_count": 33,
   "id": "793e2e0a",
   "metadata": {},
   "outputs": [],
   "source": [
    "# # data.columns\n",
    "# # data.shape\n",
    "# plt.scatter(data['PeptidesPassedNEHfilters.T_NEH'],data['PeptidesPassedNEHfilters.APE_NEH'])"
   ]
  },
  {
   "cell_type": "code",
   "execution_count": 50,
   "id": "d38aceda",
   "metadata": {},
   "outputs": [],
   "source": [
    "A=[]\n",
    "for i in range(data.shape[0]):\n",
    "    pep=data['PeptidesPassedNEHfilters.Peptide'][i].upper()\n",
    "    temp=[]\n",
    "    for c in aa.keys():\n",
    "        temp.append((float)(pep.count(c)))\n",
    "    A.append(temp)\n",
    "b=[(float)(x) for x in data['PeptidesPassedNEHfilters.APE_NEH']]\n",
    "# b=[(float)(x) for x in data['PeptidesPassedNEHfilters.T_NEH']]"
   ]
  },
  {
   "cell_type": "code",
   "execution_count": 51,
   "id": "2a83844d",
   "metadata": {},
   "outputs": [
    {
     "data": {
      "text/plain": [
       "978"
      ]
     },
     "execution_count": 51,
     "metadata": {},
     "output_type": "execute_result"
    }
   ],
   "source": [
    "len([x for x in data['PeptidesPassedNEHfilters.Peptide'] if 'R' in x])"
   ]
  },
  {
   "cell_type": "code",
   "execution_count": 52,
   "id": "3db4e305",
   "metadata": {},
   "outputs": [
    {
     "data": {
      "text/plain": [
       "[('A', 4.45892084514252),\n",
       " ('C', 2.1061315980525888),\n",
       " ('D', 1.6445459818992332),\n",
       " ('E', 4.6345944589198975),\n",
       " ('F', 3.1457096104150657),\n",
       " ('G', 2.559876427038051),\n",
       " ('H', 4.194255898381952),\n",
       " ('I', 1.4234656836781083),\n",
       " ('K', 4.909578252255584),\n",
       " ('L', 1.06132985875207),\n",
       " ('M', 1.359702417073248),\n",
       " ('N', 2.7117754601927184),\n",
       " ('P', 4.148329794617304),\n",
       " ('Q', 4.866952146730484),\n",
       " ('R', 3.197475888086775),\n",
       " ('S', 4.01444362205605),\n",
       " ('T', 0.0),\n",
       " ('V', 1.1500398527110247),\n",
       " ('W', 0.0),\n",
       " ('Y', 0.9576365210807741)]"
      ]
     },
     "execution_count": 52,
     "metadata": {},
     "output_type": "execute_result"
    }
   ],
   "source": [
    "keys=list(aa.keys())\n",
    "[(keys[i],val) for i,val in enumerate(nnls(A, b)[0])] #aa[keys[i]]  ,"
   ]
  },
  {
   "cell_type": "code",
   "execution_count": 53,
   "id": "17a2e56b",
   "metadata": {
    "scrolled": false
   },
   "outputs": [],
   "source": [
    "# keys=list(aa.keys())\n",
    "# [(keys[i],aa[keys[i]]  ,val) for i,val in enumerate(nnls(A, b)[0])]"
   ]
  },
  {
   "cell_type": "code",
   "execution_count": 54,
   "id": "bf6dab10",
   "metadata": {},
   "outputs": [],
   "source": [
    "A=np.array(A)\n",
    "A=pd.DataFrame(A)\n",
    "A.to_csv(\"A.csv\",index=False)"
   ]
  },
  {
   "cell_type": "code",
   "execution_count": 55,
   "id": "e8a2416d",
   "metadata": {},
   "outputs": [],
   "source": [
    "b=np.array(b)\n",
    "b=pd.DataFrame(b)\n",
    "b.to_csv(\"b.csv\",index=False)"
   ]
  },
  {
   "cell_type": "code",
   "execution_count": 56,
   "id": "074ac677",
   "metadata": {},
   "outputs": [],
   "source": [
    "A=np.matrix(A)\n",
    "b=np.matrix(b)"
   ]
  },
  {
   "cell_type": "code",
   "execution_count": 57,
   "id": "3387d82c",
   "metadata": {},
   "outputs": [
    {
     "data": {
      "text/plain": [
       "matrix([[ 4.463223  ],\n",
       "        [ 2.11895403],\n",
       "        [ 1.64558004],\n",
       "        [ 4.63659349],\n",
       "        [ 3.14791842],\n",
       "        [ 2.56924587],\n",
       "        [ 4.21393189],\n",
       "        [ 1.42197114],\n",
       "        [ 4.93430346],\n",
       "        [ 1.06261586],\n",
       "        [ 1.37022232],\n",
       "        [ 2.72561914],\n",
       "        [ 4.16062705],\n",
       "        [ 4.86513269],\n",
       "        [ 3.23563751],\n",
       "        [ 4.02596603],\n",
       "        [-0.07575869],\n",
       "        [ 1.15406722],\n",
       "        [-0.169027  ],\n",
       "        [ 0.95517576]])"
      ]
     },
     "execution_count": 57,
     "metadata": {},
     "output_type": "execute_result"
    }
   ],
   "source": [
    "np.linalg.inv(np.transpose(A) * A)* np.transpose(A)*b"
   ]
  },
  {
   "cell_type": "code",
   "execution_count": 58,
   "id": "651f8ca6",
   "metadata": {},
   "outputs": [
    {
     "data": {
      "text/plain": [
       "matrix([[ 4.27995956],\n",
       "        [ 2.26303306],\n",
       "        [ 2.29419551],\n",
       "        [ 4.99631805],\n",
       "        [ 3.26039192],\n",
       "        [ 2.49796828],\n",
       "        [ 3.74364634],\n",
       "        [ 1.23868611],\n",
       "        [ 4.28282721],\n",
       "        [ 1.22683814],\n",
       "        [ 1.2039145 ],\n",
       "        [ 2.50155528],\n",
       "        [ 3.76768924],\n",
       "        [ 4.9906294 ],\n",
       "        [ 2.036132  ],\n",
       "        [ 3.73135634],\n",
       "        [-0.02222466],\n",
       "        [ 1.23229342],\n",
       "        [-0.02585835],\n",
       "        [ 1.21436642]])"
      ]
     },
     "execution_count": 58,
     "metadata": {},
     "output_type": "execute_result"
    }
   ],
   "source": [
    "AA=np.array(pd.read_csv(r\"C:\\Workplace\\C#\\Test\\Test_test\\ConsoleApp2\\bin\\Debug\\coef_m_a.csv\"))\n",
    "AA=AA.reshape(20,data.shape[0])\n",
    "bb=np.array(pd.read_csv(r\"C:\\Workplace\\C#\\Test\\Test_test\\ConsoleApp2\\bin\\Debug\\b.csv\"))\n",
    "\n",
    "AA=np.matrix(AA)\n",
    "AA=np.transpose(AA)\n",
    "bb=np.matrix(bb)\n",
    "np.linalg.inv(np.transpose(AA) * AA)* np.transpose(AA)*bb"
   ]
  },
  {
   "cell_type": "code",
   "execution_count": null,
   "id": "9c4c4752",
   "metadata": {},
   "outputs": [],
   "source": []
  },
  {
   "cell_type": "code",
   "execution_count": 85,
   "id": "053a6ae6",
   "metadata": {},
   "outputs": [
    {
     "data": {
      "text/plain": [
       "matrix([[1., 0., 0., ..., 1., 0., 1.],\n",
       "        [0., 0., 1., ..., 0., 0., 0.],\n",
       "        [1., 0., 0., ..., 1., 0., 1.],\n",
       "        ...,\n",
       "        [3., 0., 0., ..., 3., 0., 0.],\n",
       "        [2., 0., 1., ..., 2., 0., 0.],\n",
       "        [2., 2., 1., ..., 2., 1., 0.]])"
      ]
     },
     "execution_count": 85,
     "metadata": {},
     "output_type": "execute_result"
    }
   ],
   "source": [
    "A"
   ]
  },
  {
   "cell_type": "code",
   "execution_count": 52,
   "id": "11308558",
   "metadata": {},
   "outputs": [
    {
     "data": {
      "text/plain": [
       "matrix([[1, 0, 0, ..., 1, 0, 1],\n",
       "        [0, 0, 1, ..., 0, 0, 0],\n",
       "        [1, 0, 0, ..., 1, 0, 1],\n",
       "        ...,\n",
       "        [3, 0, 0, ..., 3, 0, 0],\n",
       "        [2, 0, 1, ..., 2, 0, 0],\n",
       "        [2, 2, 1, ..., 2, 1, 0]], dtype=int64)"
      ]
     },
     "execution_count": 52,
     "metadata": {},
     "output_type": "execute_result"
    }
   ],
   "source": [
    "AA"
   ]
  },
  {
   "cell_type": "code",
   "execution_count": 53,
   "id": "4d496a30",
   "metadata": {},
   "outputs": [
    {
     "data": {
      "text/plain": [
       "matrix([[20.],\n",
       "        [19.],\n",
       "        [35.],\n",
       "        ...,\n",
       "        [51.],\n",
       "        [54.],\n",
       "        [51.]])"
      ]
     },
     "execution_count": 53,
     "metadata": {},
     "output_type": "execute_result"
    }
   ],
   "source": [
    "b"
   ]
  },
  {
   "cell_type": "code",
   "execution_count": 54,
   "id": "ba1ea03e",
   "metadata": {},
   "outputs": [
    {
     "data": {
      "text/plain": [
       "matrix([[20],\n",
       "        [19],\n",
       "        [35],\n",
       "        ...,\n",
       "        [51],\n",
       "        [54],\n",
       "        [51]], dtype=int64)"
      ]
     },
     "execution_count": 54,
     "metadata": {},
     "output_type": "execute_result"
    }
   ],
   "source": [
    "bb"
   ]
  },
  {
   "cell_type": "code",
   "execution_count": null,
   "id": "dcb42c35",
   "metadata": {},
   "outputs": [],
   "source": [
    "[4.3,2.3,2.3,5,3.3,2.5,3.75,1.25,4.5,1.25,1.25,2.5,3.75,5,2.3,3.75,0,1.25,0,1.25]\n"
   ]
  },
  {
   "cell_type": "code",
   "execution_count": 281,
   "id": "fe47bc85",
   "metadata": {},
   "outputs": [
    {
     "data": {
      "text/plain": [
       "[<matplotlib.lines.Line2D at 0x1d687769eb0>]"
      ]
     },
     "execution_count": 281,
     "metadata": {},
     "output_type": "execute_result"
    },
    {
     "data": {
      "image/png": "[encoded data removed]",
      "text/plain": [
       "<Figure size 432x288 with 1 Axes>"
      ]
     },
     "metadata": {
      "needs_background": "light"
     },
     "output_type": "display_data"
    }
   ],
   "source": [
    "data=pd.read_csv(r\"C:\\Workplace\\C#\\Test\\Test_test\\ConsoleApp2\\bin\\Debug\\ms2.csv\")\n",
    "plt.scatter(data['PeptidesPassedNEHfilters.T_NEH'],data['PeptidesPassedNEHfilters.APE_NEH'])\n",
    "plt.plot(data['PeptidesPassedNEHfilters.T_NEH'],data['PeptidesPassedNEHfilters.T_NEH'],ls=\"-.\",c='r')"
   ]
  },
  {
   "cell_type": "code",
   "execution_count": 22,
   "id": "416b7c58",
   "metadata": {},
   "outputs": [
    {
     "data": {
      "text/plain": [
       "-0.14813594242184708"
      ]
     },
     "execution_count": 22,
     "metadata": {},
     "output_type": "execute_result"
    }
   ],
   "source": [
    "np.mean(data['PeptidesPassedNEHfilters.T_NEH'] -data['PeptidesPassedNEHfilters.APE_NEH'])"
   ]
  },
  {
   "cell_type": "code",
   "execution_count": 21,
   "id": "85ec065e",
   "metadata": {},
   "outputs": [
    {
     "data": {
      "text/plain": [
       "1.4554250744918085"
      ]
     },
     "execution_count": 21,
     "metadata": {},
     "output_type": "execute_result"
    }
   ],
   "source": [
    "np.std(data['PeptidesPassedNEHfilters.T_NEH'] -data['PeptidesPassedNEHfilters.APE_NEH'])"
   ]
  },
  {
   "cell_type": "code",
   "execution_count": null,
   "id": "6e649b97",
   "metadata": {},
   "outputs": [],
   "source": [
    "4,2,2,4,1,2,3,1,1,1,1,2,3,4,4,3,0,1,0,1\n"
   ]
  },
  {
   "cell_type": "code",
   "execution_count": 96,
   "id": "8805f0cf",
   "metadata": {},
   "outputs": [
    {
     "data": {
      "text/plain": [
       "<matplotlib.collections.LineCollection at 0x1a5cf98f430>"
      ]
     },
     "execution_count": 96,
     "metadata": {},
     "output_type": "execute_result"
    },
    {
     "data": {
      "image/png": "[encoded data removed]",
      "text/plain": [
       "<Figure size 432x288 with 1 Axes>"
      ]
     },
     "metadata": {
      "needs_background": "light"
     },
     "output_type": "display_data"
    }
   ],
   "source": [
    "import seaborn as sns\n",
    "import warnings\n",
    "warnings.filterwarnings('ignore')\n",
    "bw=0.15\n",
    "bins=60\n",
    "lw=2\n",
    "mtd=\"scott\"\n",
    "sns.distplot(data['PeptidesPassedNEHfilters.T_NEH'] -data['PeptidesPassedNEHfilters.APE_NEH'], \n",
    "             hist = True,bins=bins, kde = True,\n",
    "                 hist_kws={'alpha':0.3},\n",
    "                     kde_kws = {'shade': False, 'linewidth': lw,'bw':bw,'bw_method':mtd} ,\n",
    "             label=\"\")\n",
    "plt.xlim([-7,7])\n",
    "plt.vlines(x=0,ymin=0,ymax=0.3,ls=\"-.\",color='k')\n",
    "plt.vlines(x=-0.90000153,ymin=0,ymax=0.3,ls=\"-.\",color='r')"
   ]
  },
  {
   "cell_type": "code",
   "execution_count": null,
   "id": "6fdba908",
   "metadata": {},
   "outputs": [],
   "source": []
  }
 ],
 "metadata": {
  "kernelspec": {
   "display_name": "Python 3 (ipykernel)",
   "language": "python",
   "name": "python3"
  },
  "language_info": {
   "codemirror_mode": {
    "name": "ipython",
    "version": 3
   },
   "file_extension": ".py",
   "mimetype": "text/x-python",
   "name": "python",
   "nbconvert_exporter": "python",
   "pygments_lexer": "ipython3",
   "version": "3.9.11"
  }
 },
 "nbformat": 4,
 "nbformat_minor": 5
}
