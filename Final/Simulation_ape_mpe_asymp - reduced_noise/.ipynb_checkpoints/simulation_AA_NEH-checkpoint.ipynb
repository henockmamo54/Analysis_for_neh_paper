{
 "cells": [
  {
   "cell_type": "code",
   "execution_count": 37,
   "id": "c623127c",
   "metadata": {},
   "outputs": [],
   "source": [
    "import os\n",
    "import math\n",
    "import random\n",
    "import warnings\n",
    "import numpy as np\n",
    "import pandas as pd \n",
    "from sklearn import metrics\n",
    "from matplotlib import pyplot as plt\n",
    "import seaborn as sns\n",
    "warnings.filterwarnings(\"ignore\")"
   ]
  },
  {
   "cell_type": "code",
   "execution_count": null,
   "id": "eadaabdb",
   "metadata": {
    "scrolled": true
   },
   "outputs": [],
   "source": [
    "# def plot_aa_count(data,filename):\n",
    "#     res=dict()\n",
    "#     for pep in list(data['PeptidesPassedNEHfilters.Peptide']):\n",
    "#         for c in pep:\n",
    "#             res[c.upper()]=res.get(c.upper(),0)+1\n",
    "#     res=np.array(sorted(res.items(),key= lambda item:item[0],reverse=True))\n",
    "\n",
    "#     plt.rc('font', size=14) \n",
    "#     plt.figure(figsize=(13,9))  \n",
    "\n",
    "#     plt.barh(range(20),[int(x) for x in (res[:,1])],color='k',alpha=0.75)\n",
    "#     plt.yticks(range(20),res[:,0])\n",
    "\n",
    "#     for index, value in enumerate([int(x) for x in (res[:,1])]):\n",
    "#         plt.text(value, index,\n",
    "#                  str(value))\n",
    "\n",
    "# #     plt.savefig(filename,dpi=900,bbox_inches='tight')\n",
    "# #     plt.show()\n",
    "# plot_aa_count(pd.read_csv(r\"C:\\Workplace\\C#\\Test\\Test_test\\ConsoleApp2\\bin\\Debug\\mpe_1000.csv\"),\"mpe_aa_count.jpeg\")\n",
    "# plot_aa_count(pd.read_csv(r\"C:\\Workplace\\C#\\Test\\Test_test\\ConsoleApp2\\bin\\Debug\\ape_1000.csv\"),\"ape_aa_count.jpeg\")\n",
    "# plot_aa_count(pd.read_csv(r\"C:\\Workplace\\C#\\Test\\Test_test\\ConsoleApp2\\bin\\Debug\\asymp_1000.csv\"),\"asymp_aa_count.jpeg\")"
   ]
  },
  {
   "cell_type": "code",
   "execution_count": null,
   "id": "115d54f7",
   "metadata": {},
   "outputs": [],
   "source": []
  },
  {
   "cell_type": "code",
   "execution_count": null,
   "id": "1eb2f85f",
   "metadata": {
    "scrolled": false
   },
   "outputs": [],
   "source": [
    "# plt.rc('font', size=14) \n",
    "# plt.figure(figsize=(16,10)) \n",
    "# def plot_aa_count(data,filename,offset=0):\n",
    "#     color =['m','b','g'][offset]\n",
    "#     label=[r\"${N_{EH}},molecular\\:percent\\:enrichment\\:of\\:mass\\:isotopomers$\",\n",
    "#            r\"${N_{EH}},\\:residual \\:sum \\:of \\:squares$\",\n",
    "#            r\"${N_{EH}},using\\: the\\: monoisotopic\\: RIA\\: at\\: the\\: plateau\\: of\\: labeling$\"][offset]\n",
    "#     res=dict()\n",
    "#     for pep in list(data['PeptidesPassedNEHfilters.Peptide']):\n",
    "#         visited=set()\n",
    "#         for c in (pep):\n",
    "#             if c not in visited:\n",
    "#                 res[c.upper()]=res.get(c.upper(),0)+1\n",
    "#                 visited.add(c)\n",
    "#     res=np.array(sorted(res.items(),key= lambda item:item[1],reverse=False)) \n",
    "    \n",
    "#     temp=range(0,80,4)\n",
    "#     plt.bar([x+offset for x in temp],[int(x) for x in (res[:,1])],color=color,alpha=0.65,label=label)\n",
    "#     plt.xticks([x+offset-1 for x in temp],res[:,0])\n",
    "\n",
    "# #     for index, value in enumerate([int(x) for x in (res[:,1])]):\n",
    "# #         plt.text(value, index,\n",
    "# #                  str(value))\n",
    "\n",
    "# #     plt.savefig(filename,dpi=900,bbox_inches='tight')\n",
    "# #     plt.show()\n",
    "\n",
    "# plot_aa_count(pd.read_csv(r\"C:\\Workplace\\C#\\Test\\Test_test\\ConsoleApp2\\bin\\Debug\\ape_1000.csv\"),\"ape_aa_count.jpeg\",1)\n",
    "# plot_aa_count(pd.read_csv(r\"C:\\Workplace\\C#\\Test\\Test_test\\ConsoleApp2\\bin\\Debug\\mpe_1000.csv\"),\"mpe_aa_count.jpeg\",0)\n",
    "# plot_aa_count(pd.read_csv(r\"C:\\Workplace\\C#\\Test\\Test_test\\ConsoleApp2\\bin\\Debug\\asymp_1000.csv\"),\"asymp_aa_count.jpeg\",2)\n",
    " \n",
    "\n",
    "# plt.legend()\n",
    "# plt.savefig(\"count_aa_eq.jpeg\",dpi=900,bbox_inches='tight')"
   ]
  },
  {
   "cell_type": "code",
   "execution_count": null,
   "id": "862d62da",
   "metadata": {},
   "outputs": [],
   "source": [
    "aa_sh_name={'Q':'Gln (Q)','N':'Asn (N)','S':'Ser (S)','G':'Gly (G)','T':'Thr (T)','A':'Ala (A)','D':'Asp (D)','P':'Pro (P)',\n",
    "            'M':'Met (M)','V':'Val (V)','E':'Glu (E)','H':'His (H)','K':'Lys (K)','L':'Leu (L)','I':'Ile (I)','F':'Phe (F)',\n",
    "            'C':'Cys (C)','Y':'Tyr (Y)','R':'Arg (R)','W':'Trp (W)',}"
   ]
  },
  {
   "cell_type": "code",
   "execution_count": null,
   "id": "e5305168",
   "metadata": {},
   "outputs": [],
   "source": [
    "# data=pd.read_csv(r\"C:\\Workplace\\C#\\Test\\Test_test\\ConsoleApp2\\bin\\Debug\\ape_mpe_aa.csv\")\n",
    "# data1=pd.read_csv(r\"C:\\Workplace\\C#\\Test\\Test_test\\ConsoleApp2\\bin\\Debug\\asymp_aa.csv\")\n",
    "\n",
    "data=pd.read_csv(r\"_data_mpe_ape_aa_2.csv\")\n",
    "data1=pd.read_csv(r\"_data_asymp_aa_2.csv\")\n",
    "\n",
    "data=data.sort_values(by='AAsInfo.AA_NEH_tritium')\n",
    "data1=data1.sort_values(by='AAsInfo.AA_NEH_tritium')"
   ]
  },
  {
   "cell_type": "code",
   "execution_count": null,
   "id": "0c64d4f7",
   "metadata": {},
   "outputs": [],
   "source": [
    "cis=[data['AAsInfo.AA_NEH_MPE_ci'],data['AAsInfo.AA_NEH_APE_ci'],data1['AAsInfo.AA_NEH_Asym_ci']]\n",
    "aa_neh=[data['AAsInfo.AA_NEH_MPE'],data['AAsInfo.AA_NEH_APE'],data1['AAsInfo.AA_NEH_Asym']]\n",
    "\n",
    "plt.rc('font', size=17) \n",
    "plt.rc('figure', figsize=(18,8)) \n",
    "plt.errorbar(range(0,80,4), data['AAsInfo.AA_NEH_tritium'], [0]*20,fmt ='*',mfc='r',color=\"r\",ms=10)\n",
    "cs=['m','b','g']\n",
    "# label=['APE', 'MPE','Asymp']\n",
    "label=[\n",
    "       r\"${N_{EH}},molecular\\:percent\\:enrichment\\:of\\:mass\\:isotopomers$\",\n",
    "        r\"${N_{EH}},\\:residual \\:sum \\:of \\:squares$\",\n",
    "       r\"${N_{EH}},using\\: the\\: monoisotopic\\: RIA\\: at\\: the\\: plateau\\: of\\: labeling$\"]\n",
    "\n",
    "\n",
    "for i in [1,2,0]:# range(3):\n",
    "    col=aa_neh[i]\n",
    "    col_ci=cis[i] \n",
    "    if i ==0: k=-1\n",
    "    else: k= i\n",
    "\n",
    "#     print(\"============> \",col,\"\\t\")\n",
    "    plt.errorbar([x+0.5*k for x in range(0,80,4)], col, col_ci,\n",
    "                 fmt ='o',mfc=cs[i],color=cs[i],ms=6,label=label[i],capsize=5)\n",
    "\n",
    "# plt.xticks(range(0,80,4),data['AAsInfo.AA_name'],rotation=90)\n",
    "plt.xticks(range(0,80,4),[aa_sh_name[x] for x in data['AAsInfo.AA_symbol']],rotation=90)\n",
    "\n",
    "plt.ylabel(\"Number of exchangeable hydrogens\")    \n",
    "\n",
    "# plt.grid()\n",
    "plt.legend()\n",
    "plt.savefig(\"simulation_aa_neh_CI.jpeg\",dpi=900,bbox_inches='tight')\n",
    "plt.show()\n"
   ]
  },
  {
   "cell_type": "code",
   "execution_count": null,
   "id": "6c03b41b",
   "metadata": {},
   "outputs": [],
   "source": []
  },
  {
   "cell_type": "code",
   "execution_count": null,
   "id": "95960ca6",
   "metadata": {},
   "outputs": [],
   "source": []
  },
  {
   "cell_type": "code",
   "execution_count": null,
   "id": "712c12ee",
   "metadata": {},
   "outputs": [],
   "source": []
  }
 ],
 "metadata": {
  "kernelspec": {
   "display_name": "Python 3 (ipykernel)",
   "language": "python",
   "name": "python3"
  },
  "language_info": {
   "codemirror_mode": {
    "name": "ipython",
    "version": 3
   },
   "file_extension": ".py",
   "mimetype": "text/x-python",
   "name": "python",
   "nbconvert_exporter": "python",
   "pygments_lexer": "ipython3",
   "version": "3.9.11"
  }
 },
 "nbformat": 4,
 "nbformat_minor": 5
}
