{
 "cells": [
  {
   "cell_type": "code",
   "execution_count": 52,
   "id": "8805e19e",
   "metadata": {},
   "outputs": [],
   "source": [
    "import numpy as np\n",
    "import pandas as pd\n",
    "from scipy.optimize import nnls"
   ]
  },
  {
   "cell_type": "code",
   "execution_count": 60,
   "id": "c60d0501",
   "metadata": {},
   "outputs": [],
   "source": [
    "data=pd.read_csv(r\"C:\\Workplace\\C#\\Test\\Test_test\\ConsoleApp2\\bin\\Debug\\ms.csv\")\n",
    "aa={'A':5,'C':2,'D':2,'E':5,'F':1,'G':2,'H':3,'I':1,'K':4,'L':1,'M':1,'N':2,'P':3,\n",
    "'Q':5,'R':2,'S':3,'T':0,'V':1,'W':0,'Y':1}"
   ]
  },
  {
   "cell_type": "code",
   "execution_count": 61,
   "id": "dab87908",
   "metadata": {},
   "outputs": [
    {
     "data": {
      "text/plain": [
       "(2252, 22)"
      ]
     },
     "execution_count": 61,
     "metadata": {},
     "output_type": "execute_result"
    }
   ],
   "source": [
    "# data.columns\n",
    "data.shape"
   ]
  },
  {
   "cell_type": "code",
   "execution_count": 62,
   "id": "b3f6f435",
   "metadata": {},
   "outputs": [],
   "source": [
    "A=[]\n",
    "for i in range(data.shape[0]):\n",
    "    pep=data['PeptidesPassedNEHfilters.Peptide'][i].upper()\n",
    "    temp=[]\n",
    "    for c in aa.keys():\n",
    "        temp.append(pep.count(c))\n",
    "    A.append(temp)\n",
    "b=data['PeptidesPassedNEHfilters.T_NEH']"
   ]
  },
  {
   "cell_type": "code",
   "execution_count": 63,
   "id": "5314c14a",
   "metadata": {},
   "outputs": [
    {
     "data": {
      "text/plain": [
       "[('A', 5, 4.999999999999949),\n",
       " ('C', 2, 2.0000000000000013),\n",
       " ('D', 2, 1.999999999999996),\n",
       " ('E', 5, 5.0),\n",
       " ('F', 1, 0.9999999999999993),\n",
       " ('G', 2, 1.9999999999999993),\n",
       " ('H', 3, 3.000000000000007),\n",
       " ('I', 1, 1.0000000000000029),\n",
       " ('K', 4, 3.999999999999998),\n",
       " ('L', 1, 1.0000000000000309),\n",
       " ('M', 1, 1.0000000000000036),\n",
       " ('N', 2, 2.0),\n",
       " ('P', 3, 2.9999999999999893),\n",
       " ('Q', 5, 5.000000000000007),\n",
       " ('R', 2, 2.0000000000000067),\n",
       " ('S', 3, 3.0000000000000018),\n",
       " ('T', 0, 2.760388473393504e-16),\n",
       " ('V', 1, 1.000000000000007),\n",
       " ('W', 0, 0.0),\n",
       " ('Y', 1, 0.9999999999999993)]"
      ]
     },
     "execution_count": 63,
     "metadata": {},
     "output_type": "execute_result"
    }
   ],
   "source": [
    "keys=list(aa.keys())\n",
    "[(keys[i],aa[keys[i]]  ,val) for i,val in enumerate(nnls(A, b)[0])]"
   ]
  },
  {
   "cell_type": "code",
   "execution_count": null,
   "id": "8951cad4",
   "metadata": {},
   "outputs": [],
   "source": []
  },
  {
   "cell_type": "code",
   "execution_count": null,
   "id": "92b85806",
   "metadata": {},
   "outputs": [],
   "source": []
  },
  {
   "cell_type": "code",
   "execution_count": null,
   "id": "ec19ef26",
   "metadata": {},
   "outputs": [],
   "source": []
  }
 ],
 "metadata": {
  "kernelspec": {
   "display_name": "Python 3 (ipykernel)",
   "language": "python",
   "name": "python3"
  },
  "language_info": {
   "codemirror_mode": {
    "name": "ipython",
    "version": 3
   },
   "file_extension": ".py",
   "mimetype": "text/x-python",
   "name": "python",
   "nbconvert_exporter": "python",
   "pygments_lexer": "ipython3",
   "version": "3.9.11"
  }
 },
 "nbformat": 4,
 "nbformat_minor": 5
}
