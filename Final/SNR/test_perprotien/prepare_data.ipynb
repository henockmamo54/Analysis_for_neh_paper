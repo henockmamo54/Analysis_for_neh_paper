{
 "cells": [
  {
   "cell_type": "code",
   "execution_count": 1,
   "id": "3217b7e7",
   "metadata": {},
   "outputs": [],
   "source": [
    "import os\n",
    "import math\n",
    "import random\n",
    "import warnings\n",
    "import numpy as np\n",
    "import pandas as pd \n",
    "from sklearn import metrics\n",
    "from matplotlib import pyplot as plt\n",
    "\n",
    "warnings.filterwarnings(\"ignore\")"
   ]
  },
  {
   "cell_type": "code",
   "execution_count": 2,
   "id": "52ad3b43",
   "metadata": {},
   "outputs": [
    {
     "name": "stdout",
     "output_type": "stream",
     "text": [
      "336\n"
     ]
    }
   ],
   "source": [
    "filespath=r\"C:\\Workplace\\Python\\AnalysisForThePaper\\NEH\\d2ome_output\\Band\\BAND4_01_NEWBWE\"\n",
    "protiens=[ x for x in os.listdir(filespath) if (\".Quant.csv\") in x]\n",
    "res=pd.DataFrame()\n",
    "print(len(protiens))\n",
    "\n",
    "protiens=[x for x in protiens if 'CPSM' in x]"
   ]
  },
  {
   "cell_type": "code",
   "execution_count": 3,
   "id": "1974a1e9",
   "metadata": {},
   "outputs": [],
   "source": [
    "# pd.read_csv(os.path.join(filespath,protein), skiprows=3,index_col=False).columns"
   ]
  },
  {
   "cell_type": "code",
   "execution_count": 4,
   "id": "492b0c5b",
   "metadata": {
    "scrolled": true
   },
   "outputs": [],
   "source": [
    "for i in range(len(protiens)):\n",
    "    protein=protiens[i]\n",
    "    try:\n",
    "        quant=pd.read_csv(os.path.join(filespath,protein), skiprows=3,index_col=False)\n",
    "        rate=pd.read_csv(os.path.join(filespath,protein.replace(\".Quant.csv\",\".Rateconst.csv\")),index_col=False)\n",
    "        quant.columns=[x.strip() for x in quant.columns ]\n",
    "        rate.columns=[x.strip() for x in rate.columns ]\n",
    "        rate=rate[rate.Rsquared.astype('float')>0.97]\n",
    "        quant=quant[['Peptide', 'Charge','Exchangeable Hydrogens',\n",
    "                                                  'M0', 'M1', 'M2', 'M3', 'M4', 'M5',\n",
    "                                                  'I0', 'I1', 'I2', 'I3', 'I4', 'I5',\n",
    "                                                  'I0.11', 'I1.11', 'I2.11', 'I3.11', 'I4.11', 'I5.11']]\n",
    "        rate=rate[['Peptides', 'Charge']]\n",
    "        quant=quant[(quant['I0']!='') & (quant['I0.11']!='')]\n",
    "    except:\n",
    "        quant=pd.read_csv(os.path.join(filespath,protein), skiprows=1,index_col=False)\n",
    "        rate=pd.read_csv(os.path.join(filespath,protein.replace(\".Quant.csv\",\".Rateconst.csv\")),index_col=False)\n",
    "        quant.columns=[x.strip() for x in quant.columns ]\n",
    "        rate.columns=[x.strip() for x in rate.columns ]\n",
    "        rate=rate[rate.Rsquared.astype('float')>0.95]\n",
    "        quant=quant[['Peptide', 'Charge','Exchangeable Hydrogens',\n",
    "                                                  'M0', 'M1', 'M2', 'M3', 'M4', 'M5',\n",
    "                                                  'I0', 'I1', 'I2', 'I3', 'I4', 'I5',\n",
    "                                                  'I0.11', 'I1.11', 'I2.11', 'I3.11', 'I4.11', 'I5.11']]\n",
    "        rate=rate[['Peptides', 'Charge']]\n",
    "        quant=quant[(quant['I0']!='') & (quant['I0.11']!='')]\n",
    "        \n",
    "    \n",
    "    temp=rate.merge(quant, left_on=['Peptides', 'Charge'], right_on=['Peptide', 'Charge'])    \n",
    "    temp[\"Protein\"]=protein.replace(\".Quant.csv\",\"\")\n",
    "    \n",
    "    res=pd.concat([res,temp])\n",
    "#     print(i)\n",
    "#     break"
   ]
  },
  {
   "cell_type": "code",
   "execution_count": 5,
   "id": "9b8409ff",
   "metadata": {},
   "outputs": [
    {
     "name": "stdout",
     "output_type": "stream",
     "text": [
      "(181, 23)\n"
     ]
    }
   ],
   "source": [
    "print(res.shape)\n",
    "res=res[[isinstance(x,float) for x in res['I0']]] \n",
    "res=res[[isinstance(x,float) for x in res['I0.11']]] \n",
    "res=res[res['I0'] + res['I1']+res['I2']+res['I3']+res['I4']+res['I5']>0]\n",
    "res=res[res['I0.11'] + res['I1.11']+res['I2.11']+res['I3.11']+res['I4.11']+res['I5.11']>0]"
   ]
  },
  {
   "cell_type": "code",
   "execution_count": 6,
   "id": "9b9fdd72",
   "metadata": {},
   "outputs": [
    {
     "data": {
      "text/plain": [
       "(178, 23)"
      ]
     },
     "execution_count": 6,
     "metadata": {},
     "output_type": "execute_result"
    }
   ],
   "source": [
    "res.shape"
   ]
  },
  {
   "cell_type": "code",
   "execution_count": 7,
   "id": "fb79369b",
   "metadata": {},
   "outputs": [],
   "source": [
    "# [x for x in sum_i0 if x ==0]"
   ]
  },
  {
   "cell_type": "code",
   "execution_count": 8,
   "id": "bac357cf",
   "metadata": {},
   "outputs": [],
   "source": [
    "sum_i0=(res['I0'] + res['I1']+res['I2']+res['I3']+res['I4']+res['I5'])\n",
    "sum_i0_11=(res['I0.11'] + res['I1.11']+res['I2.11']+res['I3.11']+res['I4.11']+res['I5.11'])"
   ]
  },
  {
   "cell_type": "code",
   "execution_count": null,
   "id": "bb02a0b9",
   "metadata": {},
   "outputs": [],
   "source": []
  },
  {
   "cell_type": "code",
   "execution_count": 9,
   "id": "b6f63edd",
   "metadata": {},
   "outputs": [],
   "source": [
    "# [float(x) for x in sum_i0_11]"
   ]
  },
  {
   "cell_type": "code",
   "execution_count": 10,
   "id": "bcb471d0",
   "metadata": {},
   "outputs": [],
   "source": [
    "res['I0']=res['I0'].astype('float')/sum_i0\n",
    "res['I1']=res['I1'].astype('float')/sum_i0\n",
    "res['I2']=res['I2'].astype('float')/sum_i0\n",
    "res['I3']=res['I3'].astype('float')/sum_i0\n",
    "res['I4']=res['I4'].astype('float')/sum_i0\n",
    "res['I5']=res['I5'].astype('float')/sum_i0\n",
    "\n",
    "res['I0.11']=res['I0.11'].astype('float')/sum_i0_11\n",
    "res['I1.11']=res['I1.11'].astype('float')/sum_i0_11\n",
    "res['I2.11']=res['I2.11'].astype('float')/sum_i0_11\n",
    "\n",
    "res['I3.11']=res['I3.11'].astype('float')/sum_i0_11\n",
    "res['I4.11']=res['I4.11'].astype('float')/sum_i0_11\n",
    "res['I5.11']=res['I5.11'].astype('float')/sum_i0_11"
   ]
  },
  {
   "cell_type": "code",
   "execution_count": 11,
   "id": "3132f8f2",
   "metadata": {},
   "outputs": [
    {
     "name": "stdout",
     "output_type": "stream",
     "text": [
      "(134, 22)\n"
     ]
    }
   ],
   "source": [
    "\n",
    "res=res[['Protein', 'Peptide', 'Charge','Exchangeable Hydrogens','M0', 'M1', 'M2', 'M3', 'M4', 'M5',\n",
    "         'I0', 'I1', 'I2','I3','I4','I5',\n",
    "         'I0.11', 'I1.11', 'I2.11','I3.11','I4.11','I5.11']]\n",
    "res.columns=['Protein', 'Peptide', 'Charge','NEH','M0', 'M1', 'M2', 'M3', 'M4', 'M5','I0', 'I1', 'I2','I3','I4','I5',\n",
    "         'I0.11', 'I1.11', 'I2.11','I3.11','I4.11','I5.11']\n",
    "res=res.drop_duplicates(['Peptide'])\n",
    "print(res.shape)\n",
    "# res.to_csv(\"data_2.csv\",index=False)\n",
    "res.to_csv('CPSM.csv',index=False)"
   ]
  },
  {
   "cell_type": "code",
   "execution_count": null,
   "id": "75d66e68",
   "metadata": {},
   "outputs": [],
   "source": []
  },
  {
   "cell_type": "code",
   "execution_count": null,
   "id": "93b750d5",
   "metadata": {},
   "outputs": [],
   "source": []
  },
  {
   "cell_type": "code",
   "execution_count": 12,
   "id": "ca47e52c",
   "metadata": {},
   "outputs": [],
   "source": [
    "# res=res[['Protein', 'Peptide', 'Charge','Exchangeable Hydrogens','M0', 'M1', 'M2', 'M3', 'M4', 'M5','I0', 'I1', 'I2', 'I0.11', 'I1.11', 'I2.11']]\n",
    "# res.columns=['Protein', 'Peptide', 'Charge','NEH','M0', 'M1', 'M2', 'M3', 'M4', 'M5','I0.0', 'I1.0', 'I2.0', 'I0.11', 'I1.11', 'I2.11']\n",
    "# res=res.drop_duplicates(['Peptide'])\n",
    "# res"
   ]
  },
  {
   "cell_type": "code",
   "execution_count": 13,
   "id": "3729a935",
   "metadata": {},
   "outputs": [],
   "source": [
    "# res.to_csv(\"data.csv\",index=False)\n"
   ]
  },
  {
   "cell_type": "code",
   "execution_count": null,
   "id": "6a2ccbd5",
   "metadata": {},
   "outputs": [],
   "source": []
  },
  {
   "cell_type": "code",
   "execution_count": null,
   "id": "23004b44",
   "metadata": {},
   "outputs": [],
   "source": []
  },
  {
   "cell_type": "code",
   "execution_count": 14,
   "id": "c91231c1",
   "metadata": {},
   "outputs": [],
   "source": [
    "# data=pd.read_csv(r\"C:\\Workplace\\Python\\AnalysisForThePaper\\NEH\\second_round\\D2O_NEH\\res_theo_1.csv\")\n",
    "# data.columns=['pep','a','b','cpxt','pxt','neh','cneh','b1','b2','b3','a1','a2']\n",
    "# data.head()"
   ]
  },
  {
   "cell_type": "code",
   "execution_count": null,
   "id": "a6e8d471",
   "metadata": {},
   "outputs": [],
   "source": []
  },
  {
   "cell_type": "code",
   "execution_count": 15,
   "id": "26fddb70",
   "metadata": {},
   "outputs": [],
   "source": [
    "# plt.figure(figsize=(8,6))\n",
    "# temp=data[data.pep==data[data.neh == data.neh.min()].pep.unique()[0]]\n",
    "# plt.plot(temp.cpxt.astype('float'),temp.a.astype('float'),alpha=0.75,label=\"A\" +f\" NEH: {list(temp.neh.astype('float'))[0]}\",c='k' )\n",
    "# plt.plot(temp.cpxt.astype('float'),temp.b.astype('float'),alpha=0.75,label=\"B\" +f\" NEH: {list(temp.neh.astype('float'))[0]}\",c='k',ls=\"--\" )\n",
    "\n",
    "# temp=data[data.pep==data[data.neh == data.neh.max()].pep.unique()[0]]\n",
    "# plt.plot(temp.cpxt.astype('float'),temp.a.astype('float'),alpha=0.75,label=\"A\" +f\" NEH: {list(temp.neh.astype('float'))[0]}\",c='g' )\n",
    "# plt.plot(temp.cpxt.astype('float'),temp.b.astype('float'),alpha=0.75,label=\"B\" +f\" NEH: {list(temp.neh.astype('float'))[0]}\",c='g',ls=\"--\" )\n",
    "\n",
    "# temp=data[data.pep==data[data.neh == data.neh.median()].pep.unique()[0]]\n",
    "# plt.plot(temp.cpxt.astype('float'),temp.a.astype('float'),alpha=0.75,label=\"A\" +f\" NEH: {list(temp.neh.astype('float'))[0]}\",c='m' )\n",
    "# plt.plot(temp.cpxt.astype('float'),temp.b.astype('float'),alpha=0.75,label=\"B\" +f\" NEH: {list(temp.neh.astype('float'))[0]}\",c='m',ls=\"--\" )\n",
    "\n",
    "\n",
    "# plt.xlabel('pxt')\n",
    "# # plt.xlim([-5,1])\n",
    "# plt.legend()"
   ]
  },
  {
   "cell_type": "code",
   "execution_count": 16,
   "id": "ae0cadfe",
   "metadata": {},
   "outputs": [],
   "source": [
    "# temp=data[data.pep==data[data.neh == data.neh.min()].pep.unique()[0]]\n",
    "# plt.scatter(temp.cpxt.astype('float'),temp.b.astype('float'),alpha=0.75,label=\"b\" +f\" NEH: {list(temp.neh.astype('float'))[0]}\",c='k' )\n",
    "# plt.scatter(temp.cpxt.astype('float'),temp.b1.astype('float'),alpha=0.75,label=\"b1\" +f\" NEH: {list(temp.neh.astype('float'))[0]}\",c='m',ls=\"--\" )\n",
    "# plt.scatter(temp.cpxt.astype('float'),temp.b2.astype('float'),alpha=0.75,label=\"b2\" +f\" NEH: {list(temp.neh.astype('float'))[0]}\",c='r',ls=\"--\" )\n",
    "# plt.scatter(temp.cpxt.astype('float'),temp.b3.astype('float'),alpha=0.75,label=\"b3\" +f\" NEH: {list(temp.neh.astype('float'))[0]}\",c='y',ls=\"--\" )\n",
    "\n",
    "\n",
    "# plt.xlabel('pxt')\n",
    "# # plt.xlim([-5,1])\n",
    "# plt.legend()"
   ]
  },
  {
   "cell_type": "code",
   "execution_count": 17,
   "id": "46a2304b",
   "metadata": {},
   "outputs": [],
   "source": [
    "# temp=data[data.pep==data[data.neh == data.neh.min()].pep.unique()[0]]\n",
    "# plt.scatter(temp.cpxt.astype('float'),temp.a.astype('float'),alpha=0.75,label=\"a\" +f\" NEH: {list(temp.neh.astype('float'))[0]}\",c='k' )\n",
    "# plt.scatter(temp.cpxt.astype('float'),temp.a1.astype('float'),alpha=0.75,label=\"a1\" +f\" NEH: {list(temp.neh.astype('float'))[0]}\",c='m',ls=\"--\" )\n",
    "# plt.scatter(temp.cpxt.astype('float'),temp.a2.astype('float'),alpha=0.75,label=\"a2\" +f\" NEH: {list(temp.neh.astype('float'))[0]}\",c='r',ls=\"--\" )\n",
    "\n",
    "# plt.xlabel('pxt')\n",
    "# # plt.xlim([-5,1])\n",
    "# plt.legend()"
   ]
  },
  {
   "cell_type": "code",
   "execution_count": null,
   "id": "bd339a29",
   "metadata": {},
   "outputs": [],
   "source": []
  },
  {
   "cell_type": "code",
   "execution_count": null,
   "id": "e660cc2b",
   "metadata": {},
   "outputs": [],
   "source": []
  },
  {
   "cell_type": "code",
   "execution_count": 18,
   "id": "6f5bf562",
   "metadata": {},
   "outputs": [],
   "source": [
    "# data2=pd.read_csv(r\"C:\\Workplace\\Python\\AnalysisForThePaper\\NEH\\second_round\\D2O_NEH\\res_theo_2.csv\")\n",
    "# data2.columns=['pep','a','b','cpxt','pxt','neh','cneh','b1','b2','b3','a1','a2']\n",
    "# data2.head()"
   ]
  },
  {
   "cell_type": "code",
   "execution_count": 19,
   "id": "0d674db2",
   "metadata": {},
   "outputs": [],
   "source": [
    "# temp2=data2[data2.pep==data2[data2.neh == data2.neh.median()].pep.unique()[0]]\n",
    "# # temp2=temp2[(temp2.cpxt<0.1)&(temp2.cpxt>0)]\n",
    "# plt.scatter(temp2.cpxt.astype('float'),temp2.b.astype('float'),alpha=0.75,label=\"b\" +f\" NEH: {list(temp2.neh.astype('float'))[0]}\",c='k' )\n",
    "# plt.scatter(temp2.cpxt.astype('float'),temp2.b1.astype('float'),alpha=0.75,label=\"b1\" +f\" NEH: {list(temp2.neh.astype('float'))[0]}\",c='m',ls=\"--\" )\n",
    "# plt.scatter(temp2.cpxt.astype('float'),temp2.b2.astype('float'),alpha=0.75,label=\"b2\" +f\" NEH: {list(temp2.neh.astype('float'))[0]}\",c='r',ls=\"--\" )\n",
    "# plt.scatter(temp2.cpxt.astype('float'),temp2.b3.astype('float'),alpha=0.75,label=\"b3\" +f\" NEH: {list(temp2.neh.astype('float'))[0]}\",c='y',ls=\"--\" )\n",
    "\n",
    "\n",
    "# plt.xlabel('pxt')\n",
    "# # plt.xlim([0,.5])\n",
    "# plt.legend()"
   ]
  },
  {
   "cell_type": "code",
   "execution_count": 20,
   "id": "1dc5b53d",
   "metadata": {},
   "outputs": [],
   "source": [
    "\n",
    "# plt.scatter(temp2.cpxt.astype('float'),temp2.b.astype('float'),alpha=0.75,label=\"b\" +f\" NEH: {list(temp.neh.astype('float'))[0]}\",c='k' )\n",
    "# plt.scatter(temp2.cpxt.astype('float'),temp2.b1.astype('float'),alpha=0.75,label=\"b1\" +f\" NEH: {list(temp.neh.astype('float'))[0]}\",c='m',ls=\"--\" )\n",
    "# plt.scatter(temp2.cpxt.astype('float'),temp2.b2.astype('float'),alpha=0.75,label=\"b2\" +f\" NEH: {list(temp.neh.astype('float'))[0]}\",c='r',ls=\"--\" )\n",
    "# plt.scatter(temp2.cpxt.astype('float'),temp2.b3.astype('float'),alpha=0.75,label=\"b3\" +f\" NEH: {list(temp.neh.astype('float'))[0]}\",c='y',ls=\"--\" )\n",
    "\n",
    "# plt.scatter(temp.cpxt.astype('float'),temp.b.astype('float'),alpha=0.75,label=\"b\" +f\" NEH: {list(temp.neh.astype('float'))[0]}\",c='g' )\n",
    "# plt.scatter(temp.cpxt.astype('float'),temp.b1.astype('float'),alpha=0.75,label=\"b1\" +f\" NEH: {list(temp.neh.astype('float'))[0]}\",c='m',ls=\"--\" )\n",
    "# plt.scatter(temp.cpxt.astype('float'),temp.b2.astype('float'),alpha=0.5,label=\"b2\" +f\" NEH: {list(temp.neh.astype('float'))[0]}\",c='r',ls=\"--\" )\n",
    "# plt.scatter(temp.cpxt.astype('float'),temp.b3.astype('float'),alpha=0.75,label=\"b3\" +f\" NEH: {list(temp.neh.astype('float'))[0]}\",c='y',ls=\"--\" )\n"
   ]
  },
  {
   "cell_type": "code",
   "execution_count": null,
   "id": "315f2170",
   "metadata": {},
   "outputs": [],
   "source": []
  },
  {
   "cell_type": "code",
   "execution_count": 21,
   "id": "810c8c1e",
   "metadata": {
    "scrolled": true
   },
   "outputs": [],
   "source": [
    "# [x for x in abs((temp2.b2)/(temp2.b1+temp2.b3)) ]"
   ]
  },
  {
   "cell_type": "code",
   "execution_count": 22,
   "id": "842bf022",
   "metadata": {},
   "outputs": [],
   "source": [
    "# data2['btest']=[(int)(100*x) for x in abs((data2.b2)/(data2.b1+data2.b3)) ]"
   ]
  },
  {
   "cell_type": "code",
   "execution_count": null,
   "id": "3ea9ae64",
   "metadata": {},
   "outputs": [],
   "source": []
  },
  {
   "cell_type": "code",
   "execution_count": 23,
   "id": "207f8e97",
   "metadata": {},
   "outputs": [],
   "source": [
    "# plt.scatter(temp2.cpxt.astype('float'),temp2.a.astype('float'),alpha=0.75,label=\"a\" +f\" NEH: {list(temp2.neh.astype('float'))[0]}\",c='k' )\n",
    "# plt.scatter(temp2.cpxt.astype('float'),temp2.a1.astype('float'),alpha=0.75,label=\"a1\" +f\" NEH: {list(temp2.neh.astype('float'))[0]}\",c='m',ls=\"--\" )\n",
    "# plt.scatter(temp2.cpxt.astype('float'),temp2.a2.astype('float'),alpha=0.75,label=\"a2\" +f\" NEH: {list(temp2.neh.astype('float'))[0]}\",c='r',ls=\"--\" )\n",
    "\n",
    "# plt.xlabel('pxt')\n",
    "# # plt.xlim([-5,1])\n",
    "# plt.legend()"
   ]
  },
  {
   "cell_type": "code",
   "execution_count": 24,
   "id": "29ef8ade",
   "metadata": {},
   "outputs": [],
   "source": [
    "# import matplotlib.pyplot as plt \n",
    "# import math\n",
    "# plt.figure(figsize=(8,6))\n",
    "# plt.rc('font', size=17) \n",
    "# # making a simple plot\n",
    "# x =range(4)#[0.0000005,0.000005,0.00005,0.00050]\n",
    "# y =[math.log(x) for x in [0.2585417,2.418864,20.12946,27.43702]]\n",
    " \n",
    "# # creating error\n",
    "# y_error =[math.log(x) for x in [1.0354386 ,78.291856 ,3116.13446,2892.58258]]\n",
    "\n",
    "# plt.xticks(range(4),[0.0000005,0.000005,0.00005,0.00050])\n",
    " \n",
    "# # plotting graph\n",
    "# # plt.plot(x, y)\n",
    " \n",
    "# plt.errorbar(x, y,yerr = y_error,fmt ='o',capsize=6,c='k')\n",
    "# plt.ylabel(r\"$log (NEH_{true} - NEH_{formula})$\")\n",
    "# plt.xlabel(r\"Noise SD (noise added only on $I_2$)\")"
   ]
  },
  {
   "cell_type": "code",
   "execution_count": 25,
   "id": "9d8c8957",
   "metadata": {},
   "outputs": [],
   "source": [
    "# import matplotlib.pyplot as plt \n",
    "# import math\n",
    "\n",
    "# plt.figure(figsize=(8,6))\n",
    "# plt.rc('font', size=17) \n",
    "\n",
    "# # making a simple plot\n",
    "# x =range(4)#[0.0000005,0.000005,0.00005,0.00050]\n",
    "# y =[math.log(x) for x in [0.8406004,8.013590,29.21235,26.86125 ]]\n",
    " \n",
    "# # creating error\n",
    "# y_error =[math.log(x) for x in [64.7537615,4011.836147,554.83000,196.05982]]\n",
    "\n",
    "# plt.xticks(range(4),[0.0000005,0.000005,0.00005,0.00050])\n",
    " \n",
    "# # plotting graph\n",
    "# # plt.plot(x, y)\n",
    " \n",
    "# plt.errorbar(x, y,yerr = y_error,capsize =6,fmt ='o',c='k')\n",
    "\n",
    "# plt.ylabel(r\"$log (NEH_{true} - NEH_{formula})$\")\n",
    "# plt.xlabel(r\"Noise SD\")"
   ]
  },
  {
   "cell_type": "code",
   "execution_count": null,
   "id": "035c732e",
   "metadata": {},
   "outputs": [],
   "source": []
  }
 ],
 "metadata": {
  "kernelspec": {
   "display_name": "Python 3 (ipykernel)",
   "language": "python",
   "name": "python3"
  },
  "language_info": {
   "codemirror_mode": {
    "name": "ipython",
    "version": 3
   },
   "file_extension": ".py",
   "mimetype": "text/x-python",
   "name": "python",
   "nbconvert_exporter": "python",
   "pygments_lexer": "ipython3",
   "version": "3.9.11"
  }
 },
 "nbformat": 4,
 "nbformat_minor": 5
}
