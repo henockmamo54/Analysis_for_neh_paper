{
 "cells": [
  {
   "cell_type": "code",
   "execution_count": 189,
   "metadata": {},
   "outputs": [],
   "source": [
    "import os\n",
    "import math\n",
    "import random\n",
    "import warnings\n",
    "import numpy as np\n",
    "import pandas as pd \n",
    "from sklearn import metrics\n",
    "from matplotlib import pyplot as plt\n",
    "import seaborn as sns\n",
    "warnings.filterwarnings(\"ignore\")"
   ]
  },
  {
   "cell_type": "code",
   "execution_count": 218,
   "metadata": {},
   "outputs": [
    {
     "name": "stdout",
     "output_type": "stream",
     "text": [
      "(50, 17)\n"
     ]
    }
   ],
   "source": [
    "data_theorteical=pd.read_csv(\"C:\\\\Workplace\\\\Python\\\\AnalysisForThePaper\\\\NEH\\\\Final\\\\C# simulation data gen\\\\ConsoleApp2\\\\bin\\\\Debug\\\\0_035.csv\")\n",
    "data_theorteical=data_theorteical.dropna().iloc[:50,:].reset_index(drop=True)\n",
    "print(data_theorteical.shape)"
   ]
  },
  {
   "cell_type": "code",
   "execution_count": 219,
   "metadata": {},
   "outputs": [
    {
     "data": {
      "text/plain": [
       "Index(['Protein', 'Peptide', 'Charge', 'NEH', 'M0', 'M1', 'M2', 'M3', 'M4',\n",
       "       'M5', 'I0', 'I1', 'I2', 'I3', 'I4', 'I5', 'pxt'],\n",
       "      dtype='object')"
      ]
     },
     "execution_count": 219,
     "metadata": {},
     "output_type": "execute_result"
    }
   ],
   "source": [
    "data_theorteical.columns"
   ]
  },
  {
   "cell_type": "code",
   "execution_count": 246,
   "metadata": {},
   "outputs": [],
   "source": [
    "data_withnoise=pd.read_csv(r\"C:\\Workplace\\Python\\AnalysisForThePaper\\NEH\\Final\\SNR\\test_perprotien\\0_035_with_noise.csv\")\n",
    "# data_withnoise.head()"
   ]
  },
  {
   "cell_type": "code",
   "execution_count": 245,
   "metadata": {},
   "outputs": [],
   "source": [
    "neh_vals=pd.read_csv(r\"C:\\Workplace\\Python\\AnalysisForThePaper\\NEH\\Final\\SNR\\test_perprotien\\neh_ape_mpe_res.csv\")\n",
    "neh_vals.columns=[x.replace('DataRecord.','') for x in neh_vals.columns]\n",
    "neh_vals.Protein=[x.replace('\"',\"\") for x in neh_vals.Protein]\n",
    "neh_vals.Peptide=[x.replace('\"',\"\") for x in neh_vals.Peptide]\n",
    "# neh_vals.head()"
   ]
  },
  {
   "cell_type": "code",
   "execution_count": 244,
   "metadata": {},
   "outputs": [
    {
     "data": {
      "text/html": [
       "<div>\n",
       "<style scoped>\n",
       "    .dataframe tbody tr th:only-of-type {\n",
       "        vertical-align: middle;\n",
       "    }\n",
       "\n",
       "    .dataframe tbody tr th {\n",
       "        vertical-align: top;\n",
       "    }\n",
       "\n",
       "    .dataframe thead th {\n",
       "        text-align: right;\n",
       "    }\n",
       "</style>\n",
       "<table border=\"1\" class=\"dataframe\">\n",
       "  <thead>\n",
       "    <tr style=\"text-align: right;\">\n",
       "      <th></th>\n",
       "      <th>Protein</th>\n",
       "      <th>Peptide</th>\n",
       "      <th>Charge</th>\n",
       "      <th>NEH</th>\n",
       "      <th>I0</th>\n",
       "      <th>I1</th>\n",
       "      <th>I2</th>\n",
       "      <th>I3</th>\n",
       "      <th>I4</th>\n",
       "      <th>I5</th>\n",
       "      <th>SNR</th>\n",
       "      <th>NEH_sim</th>\n",
       "      <th>NEH_APE</th>\n",
       "      <th>NEH_MPE</th>\n",
       "    </tr>\n",
       "  </thead>\n",
       "  <tbody>\n",
       "    <tr>\n",
       "      <th>0</th>\n",
       "      <td>1433B_MOUSE</td>\n",
       "      <td>NLLSVAYK</td>\n",
       "      <td>2</td>\n",
       "      <td>11</td>\n",
       "      <td>0.392722</td>\n",
       "      <td>0.361709</td>\n",
       "      <td>0.172206</td>\n",
       "      <td>0.056591</td>\n",
       "      <td>0.014248</td>\n",
       "      <td>0.003486</td>\n",
       "      <td>60</td>\n",
       "      <td>0</td>\n",
       "      <td>11.0</td>\n",
       "      <td>11.0061346082662</td>\n",
       "    </tr>\n",
       "    <tr>\n",
       "      <th>1</th>\n",
       "      <td>1433B_MOUSE</td>\n",
       "      <td>NLLSVAYK</td>\n",
       "      <td>2</td>\n",
       "      <td>11</td>\n",
       "      <td>0.392722</td>\n",
       "      <td>0.361709</td>\n",
       "      <td>0.172206</td>\n",
       "      <td>0.056591</td>\n",
       "      <td>0.014248</td>\n",
       "      <td>0.003486</td>\n",
       "      <td>60</td>\n",
       "      <td>0</td>\n",
       "      <td>11.0</td>\n",
       "      <td>11.1013818182868</td>\n",
       "    </tr>\n",
       "    <tr>\n",
       "      <th>2</th>\n",
       "      <td>1433B_MOUSE</td>\n",
       "      <td>NLLSVAYK</td>\n",
       "      <td>2</td>\n",
       "      <td>11</td>\n",
       "      <td>0.392722</td>\n",
       "      <td>0.361709</td>\n",
       "      <td>0.172206</td>\n",
       "      <td>0.056591</td>\n",
       "      <td>0.014248</td>\n",
       "      <td>0.003486</td>\n",
       "      <td>60</td>\n",
       "      <td>0</td>\n",
       "      <td>11.0</td>\n",
       "      <td>11.1226974669845</td>\n",
       "    </tr>\n",
       "    <tr>\n",
       "      <th>3</th>\n",
       "      <td>1433B_MOUSE</td>\n",
       "      <td>NLLSVAYK</td>\n",
       "      <td>2</td>\n",
       "      <td>11</td>\n",
       "      <td>0.392722</td>\n",
       "      <td>0.361709</td>\n",
       "      <td>0.172206</td>\n",
       "      <td>0.056591</td>\n",
       "      <td>0.014248</td>\n",
       "      <td>0.003486</td>\n",
       "      <td>60</td>\n",
       "      <td>0</td>\n",
       "      <td>11.0</td>\n",
       "      <td>10.8148611991331</td>\n",
       "    </tr>\n",
       "    <tr>\n",
       "      <th>4</th>\n",
       "      <td>1433B_MOUSE</td>\n",
       "      <td>NLLSVAYK</td>\n",
       "      <td>2</td>\n",
       "      <td>11</td>\n",
       "      <td>0.392722</td>\n",
       "      <td>0.361709</td>\n",
       "      <td>0.172206</td>\n",
       "      <td>0.056591</td>\n",
       "      <td>0.014248</td>\n",
       "      <td>0.003486</td>\n",
       "      <td>60</td>\n",
       "      <td>0</td>\n",
       "      <td>11.0</td>\n",
       "      <td>10.9881523117311</td>\n",
       "    </tr>\n",
       "    <tr>\n",
       "      <th>...</th>\n",
       "      <td>...</td>\n",
       "      <td>...</td>\n",
       "      <td>...</td>\n",
       "      <td>...</td>\n",
       "      <td>...</td>\n",
       "      <td>...</td>\n",
       "      <td>...</td>\n",
       "      <td>...</td>\n",
       "      <td>...</td>\n",
       "      <td>...</td>\n",
       "      <td>...</td>\n",
       "      <td>...</td>\n",
       "      <td>...</td>\n",
       "      <td>...</td>\n",
       "    </tr>\n",
       "    <tr>\n",
       "      <th>499995</th>\n",
       "      <td>2AAA_MOUSE</td>\n",
       "      <td>TSAcGLFSVcYPR</td>\n",
       "      <td>2</td>\n",
       "      <td>22</td>\n",
       "      <td>0.025471</td>\n",
       "      <td>0.097145</td>\n",
       "      <td>0.108003</td>\n",
       "      <td>0.189958</td>\n",
       "      <td>-0.323452</td>\n",
       "      <td>-0.172312</td>\n",
       "      <td>3</td>\n",
       "      <td>0</td>\n",
       "      <td>51.5</td>\n",
       "      <td>NaN</td>\n",
       "    </tr>\n",
       "    <tr>\n",
       "      <th>499996</th>\n",
       "      <td>2AAA_MOUSE</td>\n",
       "      <td>TSAcGLFSVcYPR</td>\n",
       "      <td>2</td>\n",
       "      <td>22</td>\n",
       "      <td>0.025471</td>\n",
       "      <td>0.097145</td>\n",
       "      <td>0.108003</td>\n",
       "      <td>0.189958</td>\n",
       "      <td>-0.323452</td>\n",
       "      <td>-0.172312</td>\n",
       "      <td>3</td>\n",
       "      <td>0</td>\n",
       "      <td>69.5</td>\n",
       "      <td>∞</td>\n",
       "    </tr>\n",
       "    <tr>\n",
       "      <th>499997</th>\n",
       "      <td>2AAA_MOUSE</td>\n",
       "      <td>TSAcGLFSVcYPR</td>\n",
       "      <td>2</td>\n",
       "      <td>22</td>\n",
       "      <td>0.025471</td>\n",
       "      <td>0.097145</td>\n",
       "      <td>0.108003</td>\n",
       "      <td>0.189958</td>\n",
       "      <td>-0.323452</td>\n",
       "      <td>-0.172312</td>\n",
       "      <td>3</td>\n",
       "      <td>0</td>\n",
       "      <td>12.2</td>\n",
       "      <td>NaN</td>\n",
       "    </tr>\n",
       "    <tr>\n",
       "      <th>499998</th>\n",
       "      <td>2AAA_MOUSE</td>\n",
       "      <td>TSAcGLFSVcYPR</td>\n",
       "      <td>2</td>\n",
       "      <td>22</td>\n",
       "      <td>0.025471</td>\n",
       "      <td>0.097145</td>\n",
       "      <td>0.108003</td>\n",
       "      <td>0.189958</td>\n",
       "      <td>-0.323452</td>\n",
       "      <td>-0.172312</td>\n",
       "      <td>3</td>\n",
       "      <td>0</td>\n",
       "      <td>75.8</td>\n",
       "      <td>∞</td>\n",
       "    </tr>\n",
       "    <tr>\n",
       "      <th>499999</th>\n",
       "      <td>2AAA_MOUSE</td>\n",
       "      <td>TSAcGLFSVcYPR</td>\n",
       "      <td>2</td>\n",
       "      <td>22</td>\n",
       "      <td>0.025471</td>\n",
       "      <td>0.097145</td>\n",
       "      <td>0.108003</td>\n",
       "      <td>0.189958</td>\n",
       "      <td>-0.323452</td>\n",
       "      <td>-0.172312</td>\n",
       "      <td>3</td>\n",
       "      <td>0</td>\n",
       "      <td>120.0</td>\n",
       "      <td>∞</td>\n",
       "    </tr>\n",
       "  </tbody>\n",
       "</table>\n",
       "<p>500000 rows × 14 columns</p>\n",
       "</div>"
      ],
      "text/plain": [
       "            Protein        Peptide  Charge  NEH        I0        I1        I2  \\\n",
       "0       1433B_MOUSE       NLLSVAYK       2   11  0.392722  0.361709  0.172206   \n",
       "1       1433B_MOUSE       NLLSVAYK       2   11  0.392722  0.361709  0.172206   \n",
       "2       1433B_MOUSE       NLLSVAYK       2   11  0.392722  0.361709  0.172206   \n",
       "3       1433B_MOUSE       NLLSVAYK       2   11  0.392722  0.361709  0.172206   \n",
       "4       1433B_MOUSE       NLLSVAYK       2   11  0.392722  0.361709  0.172206   \n",
       "...             ...            ...     ...  ...       ...       ...       ...   \n",
       "499995   2AAA_MOUSE  TSAcGLFSVcYPR       2   22  0.025471  0.097145  0.108003   \n",
       "499996   2AAA_MOUSE  TSAcGLFSVcYPR       2   22  0.025471  0.097145  0.108003   \n",
       "499997   2AAA_MOUSE  TSAcGLFSVcYPR       2   22  0.025471  0.097145  0.108003   \n",
       "499998   2AAA_MOUSE  TSAcGLFSVcYPR       2   22  0.025471  0.097145  0.108003   \n",
       "499999   2AAA_MOUSE  TSAcGLFSVcYPR       2   22  0.025471  0.097145  0.108003   \n",
       "\n",
       "              I3        I4        I5  SNR  NEH_sim  NEH_APE           NEH_MPE  \n",
       "0       0.056591  0.014248  0.003486   60        0     11.0  11.0061346082662  \n",
       "1       0.056591  0.014248  0.003486   60        0     11.0  11.1013818182868  \n",
       "2       0.056591  0.014248  0.003486   60        0     11.0  11.1226974669845  \n",
       "3       0.056591  0.014248  0.003486   60        0     11.0  10.8148611991331  \n",
       "4       0.056591  0.014248  0.003486   60        0     11.0  10.9881523117311  \n",
       "...          ...       ...       ...  ...      ...      ...               ...  \n",
       "499995  0.189958 -0.323452 -0.172312    3        0     51.5               NaN  \n",
       "499996  0.189958 -0.323452 -0.172312    3        0     69.5                 ∞  \n",
       "499997  0.189958 -0.323452 -0.172312    3        0     12.2               NaN  \n",
       "499998  0.189958 -0.323452 -0.172312    3        0     75.8                 ∞  \n",
       "499999  0.189958 -0.323452 -0.172312    3        0    120.0                 ∞  \n",
       "\n",
       "[500000 rows x 14 columns]"
      ]
     },
     "execution_count": 244,
     "metadata": {},
     "output_type": "execute_result"
    }
   ],
   "source": [
    "merged1=pd.merge(data_withnoise[['Protein', 'Peptide', 'Charge', 'NEH','I0', 'I1', 'I2','I3', 'I4', 'I5', 'SNR']],\n",
    "neh_vals[['Protein', 'Peptide', 'Charge', 'NEH', 'NEH_sim', 'NEH_APE', 'NEH_MPE',]],\n",
    "         on=['Protein', 'Peptide', 'Charge', 'NEH'])\n",
    "merged1"
   ]
  },
  {
   "cell_type": "code",
   "execution_count": 247,
   "metadata": {},
   "outputs": [
    {
     "name": "stdout",
     "output_type": "stream",
     "text": [
      "(500000, 27)\n"
     ]
    }
   ],
   "source": [
    "merged=pd.merge(data_theorteical,merged1,on=['Protein', 'Peptide', 'Charge', 'NEH'])\n",
    "print(merged.shape)\n",
    "# merged[['Peptide', 'Charge', 'NEH', 'M0_x', 'M1_x', \n",
    "#         'I0_x', 'I1_x', 'I2_x', 'I3_x', 'I4_x', 'I5_x', 'pxt_x',\n",
    "#        'I0_y', 'I1_y', 'I2_y', 'I3_y', 'I4_y', 'I5_y',\n",
    "#        'pxt_y', 'SNR']].tail(5)"
   ]
  },
  {
   "cell_type": "code",
   "execution_count": 225,
   "metadata": {},
   "outputs": [
    {
     "ename": "AttributeError",
     "evalue": "'DataFrame' object has no attribute 'I0_x'",
     "output_type": "error",
     "traceback": [
      "\u001b[1;31m---------------------------------------------------------------------------\u001b[0m",
      "\u001b[1;31mAttributeError\u001b[0m                            Traceback (most recent call last)",
      "Input \u001b[1;32mIn [225]\u001b[0m, in \u001b[0;36m<cell line: 1>\u001b[1;34m()\u001b[0m\n\u001b[1;32m----> 1\u001b[0m merged[\u001b[38;5;124m\"\u001b[39m\u001b[38;5;124mrss\u001b[39m\u001b[38;5;124m\"\u001b[39m]\u001b[38;5;241m=\u001b[39m (\u001b[43mmerged\u001b[49m\u001b[38;5;241;43m.\u001b[39;49m\u001b[43mI0_x\u001b[49m \u001b[38;5;241m-\u001b[39m merged\u001b[38;5;241m.\u001b[39mI0_y)\u001b[38;5;241m*\u001b[39m\u001b[38;5;241m*\u001b[39m\u001b[38;5;241m2\u001b[39m \u001b[38;5;241m+\u001b[39m (merged\u001b[38;5;241m.\u001b[39mI1_x \u001b[38;5;241m-\u001b[39m merged\u001b[38;5;241m.\u001b[39mI1_y)\u001b[38;5;241m*\u001b[39m\u001b[38;5;241m*\u001b[39m\u001b[38;5;241m2\u001b[39m\u001b[38;5;241m+\u001b[39m (merged\u001b[38;5;241m.\u001b[39mI2_x \u001b[38;5;241m-\u001b[39m merged\u001b[38;5;241m.\u001b[39mI2_y)\u001b[38;5;241m*\u001b[39m\u001b[38;5;241m*\u001b[39m\u001b[38;5;241m2\u001b[39m\u001b[38;5;241m+\u001b[39m(merged\u001b[38;5;241m.\u001b[39mI3_x \u001b[38;5;241m-\u001b[39m merged\u001b[38;5;241m.\u001b[39mI3_y)\u001b[38;5;241m*\u001b[39m\u001b[38;5;241m*\u001b[39m\u001b[38;5;241m2\u001b[39m\u001b[38;5;241m+\u001b[39m(merged\u001b[38;5;241m.\u001b[39mI4_x \u001b[38;5;241m-\u001b[39m merged\u001b[38;5;241m.\u001b[39mI4_y)\u001b[38;5;241m*\u001b[39m\u001b[38;5;241m*\u001b[39m\u001b[38;5;241m2\u001b[39m\u001b[38;5;241m+\u001b[39m(merged\u001b[38;5;241m.\u001b[39mI5_x \u001b[38;5;241m-\u001b[39m merged\u001b[38;5;241m.\u001b[39mI5_y)\u001b[38;5;241m*\u001b[39m\u001b[38;5;241m*\u001b[39m\u001b[38;5;241m2\u001b[39m\n\u001b[0;32m      2\u001b[0m merged\u001b[38;5;241m=\u001b[39mmerged[[\u001b[38;5;124m'\u001b[39m\u001b[38;5;124mProtein\u001b[39m\u001b[38;5;124m'\u001b[39m, \u001b[38;5;124m'\u001b[39m\u001b[38;5;124mPeptide\u001b[39m\u001b[38;5;124m'\u001b[39m, \u001b[38;5;124m'\u001b[39m\u001b[38;5;124mCharge\u001b[39m\u001b[38;5;124m'\u001b[39m, \u001b[38;5;124m'\u001b[39m\u001b[38;5;124mNEH\u001b[39m\u001b[38;5;124m'\u001b[39m, \u001b[38;5;124m'\u001b[39m\u001b[38;5;124mSNR\u001b[39m\u001b[38;5;124m'\u001b[39m, \u001b[38;5;124m'\u001b[39m\u001b[38;5;124mrss\u001b[39m\u001b[38;5;124m'\u001b[39m]]\n\u001b[0;32m      3\u001b[0m merged\u001b[38;5;241m.\u001b[39mhead(\u001b[38;5;241m5\u001b[39m)\n",
      "File \u001b[1;32mc:\\Users\\hmdebern.UTMB-USERS-M\\.conda\\envs\\myenv\\lib\\site-packages\\pandas\\core\\generic.py:5583\u001b[0m, in \u001b[0;36mNDFrame.__getattr__\u001b[1;34m(self, name)\u001b[0m\n\u001b[0;32m   5576\u001b[0m \u001b[38;5;28;01mif\u001b[39;00m (\n\u001b[0;32m   5577\u001b[0m     name \u001b[38;5;129;01mnot\u001b[39;00m \u001b[38;5;129;01min\u001b[39;00m \u001b[38;5;28mself\u001b[39m\u001b[38;5;241m.\u001b[39m_internal_names_set\n\u001b[0;32m   5578\u001b[0m     \u001b[38;5;129;01mand\u001b[39;00m name \u001b[38;5;129;01mnot\u001b[39;00m \u001b[38;5;129;01min\u001b[39;00m \u001b[38;5;28mself\u001b[39m\u001b[38;5;241m.\u001b[39m_metadata\n\u001b[0;32m   5579\u001b[0m     \u001b[38;5;129;01mand\u001b[39;00m name \u001b[38;5;129;01mnot\u001b[39;00m \u001b[38;5;129;01min\u001b[39;00m \u001b[38;5;28mself\u001b[39m\u001b[38;5;241m.\u001b[39m_accessors\n\u001b[0;32m   5580\u001b[0m     \u001b[38;5;129;01mand\u001b[39;00m \u001b[38;5;28mself\u001b[39m\u001b[38;5;241m.\u001b[39m_info_axis\u001b[38;5;241m.\u001b[39m_can_hold_identifiers_and_holds_name(name)\n\u001b[0;32m   5581\u001b[0m ):\n\u001b[0;32m   5582\u001b[0m     \u001b[38;5;28;01mreturn\u001b[39;00m \u001b[38;5;28mself\u001b[39m[name]\n\u001b[1;32m-> 5583\u001b[0m \u001b[38;5;28;01mreturn\u001b[39;00m \u001b[38;5;28;43mobject\u001b[39;49m\u001b[38;5;241;43m.\u001b[39;49m\u001b[38;5;21;43m__getattribute__\u001b[39;49m\u001b[43m(\u001b[49m\u001b[38;5;28;43mself\u001b[39;49m\u001b[43m,\u001b[49m\u001b[43m \u001b[49m\u001b[43mname\u001b[49m\u001b[43m)\u001b[49m\n",
      "\u001b[1;31mAttributeError\u001b[0m: 'DataFrame' object has no attribute 'I0_x'"
     ]
    }
   ],
   "source": [
    "merged[\"rss\"]= (merged.I0_x - merged.I0_y)**2 + (merged.I1_x - merged.I1_y)**2+ (merged.I2_x - merged.I2_y)**2+(merged.I3_x - merged.I3_y)**2+(merged.I4_x - merged.I4_y)**2+(merged.I5_x - merged.I5_y)**2\n",
    "merged=merged[['Protein', 'Peptide', 'Charge', 'NEH', 'SNR', 'rss']]\n",
    "merged.head(5)"
   ]
  },
  {
   "cell_type": "code",
   "execution_count": 211,
   "metadata": {},
   "outputs": [],
   "source": [
    "neh_vals=pd.read_csv(r\"C:\\Workplace\\Python\\AnalysisForThePaper\\NEH\\Final\\SNR\\test_perprotien\\neh_ape_mpe_res.csv\")\n",
    "neh_vals.columns=[x.replace('DataRecord.','') for x in neh_vals.columns]\n",
    "# neh_vals.columns\n",
    "\n",
    "merged[\"NEH_APE\"]=neh_vals.NEH_APE\n",
    "merged[\"NEH_MPE\"]=neh_vals.NEH_MPE\n",
    "merged[\"RD_neh\"]=[math.log(x+1E-1) for x in abs(merged.NEH-merged.NEH_APE)/merged.NEH]"
   ]
  },
  {
   "cell_type": "code",
   "execution_count": 212,
   "metadata": {},
   "outputs": [
    {
     "name": "stdout",
     "output_type": "stream",
     "text": [
      "(7, 9)\n",
      "(7, 9)\n"
     ]
    }
   ],
   "source": [
    "print(merged.shape)\n",
    "merged=merged.dropna()\n",
    "print(merged.shape)\n"
   ]
  },
  {
   "cell_type": "code",
   "execution_count": 213,
   "metadata": {},
   "outputs": [
    {
     "data": {
      "text/plain": [
       "<matplotlib.collections.PathCollection at 0x12d4b4f9220>"
      ]
     },
     "execution_count": 213,
     "metadata": {},
     "output_type": "execute_result"
    },
    {
     "data": {
      "image/png": "[encoded data removed]",
      "text/plain": [
       "<Figure size 432x288 with 1 Axes>"
      ]
     },
     "metadata": {
      "needs_background": "light"
     },
     "output_type": "display_data"
    }
   ],
   "source": [
    "plt.scatter([math.log(x) for x in merged.rss],[(x) for x in abs(merged.NEH-merged.NEH_APE)/merged.NEH])"
   ]
  },
  {
   "cell_type": "code",
   "execution_count": 200,
   "metadata": {},
   "outputs": [],
   "source": [
    "# [math.log(x+1E-9) for x in abs(merged.NEH-merged.NEH_APE)/merged.NEH]"
   ]
  },
  {
   "cell_type": "code",
   "execution_count": 204,
   "metadata": {},
   "outputs": [
    {
     "data": {
      "text/html": [
       "<div>\n",
       "<style scoped>\n",
       "    .dataframe tbody tr th:only-of-type {\n",
       "        vertical-align: middle;\n",
       "    }\n",
       "\n",
       "    .dataframe tbody tr th {\n",
       "        vertical-align: top;\n",
       "    }\n",
       "\n",
       "    .dataframe thead th {\n",
       "        text-align: right;\n",
       "    }\n",
       "</style>\n",
       "<table border=\"1\" class=\"dataframe\">\n",
       "  <thead>\n",
       "    <tr style=\"text-align: right;\">\n",
       "      <th></th>\n",
       "      <th>Protein</th>\n",
       "      <th>Peptide</th>\n",
       "      <th>Charge</th>\n",
       "      <th>NEH</th>\n",
       "      <th>SNR</th>\n",
       "      <th>rss</th>\n",
       "      <th>NEH_APE</th>\n",
       "      <th>NEH_MPE</th>\n",
       "      <th>RD_neh</th>\n",
       "    </tr>\n",
       "  </thead>\n",
       "  <tbody>\n",
       "    <tr>\n",
       "      <th>0</th>\n",
       "      <td>1433B_MOUSE</td>\n",
       "      <td>NLLSVAYK</td>\n",
       "      <td>2</td>\n",
       "      <td>11</td>\n",
       "      <td>60</td>\n",
       "      <td>4.446520e-07</td>\n",
       "      <td>11.0</td>\n",
       "      <td>11.006135</td>\n",
       "      <td>-2.302585</td>\n",
       "    </tr>\n",
       "    <tr>\n",
       "      <th>1</th>\n",
       "      <td>1433B_MOUSE</td>\n",
       "      <td>NLLSVAYK</td>\n",
       "      <td>2</td>\n",
       "      <td>11</td>\n",
       "      <td>50</td>\n",
       "      <td>5.035098e-06</td>\n",
       "      <td>10.9</td>\n",
       "      <td>11.353846</td>\n",
       "      <td>-2.215574</td>\n",
       "    </tr>\n",
       "    <tr>\n",
       "      <th>2</th>\n",
       "      <td>1433B_MOUSE</td>\n",
       "      <td>NLLSVAYK</td>\n",
       "      <td>2</td>\n",
       "      <td>11</td>\n",
       "      <td>40</td>\n",
       "      <td>3.217748e-05</td>\n",
       "      <td>10.8</td>\n",
       "      <td>12.642844</td>\n",
       "      <td>-2.135531</td>\n",
       "    </tr>\n",
       "    <tr>\n",
       "      <th>3</th>\n",
       "      <td>1433B_MOUSE</td>\n",
       "      <td>NLLSVAYK</td>\n",
       "      <td>2</td>\n",
       "      <td>11</td>\n",
       "      <td>30</td>\n",
       "      <td>3.097147e-04</td>\n",
       "      <td>10.1</td>\n",
       "      <td>6.679475</td>\n",
       "      <td>-1.704748</td>\n",
       "    </tr>\n",
       "    <tr>\n",
       "      <th>4</th>\n",
       "      <td>1433B_MOUSE</td>\n",
       "      <td>NLLSVAYK</td>\n",
       "      <td>2</td>\n",
       "      <td>11</td>\n",
       "      <td>10</td>\n",
       "      <td>3.392160e-02</td>\n",
       "      <td>11.4</td>\n",
       "      <td>1.000000</td>\n",
       "      <td>-1.992430</td>\n",
       "    </tr>\n",
       "    <tr>\n",
       "      <th>5</th>\n",
       "      <td>1433B_MOUSE</td>\n",
       "      <td>NLLSVAYK</td>\n",
       "      <td>2</td>\n",
       "      <td>11</td>\n",
       "      <td>5</td>\n",
       "      <td>1.439757e-01</td>\n",
       "      <td>26.4</td>\n",
       "      <td>1.000000</td>\n",
       "      <td>0.405465</td>\n",
       "    </tr>\n",
       "    <tr>\n",
       "      <th>6</th>\n",
       "      <td>1433B_MOUSE</td>\n",
       "      <td>NLLSVAYK</td>\n",
       "      <td>2</td>\n",
       "      <td>11</td>\n",
       "      <td>3</td>\n",
       "      <td>2.455989e-01</td>\n",
       "      <td>69.5</td>\n",
       "      <td>1.000000</td>\n",
       "      <td>1.689760</td>\n",
       "    </tr>\n",
       "  </tbody>\n",
       "</table>\n",
       "</div>"
      ],
      "text/plain": [
       "       Protein   Peptide  Charge  NEH  SNR           rss  NEH_APE    NEH_MPE  \\\n",
       "0  1433B_MOUSE  NLLSVAYK       2   11   60  4.446520e-07     11.0  11.006135   \n",
       "1  1433B_MOUSE  NLLSVAYK       2   11   50  5.035098e-06     10.9  11.353846   \n",
       "2  1433B_MOUSE  NLLSVAYK       2   11   40  3.217748e-05     10.8  12.642844   \n",
       "3  1433B_MOUSE  NLLSVAYK       2   11   30  3.097147e-04     10.1   6.679475   \n",
       "4  1433B_MOUSE  NLLSVAYK       2   11   10  3.392160e-02     11.4   1.000000   \n",
       "5  1433B_MOUSE  NLLSVAYK       2   11    5  1.439757e-01     26.4   1.000000   \n",
       "6  1433B_MOUSE  NLLSVAYK       2   11    3  2.455989e-01     69.5   1.000000   \n",
       "\n",
       "     RD_neh  \n",
       "0 -2.302585  \n",
       "1 -2.215574  \n",
       "2 -2.135531  \n",
       "3 -1.704748  \n",
       "4 -1.992430  \n",
       "5  0.405465  \n",
       "6  1.689760  "
      ]
     },
     "execution_count": 204,
     "metadata": {},
     "output_type": "execute_result"
    }
   ],
   "source": [
    "merged.tail(50)"
   ]
  },
  {
   "cell_type": "code",
   "execution_count": 171,
   "metadata": {},
   "outputs": [
    {
     "data": {
      "text/plain": [
       "[25, 24, 21, 17, 29, 25]"
      ]
     },
     "execution_count": 171,
     "metadata": {},
     "output_type": "execute_result"
    }
   ],
   "source": []
  },
  {
   "cell_type": "code",
   "execution_count": 178,
   "metadata": {},
   "outputs": [
    {
     "name": "stdout",
     "output_type": "stream",
     "text": [
      "1\n",
      "2\n",
      "3\n",
      "4\n",
      "5\n",
      "6\n"
     ]
    },
    {
     "data": {
      "image/png": "[encoded data removed]",
      "text/plain": [
       "<Figure size 864x504 with 1 Axes>"
      ]
     },
     "metadata": {
      "needs_background": "light"
     },
     "output_type": "display_data"
    }
   ],
   "source": [
    "plt.figure(figsize=(12,7))\n",
    "plt.rc('font',size=14)\n",
    "colors=['#4285F4','#EA4335','#FBBC04','#34A853','#202124','m']\n",
    "neh=[25,24,21,17,29,25] \n",
    "for i in range(1,7):\n",
    "    print(i)\n",
    "    # if i ==1: continue\n",
    "    data=pd.read_csv(rf\"C:\\Workplace\\Python\\AnalysisForThePaper\\NEH\\Final\\rate_neh_plot\\mup20\\{i}.csv\") \n",
    "    plt.scatter(data['RIA.Time'],data['RIA.RIA_value'],s=50,label=f\"{data['RIA.PeptideSeq'][0]}$^+$$^{data['RIA.Charge'][0]}$(NEH={neh[i-1]})\")\n",
    "    data=pd.read_csv(rf\"C:\\Workplace\\Python\\AnalysisForThePaper\\NEH\\Final\\rate_neh_plot\\mup20\\{i}_t.csv\") \n",
    "    plt.plot(data['TheoreticalI0Value.time'],data['TheoreticalI0Value.value'],lw=2)\n",
    "    \n",
    "    \n",
    "data=pd.read_csv(rf\"C:\\Workplace\\Python\\AnalysisForThePaper\\NEH\\Final\\rate_neh_plot\\mup20\\{i}.csv\") \n",
    "plt.xticks(data['RIA.Time'])\n",
    "plt.legend()\n",
    "plt.xlabel('Labeling Duration (Days)')\n",
    "plt.ylabel('Relative abundance of monoisotopes (RIA)')\n",
    "plt.savefig(\"plot.jpeg\",dpi=900)"
   ]
  },
  {
   "cell_type": "code",
   "execution_count": null,
   "metadata": {},
   "outputs": [],
   "source": []
  },
  {
   "cell_type": "code",
   "execution_count": null,
   "metadata": {},
   "outputs": [],
   "source": []
  }
 ],
 "metadata": {
  "kernelspec": {
   "display_name": "myenv",
   "language": "python",
   "name": "python3"
  },
  "language_info": {
   "codemirror_mode": {
    "name": "ipython",
    "version": 3
   },
   "file_extension": ".py",
   "mimetype": "text/x-python",
   "name": "python",
   "nbconvert_exporter": "python",
   "pygments_lexer": "ipython3",
   "version": "3.9.11"
  }
 },
 "nbformat": 4,
 "nbformat_minor": 2
}
